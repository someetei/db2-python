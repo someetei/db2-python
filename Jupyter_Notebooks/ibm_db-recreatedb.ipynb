{
 "cells": [
  {
   "cell_type": "markdown",
   "metadata": {
    "deletable": false,
    "editable": false
   },
   "source": [
    "# ibm_db.recreatedb()"
   ]
  },
  {
   "cell_type": "markdown",
   "metadata": {
    "deletable": false,
    "editable": false
   },
   "source": [
    "## Purpose:"
   ]
  },
  {
   "cell_type": "markdown",
   "metadata": {
    "deletable": false,
    "editable": false
   },
   "source": [
    "Drop and recreate a database, using the name and code set specified."
   ]
  },
  {
   "cell_type": "markdown",
   "metadata": {
    "deletable": false,
    "editable": false
   },
   "source": [
    "## Syntax:"
   ]
  },
  {
   "cell_type": "markdown",
   "metadata": {
    "deletable": false,
    "editable": false
   },
   "source": [
    "`bool ibm_db.recreatedb( IBM_DBConnection `*`connection,`*` string `*`dbName`*` [, string `*`codeSet`*`] )`"
   ]
  },
  {
   "cell_type": "markdown",
   "metadata": {
    "deletable": false,
    "editable": false
   },
   "source": [
    "## Parameters:"
   ]
  },
  {
   "cell_type": "markdown",
   "metadata": {
    "deletable": false,
    "editable": false
   },
   "source": [
    "* __*connection*__&nbsp; &nbsp; : A valid Db2 server connection. \n",
    "* __*dbName*__&nbsp; &nbsp; &nbsp; &nbsp;  &nbsp;: The name of the database that is to be dropped and recreated. \n",
    "* __*codeSet*__&nbsp; &nbsp; &nbsp; &nbsp; &nbsp;: The code set that is to be used for storing data that is entered into the database *after it has been dropped and recreated*. If a __*codeSet*__ value is not specified, the UTF-8 (Unicode) code set is used."
   ]
  },
  {
   "cell_type": "markdown",
   "metadata": {
    "deletable": false,
    "editable": false
   },
   "source": [
    "## Return Value:"
   ]
  },
  {
   "cell_type": "markdown",
   "metadata": {
    "deletable": false,
    "editable": false
   },
   "source": [
    "* `True` &nbsp; &nbsp; &nbsp;: The database specified was dropped and recreated.   \n",
    "* `False` &nbsp; &nbsp;: The database specified could not be dropped and recreated."
   ]
  },
  {
   "cell_type": "markdown",
   "metadata": {
    "deletable": false,
    "editable": false
   },
   "source": [
    "## Description:"
   ]
  },
  {
   "cell_type": "markdown",
   "metadata": {
    "deletable": false,
    "editable": false
   },
   "source": [
    "The __ibm_db.recreatedb()__ API is used to delete (drop) an existing database, and then recreate it; the code set that is to be used for storing data entered into the database can also be changed when this API is executed. (The *code set* controls how unique numbers are assigned to characters in a particular character set.)<p>"
   ]
  },
  {
   "cell_type": "markdown",
   "metadata": {
    "deletable": false,
    "editable": false
   },
   "source": [
    "## Examples:"
   ]
  },
  {
   "cell_type": "markdown",
   "metadata": {
    "deletable": false,
    "editable": false
   },
   "source": [
    "### &nbsp; Example 1: Drop and recreate a database stored on a local server"
   ]
  },
  {
   "cell_type": "code",
   "execution_count": 1,
   "metadata": {
    "deletable": false
   },
   "outputs": [
    {
     "name": "stdout",
     "output_type": "stream",
     "text": [
      "\n",
      "Connecting to the local server ... Done!\n",
      "\n",
      "Dropping and recreating a database named MY_DB. Please wait.\n",
      "\n",
      "The database \"MY_DB\" has been created!\n",
      "\n",
      "Disconnecting from the local server ... Done!\n",
      "\n"
     ]
    }
   ],
   "source": [
    "#----------------------------------------------------------------------------------------------#\n",
    "#  NAME:     ibm_db-recreatedb_LOCAL.py                                                        #\n",
    "#                                                                                              #\n",
    "#  PURPOSE:  This program is designed to illustrate how to use the ibm_db.recreatedb() API to  #\n",
    "#            drop and recreate a local Db2 database.                                           #\n",
    "#                                                                                              #\n",
    "#            Additional APIs used:                                                             #\n",
    "#                 ibm_db.conn_errormsg()                                                       #\n",
    "#                                                                                              #\n",
    "#----------------------------------------------------------------------------------------------#\n",
    "#                     DISCLAIMER OF WARRANTIES AND LIMITATION OF LIABILITY                     #\n",
    "#                                                                                              #\n",
    "#  (C) COPYRIGHT International Business Machines Corp. 2018, 2019 All Rights Reserved          #\n",
    "#  Licensed Materials - Property of IBM                                                        #\n",
    "#                                                                                              #\n",
    "#  US Government Users Restricted Rights - Use, duplication or disclosure restricted by GSA    #\n",
    "#  ADP Schedule Contract with IBM Corp.                                                        #\n",
    "#                                                                                              #\n",
    "#  The following source code (\"Sample\") is owned by International Business Machines            #\n",
    "#  Corporation (\"IBM\") or one of its subsidiaries and is copyrighted and licensed, not sold.   #\n",
    "#  You may use, copy, modify, and distribute the Sample in any form without payment to IBM,    #\n",
    "#  for the purpose of assisting you in the creation of Python applications using the ibm_db    #\n",
    "#  library.                                                                                    #\n",
    "#                                                                                              #\n",
    "#  The Sample code is provided to you on an \"AS IS\" basis, without warranty of any kind. IBM   #\n",
    "#  HEREBY EXPRESSLY DISCLAIMS ALL WARRANTIES, EITHER EXPRESS OR IMPLIED, INCLUDING, BUT NOT    #\n",
    "#  LIMITED TO, THE IMPLIED WARRANTIES OF MERCHANTABILITY AND FITNESS FOR A PARTICULAR PURPOSE. #\n",
    "#  Some jurisdictions do not allow for the exclusion or limitation of implied warranties, so   #\n",
    "#  the above limitations or exclusions may not apply to you. IBM shall not be liable for any   #\n",
    "#  damages you suffer as a result of using, copying, modifying or distributing the Sample,     #\n",
    "#  even if IBM has been advised of the possibility of such damages.                            #\n",
    "#----------------------------------------------------------------------------------------------#\n",
    "\n",
    "# Load The Appropriate Python Modules\n",
    "import sys         # Provides Information About Python Interpreter Constants And Functions\n",
    "import ibm_db      # Contains The APIs Needed To Work With Db2 Databases\n",
    "\n",
    "#----------------------------------------------------------------------------------------------#\n",
    "# Import The Db2ConnectionMgr Class Definition, Attributes, And Methods That Have Been Defined #\n",
    "# In The File Named \"ibm_db_tools.py\"; This Class Contains The Programming Logic Needed To     #\n",
    "# Establish And Terminate A Connection To A Db2 Server Or Database                             #\n",
    "#----------------------------------------------------------------------------------------------#\n",
    "from ibm_db_tools import Db2ConnectionMgr\n",
    "\n",
    "#----------------------------------------------------------------------------------------------#\n",
    "# Import The ipynb_exit Class Definition, Attributes, And Methods That Have Been Defined In    #\n",
    "# The File Named \"ipynb_exit.py\"; This Class Contains The Programming Logic Needed To Allow    #\n",
    "# \"exit()\" Functionality To Work Without Raising An Error Or Stopping The Kernel If The        #\n",
    "# Application Is Invoked In A Jupyter Notebook                                                 #\n",
    "#----------------------------------------------------------------------------------------------#\n",
    "from ipynb_exit import exit\n",
    "\n",
    "# Define And Initialize The Appropriate Variables\n",
    "userID = \"db2inst1\"           # User ID (Recognized By The Local Server)\n",
    "passWord = \"db2inst1\"         # User Password\n",
    "svrConnection = None\n",
    "dbName = \"MY_DB\"\n",
    "returnCode = False\n",
    "\n",
    "# Create An Instance Of The Db2ConnectionMgr Class And Use It To Connect To The Local Db2 Server\n",
    "conn = Db2ConnectionMgr('LOCAL_SVR', '', '', '', userID, passWord)\n",
    "conn.openConnection()\n",
    "if conn.returnCode is True:\n",
    "    svrConnection = conn.connectionID\n",
    "else:\n",
    "    conn.closeConnection()\n",
    "    exit(-1)\n",
    "\n",
    "# Attempt To Drop And Recreate A Database At The Local Server\n",
    "print(\"Dropping and recreating a database named \" + dbName + \". Please wait.\")\n",
    "try:\n",
    "    returnCode = ibm_db.recreatedb(svrConnection, dbName, 'UTF-8')\n",
    "except Exception:\n",
    "    pass\n",
    "\n",
    "# If The Database Could Not Be Recreated, Display An Error Message And Exit \n",
    "if returnCode is None:\n",
    "    print(\"ERROR: Unable to drop and recreate the \" + dbName + \" database.\\n\")\n",
    "    errorMsg = ibm_db.conn_errormsg(svrConnection)\n",
    "    print(errorMsg + \"\\n\")\n",
    "    conn.closeConnection()\n",
    "    exit(-1)\n",
    "    \n",
    "# Otherwise, Display A Status Message \n",
    "else:\n",
    "    print(\"\\nThe database \\\"\" + dbName + \"\\\" has been created!\\n\")\n",
    "    #    query_sdb_dir(dbName)\n",
    "\n",
    "# Close The Db2 Server Connection That Was Opened Earlier\n",
    "conn.closeConnection()\n",
    "\n",
    "# Return Control To The Operating System\n",
    "exit()"
   ]
  },
  {
   "cell_type": "markdown",
   "metadata": {
    "deletable": false,
    "editable": false
   },
   "source": [
    "### &nbsp; Example 2: Drop and recreate a database stored on a remote server"
   ]
  },
  {
   "cell_type": "code",
   "execution_count": 2,
   "metadata": {
    "deletable": false
   },
   "outputs": [
    {
     "name": "stdout",
     "output_type": "stream",
     "text": [
      "\n",
      "Connecting to the 172.18.0.2 server ... Done!\n",
      "\n",
      "Dropping and recreating a database named MY_DB at the 172.18.0.2 server. Please wait.\n",
      "\n",
      "The database \"MY_DB\" has been recreated!\n",
      "\n",
      "Disconnecting from the 172.18.0.2 server ... Done!\n",
      "\n"
     ]
    }
   ],
   "source": [
    "#----------------------------------------------------------------------------------------------#\n",
    "#  NAME:     ibm_db-recreatedb_REMOTE.py                                                       #\n",
    "#                                                                                              #\n",
    "#  PURPOSE:  This program is designed to illustrate how to use the ibm_db.recreatedb() API to  #\n",
    "#            drop and recreate a database on a remote Db2 server.                              #\n",
    "#                                                                                              #\n",
    "#            Additional APIs used:                                                             #\n",
    "#                 ibm_db.conn_errormsg()                                                       #\n",
    "#----------------------------------------------------------------------------------------------#\n",
    "#                     DISCLAIMER OF WARRANTIES AND LIMITATION OF LIABILITY                     #\n",
    "#                                                                                              #\n",
    "#  (C) COPYRIGHT International Business Machines Corp. 2018, 2019 All Rights Reserved          #\n",
    "#  Licensed Materials - Property of IBM                                                        #\n",
    "#                                                                                              #\n",
    "#  US Government Users Restricted Rights - Use, duplication or disclosure restricted by GSA    #\n",
    "#  ADP Schedule Contract with IBM Corp.                                                        #\n",
    "#                                                                                              #\n",
    "#  The following source code (\"Sample\") is owned by International Business Machines            #\n",
    "#  Corporation (\"IBM\") or one of its subsidiaries and is copyrighted and licensed, not sold.   #\n",
    "#  You may use, copy, modify, and distribute the Sample in any form without payment to IBM,    #\n",
    "#  for the purpose of assisting you in the creation of Python applications using the ibm_db    #\n",
    "#  library.                                                                                    #\n",
    "#                                                                                              #\n",
    "#  The Sample code is provided to you on an \"AS IS\" basis, without warranty of any kind. IBM   #\n",
    "#  HEREBY EXPRESSLY DISCLAIMS ALL WARRANTIES, EITHER EXPRESS OR IMPLIED, INCLUDING, BUT NOT    #\n",
    "#  LIMITED TO, THE IMPLIED WARRANTIES OF MERCHANTABILITY AND FITNESS FOR A PARTICULAR PURPOSE. #\n",
    "#  Some jurisdictions do not allow for the exclusion or limitation of implied warranties, so   #\n",
    "#  the above limitations or exclusions may not apply to you. IBM shall not be liable for any   #\n",
    "#  damages you suffer as a result of using, copying, modifying or distributing the Sample,     #\n",
    "#  even if IBM has been advised of the possibility of such damages.                            #\n",
    "#----------------------------------------------------------------------------------------------#\n",
    "\n",
    "# Load The Appropriate Python Modules\n",
    "import sys         # Provides Information About Python Interpreter Constants And Functions\n",
    "import ibm_db      # Contains The APIs Needed To Work With Db2 Databases\n",
    "\n",
    "#----------------------------------------------------------------------------------------------#\n",
    "# Import The Db2ConnectionMgr Class Definition, Attributes, And Methods That Have Been Defined #\n",
    "# In The File Named \"ibm_db_tools.py\"; This Class Contains The Programming Logic Needed To     #\n",
    "# Establish And Terminate A Connection To A Db2 Server Or Database                             #\n",
    "#----------------------------------------------------------------------------------------------#\n",
    "from ibm_db_tools import Db2ConnectionMgr\n",
    "\n",
    "#----------------------------------------------------------------------------------------------#\n",
    "# Import The ipynb_exit Class Definition, Attributes, And Methods That Have Been Defined In    #\n",
    "# The File Named \"ipynb_exit.py\"; This Class Contains The Programming Logic Needed To Allow    #\n",
    "# \"exit()\" Functionality To Work Without Raising An Error Or Stopping The Kernel If The        #\n",
    "# Application Is Invoked In A Jupyter Notebook                                                 #\n",
    "#----------------------------------------------------------------------------------------------#\n",
    "from ipynb_exit import exit\n",
    "\n",
    "# Define And Initialize The Appropriate Variables\n",
    "hostName = \"172.18.0.2\"    # IP Address Of A Remote Server\n",
    "portNum = \"50000\"             # Port Number Used By Db2\n",
    "userID = \"db2inst1\"           # User ID (Recognized By The Remote Server)\n",
    "passWord = \"db2inst1\"           # User Password\n",
    "svrConnection = None\n",
    "dbName = \"MY_DB\"\n",
    "returnCode = False\n",
    "\n",
    "# Create An Instance Of The Db2ConnectionMgr Class And Use It To Connect To A Remote Db2 Server\n",
    "conn = Db2ConnectionMgr('SERVER', '', hostName, portNum, userID, passWord)\n",
    "conn.openConnection()\n",
    "if conn.returnCode is True:\n",
    "    svrConnection = conn.connectionID\n",
    "else:\n",
    "    conn.closeConnection()\n",
    "    exit(-1)\n",
    "\n",
    "# Attempt To Delete (Drop) And Recreate A Database At The Remote Server\n",
    "print(\"Dropping and recreating a database named \" + dbName + \" \", end=\"\")\n",
    "print(\"at the \" + hostName + \" server. Please wait.\")\n",
    "try:\n",
    "    returnCode = ibm_db.recreatedb(svrConnection, dbName, 'UTF-8')\n",
    "except Exception:\n",
    "    pass\n",
    "\n",
    "# If The Database Could Not Be Recreated, Display An Error Message And Exit \n",
    "if returnCode is False:\n",
    "    print(\"\\nERROR: Unable to drop and recreate the \" + dbName + \" database.\\n\")\n",
    "    errorMsg = ibm_db.conn_errormsg(svrConnection)\n",
    "    print(errorMsg + \"\\n\")\n",
    "    conn.closeConnection()\n",
    "    exit(-1)\n",
    "\n",
    "# Otherwise, Display A Status Message And Verify That Information About The Database\n",
    "# That Was Just Recreated Exists In The Db2 System Database Directory\n",
    "else:\n",
    "    print(\"\\nThe database \\\"\" + dbName + \"\\\" has been recreated!\\n\")\n",
    "\n",
    "# Close The Db2 Server Connection That Was Opened Earlier\n",
    "conn.closeConnection()\n",
    "\n",
    "# Return Control To The Operating System\n",
    "exit()"
   ]
  },
  {
   "cell_type": "code",
   "execution_count": null,
   "metadata": {},
   "outputs": [],
   "source": []
  }
 ],
 "metadata": {
  "kernelspec": {
   "display_name": "Python 3",
   "language": "python",
   "name": "python3"
  },
  "language_info": {
   "codemirror_mode": {
    "name": "ipython",
    "version": 3
   },
   "file_extension": ".py",
   "mimetype": "text/x-python",
   "name": "python",
   "nbconvert_exporter": "python",
   "pygments_lexer": "ipython3",
   "version": "3.7.1"
  }
 },
 "nbformat": 4,
 "nbformat_minor": 2
}
