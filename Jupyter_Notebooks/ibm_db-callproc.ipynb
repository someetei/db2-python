{
 "cells": [
  {
   "cell_type": "markdown",
   "metadata": {
    "deletable": false,
    "editable": false
   },
   "source": [
    "# ibm_db.callproc()"
   ]
  },
  {
   "cell_type": "markdown",
   "metadata": {
    "deletable": false,
    "editable": false
   },
   "source": [
    "## Purpose:"
   ]
  },
  {
   "cell_type": "markdown",
   "metadata": {
    "deletable": false,
    "editable": false
   },
   "source": [
    "Call (execute) a stored procedure."
   ]
  },
  {
   "cell_type": "markdown",
   "metadata": {
    "deletable": false,
    "editable": false
   },
   "source": [
    "## Syntax:"
   ]
  },
  {
   "cell_type": "markdown",
   "metadata": {
    "deletable": false,
    "editable": false
   },
   "source": [
    "`[IBM_DBStatement | tuple] ibm_db.callproc( IBM_DBConnection `*`connection,`*` string `*`procName,`*`[, tuple `*`procParams`*`] )`"
   ]
  },
  {
   "cell_type": "markdown",
   "metadata": {
    "deletable": false,
    "editable": false
   },
   "source": [
    "## Parameters:"
   ]
  },
  {
   "cell_type": "markdown",
   "metadata": {
    "deletable": false,
    "editable": false
   },
   "source": [
    "* __*connection*__ &nbsp; &nbsp; : A valid Db2 database connection.\n",
    "* __*procName*__ &nbsp; &nbsp; &nbsp; : The name of a stored procedure that exists in the connected database.\n",
    "* __*procParams*__ &nbsp; &nbsp;: A tuple containing values (or value placeholders) for each parameter required by the procedure."
   ]
  },
  {
   "cell_type": "markdown",
   "metadata": {
    "deletable": false,
    "editable": false
   },
   "source": [
    "## Return values:"
   ]
  },
  {
   "cell_type": "markdown",
   "metadata": {
    "deletable": false,
    "editable": false
   },
   "source": [
    "* If __successful__, an `IBM_DBStatement` object *<u>or</u>* a tuple containing an `IBM_DBStatement` object, followed by the parameter values that were supplied for the __*procPrams*__ parameter.\n",
    "* If __unsuccessful__, the value `None`."
   ]
  },
  {
   "cell_type": "markdown",
   "metadata": {
    "deletable": false,
    "editable": false
   },
   "source": [
    "## Description:"
   ]
  },
  {
   "cell_type": "markdown",
   "metadata": {
    "deletable": false,
    "editable": false
   },
   "source": [
    "The __ibm_db.callproc()__ API is used to execute a stored procedure that has been defined in the database the application is currently connected to. If the stored procedure expects __IN__, __OUT__, and/or __INOUT__ parameter values, a tuple that contains a value for each parameter defined must be supplied (via the __procParams__ parameter).<p>\n",
    "    \n",
    "Upon successful execution of the procedure invoked, a tuple containing an `IBM_DBStatement` object and a modified copy of the parameter values supplied is returned. Values for __IN__ parameters are left untouched whereas values for __OUT__ and __INOUT__ parameters may have been changed by the procedure. (If the procedure did not have any parameters defined, only an `IBM_DBStatement` object will be returned.) <p>\n",
    "\n",
    "A call to a stored procedure can return zero or more result sets; if a result set is returned, a single row can be retrieved and stored in a tuple or dictionary using the  __ibm_db.fetch_tuple()__ (tuple), __ibm_db.fetch_assoc()__ (dictionary), or __ibm_db.fetch_both()__ (tuple *and* dictionary) APIs. Alternately, the __ibm_db.fetch_row()__ API can be used to move the result set pointer to each row in the result set produced and the __ibm_db.result()__ API can be used to fetch a column from the current row. "
   ]
  },
  {
   "cell_type": "markdown",
   "metadata": {
    "deletable": false,
    "editable": false
   },
   "source": [
    "## Example:"
   ]
  },
  {
   "cell_type": "code",
   "execution_count": 1,
   "metadata": {
    "deletable": false
   },
   "outputs": [
    {
     "name": "stdout",
     "output_type": "stream",
     "text": [
      "\n",
      "Connecting to the SAMPLE database ... Done!\n",
      "\n",
      "Creating an SQL stored procedure named \"SALARY_STATS\" ... Done!\n",
      "\n",
      "Executing the SALARY_STATS stored procedure ... Done!\n",
      "\n",
      "Salary statistics:\n",
      "______________________________\n",
      "Highest salary   : $ 152750.00\n",
      "Lowest salary    : $  31840.00\n",
      "Average salary   : $  58155.36\n",
      "\n",
      "Disconnecting from the SAMPLE database ... Done!\n",
      "\n"
     ]
    }
   ],
   "source": [
    "#----------------------------------------------------------------------------------------------#\n",
    "#  NAME:     ibm_db-callproc.py                                                                #\n",
    "#                                                                                              #\n",
    "#  PURPOSE:  This program is designed to illustrate how to use the ibm_db.callproc() API.      #\n",
    "#                                                                                              #\n",
    "#            Additional APIs used:                                                             #\n",
    "#                 ibm_db.exec_immediate()                                                      #\n",
    "#                                                                                              #\n",
    "#----------------------------------------------------------------------------------------------#\n",
    "#                     DISCLAIMER OF WARRANTIES AND LIMITATION OF LIABILITY                     #\n",
    "#                                                                                              #\n",
    "#  (C) COPYRIGHT International Business Machines Corp. 2018, 2019 All Rights Reserved          #\n",
    "#  Licensed Materials - Property of IBM                                                        #\n",
    "#                                                                                              #\n",
    "#  US Government Users Restricted Rights - Use, duplication or disclosure restricted by GSA    #\n",
    "#  ADP Schedule Contract with IBM Corp.                                                        #\n",
    "#                                                                                              #\n",
    "#  The following source code (\"Sample\") is owned by International Business Machines            #\n",
    "#  Corporation (\"IBM\") or one of its subsidiaries and is copyrighted and licensed, not sold.   #\n",
    "#  You may use, copy, modify, and distribute the Sample in any form without payment to IBM,    #\n",
    "#  for the purpose of assisting you in the creation of Python applications using the ibm_db    #\n",
    "#  library.                                                                                    #\n",
    "#                                                                                              #\n",
    "#  The Sample code is provided to you on an \"AS IS\" basis, without warranty of any kind. IBM   #\n",
    "#  HEREBY EXPRESSLY DISCLAIMS ALL WARRANTIES, EITHER EXPRESS OR IMPLIED, INCLUDING, BUT NOT    #\n",
    "#  LIMITED TO, THE IMPLIED WARRANTIES OF MERCHANTABILITY AND FITNESS FOR A PARTICULAR PURPOSE. #\n",
    "#  Some jurisdictions do not allow for the exclusion or limitation of implied warranties, so   #\n",
    "#  the above limitations or exclusions may not apply to you. IBM shall not be liable for any   #\n",
    "#  damages you suffer as a result of using, copying, modifying or distributing the Sample,     #\n",
    "#  even if IBM has been advised of the possibility of such damages.                            #\n",
    "#----------------------------------------------------------------------------------------------#\n",
    "\n",
    "# Load The Appropriate Python Modules\n",
    "import sys         # Provides Information About Python Interpreter Constants And Functions\n",
    "import ibm_db      # Contains The APIs Needed To Work With Db2 Databases\n",
    "\n",
    "#----------------------------------------------------------------------------------------------#\n",
    "# Import The Db2ConnectionMgr Class Definition, Attributes, And Methods That Have Been Defined #\n",
    "# In The File Named \"ibm_db_tools.py\"; This Class Contains The Programming Logic Needed To     #\n",
    "# Establish And Terminate A Connection To A Db2 Server Or Database                             #\n",
    "#----------------------------------------------------------------------------------------------#\n",
    "from ibm_db_tools import Db2ConnectionMgr\n",
    "\n",
    "#----------------------------------------------------------------------------------------------#\n",
    "# Import The ipynb_exit Class Definition, Attributes, And Methods That Have Been Defined In    #\n",
    "# The File Named \"ipynb_exit.py\"; This Class Contains The Programming Logic Needed To Allow    #\n",
    "# \"exit()\" Functionality To Work Without Raising An Error Or Stopping The Kernel If The        #\n",
    "# Application Is Invoked In A Jupyter Notebook                                                 #\n",
    "#----------------------------------------------------------------------------------------------#\n",
    "from ipynb_exit import exit\n",
    "\n",
    "# Define And Initialize The Appropriate Variables\n",
    "dbName = \"SAMPLE\"\n",
    "userID = \"db2inst1\"\n",
    "passWord = \"db2inst1\"\n",
    "dbConnection = None\n",
    "spName = \"SALARY_STATS\"\n",
    "returnCode = False\n",
    "spParamValues = (0.0, 0.0, 0.0)\n",
    "resultSet = None\n",
    "\n",
    "# Create An Instance Of The Db2ConnectionMgr Class And Use It To Connect To A Db2 Database\n",
    "conn = Db2ConnectionMgr('DB', dbName, '', '', userID, passWord)\n",
    "conn.openConnection()\n",
    "if conn.returnCode is True:\n",
    "    dbConnection = conn.connectionID\n",
    "else:\n",
    "    conn.closeConnection()\n",
    "    exit(-1)\n",
    "\n",
    "# Define The SQL Statement That Is To Be Used To Create A New Stored Procedure\n",
    "sqlStatement = \"CREATE OR REPLACE PROCEDURE \" + spName\n",
    "sqlStatement += \"  (OUT maxSalary DOUBLE, OUT minSalary DOUBLE, OUT avgSalary DOUBLE) \"\n",
    "sqlStatement += \"LANGUAGE SQL \"\n",
    "sqlStatement += \"DYNAMIC RESULT SETS 0 \"\n",
    "sqlStatement += \"READS SQL DATA \"\n",
    "sqlStatement += \"NO EXTERNAL ACTION \"\n",
    "sqlStatement += \"BEGIN\"\n",
    "sqlStatement += \"  SELECT MAX(salary) INTO maxSalary FROM employee; \"\n",
    "sqlStatement += \"  SELECT MIN(salary) INTO minSalary FROM employee; \"\n",
    "sqlStatement += \"  SELECT AVG(salary) INTO avgSalary FROM employee; \"\n",
    "sqlStatement += \"END\"\n",
    "\n",
    "# Execute The SQL Statement Just Defined\n",
    "print(\"Creating an SQL stored procedure named \\\"\" + spName + \"\\\" ... \", end=\"\")\n",
    "try:\n",
    "    returnCode = ibm_db.exec_immediate(dbConnection, sqlStatement)\n",
    "except Exception:\n",
    "    pass\n",
    "\n",
    "# If The SQL Statement Could Not Be Executed, Display An Error Message And Exit \n",
    "if returnCode is False:\n",
    "    print(\"\\nERROR: Unable to execute the SQL statement specified.\")\n",
    "    conn.closeConnection()\n",
    "    exit(-1)\n",
    "\n",
    "# Otherwise, Complete The Status Message\n",
    "else:\n",
    "    print(\"Done!\\n\")\n",
    "\n",
    "# Execute The Stored Procedure Just Created\n",
    "print(\"Executing the \" + spName + \" stored procedure ... \", end=\"\")\n",
    "try:\n",
    "    resultSet = ibm_db.callproc(dbConnection, spName, spParamValues)\n",
    "except Exception:\n",
    "    pass\n",
    "\n",
    "# If The Stored Procedure Specified Could Not Be Executed, Display An Error Message And Exit \n",
    "if resultSet is None:\n",
    "    print(\"\\nERROR: Unable to execute the stored procedure specified.\")\n",
    "    conn.closeConnection()\n",
    "    exit(-1)\n",
    "\n",
    "# Otherwise, Complete The Status Message; Then Format And Display The Data Values Returned\n",
    "else:\n",
    "    print(\"Done!\\n\")\n",
    "\n",
    "    # Display A Report Header\n",
    "    print(\"Salary statistics:\")\n",
    "    print(\"______________________________\")\n",
    "\n",
    "    # Display The Data Values Returned By The Stored Procedure\n",
    "    print(\"Highest salary   : ${:>10.2f}\" .format(resultSet[1]))\n",
    "    print(\"Lowest salary    : ${:>10.2f}\" .format(resultSet[2]))\n",
    "    print(\"Average salary   : ${:>10.2f}\" .format(resultSet[3]))\n",
    "\n",
    "# Add A Blank Line To The End Of The Report\n",
    "print()\n",
    "\n",
    "# Close The Database Connection That Was Opened Earlier\n",
    "conn.closeConnection()\n",
    "\n",
    "# Return Control To The Operating System\n",
    "exit()"
   ]
  },
  {
   "cell_type": "code",
   "execution_count": null,
   "metadata": {},
   "outputs": [],
   "source": []
  }
 ],
 "metadata": {
  "kernelspec": {
   "display_name": "Python 3",
   "language": "python",
   "name": "python3"
  },
  "language_info": {
   "codemirror_mode": {
    "name": "ipython",
    "version": 3
   },
   "file_extension": ".py",
   "mimetype": "text/x-python",
   "name": "python",
   "nbconvert_exporter": "python",
   "pygments_lexer": "ipython3",
   "version": "3.12.3"
  }
 },
 "nbformat": 4,
 "nbformat_minor": 2
}
