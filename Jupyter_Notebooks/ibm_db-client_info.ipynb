{
 "cells": [
  {
   "cell_type": "markdown",
   "metadata": {
    "deletable": false,
    "editable": false
   },
   "source": [
    "# ibm_db.client_info()"
   ]
  },
  {
   "cell_type": "markdown",
   "metadata": {
    "deletable": false,
    "editable": false
   },
   "source": [
    "## Purpose:"
   ]
  },
  {
   "cell_type": "markdown",
   "metadata": {
    "deletable": false,
    "editable": false
   },
   "source": [
    "Obtain information about an IBM Db2 client."
   ]
  },
  {
   "cell_type": "markdown",
   "metadata": {
    "deletable": false,
    "editable": false
   },
   "source": [
    "## Syntax:"
   ]
  },
  {
   "cell_type": "markdown",
   "metadata": {
    "deletable": false,
    "editable": false
   },
   "source": [
    "`PyTypeObject ibm_db.client_info( IBM_DBConnection `*`connection`*` )`"
   ]
  },
  {
   "cell_type": "markdown",
   "metadata": {
    "deletable": false,
    "editable": false
   },
   "source": [
    "## Parameters:"
   ]
  },
  {
   "cell_type": "markdown",
   "metadata": {
    "deletable": false,
    "editable": false
   },
   "source": [
    "* __*connection*__&nbsp; &nbsp; : A valid Db2 client/server connection."
   ]
  },
  {
   "cell_type": "markdown",
   "metadata": {
    "deletable": false,
    "editable": false
   },
   "source": [
    "## Return values:"
   ]
  },
  {
   "cell_type": "markdown",
   "metadata": {
    "deletable": false,
    "editable": false
   },
   "source": [
    "* If __successful__, a PyTypeObject populated with the following information:<p>\n",
    "\n",
    "    * `APPL_CODEPAGE` &nbsp; &nbsp; &nbsp; &nbsp; &nbsp; &nbsp; &nbsp; &nbsp; : The application code page used.\n",
    "    * `CONN_CODEPAGE` &nbsp; &nbsp; &nbsp; &nbsp; &nbsp; &nbsp; &nbsp; &nbsp; : The code page used for the current connection.\n",
    "    * `DATA_SOURCE_NAME` &nbsp; &nbsp; &nbsp; &nbsp; &nbsp; : The data source name (DSN) used to create the current connection.\n",
    "    * `DRIVER_NAME`&nbsp; &nbsp; &nbsp; &nbsp; &nbsp; &nbsp; &nbsp; &nbsp; &nbsp; &nbsp; &nbsp;: The name of the library that implements Db2 Call Level Interface (CLI) functionality.\n",
    "    * `DRIVER_ODBC_VER`&nbsp; &nbsp; &nbsp; &nbsp; &nbsp; &nbsp; &nbsp;: The version of Open Database Connectivity (ODBC) the client supports.\n",
    "    * `DRIVER_VER`&nbsp; &nbsp; &nbsp; &nbsp; &nbsp; &nbsp; &nbsp; &nbsp; &nbsp; &nbsp; &nbsp; &nbsp;: The version of the Db2 client software that is running on the connected workstation, in the form of a string that has the format __VV.RR.MMFF__, where __VV__ is the major version number, __RR__ is the release number, __MM__ is the modification number, and __FF__ is the fix pack number. For example, \"11.01.0404\" represents version 11, release 1, modification 4, fix pack 4.\n",
    "    * `ODBC_SQL_CONFORMANCE`&nbsp; &nbsp;: The type of ODBC SQL grammar the client supports. Valid values are:<p>\n",
    "        * `MINIMAL`&nbsp; &nbsp;: The client supports the minimum amount of ODBC SQL grammar.\n",
    "        * `CORE`&nbsp; &nbsp; &nbsp; &nbsp; &nbsp;: The client supports the core ODBC SQL grammar.\n",
    "        * `EXTENDED`&nbsp;: The client supports extended ODBC SQL grammar.<p>\n",
    "    * `ODBC_VER`&nbsp; &nbsp; &nbsp; &nbsp; &nbsp; &nbsp; &nbsp; &nbsp; &nbsp; &nbsp; &nbsp; &nbsp; &nbsp; &nbsp;: The version of ODBC that the ODBC driver supports.<p>\n",
    "    \n",
    "* If __unsuccessful__, the value `False`."
   ]
  },
  {
   "cell_type": "markdown",
   "metadata": {
    "deletable": false,
    "editable": false
   },
   "source": [
    "## Description:"
   ]
  },
  {
   "cell_type": "markdown",
   "metadata": {
    "deletable": false,
    "editable": false
   },
   "source": [
    "The __ibm_db.client_info()__ API is used to obtain basic information about an IBM Db2 database client workstation."
   ]
  },
  {
   "cell_type": "markdown",
   "metadata": {
    "deletable": false,
    "editable": false
   },
   "source": [
    "## Example:"
   ]
  },
  {
   "cell_type": "code",
   "execution_count": 1,
   "metadata": {
    "deletable": false
   },
   "outputs": [
    {
     "name": "stdout",
     "output_type": "stream",
     "text": [
      "\n",
      "Connecting to the ubuntu2 server ... Done!\n",
      "\n",
      "Obtaining information about the Db2 client ... Done!\n",
      "\n",
      "Client details:\n",
      "____________________________________________________________________\n",
      "Application code page        : 1208\n",
      "Current connection code page : 1208\n",
      "Data source name (DSN)       : SAMPLE\n",
      "Driver name                  : libdb2.a\n",
      "Driver version               : 11.05.0900\n",
      "ODBC version supported       : 03.51\n",
      "ODBC SQL conformance level   : Supports extended ODBC SQL grammar\n",
      "\n",
      "Disconnecting from the ubuntu2 server ... Done!\n",
      "\n"
     ]
    }
   ],
   "source": [
    "#----------------------------------------------------------------------------------------------#\n",
    "#  NAME:     ibm_db-client_info.py                                                             #\n",
    "#                                                                                              #\n",
    "#  PURPOSE:  This program is designed to illustrate how to use the ibm_db.client_info() API.   #\n",
    "#                                                                                              #\n",
    "#----------------------------------------------------------------------------------------------#\n",
    "#                     DISCLAIMER OF WARRANTIES AND LIMITATION OF LIABILITY                     #\n",
    "#                                                                                              #\n",
    "#  (C) COPYRIGHT International Business Machines Corp. 2018, 2019 All Rights Reserved          #\n",
    "#  Licensed Materials - Property of IBM                                                        #\n",
    "#                                                                                              #\n",
    "#  US Government Users Restricted Rights - Use, duplication or disclosure restricted by GSA    #\n",
    "#  ADP Schedule Contract with IBM Corp.                                                        #\n",
    "#                                                                                              #\n",
    "#  The following source code (\"Sample\") is owned by International Business Machines            #\n",
    "#  Corporation (\"IBM\") or one of its subsidiaries and is copyrighted and licensed, not sold.   #\n",
    "#  You may use, copy, modify, and distribute the Sample in any form without payment to IBM,    #\n",
    "#  for the purpose of assisting you in the creation of Python applications using the ibm_db    #\n",
    "#  library.                                                                                    #\n",
    "#                                                                                              #\n",
    "#  The Sample code is provided to you on an \"AS IS\" basis, without warranty of any kind. IBM   #\n",
    "#  HEREBY EXPRESSLY DISCLAIMS ALL WARRANTIES, EITHER EXPRESS OR IMPLIED, INCLUDING, BUT NOT    #\n",
    "#  LIMITED TO, THE IMPLIED WARRANTIES OF MERCHANTABILITY AND FITNESS FOR A PARTICULAR PURPOSE. #\n",
    "#  Some jurisdictions do not allow for the exclusion or limitation of implied warranties, so   #\n",
    "#  the above limitations or exclusions may not apply to you. IBM shall not be liable for any   #\n",
    "#  damages you suffer as a result of using, copying, modifying or distributing the Sample,     #\n",
    "#  even if IBM has been advised of the possibility of such damages.                            #\n",
    "#----------------------------------------------------------------------------------------------#\n",
    "\n",
    "# Load The Appropriate Python Modules\n",
    "import sys         # Provides Information About Python Interpreter Constants And Functions\n",
    "import ibm_db      # Contains The APIs Needed To Work With Db2 Databases\n",
    "\n",
    "#----------------------------------------------------------------------------------------------#\n",
    "# Import The Db2ConnectionMgr Class Definition, Attributes, And Methods That Have Been Defined #\n",
    "# In The File Named \"ibm_db_tools.py\"; This Class Contains The Programming Logic Needed To     #\n",
    "# Establish And Terminate A Connection To A Db2 Server Or Database                             #\n",
    "#----------------------------------------------------------------------------------------------#\n",
    "from ibm_db_tools import Db2ConnectionMgr\n",
    "\n",
    "#----------------------------------------------------------------------------------------------#\n",
    "# Import The ipynb_exit Class Definition, Attributes, And Methods That Have Been Defined In    #\n",
    "# The File Named \"ipynb_exit.py\"; This Class Contains The Programming Logic Needed To Allow    #\n",
    "# \"exit()\" Functionality To Work Without Raising An Error Or Stopping The Kernel If The        #\n",
    "# Application Is Invoked In A Jupyter Notebook                                                 #\n",
    "#----------------------------------------------------------------------------------------------#\n",
    "from ipynb_exit import exit\n",
    "\n",
    "# Define And Initialize The Appropriate Variables\n",
    "dbName = \"SAMPLE\"\n",
    "userID = \"db2inst1\"\n",
    "passWord = \"db2inst1\"\n",
    "svrConnection = None\n",
    "clientInfo = False\n",
    "\n",
    "# Create An Instance Of The Db2ConnectionMgr Class And Use It To Connect To A Db2 Server\n",
    "conn = Db2ConnectionMgr('SERVER', dbName, '', '', userID, passWord)\n",
    "conn.openConnection()\n",
    "if conn.returnCode is True:\n",
    "    svrConnection = conn.connectionID\n",
    "else:\n",
    "    conn.closeConnection()\n",
    "    exit(-1)\n",
    "\n",
    "# Attempt To Obtain Information About The Db2 Client Being Used\n",
    "print(\"Obtaining information about the Db2 client ... \", end=\"\")\n",
    "try:\n",
    "    clientInfo = ibm_db.client_info(svrConnection)\n",
    "except Exception:\n",
    "    pass\n",
    "\n",
    "# If Information About The Client Could Not Be Obtained, Display An Error Message \n",
    "if clientInfo is False:\n",
    "    print(\"\\nERROR: Unable to obtain Db2 client information.\\n\")\n",
    "\n",
    "# Otherwise, Complete The Status Message; Then Format And Display The Data Retrieved\n",
    "else:\n",
    "    print(\"Done!\\n\")\n",
    "\n",
    "    # Display A Report Header\n",
    "    print(\"Client details:\")\n",
    "    print(\"____________________________________________________________________\")\n",
    "\n",
    "    # Display The Client Data\n",
    "    print(\"Application code page        : {}\" .format(clientInfo.APPL_CODEPAGE))\n",
    "    print(\"Current connection code page : {}\" .format(clientInfo.CONN_CODEPAGE))\n",
    "    print(\"Data source name (DSN)       : {}\" .format(clientInfo.DATA_SOURCE_NAME))\n",
    "    print(\"Driver name                  : {}\" .format(clientInfo.DRIVER_NAME))\n",
    "    print(\"Driver version               : {}\" .format(clientInfo.DRIVER_VER))\n",
    "    print(\"ODBC version supported       : {}\" .format(clientInfo.DRIVER_ODBC_VER))\n",
    "    print(\"ODBC SQL conformance level   : \", end=\"\")\n",
    "    if clientInfo.ODBC_SQL_CONFORMANCE == 'MINIMAL':\n",
    "        print(\"Supports the minimum ODBC SQL grammar\\n\")\n",
    "    elif clientInfo.ODBC_SQL_CONFORMANCE == 'CORE':\n",
    "        print(\"Supports the core ODBC SQL grammar\\n\")\n",
    "    elif clientInfo.ODBC_SQL_CONFORMANCE == 'EXTENDED':\n",
    "        print(\"Supports extended ODBC SQL grammar\\n\")\n",
    "\n",
    "# Close The Server Connection That Was Opened Earlier\n",
    "conn.closeConnection()\n",
    "\n",
    "# Return Control To The Operating System\n",
    "exit()"
   ]
  },
  {
   "cell_type": "code",
   "execution_count": null,
   "metadata": {},
   "outputs": [],
   "source": []
  }
 ],
 "metadata": {
  "kernelspec": {
   "display_name": "Python 3",
   "language": "python",
   "name": "python3"
  },
  "language_info": {
   "codemirror_mode": {
    "name": "ipython",
    "version": 3
   },
   "file_extension": ".py",
   "mimetype": "text/x-python",
   "name": "python",
   "nbconvert_exporter": "python",
   "pygments_lexer": "ipython3",
   "version": "3.12.3"
  }
 },
 "nbformat": 4,
 "nbformat_minor": 2
}
