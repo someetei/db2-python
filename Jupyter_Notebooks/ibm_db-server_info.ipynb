{
 "cells": [
  {
   "cell_type": "markdown",
   "metadata": {
    "deletable": false,
    "editable": false
   },
   "source": [
    "# ibm_db.server_info()"
   ]
  },
  {
   "cell_type": "markdown",
   "metadata": {
    "deletable": false,
    "editable": false
   },
   "source": [
    "## Purpose:"
   ]
  },
  {
   "cell_type": "markdown",
   "metadata": {
    "deletable": false,
    "editable": false
   },
   "source": [
    "Obtain information about an IBM Db2 server."
   ]
  },
  {
   "cell_type": "markdown",
   "metadata": {
    "deletable": false,
    "editable": false
   },
   "source": [
    "## Syntax:"
   ]
  },
  {
   "cell_type": "markdown",
   "metadata": {
    "deletable": false,
    "editable": false
   },
   "source": [
    "`PyTypeObject ibm_db.server_info( IBM_DBConnection `*`connection`*` )`"
   ]
  },
  {
   "cell_type": "markdown",
   "metadata": {
    "deletable": false,
    "editable": false
   },
   "source": [
    "## Parameters:"
   ]
  },
  {
   "cell_type": "markdown",
   "metadata": {
    "deletable": false,
    "editable": false
   },
   "source": [
    "* __*connection*__&nbsp; &nbsp; : A valid Db2 server connection."
   ]
  },
  {
   "cell_type": "markdown",
   "metadata": {
    "deletable": false,
    "editable": false
   },
   "source": [
    "## Return values:"
   ]
  },
  {
   "cell_type": "markdown",
   "metadata": {},
   "source": [
    "* If __successful__, a PyTypeObject populated with the following information:<p>\n",
    "\n",
    "    * `DBMS_NAME`&nbsp; &nbsp; &nbsp; &nbsp; &nbsp; &nbsp; &nbsp; &nbsp; &nbsp; &nbsp; &nbsp; &nbsp; &nbsp;: The name of the Db2 server the application is connected to, in the form of a string that begins with the letters \"__DB2/__\" and is followed by the name of the operating system being used. For example, \"DB2/LINUXX8664\" indicates Db2 is running on a 64-bit Linux for x86 processor server. \n",
    "    * `DBMS_VER`&nbsp; &nbsp; &nbsp; &nbsp; &nbsp; &nbsp; &nbsp; &nbsp; &nbsp; &nbsp; &nbsp; &nbsp; &nbsp; &nbsp;: The version of the Db2 software running on the server, in the form of a string that has the format __VV.RR.MMFF__, where __VV__ is the major version, __RR__ is the release number, __MM__ is the modification number, and __FF__ is the fix pack number. For example, \"11.01.0404\" represents version 11, release 1, modification 4, fix pack 4.\n",
    "    * `DB_CODEPAGE`&nbsp; &nbsp; &nbsp; &nbsp; &nbsp; &nbsp; &nbsp; &nbsp; &nbsp; &nbsp; &nbsp;: The default code page that is used by the server.\n",
    "    * `DB_NAME`&nbsp; &nbsp; &nbsp; &nbsp; &nbsp; &nbsp; &nbsp; &nbsp; &nbsp; &nbsp; &nbsp; &nbsp; &nbsp; &nbsp; &nbsp;: The name of the database the application is connected to, if any.\n",
    "    * `DFT_ISOLATION`&nbsp; &nbsp; &nbsp; &nbsp; &nbsp; &nbsp; &nbsp; &nbsp; &nbsp;: The default transaction isolation level that is used by the server. Valid values are:<p>\n",
    "    \n",
    "        * `RR`&nbsp; &nbsp; &nbsp;:  Repeatable read. (Data affected by a pending transaction is not available to other transactions.)\n",
    "        * `RS`&nbsp; &nbsp; &nbsp;: Read stability. (Concurrently running transactions can add or remove rows that do not match the search condition of a pending transaction.)\n",
    "        * `CS`&nbsp; &nbsp; &nbsp;: Cursor stability. (Concurrently running transactions cannot update or delete the row a pending transaction currently holds.)\n",
    "        * `UR`&nbsp; &nbsp; &nbsp;:  Uncommitted read. (Changes made by concurrently running transactions are immediately visible.)\n",
    "        * `NC`&nbsp; &nbsp; &nbsp;:  No commit. (Changes are visible at the end of a successful operation; explicit commits and rollbacks are not allowed.)<p> \n",
    "\n",
    "    * `IDENTIFIER_QUOTE_CHAR`&nbsp; : The character that is used as an identifier delimiter.\n",
    "    * `INST_NAME`&nbsp; &nbsp; &nbsp; &nbsp; &nbsp; &nbsp; &nbsp; &nbsp; &nbsp; &nbsp; &nbsp; &nbsp; &nbsp; &nbsp;: The name of the Db2 instance at the server.\n",
    "    * `ISOLATION_OPTION`&nbsp; &nbsp; &nbsp; &nbsp; &nbsp; &nbsp; &nbsp;: A list of the reansaction isolation levels that are supported by the connected server, stored in a tuple. Valid values are the same as those listed under `DFT_ISOLATION`.\n",
    "    * `KEYWORDS`&nbsp; &nbsp; &nbsp; &nbsp; &nbsp; &nbsp; &nbsp; &nbsp; &nbsp; &nbsp; &nbsp; &nbsp; &nbsp; &nbsp; &nbsp;: A list of the keywords that are reserved by the server, stored in a tuple.\n",
    "    * `LIKE_ESCAPE_CLAUSE`&nbsp; &nbsp; &nbsp; &nbsp; &nbsp;: A boolean value indicating whether the database server supports the use of __%__ and __\\___ as wildcard characters (`True`) or not (`False`).\n",
    "    * `MAX_COL_NAME_LEN`&nbsp; &nbsp; &nbsp; &nbsp; &nbsp; &nbsp; &nbsp;: Maximum length a column name can be, expressed in bytes.\n",
    "    * `MAX_IDENTIFIER_LEN`&nbsp; &nbsp; &nbsp; &nbsp; &nbsp;: Maximum length an SQL identifier can be, expressed in characters.\n",
    "    * `MAX_INDEX_SIZE`&nbsp; &nbsp; &nbsp; &nbsp; &nbsp; &nbsp; &nbsp; &nbsp; &nbsp;: Maximum amount of data (from combined columns) that can be used in an index, expressed in bytes.\n",
    "    * `MAX_PROC_NAME_LEN`&nbsp; &nbsp; &nbsp; &nbsp; &nbsp; &nbsp;: Maximum length a stored procedure name can be, expressed in bytes.\n",
    "    * `MAX_ROW_SIZE`&nbsp; &nbsp; &nbsp; &nbsp; &nbsp; &nbsp; &nbsp; &nbsp; &nbsp; &nbsp; &nbsp;: Maximum length a row in a base table can be, expressed in bytes.\n",
    "    * `MAX_SCHEMA_NAME_LEN`&nbsp; &nbsp; &nbsp; : Maximum length a schema name can be, expressed in bytes.\n",
    "    * `MAX_STATEMENT_LEN`&nbsp; &nbsp; &nbsp; &nbsp; &nbsp; : Maximum length an SQL statement can be, expressed in bytes.\n",
    "    * `MAX_TABLE_NAME_LEN`&nbsp; &nbsp; &nbsp; &nbsp; : Maximum length a table name can be, expressed in bytes.\n",
    "    * `NON_NULLABLE_COLUMNS`&nbsp; &nbsp; : A boolean value indicating whether the database server supports the ability to define columns that are __NOT NULL__ (`True`) or not (`False`).\n",
    "    * `PROCEDURES`&nbsp; &nbsp; &nbsp; &nbsp; &nbsp; &nbsp; &nbsp; &nbsp; &nbsp; &nbsp; &nbsp; &nbsp; : A boolean value indicating whether the database server supports the use of the __CALL__ statement to invoke stored procedures (`True`) or not (`False`).\n",
    "    * `SPECIAL_CHARS`&nbsp; &nbsp; &nbsp; &nbsp; &nbsp; &nbsp; &nbsp; &nbsp; &nbsp; : A string containing all characters other than __A-Z__, __0-9__, and underscore (__\\___) that can be used in an identifier name.\n",
    "    * `SQL_CONFORMANCE`&nbsp; &nbsp; &nbsp; &nbsp; &nbsp; &nbsp; &nbsp; : The level of conformance to the __ANSI/ISO SQL-92__ specification that is offered by the database server. Valid values are:<p>\n",
    "        * `ENTRY`&nbsp; &nbsp; &nbsp; &nbsp; &nbsp; &nbsp; &nbsp; &nbsp; : Entry-level SQL-92 compliance is provided.\n",
    "        * `FIPS127`&nbsp; &nbsp; &nbsp; &nbsp; &nbsp; &nbsp; : FIPS-127-2 transitional compliance is provided.\n",
    "        * `FULL`&nbsp; &nbsp; &nbsp; &nbsp; &nbsp; &nbsp;  &nbsp;  &nbsp; &nbsp; : Full level SQL-92 compliance is provided.\n",
    "        * `INTERMEDIATE`&nbsp; : Intermediate level SQL-92 compliance is provided.\n",
    "<p>\n",
    "    \n",
    "* If __unsuccessful__, the value `False`."
   ]
  },
  {
   "cell_type": "markdown",
   "metadata": {
    "deletable": false,
    "editable": false
   },
   "source": [
    "## Description:"
   ]
  },
  {
   "cell_type": "markdown",
   "metadata": {
    "deletable": false,
    "editable": false
   },
   "source": [
    "The __ibm_db.server_info()__ API is used to obtain detailed information about an IBM Db2 database server."
   ]
  },
  {
   "cell_type": "markdown",
   "metadata": {
    "deletable": false,
    "editable": false
   },
   "source": [
    "## Example:"
   ]
  },
  {
   "cell_type": "code",
   "execution_count": 2,
   "metadata": {
    "deletable": false
   },
   "outputs": [
    {
     "name": "stdout",
     "output_type": "stream",
     "text": [
      "\n",
      "Connecting to the ubuntu2 server ... Done!\n",
      "\n",
      "Obtaining information about the server ... Done!\n",
      "\n",
      "Server details:\n",
      "_____________________________________________________________________________\n",
      "Db2 database server name                 : DB2/LINUXX8664\n",
      "Db2 software version                     : 11.05.0900\n",
      "Db2 instance name                        : db2inst1\n",
      "Database codepage used                   : 1208\n",
      "Database name                            :                   \n",
      "Isolation levels supported               : Uncommitted Read (UR)\n",
      "                                           Cursor Stability (CS)\n",
      "                                           Read Stability (RS)\n",
      "                                           Repeatable Read (RR)\n",
      "Default isolation level used             : CS\n",
      "Identifier delimiter character           : \"\n",
      "Use of % and _ as wildcards supported    : Yes\n",
      "Maximum column name length               : 128     bytes\n",
      "Maximum SQL identifier length            : 128     characters\n",
      "Maximum index size (combined columns)    : 1024    bytes\n",
      "Maximum procedure name length            : 128     bytes\n",
      "Maximum row size                         : 32677   bytes\n",
      "Maximum schema name length               : 128     bytes\n",
      "Maximum SQL statement length             : 2097152 bytes\n",
      "Maximum table name length                : 128     bytes\n",
      "NOT NULL columns supported               : Yes\n",
      "CALL statement supported                 : Yes\n",
      "Characters supported in identifier names : A-Z, 0-9, _, @, and #\n",
      "ANSI/ISO SQL-92 conformance level        : FIPS-127-2 transitional compliance\n",
      "\n",
      "Reserved keywords:\n",
      "____________________________________________________________________________________________\n",
      "\n",
      "AFTER              ALIAS              ALLOW              APPLICATION        ASSOCIATE          \n",
      "ASUTIME            AUDIT              AUX                AUXILIARY          BEFORE             \n",
      "BINARY             BUFFERPOOL         CACHE              CALL               CALLED             \n",
      "CAPTURE            CARDINALITY        CCSID              CLUSTER            COLLECTION         \n",
      "COLLID             COMMENT            CONCAT             CONDITION          CONTAINS           \n",
      "COUNT_BIG          CURRENT_LC_CTYPE   CURRENT_PATH       CURRENT_SERVER     CURRENT_TIMEZONE   \n",
      "CYCLE              DATA               DATABASE           DAYS               DB2GENERAL         \n",
      "DB2GENRL           DB2SQL             DBINFO             DEFAULTS           DEFINITION         \n",
      "DETERMINISTIC      DISALLOW           DO                 DSNHATTR           DSSIZE             \n",
      "DYNAMIC            EACH               EDITPROC           ELSEIF             ENCODING           \n",
      "END-EXEC1          ERASE              EXCLUDING          EXIT               FENCED             \n",
      "FIELDPROC          FILE               FINAL              FREE               FUNCTION           \n",
      "GENERAL            GENERATED          GRAPHIC            HANDLER            HOLD               \n",
      "HOURS              IF                 INCLUDING          INCREMENT          INHERIT            \n",
      "INOUT              INTEGRITY          ISOBID             ITERATE            JAR                \n",
      "JAVA               LABEL              LC_CTYPE           LEAVE              LINKTYPE           \n",
      "LOCALE             LOCATOR            LOCATORS           LOCK               LOCKMAX            \n",
      "LOCKSIZE           LONG               LOOP               MAXVALUE           MICROSECOND        \n",
      "MICROSECONDS       MINUTES            MINVALUE           MODE               MODIFIES           \n",
      "MONTHS             NEW                NEW_TABLE          NOCACHE            NOCYCLE            \n",
      "NODENAME           NODENUMBER         NOMAXVALUE         NOMINVALUE         NOORDER            \n",
      "NULLS              NUMPARTS           OBID               OLD                OLD_TABLE          \n",
      "OPTIMIZATION       OPTIMIZE           OUT                OVERRIDING         PACKAGE            \n",
      "PARAMETER          PART               PARTITION          PATH               PIECESIZE          \n",
      "PLAN               PRIQTY             PROGRAM            PSID               QUERYNO            \n",
      "READS              RECOVERY           REFERENCING        RELEASE            RENAME             \n",
      "REPEAT             RESET              RESIGNAL           RESTART            RESULT             \n",
      "RESULT_SET_LOCATOR RETURN             RETURNS            ROUTINE            ROW                \n",
      "RRN                RUN                SAVEPOINT          SCRATCHPAD         SECONDS            \n",
      "SECQTY             SECURITY           SENSITIVE          SIGNAL             SIMPLE             \n",
      "SOURCE             SPECIFIC           SQLID              STANDARD           START              \n",
      "STATIC             STAY               STOGROUP           STORES             STYLE              \n",
      "SUBPAGES           SYNONYM            SYSFUN             SYSIBM             SYSPROC            \n",
      "SYSTEM             TABLESPACE         TRIGGER            TYPE               UNDO               \n",
      "UNTIL              VALIDPROC          VARIABLE           VARIANT            VCAT               \n",
      "VOLUMES            WHILE              WLM                YEARS              \n",
      "\n",
      "Disconnecting from the ubuntu2 server ... Done!\n",
      "\n"
     ]
    }
   ],
   "source": [
    "#----------------------------------------------------------------------------------------------#\n",
    "#  NAME:     ibm_db-server_info.py                                                             #\n",
    "#                                                                                              #\n",
    "#  PURPOSE:  This program is designed to illustrate how to use the ibm_db.server_info() API.   #\n",
    "#                                                                                              #\n",
    "#----------------------------------------------------------------------------------------------#\n",
    "#                     DISCLAIMER OF WARRANTIES AND LIMITATION OF LIABILITY                     #\n",
    "#                                                                                              #\n",
    "#  (C) COPYRIGHT International Business Machines Corp. 2018, 2019 All Rights Reserved          #\n",
    "#  Licensed Materials - Property of IBM                                                        #\n",
    "#                                                                                              #\n",
    "#  US Government Users Restricted Rights - Use, duplication or disclosure restricted by GSA    #\n",
    "#  ADP Schedule Contract with IBM Corp.                                                        #\n",
    "#                                                                                              #\n",
    "#  The following source code (\"Sample\") is owned by International Business Machines            #\n",
    "#  Corporation (\"IBM\") or one of its subsidiaries and is copyrighted and licensed, not sold.   #\n",
    "#  You may use, copy, modify, and distribute the Sample in any form without payment to IBM,    #\n",
    "#  for the purpose of assisting you in the creation of Python applications using the ibm_db    #\n",
    "#  library.                                                                                    #\n",
    "#                                                                                              #\n",
    "#  The Sample code is provided to you on an \"AS IS\" basis, without warranty of any kind. IBM   #\n",
    "#  HEREBY EXPRESSLY DISCLAIMS ALL WARRANTIES, EITHER EXPRESS OR IMPLIED, INCLUDING, BUT NOT    #\n",
    "#  LIMITED TO, THE IMPLIED WARRANTIES OF MERCHANTABILITY AND FITNESS FOR A PARTICULAR PURPOSE. #\n",
    "#  Some jurisdictions do not allow for the exclusion or limitation of implied warranties, so   #\n",
    "#  the above limitations or exclusions may not apply to you. IBM shall not be liable for any   #\n",
    "#  damages you suffer as a result of using, copying, modifying or distributing the Sample,     #\n",
    "#  even if IBM has been advised of the possibility of such damages.                            #\n",
    "#----------------------------------------------------------------------------------------------#\n",
    "\n",
    "# Load The Appropriate Python Modules\n",
    "import sys         # Provides Information About Python Interpreter Constants And Functions\n",
    "import ibm_db      # Contains The APIs Needed To Work With Db2 Databases\n",
    "\n",
    "#----------------------------------------------------------------------------------------------#\n",
    "# Import The Db2ConnectionMgr Class Definition, Attributes, And Methods That Have Been Defined #\n",
    "# In The File Named \"ibm_db_tools.py\"; This Class Contains The Programming Logic Needed To     #\n",
    "# Establish And Terminate A Connection To A Db2 Server Or Database                             #\n",
    "#----------------------------------------------------------------------------------------------#\n",
    "from ibm_db_tools import Db2ConnectionMgr\n",
    "\n",
    "#----------------------------------------------------------------------------------------------#\n",
    "# Import The ipynb_exit Class Definition, Attributes, And Methods That Have Been Defined In    #\n",
    "# The File Named \"ipynb_exit.py\"; This Class Contains The Programming Logic Needed To Allow    #\n",
    "# \"exit()\" Functionality To Work Without Raising An Error Or Stopping The Kernel If The        #\n",
    "# Application Is Invoked In A Jupyter Notebook                                                 #\n",
    "#----------------------------------------------------------------------------------------------#\n",
    "from ipynb_exit import exit\n",
    "\n",
    "# Define And Initialize The Appropriate Variables\n",
    "dbName = \"SAMPLE\"\n",
    "userID = \"db2inst1\"\n",
    "passWord = \"db2inst1\"\n",
    "svrConnection = None\n",
    "serverInfo = False\n",
    "\n",
    "# Create An Instance Of The Db2ConnectionMgr Class And Use It To Connect To A Db2 Server\n",
    "conn = Db2ConnectionMgr('SERVER', '', '', '', userID, passWord)\n",
    "conn.openConnection()\n",
    "if conn.returnCode is True:\n",
    "    svrConnection = conn.connectionID\n",
    "else:\n",
    "    conn.closeConnection()\n",
    "    exit(-1)\n",
    "\n",
    "# Attempt To Obtain Information About The Db2 Server Being Used\n",
    "print(\"Obtaining information about the server ... \", end=\"\")\n",
    "try:\n",
    "    serverInfo = ibm_db.server_info(svrConnection)\n",
    "except Exception:\n",
    "    pass\n",
    "\n",
    "# If Information About The Server Could Not Be Obtained, Display An Error Message \n",
    "if serverInfo is False:\n",
    "    print(\"\\nERROR: Unable to obtain server information.\\n\")\n",
    "\n",
    "# Otherwise, Complete The Status Message; Then Format And Display The Data Retrieved\n",
    "else:\n",
    "    print(\"Done!\\n\")\n",
    "\n",
    "    # Display A Report Header\n",
    "    print(\"Server details:\")\n",
    "    print(\"_____________________________________________________________________________\")\n",
    "    \n",
    "    # Display The Server Data\n",
    "    print(\"Db2 database server name                 : {}\" .format(serverInfo.DBMS_NAME))\n",
    "    print(\"Db2 software version                     : {}\" .format(serverInfo.DBMS_VER))\n",
    "    print(\"Db2 instance name                        : {}\" .format(serverInfo.INST_NAME))\n",
    "    print(\"Database codepage used                   : {}\" .format(serverInfo.DB_CODEPAGE))\n",
    "    print(\"Database name                            : {}\" .format(serverInfo.DB_NAME))\n",
    "\n",
    "    print(\"Isolation levels supported               : \", end=\"\")\n",
    "    for loopCounter in range(0, len(serverInfo.ISOLATION_OPTION)):\n",
    "        if serverInfo.ISOLATION_OPTION[loopCounter] == 'UR':\n",
    "            print(\"Uncommitted Read (UR)\", end=\"\")\n",
    "        elif serverInfo.ISOLATION_OPTION[loopCounter] == 'CS':\n",
    "            print(\"Cursor Stability (CS)\", end=\"\")\n",
    "        elif serverInfo.ISOLATION_OPTION[loopCounter] == 'RS':\n",
    "            print(\"Read Stability (RS)\", end=\"\")\n",
    "        elif serverInfo.ISOLATION_OPTION[loopCounter] == 'RR':\n",
    "            print(\"Repeatable Read (RR)\", end=\"\")\n",
    "        elif serverInfo.ISOLATION_OPTION[loopCounter] == 'NC':\n",
    "            print(\"No Commit\", end=\"\")\n",
    "        if loopCounter < len(serverInfo.ISOLATION_OPTION) - 1:\n",
    "            print(\"\\n\" + \" \" * 43, end=\"\")\n",
    "    print()\n",
    "\n",
    "    print(\"Default isolation level used             : \", end=\"\")\n",
    "    if serverInfo.DFT_ISOLATION == 'NC':\n",
    "        print(\"No Commit\")\n",
    "    else:\n",
    "        print(\"{}\" .format(serverInfo.DFT_ISOLATION))\n",
    "\n",
    "    print(\"Identifier delimiter character           : \", end=\"\")\n",
    "    print(\"{}\" .format(serverInfo.IDENTIFIER_QUOTE_CHAR))\n",
    "\n",
    "    print(\"Use of % and _ as wildcards supported    : \", end=\"\")\n",
    "    if serverInfo.LIKE_ESCAPE_CLAUSE == True:\n",
    "        print(\"Yes\")\n",
    "    else:\n",
    "        print(\"No\")\n",
    "\n",
    "    print(\"Maximum column name length               : \", end=\"\")\n",
    "    print(\"{:<7} bytes\" .format(serverInfo.MAX_COL_NAME_LEN))\n",
    "    print(\"Maximum SQL identifier length            : \", end=\"\")\n",
    "    print(\"{:<7} characters\" .format(serverInfo.MAX_IDENTIFIER_LEN))\n",
    "    print(\"Maximum index size (combined columns)    : \", end=\"\")\n",
    "    print(\"{:<7} bytes\" .format(serverInfo.MAX_INDEX_SIZE))\n",
    "    print(\"Maximum procedure name length            : \", end=\"\")\n",
    "    print(\"{:<7} bytes\" .format(serverInfo.MAX_PROC_NAME_LEN))\n",
    "    print(\"Maximum row size                         : \", end=\"\")\n",
    "    print(\"{:<7} bytes\" .format(serverInfo.MAX_ROW_SIZE))\n",
    "    print(\"Maximum schema name length               : \", end=\"\")\n",
    "    print(\"{:<7} bytes\" .format(serverInfo.MAX_SCHEMA_NAME_LEN))\n",
    "    print(\"Maximum SQL statement length             : \", end=\"\")\n",
    "    print(\"{:<7} bytes\" .format(serverInfo.MAX_STATEMENT_LEN))\n",
    "    print(\"Maximum table name length                : \", end=\"\")\n",
    "    print(\"{:<7} bytes\" .format(serverInfo.MAX_TABLE_NAME_LEN))\n",
    "\n",
    "    print(\"NOT NULL columns supported               : \", end=\"\")\n",
    "    if serverInfo.NON_NULLABLE_COLUMNS == True:\n",
    "        print(\"Yes\")\n",
    "    else:\n",
    "        print(\"No\")\n",
    "    print(\"CALL statement supported                 : \", end=\"\")\n",
    "    if serverInfo.PROCEDURES == True:\n",
    "        print(\"Yes\")\n",
    "    else:\n",
    "        print(\"No\")\n",
    "\n",
    "    print(\"Characters supported in identifier names : A-Z, 0-9, _, \", end=\"\")\n",
    "    tempString = (\", \".join(serverInfo.SPECIAL_CHARS))\n",
    "    endingPos = tempString.find(tempString[-1])\n",
    "    tempString = tempString[:int(endingPos)]\n",
    "    tempString += \"and \" + serverInfo.SPECIAL_CHARS[-1]\n",
    "    print(tempString)\n",
    "\n",
    "    print(\"ANSI/ISO SQL-92 conformance level        : \", end=\"\")\n",
    "    if serverInfo.SQL_CONFORMANCE == 'ENTRY':\n",
    "        print(\"Entry-level compliance\\n\")\n",
    "    elif serverInfo.SQL_CONFORMANCE == 'INTERMEDIATE':\n",
    "        print(\"Intermediate-level compliance\\n\")\n",
    "    elif serverInfo.SQL_CONFORMANCE == 'FULL':\n",
    "        print(\"Full compliance\\n\")\n",
    "    elif serverInfo.SQL_CONFORMANCE == 'FIPS127':\n",
    "        print(\"FIPS-127-2 transitional compliance\\n\")\n",
    "\n",
    "    # Display Another Header, Followed By A Five-Column List Of Reserved Keywords\n",
    "    print(\"Reserved keywords:\")\n",
    "    print('_' * 92 + \"\\n\")\n",
    "    loopCounter = 0\n",
    "    while loopCounter < len(serverInfo.KEYWORDS):\n",
    "        colNumber = 0\n",
    "        while colNumber < 5:\n",
    "            print(\"{:<19}\".format(serverInfo.KEYWORDS[loopCounter]), end=\"\")\n",
    "            colNumber += 1\n",
    "            loopCounter += 1\n",
    "            if colNumber == 5:\n",
    "                print()\n",
    "            if loopCounter is len(serverInfo.KEYWORDS):\n",
    "                break\n",
    "\n",
    "# End The Last Row And Add A Blank Line To The End Of The Report\n",
    "print(\"\\n\")\n",
    "\n",
    "# Close The Server Connection That Was Opened Earlier\n",
    "conn.closeConnection()\n",
    "\n",
    "# Return Control To The Operating System\n",
    "exit()"
   ]
  },
  {
   "cell_type": "code",
   "execution_count": null,
   "metadata": {},
   "outputs": [],
   "source": []
  }
 ],
 "metadata": {
  "kernelspec": {
   "display_name": "Python 3",
   "language": "python",
   "name": "python3"
  },
  "language_info": {
   "codemirror_mode": {
    "name": "ipython",
    "version": 3
   },
   "file_extension": ".py",
   "mimetype": "text/x-python",
   "name": "python",
   "nbconvert_exporter": "python",
   "pygments_lexer": "ipython3",
   "version": "3.12.3"
  }
 },
 "nbformat": 4,
 "nbformat_minor": 2
}
