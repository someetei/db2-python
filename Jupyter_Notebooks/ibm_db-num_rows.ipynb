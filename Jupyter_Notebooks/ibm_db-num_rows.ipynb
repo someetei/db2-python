{
 "cells": [
  {
   "cell_type": "markdown",
   "metadata": {
    "deletable": false,
    "editable": false
   },
   "source": [
    "# ibm_db.num_rows()"
   ]
  },
  {
   "cell_type": "markdown",
   "metadata": {
    "deletable": false,
    "editable": false
   },
   "source": [
    "## Purpose:"
   ]
  },
  {
   "cell_type": "markdown",
   "metadata": {
    "deletable": false,
    "editable": false
   },
   "source": [
    "Determine how many rows were inserted, updated, or deleted by an SQL statement."
   ]
  },
  {
   "cell_type": "markdown",
   "metadata": {
    "deletable": false,
    "editable": false
   },
   "source": [
    "## Syntax:"
   ]
  },
  {
   "cell_type": "markdown",
   "metadata": {
    "deletable": false,
    "editable": false
   },
   "source": [
    "`int ibm_db.num_rows( IBM_DBStatement `*`statement`*` )`"
   ]
  },
  {
   "cell_type": "markdown",
   "metadata": {
    "deletable": false,
    "editable": false
   },
   "source": [
    "## Parameters:"
   ]
  },
  {
   "cell_type": "markdown",
   "metadata": {
    "deletable": false,
    "editable": false
   },
   "source": [
    "* __*statement*__&nbsp; &nbsp; : A valid `IBM_DBStatement` object associated with an __INSERT__, __UPDATE__, or __DELETE__ SQL statement."
   ]
  },
  {
   "cell_type": "markdown",
   "metadata": {
    "deletable": false,
    "editable": false
   },
   "source": [
    "## Return values:"
   ]
  },
  {
   "cell_type": "markdown",
   "metadata": {
    "deletable": false,
    "editable": false
   },
   "source": [
    "* If __successful__, an integer representing the number of rows that were affected by the last SQL operation performed using the `IBM_DBStatement` object specified.\n",
    "* If __unsuccessful__, nothing."
   ]
  },
  {
   "cell_type": "markdown",
   "metadata": {
    "deletable": false,
    "editable": false
   },
   "source": [
    "## Description:"
   ]
  },
  {
   "cell_type": "markdown",
   "metadata": {
    "deletable": false,
    "editable": false
   },
   "source": [
    "The __ibm_db.num_rows()__ API is used to return the number of rows that were affected by an __INSERT__, __UPDATE__, or __DELETE__ operation. And, in some cases, it can be used to indicate how many rows will be returned by a __SELECT__ statement. (For example, if the __ibm_db.SQL_ATTR_ROWCOUNT_PREFETCH__ statement option is turned __ON__ or a scrollable cursor is used.)<p>\n",
    "\n",
    "It is important to note that the overhead associated with scrollable cursors can significantly degrade application performance. So, if the only reason you would use a scrollable cursor would be to determine how many rows could be returned by a __SELECT__ statement, you would be better off using a forward-only cursor and issuing a \"__SELECT COUNT(\\*)__\" statement (with the same predicates as your intended __SELECT__ statement) and retrieving the value returned."
   ]
  },
  {
   "cell_type": "markdown",
   "metadata": {
    "deletable": false
   },
   "source": [
    "## Example:"
   ]
  },
  {
   "cell_type": "code",
   "execution_count": 1,
   "metadata": {},
   "outputs": [
    {
     "name": "stdout",
     "output_type": "stream",
     "text": [
      "\n",
      "Connecting to the SAMPLE database ... Done!\n",
      "\n",
      "Turning AUTOCOMMIT behavior OFF ... Done!\n",
      "\n",
      "Preparing the SQL statement \"INSERT INTO department VALUES(?, ?, ?, 'E01', NULL)\" ... Done!\n",
      "\n",
      "Executing the prepared SQL statement ... Done!\n",
      "\n",
      "Number of rows affected by the INSERT operation: 3\n",
      "\n",
      "Backing out changes made to the database ... Done!\n",
      "\n",
      "Disconnecting from the SAMPLE database ... Done!\n",
      "\n"
     ]
    }
   ],
   "source": [
    "#----------------------------------------------------------------------------------------------#\n",
    "#  NAME:     ibm_db-num_rows.py                                                                #\n",
    "#                                                                                              #\n",
    "#  PURPOSE:  This program is designed to illustrate how to use the ibm_db-num_rows() API.      #\n",
    "#                                                                                              #\n",
    "#            Additional APIs used:                                                             #\n",
    "#                 ibm_db.autocommit()                                                          #\n",
    "#                 ibm_db.prepare()                                                             #\n",
    "#                 ibm_db.exec_many()                                                           #\n",
    "#                 ibm_db.exec_rollback()                                                       #\n",
    "#                                                                                              #\n",
    "#----------------------------------------------------------------------------------------------#\n",
    "#                     DISCLAIMER OF WARRANTIES AND LIMITATION OF LIABILITY                     #\n",
    "#                                                                                              #\n",
    "#  (C) COPYRIGHT International Business Machines Corp. 2018, 2019 All Rights Reserved          #\n",
    "#  Licensed Materials - Property of IBM                                                        #\n",
    "#                                                                                              #\n",
    "#  US Government Users Restricted Rights - Use, duplication or disclosure restricted by GSA    #\n",
    "#  ADP Schedule Contract with IBM Corp.                                                        #\n",
    "#                                                                                              #\n",
    "#  The following source code (\"Sample\") is owned by International Business Machines            #\n",
    "#  Corporation (\"IBM\") or one of its subsidiaries and is copyrighted and licensed, not sold.   #\n",
    "#  You may use, copy, modify, and distribute the Sample in any form without payment to IBM,    #\n",
    "#  for the purpose of assisting you in the creation of Python applications using the ibm_db    #\n",
    "#  library.                                                                                    #\n",
    "#                                                                                              #\n",
    "#  The Sample code is provided to you on an \"AS IS\" basis, without warranty of any kind. IBM   #\n",
    "#  HEREBY EXPRESSLY DISCLAIMS ALL WARRANTIES, EITHER EXPRESS OR IMPLIED, INCLUDING, BUT NOT    #\n",
    "#  LIMITED TO, THE IMPLIED WARRANTIES OF MERCHANTABILITY AND FITNESS FOR A PARTICULAR PURPOSE. #\n",
    "#  Some jurisdictions do not allow for the exclusion or limitation of implied warranties, so   #\n",
    "#  the above limitations or exclusions may not apply to you. IBM shall not be liable for any   #\n",
    "#  damages you suffer as a result of using, copying, modifying or distributing the Sample,     #\n",
    "#  even if IBM has been advised of the possibility of such damages.                            #\n",
    "#----------------------------------------------------------------------------------------------#\n",
    "\n",
    "# Load The Appropriate Python Modules\n",
    "import sys         # Provides Information About Python Interpreter Constants And Functions\n",
    "import ibm_db      # Contains The APIs Needed To Work With Db2 Databases\n",
    "\n",
    "#----------------------------------------------------------------------------------------------#\n",
    "# Import The Db2ConnectionMgr Class Definition, Attributes, And Methods That Have Been Defined #\n",
    "# In The File Named \"ibm_db_tools.py\"; This Class Contains The Programming Logic Needed To     #\n",
    "# Establish And Terminate A Connection To A Db2 Server Or Database                             #\n",
    "#----------------------------------------------------------------------------------------------#\n",
    "from ibm_db_tools import Db2ConnectionMgr\n",
    "\n",
    "#----------------------------------------------------------------------------------------------#\n",
    "# Import The ipynb_exit Class Definition, Attributes, And Methods That Have Been Defined In    #\n",
    "# The File Named \"ipynb_exit.py\"; This Class Contains The Programming Logic Needed To Allow    #\n",
    "# \"exit()\" Functionality To Work Without Raising An Error Or Stopping The Kernel If The        #\n",
    "# Application Is Invoked In A Jupyter Notebook                                                 #\n",
    "#----------------------------------------------------------------------------------------------#\n",
    "from ipynb_exit import exit\n",
    "\n",
    "# Define And Initialize The Appropriate Variables\n",
    "dbName = \"SAMPLE\"\n",
    "userID = \"db2inst1\"\n",
    "passWord = \"db2inst1\"\n",
    "dbConnection = None\n",
    "returnCode = False\n",
    "preparedStmt = False\n",
    "numRows = False\n",
    "resultSet = False\n",
    "\n",
    "# Create An Instance Of The Db2ConnectionMgr Class And Use It To Connect To A Db2 Database\n",
    "conn = Db2ConnectionMgr('DB', dbName, '', '', userID, passWord)\n",
    "conn.openConnection()\n",
    "if conn.returnCode is True:\n",
    "    dbConnection = conn.connectionID\n",
    "else:\n",
    "    conn.closeConnection()\n",
    "    exit(-1)\n",
    "    \n",
    "# Turn Autocommit Behavior OFF\n",
    "print(\"Turning AUTOCOMMIT behavior OFF ... \", end=\"\")\n",
    "returnCode = ibm_db.autocommit(dbConnection, 0)\n",
    "if returnCode is False:\n",
    "    print(\"\\nERROR: Unable to turn off AUTOCOMMIT behavior.\")\n",
    "    conn.closeConnection()\n",
    "    exit(-1)\n",
    "\n",
    "# Otherwise, Complete The Status Message\n",
    "else:\n",
    "    print(\"Done!\\n\")\n",
    "    \n",
    "# Define The INSERT Statement (With Parameter Markers) That Is To Be Used To Add Data\n",
    "# To The DEPARTMENT Table\n",
    "sqlStatement = \"INSERT INTO department VALUES(?, ?, ?, 'E01', NULL)\"\n",
    "\n",
    "# Prepare The SQL Statement Just Defined\n",
    "print(\"Preparing the SQL statement \\\"\" + sqlStatement + \"\\\" ... \", end=\"\")\n",
    "try:\n",
    "    preparedStmt = ibm_db.prepare(dbConnection, sqlStatement)\n",
    "except Exception:\n",
    "    pass\n",
    "\n",
    "# If The SQL Statement Could Not Be Prepared By Db2, Display An Error Message And Exit\n",
    "if preparedStmt is False:\n",
    "    print(\"\\nERROR: Unable to prepare the SQL statement specified.\")\n",
    "    conn.closeConnection()\n",
    "    exit(-1)\n",
    "\n",
    "# Otherwise, Complete The Status Message\n",
    "else:\n",
    "    print(\"Done!\\n\")\n",
    "\n",
    "# Create A List Of Data Values That Are To Be Supplied For The Parameter Markers Coded\n",
    "# In The INSERT Statement Specified\n",
    "pmValues = (('K22', 'SALES', '000110'), \n",
    "            ('L22', 'FINANCE', '000120'), \n",
    "            ('M22', 'HUMAN RESOURCES', '000130'))\n",
    "\n",
    "# Execute The SQL Statement Just Prepared\n",
    "print(\"Executing the prepared SQL statement ... \", end=\"\")\n",
    "try:\n",
    "    returnCode = ibm_db.execute_many(preparedStmt, pmValues) \n",
    "except Exception:\n",
    "    pass\n",
    "\n",
    "# If The SQL Statement Could Not Be Executed, Display An Error Message And Exit \n",
    "if returnCode is False:\n",
    "    print(\"\\nERROR: Unable to execute the SQL statement specified.\\n\")\n",
    "    conn.closeConnection()\n",
    "    exit(-1)\n",
    "\n",
    "# Otherwise, Complete The Status Message And Display The Number Of Records Added\n",
    "else:\n",
    "    print(\"Done!\\n\")\n",
    "\n",
    "# Find Out How Many Rows Were Affected By The INSERT Operation\n",
    "try:\n",
    "    numRows = ibm_db.num_rows(preparedStmt)\n",
    "except Exception:\n",
    "    pass\n",
    " \n",
    "# If Information About The Number Rows Affected Could Not Be Obtained, Display An Error\n",
    "# Message And Exit \n",
    "if numRows is False:\n",
    "    print(\"\\nERROR: Unable to obtain information about the number of rows affected.\")\n",
    "    conn.closeConnection()\n",
    "    exit(-1)\n",
    "\n",
    "# Otherwise, Display The Information Obtained\n",
    "else:\n",
    "    print(\"Number of rows affected by the INSERT operation: \" + str(numRows) + \"\\n\")\n",
    "\n",
    "# Back Out The Changes Just Made To The Database\n",
    "print(\"Backing out changes made to the database ... \", end=\"\")\n",
    "try:\n",
    "    resultSet = ibm_db.rollback(dbConnection)\n",
    "except Exception:\n",
    "    pass\n",
    "\n",
    "# If The Rollback Operation Could Not Be Performed, Display An Error Message And Exit \n",
    "if resultSet is False:\n",
    "    print(\"\\nERROR: Unable to roll back the previous operation.\")\n",
    "    conn.closeConnection()\n",
    "    exit(-1)\n",
    "\n",
    "# Otherwise, Complete The Status Message\n",
    "else:\n",
    "    print(\"Done!\\n\")\n",
    "    \n",
    "# Close The Database Connection That Was Opened Earlier\n",
    "conn.closeConnection()\n",
    "\n",
    "# Return Control To The Operating System\n",
    "exit()"
   ]
  },
  {
   "cell_type": "code",
   "execution_count": null,
   "metadata": {},
   "outputs": [],
   "source": []
  }
 ],
 "metadata": {
  "kernelspec": {
   "display_name": "Python 3",
   "language": "python",
   "name": "python3"
  },
  "language_info": {
   "codemirror_mode": {
    "name": "ipython",
    "version": 3
   },
   "file_extension": ".py",
   "mimetype": "text/x-python",
   "name": "python",
   "nbconvert_exporter": "python",
   "pygments_lexer": "ipython3",
   "version": "3.7.1"
  }
 },
 "nbformat": 4,
 "nbformat_minor": 2
}
