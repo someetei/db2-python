{
 "cells": [
  {
   "cell_type": "markdown",
   "metadata": {
    "deletable": false,
    "editable": false
   },
   "source": [
    "# ibm_db.columns()"
   ]
  },
  {
   "cell_type": "markdown",
   "metadata": {
    "deletable": false,
    "editable": false
   },
   "source": [
    "## Purpose:"
   ]
  },
  {
   "cell_type": "markdown",
   "metadata": {
    "deletable": false,
    "editable": false
   },
   "source": [
    "Retrieve a list of columns and their associated metadata, for a given table."
   ]
  },
  {
   "cell_type": "markdown",
   "metadata": {
    "deletable": false,
    "editable": false
   },
   "source": [
    "## Syntax:"
   ]
  },
  {
   "cell_type": "markdown",
   "metadata": {
    "deletable": false,
    "editable": false
   },
   "source": [
    "`IBM_DBStatement ibm_db.columns( IBM_DBConnection `*`connection`*` [, string `*`qualifierName`*` [, string `*`schemaName`*` [, string `*`tableName`*` [, string `*`columnName`*`] ] ] ] )`"
   ]
  },
  {
   "cell_type": "markdown",
   "metadata": {
    "deletable": false,
    "editable": false
   },
   "source": [
    "## Parameters:"
   ]
  },
  {
   "cell_type": "markdown",
   "metadata": {
    "deletable": false,
    "editable": false
   },
   "source": [
    "* __*connection*__&nbsp; &nbsp; &nbsp; &nbsp; : A valid Db2 server or database connection. \n",
    "* __qualifierName__&nbsp; &nbsp; : A valid qualifier name for Db2 databases on OS/390 or z/OS servers; the value `None` or an empty string (`''`) for Db2 databases on other operating systems. \n",
    "* __schemaName__&nbsp; &nbsp; &nbsp;: The name of the schema that contains the table(s) that column information is to be obtained for. To match all schemas, provide the value `None` or an empty string.   \n",
    "* __tableName__&nbsp; &nbsp; &nbsp; &nbsp; &nbsp; : The name of the table(s) and/or view(s) that column information is to be obtained for. To match all tables and views, provide the value `None` or an empty string.   \n",
    "* __columnName__&nbsp; &nbsp; &nbsp; : The name of the column that information is to be obtained for. To match all columns, provide the value `None` or an empty string."
   ]
  },
  {
   "cell_type": "markdown",
   "metadata": {
    "deletable": false,
    "editable": false
   },
   "source": [
    "## Return values:"
   ]
  },
  {
   "cell_type": "markdown",
   "metadata": {
    "deletable": false,
    "editable": false
   },
   "source": [
    "* If __successful__, an `IBM_DBStatement` object with a result set that contains the following information:<p>\n",
    "\n",
    "    * `TABLE_CAT` &nbsp; &nbsp; &nbsp; &nbsp; &nbsp; &nbsp; &nbsp; &nbsp; &nbsp; &nbsp; :  The name of the catalog associated with the schema and table the column is in; Db2 does not use catalogs so this field will always contain the value `None`. *(Db2 databases on OS/390 or z/OS servers can return information in this field.)*\n",
    "    * `TABLE_SCHEM` &nbsp; &nbsp; &nbsp; &nbsp; &nbsp; &nbsp; &nbsp; &nbsp; : The name of the schema for the table or view the column is associated with.\n",
    "    * `TABLE_NAME` &nbsp; &nbsp; &nbsp; &nbsp; &nbsp; &nbsp; &nbsp; &nbsp; &nbsp; : The name of the table or view the column is associated with.\n",
    "    * `COLUMN_NAME`&nbsp; &nbsp; &nbsp; &nbsp; &nbsp; &nbsp; &nbsp; &nbsp; &nbsp;: The name of the column.\n",
    "    * `DATA_TYPE`&nbsp; &nbsp; &nbsp; &nbsp; &nbsp; &nbsp; &nbsp; &nbsp; &nbsp; &nbsp; &nbsp;: An integer value that represents the SQL data type of the column. (On Linux and UNIX systems, valid values for this field can be found in the file */opt/ibm/db2/V11.1/include/sqlcli.h*.)\n",
    "    * `TYPE_NAME`&nbsp; &nbsp; &nbsp; &nbsp; &nbsp; &nbsp; &nbsp; &nbsp; &nbsp; &nbsp; &nbsp;: The data source-specific string representation of the SQL data type of the column.\n",
    "    * `COLUMN_SIZE`&nbsp; &nbsp; &nbsp; &nbsp; &nbsp; &nbsp; &nbsp; &nbsp; &nbsp;: The number of bytes needed to display the column's data as a string.\n",
    "    * `BUFFER_LENGTH`&nbsp; &nbsp; &nbsp; &nbsp; &nbsp; &nbsp; &nbsp;: The number of bytes needed to store the column's data in an application variable.   \n",
    "    * `DECIMAL_DIGITS`&nbsp; &nbsp; &nbsp; &nbsp; &nbsp; &nbsp;: The scale (i.e., total number of significant digits to the right of the decimal point) of the column - provided the column has a numerical data type. If the column does not have a numerical data type, this field will contain the value `None`.\n",
    "    * `NUM_PREC_RADIX`&nbsp; &nbsp; &nbsp; &nbsp; &nbsp; &nbsp;: A numerical value that indicates whether the column's data type represents an exact numeric data type (`10`) or an approximate numeric data type (`2`). If the column does not have a numerical data type, this field will contain the value `None`.\n",
    "    * `NULLABLE`&nbsp; &nbsp; &nbsp; &nbsp; &nbsp; &nbsp; &nbsp; &nbsp; &nbsp; &nbsp; &nbsp; &nbsp;: Indication of whether the column accepts a __NULL__ value; `ibm_db.SQL_YES` will be returned if __NULL__ values are accepted and `ibm_db.SQL_NO` will be returned if they are not.\n",
    "    * `REMARKS`&nbsp; &nbsp; &nbsp; &nbsp; &nbsp; &nbsp; &nbsp; &nbsp; &nbsp; &nbsp; &nbsp; &nbsp; &nbsp;: A user-supplied description of the column (if one has been provided).\n",
    "    * `COLUMN_DEF`&nbsp; &nbsp; &nbsp; &nbsp; &nbsp; &nbsp; &nbsp; &nbsp; &nbsp; &nbsp;: The default value for the column (if one has been defined).\n",
    "    * `SQL_DATA_TYPE`&nbsp; &nbsp; &nbsp; &nbsp; &nbsp; &nbsp; &nbsp;: An integer value that represents the SQL data type of the column, <u>as it would appear in a row descriptor record</u>. In most cases, this will be the same as the value provided in the __DATA_TYPE__ field. (On Linux and UNIX systems, valid values for this field can be found in the file */opt/ibm/db2/V11.1/include/sqlcli.h*.)\n",
    "    * `SQL_DATETIME_SUB`&nbsp; &nbsp; &nbsp; &nbsp;: An integer value that represents the SQL date/time subtype code for the column - provided the column has a date, time, or timestamp data type. If the column does not have one of these data types, this field will contain the value `None`. (On Linux and UNIX systems, valid values for this field can be found in the file */opt/ibm/db2/V11.1/include/sqlcli.h*.)\n",
    "    * `CHAR_OCTECT_LENGTH`&nbsp; &nbsp;: The length, in octets (8-bit bytes), needed to display the column's data as a string. (This will be the same as the __COLUMN_SIZE__ value for single-byte character set data.) If the column does not have a character data type, this field will contain the value `None`.\n",
    "    * `ORDINAL_POSITION`&nbsp; &nbsp; &nbsp; &nbsp;: The column's ordinal position in the table, starting from 1.\n",
    "    * `IS_NULLABLE`&nbsp; &nbsp; &nbsp; &nbsp; &nbsp; &nbsp; &nbsp; &nbsp; &nbsp;: Indication of whether the column can contain __NULL__ values, according to the rules in the ISO SQL92 standard. This field will contain the value `\"YES\"` if the column can contain __NULL__ values and the value `\"NO\"` if it cannot.<p>\n",
    "    \n",
    "* If __unsuccessful__, the value `False`."
   ]
  },
  {
   "cell_type": "markdown",
   "metadata": {
    "deletable": false,
    "editable": false
   },
   "source": [
    "## Description:"
   ]
  },
  {
   "cell_type": "markdown",
   "metadata": {
    "deletable": false,
    "editable": false
   },
   "source": [
    "The __ibm_db.columns()__ API is used to retrieve a list of columns and their associated metadata, for one or more tables and/or views.<p>\n",
    "\n",
    "The information returned by this API is placed in a result data set, which can be processed using the same APIs that are used to process result data sets that are generated by SQL queries. That is, a single row can be retrieved and stored in a tuple or dictionary using the  __ibm_db.fetch_tuple()__ (tuple), __ibm_db.fetch_assoc()__ (dictionary), or __ibm_db.fetch_both()__ (tuple *and* dictionary) APIs. Alternately, the __ibm_db.fetch_row()__ API can be used to move the result set pointer to each row in the result set produced and the __ibm_db.result()__ API can be used to fetch a column from the current row."
   ]
  },
  {
   "cell_type": "markdown",
   "metadata": {
    "deletable": false,
    "editable": false
   },
   "source": [
    "## Example:"
   ]
  },
  {
   "cell_type": "code",
   "execution_count": 1,
   "metadata": {
    "deletable": false
   },
   "outputs": [
    {
     "name": "stdout",
     "output_type": "stream",
     "text": [
      "\n",
      "Connecting to the SAMPLE database ... Done!\n",
      "\n",
      "Obtaining information about columns that have been defined for the ACT table ... Done!\n",
      "\n",
      "Column 1 details:\n",
      "_________________________________________\n",
      "Table schema             : DB2INST1\n",
      "Table name               : ACT\n",
      "Column name              : ACTNO\n",
      "Data type                : SMALLINT\n",
      "Size                     : 5\n",
      "Buffer size              : 2\n",
      "Scale (decimal digits)   : 0\n",
      "Precision radix          : Exact numeric data type\n",
      "Can accept NULL values   : NO\n",
      "Remarks                  : None\n",
      "Default value            : None\n",
      "SQL data type            : SQL_SMALLINT\n",
      "SQL data/time subtype    : None\n",
      "Data type                : 5\n",
      "Length in octets         : Not applicable\n",
      "Ordinal position         : 1\n",
      "Can contain NULL values  : NO\n",
      "\n",
      "Column 2 details:\n",
      "_________________________________________\n",
      "Table schema             : DB2INST1\n",
      "Table name               : ACT\n",
      "Column name              : ACTKWD\n",
      "Data type                : CHAR\n",
      "Size                     : 6\n",
      "Buffer size              : 6\n",
      "Scale (decimal digits)   : Not applicable\n",
      "Precision radix          : Not applicable\n",
      "Can accept NULL values   : NO\n",
      "Remarks                  : None\n",
      "Default value            : None\n",
      "SQL data type            : SQL_CHAR\n",
      "SQL data/time subtype    : None\n",
      "Data type                : 1\n",
      "Length in octets         : 6\n",
      "Ordinal position         : 2\n",
      "Can contain NULL values  : NO\n",
      "\n",
      "Column 3 details:\n",
      "_________________________________________\n",
      "Table schema             : DB2INST1\n",
      "Table name               : ACT\n",
      "Column name              : ACTDESC\n",
      "Data type                : VARCHAR\n",
      "Size                     : 20\n",
      "Buffer size              : 20\n",
      "Scale (decimal digits)   : Not applicable\n",
      "Precision radix          : Not applicable\n",
      "Can accept NULL values   : NO\n",
      "Remarks                  : None\n",
      "Default value            : None\n",
      "SQL data type            : SQL_VARCHAR\n",
      "SQL data/time subtype    : None\n",
      "Data type                : 12\n",
      "Length in octets         : 20\n",
      "Ordinal position         : 3\n",
      "Can contain NULL values  : NO\n",
      "\n",
      "Disconnecting from the SAMPLE database ... Done!\n",
      "\n"
     ]
    }
   ],
   "source": [
    "#----------------------------------------------------------------------------------------------#\n",
    "#  NAME:     ibm_db-columns.py                                                                 #\n",
    "#                                                                                              #\n",
    "#  PURPOSE:  This program is designed to illustrate how to use the ibm_db.columns()            #\n",
    "#            API.                                                                              #\n",
    "#                                                                                              #\n",
    "#            Additional APIs used:                                                             #\n",
    "#                 ibm_db.fetch_assoc()                                                         #\n",
    "#                                                                                              #\n",
    "#----------------------------------------------------------------------------------------------#\n",
    "#                     DISCLAIMER OF WARRANTIES AND LIMITATION OF LIABILITY                     #\n",
    "#                                                                                              #\n",
    "#  (C) COPYRIGHT International Business Machines Corp. 2018, 2019 All Rights Reserved          #\n",
    "#  Licensed Materials - Property of IBM                                                        #\n",
    "#                                                                                              #\n",
    "#  US Government Users Restricted Rights - Use, duplication or disclosure restricted by GSA    #\n",
    "#  ADP Schedule Contract with IBM Corp.                                                        #\n",
    "#                                                                                              #\n",
    "#  The following source code (\"Sample\") is owned by International Business Machines            #\n",
    "#  Corporation (\"IBM\") or one of its subsidiaries and is copyrighted and licensed, not sold.   #\n",
    "#  You may use, copy, modify, and distribute the Sample in any form without payment to IBM,    #\n",
    "#  for the purpose of assisting you in the creation of Python applications using the ibm_db    #\n",
    "#  library.                                                                                    #\n",
    "#                                                                                              #\n",
    "#  The Sample code is provided to you on an \"AS IS\" basis, without warranty of any kind. IBM   #\n",
    "#  HEREBY EXPRESSLY DISCLAIMS ALL WARRANTIES, EITHER EXPRESS OR IMPLIED, INCLUDING, BUT NOT    #\n",
    "#  LIMITED TO, THE IMPLIED WARRANTIES OF MERCHANTABILITY AND FITNESS FOR A PARTICULAR PURPOSE. #\n",
    "#  Some jurisdictions do not allow for the exclusion or limitation of implied warranties, so   #\n",
    "#  the above limitations or exclusions may not apply to you. IBM shall not be liable for any   #\n",
    "#  damages you suffer as a result of using, copying, modifying or distributing the Sample,     #\n",
    "#  even if IBM has been advised of the possibility of such damages.                            #\n",
    "#----------------------------------------------------------------------------------------------#\n",
    "\n",
    "# Load The Appropriate Python Modules\n",
    "import sys         # Provides Information About Python Interpreter Constants And Functions\n",
    "import ibm_db      # Contains The APIs Needed To Work With Db2 Databases\n",
    "\n",
    "#----------------------------------------------------------------------------------------------#\n",
    "# Import The Db2ConnectionMgr Class Definition, Attributes, And Methods That Have Been Defined #\n",
    "# In The File Named \"ibm_db_tools.py\"; This Class Contains The Programming Logic Needed To     #\n",
    "# Establish And Terminate A Connection To A Db2 Server Or Database                             #\n",
    "#----------------------------------------------------------------------------------------------#\n",
    "from ibm_db_tools import Db2ConnectionMgr\n",
    "\n",
    "#----------------------------------------------------------------------------------------------#\n",
    "# Import The ipynb_exit Class Definition, Attributes, And Methods That Have Been Defined In    #\n",
    "# The File Named \"ipynb_exit.py\"; This Class Contains The Programming Logic Needed To Allow    #\n",
    "# \"exit()\" Functionality To Work Without Raising An Error Or Stopping The Kernel If The        #\n",
    "# Application Is Invoked In A Jupyter Notebook                                                 #\n",
    "#----------------------------------------------------------------------------------------------#\n",
    "from ipynb_exit import exit\n",
    "\n",
    "# Define And Initialize The Appropriate Variables\n",
    "dbName = \"SAMPLE\"\n",
    "userID = \"db2inst1\"\n",
    "passWord = \"db2inst1\"\n",
    "dbConnection = None\n",
    "tableName = \"ACT\"\n",
    "resultSet = False\n",
    "dataRecord = False\n",
    "sqlDataTypes = {0 : \"SQL_UNKNOWN_TYPE\", 1 : \"SQL_CHAR\", 2 : \"SQL_NUMERIC\", 3 : \"SQL_DECIMAL\",\n",
    "    4 : \"SQL_INTEGER\", 5 : \"SQL_SMALLINT\", 6 : \"SQL_FLOAT\", 7 : \"SQL_REAL\", 8 : \"SQL_DOUBLE\",\n",
    "    9 : \"SQL_DATETIME\", 12 : \"SQL_VARCHAR\", 16 : \"SQL_BOOLEAN\", 19 : \"SQL_ROW\", \n",
    "    91 : \"SQL_TYPE_DATE\", 92 : \"SQL_TYPE_TIME\", 93 : \"SQL_TYPE_TIMESTAMP\",\n",
    "    95 : \"SQL_TYPE_TIMESTAMP_WITH_TIMEZONE\", -8 : \"SQL_WCHAR\", -9 : \"SQL_WVARCHAR\",\n",
    "    -10 : \"SQL_WLONGVARCHAR\", -95 : \"SQL_GRAPHIC\", -96 : \"SQL_VARGRAPHIC\",\n",
    "    -97 : \"SQL_LONGVARGRAPHIC\", -98 : \"SQL_BLOB\", -99 : \"SQL_CLOB\", -350 : \"SQL_DBCLOB\",\n",
    "    -360 : \"SQL_DECFLOAT\", -370 : \"SQL_XML\", -380 : \"SQL_CURSORHANDLE\", -400 : \"SQL_DATALINK\",\n",
    "    -450 : \"SQL_USER_DEFINED_TYPE\"}\n",
    "sqlDateTimeSubtypes = {1 : \"SQL_CODE_DATE\", 2 : \"SQL_CODE_TIME\", 3 : \"SQL_CODE_TIMESTAMP\",\n",
    "    4 : \"SQL_CODE_TIMESTAMP_WITH_TIMEZONE\"}\n",
    "\n",
    "# Create An Instance Of The Db2ConnectionMgr Class And Use It To Connect To A Db2 Database\n",
    "conn = Db2ConnectionMgr('DB', dbName, '', '', userID, passWord)\n",
    "conn.openConnection()\n",
    "if conn.returnCode is True:\n",
    "    dbConnection = conn.connectionID\n",
    "else:\n",
    "    conn.closeConnection()\n",
    "    exit(-1)\n",
    "\n",
    "# Attempt To Retrieve Information About All Of The Columns That Have Been Defined For\n",
    "# A Particular Table\n",
    "print(\"Obtaining information about columns that have been defined for the \", end=\"\")\n",
    "print(tableName + \" table ... \", end=\"\")\n",
    "try:\n",
    "    resultSet = ibm_db.columns(dbConnection, None, None, tableName, None)\n",
    "except Exception:\n",
    "    pass\n",
    "\n",
    "# If The Information Desired Could Not Be Retrieved, Display An Error Message And Exit\n",
    "if resultSet is False:\n",
    "    print(\"\\nERROR: Unable to obtain the information desired\\n.\")\n",
    "    conn.closeConnection()\n",
    "    exit(-1)\n",
    "\n",
    "# Otherwise, Complete The Status Message\n",
    "else:\n",
    "    print(\"Done!\\n\")\n",
    "\n",
    "# As Long As There Are Records (That Were Produced By The ibm_db.columns API), ...\n",
    "noData = False\n",
    "loopCounter = 1\n",
    "while noData is False:\n",
    "\n",
    "    # Retrieve A Record And Store It In A Python Dictionary\n",
    "    try:\n",
    "        dataRecord = ibm_db.fetch_assoc(resultSet)\n",
    "    except:\n",
    "        pass\n",
    "\n",
    "    # If The Data Could Not Be Retrieved Or If There Was No Data To Retrieve, Set The\n",
    "    # \"No Data\" Flag And Exit The Loop  \n",
    "    if dataRecord is False:\n",
    "        noData = True\n",
    "\n",
    "    # Otherwise, Display The Information Retrieved\n",
    "    else:\n",
    "\n",
    "        # Display Record Header Information\n",
    "        print(\"Column \" + str(loopCounter) + \" details:\")\n",
    "        print(\"_________________________________________\")\n",
    "\n",
    "        # Display The Information Stored In The Data Record Retrieved\n",
    "        print(\"Table schema             : {}\" .format(dataRecord['TABLE_SCHEM']))\n",
    "        print(\"Table name               : {}\" .format(dataRecord['TABLE_NAME']))\n",
    "        print(\"Column name              : {}\" .format(dataRecord['COLUMN_NAME']))\n",
    "        print(\"Data type                : {}\" .format(dataRecord['TYPE_NAME']))\n",
    "        print(\"Size                     : {}\" .format(dataRecord['COLUMN_SIZE']))\n",
    "        print(\"Buffer size              : {}\" .format(dataRecord['BUFFER_LENGTH']))\n",
    "        print(\"Scale (decimal digits)   : \", end=\"\")\n",
    "        if dataRecord['DECIMAL_DIGITS'] == None:\n",
    "            print(\"Not applicable\")\n",
    "        else:\n",
    "            print(\"{}\" .format(dataRecord['DECIMAL_DIGITS']))\n",
    "        print(\"Precision radix          : \", end=\"\")\n",
    "        if dataRecord['NUM_PREC_RADIX'] == 10:\n",
    "            print(\"Exact numeric data type\")\n",
    "        elif dataRecord['NUM_PREC_RADIX'] == 2:\n",
    "            print(\"Approximate numeric data type\")\n",
    "        elif dataRecord['NUM_PREC_RADIX'] == None:\n",
    "            print(\"Not applicable\")\n",
    "        print(\"Can accept NULL values   : \", end=\"\")\n",
    "        if dataRecord['NULLABLE'] == ibm_db.SQL_FALSE:\n",
    "            print(\"NO\")\n",
    "        elif dataRecord['NULLABLE'] == ibm_db.SQL_TRUE:\n",
    "            print(\"YES\")\n",
    "        print(\"Remarks                  : {}\" .format(dataRecord['REMARKS']))\n",
    "        print(\"Default value            : {}\" .format(dataRecord['COLUMN_DEF']))\n",
    "        print(\"SQL data type            : \", end=\"\")\n",
    "        print(sqlDataTypes.get(dataRecord['SQL_DATA_TYPE']))\n",
    "        print(\"SQL data/time subtype    : \", end=\"\")\n",
    "        print(sqlDateTimeSubtypes.get(dataRecord['SQL_DATETIME_SUB']))\n",
    "        print(\"Data type                : {}\" .format(dataRecord['DATA_TYPE']))\n",
    "        print(\"Length in octets         : \", end=\"\")\n",
    "        if dataRecord['CHAR_OCTET_LENGTH'] == None:\n",
    "            print(\"Not applicable\")\n",
    "        else:\n",
    "            print(\"{}\" .format(dataRecord['CHAR_OCTET_LENGTH']))\n",
    "        print(\"Ordinal position         : {}\" .format(dataRecord['ORDINAL_POSITION']))\n",
    "        print(\"Can contain NULL values  : {}\" .format(dataRecord['IS_NULLABLE']))\n",
    "\n",
    "        # Increment The loopCounter Variable And Print A Blank Line To Separate The\n",
    "        # Records From Each Other\n",
    "        loopCounter += 1\n",
    "        print()\n",
    "\n",
    "# Close The Database Connection That Was Opened Earlier\n",
    "conn.closeConnection()\n",
    "\n",
    "# Return Control To The Operating System\n",
    "exit()"
   ]
  },
  {
   "cell_type": "code",
   "execution_count": null,
   "metadata": {},
   "outputs": [],
   "source": []
  }
 ],
 "metadata": {
  "kernelspec": {
   "display_name": "Python 3",
   "language": "python",
   "name": "python3"
  },
  "language_info": {
   "codemirror_mode": {
    "name": "ipython",
    "version": 3
   },
   "file_extension": ".py",
   "mimetype": "text/x-python",
   "name": "python",
   "nbconvert_exporter": "python",
   "pygments_lexer": "ipython3",
   "version": "3.12.3"
  }
 },
 "nbformat": 4,
 "nbformat_minor": 2
}
