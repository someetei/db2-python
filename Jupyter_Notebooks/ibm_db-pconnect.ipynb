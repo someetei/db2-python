{
 "cells": [
  {
   "cell_type": "markdown",
   "metadata": {
    "deletable": false,
    "editable": false
   },
   "source": [
    "# ibm_db.pconnect()"
   ]
  },
  {
   "cell_type": "markdown",
   "metadata": {
    "deletable": false,
    "editable": false
   },
   "source": [
    "## Purpose:"
   ]
  },
  {
   "cell_type": "markdown",
   "metadata": {
    "deletable": false,
    "editable": false
   },
   "source": [
    "Establish a persistent connection to an IBM Db2 server or database."
   ]
  },
  {
   "cell_type": "markdown",
   "metadata": {
    "deletable": false,
    "editable": false
   },
   "source": [
    "## Syntax:"
   ]
  },
  {
   "cell_type": "markdown",
   "metadata": {
    "deletable": false,
    "editable": false
   },
   "source": [
    "`IBM_DBConnection ibm_db.pconnect( string `*`connectionInfo,`*` string `*`userID,`*` string `*`userPassword`*` [, dictionary `*`options`*` ] )`"
   ]
  },
  {
   "cell_type": "markdown",
   "metadata": {
    "deletable": false,
    "editable": false
   },
   "source": [
    "## Parameters:"
   ]
  },
  {
   "cell_type": "markdown",
   "metadata": {
    "deletable": false,
    "editable": false
   },
   "source": [
    "* __*connectionInfo*__&nbsp; &nbsp; : A valid Db2 database alias (if the database has been cataloged in the system database directory) *<u>or</u>* a connection string with the format `DRIVER={IBM DB2 ODBC DRIVER};ATTACH=connType;DATABASE=dbName;HOSTNAME=hostName;PORT=port;PROTOCOL=TCPIP;UID=userName;PWD=password` where:<p>\n",
    "    \n",
    "    * `connType`&nbsp; &nbsp; &nbsp;: Specifies whether the connection is to be made to a Db2 server or database; `TRUE` indicates the connection is to be made to a Db2 server and `FALSE` indicates the connection is to be made to a database.\n",
    "    * `dbName`&nbsp; &nbsp; &nbsp; &nbsp; &nbsp;: The name of the Db2 server or database the connection is to be made to. *This option is only required when connecting to a Db2 database.*\n",
    "    * `hostName`&nbsp; &nbsp; &nbsp;: The host name or IP address of the Db2 server the connection is to be made to. (The hostname is the name of the Db2 server, as it is known to the TCP/IP network.) *This option is only required when connecting to a Db2 server.*\n",
    "    * `port`&nbsp; &nbsp; &nbsp; &nbsp; &nbsp; &nbsp; &nbsp;: The port number that receives Db2 connections on the server the connection is to be made to. (Port number __50000__ is used by default.) *This option is only required when connecting to a Db2 server.*\n",
    "    * `userName`&nbsp; &nbsp; &nbsp;: The user name/ID that is to be used for authentication when the connection is established.\n",
    "    * `password`&nbsp; &nbsp; &nbsp;: The password that corresponds to the user name/ID specified in the __*userName*__ parameter.<p>\n",
    "               \n",
    "* __*userID*__&nbsp; &nbsp; &nbsp; &nbsp; &nbsp; &nbsp; &nbsp; &nbsp; &nbsp; &nbsp;: The user ID that is to be used for authentication when a connection is established. *If a Db2 database alias is NOT provided in the __connectionInfo__ parameter, this parameter must contain an empty string.*\n",
    "* __*userPassword*__&nbsp; &nbsp; &nbsp; : The password that corresponds to the user ID specified in the __*userPassword*__ parameter. *If a Db2 database alias is NOT provided in the __connectionInfo__ parameter, this parameter must contain an empty string.* \n",
    "* __*options*__&nbsp; &nbsp; &nbsp; &nbsp; &nbsp; &nbsp; &nbsp; &nbsp; &nbsp;: A dictionary containing key-value pairs for the attributes that are to be set before a connection is established. Valid keys for `IBM_DBConnection` objects are:<p>\n",
    "    \n",
    "    * `ibm_db.SQL_ATTR_AUTOCOMMIT`&nbsp; &nbsp; &nbsp; &nbsp; &nbsp; &nbsp; &nbsp; &nbsp; &nbsp; &nbsp; &nbsp;: Specifies whether __AUTOCOMMIT__ mode is to be used or not;  `ibm_db.SQL_AUTOCOMMIT_ON` will turn __AUTOCOMMIT__ behavior __ON__ and `ibm_db.SQL_AUTOCOMMIT_OFF` will turn it __OFF__.\n",
    "    * `ibm_db.SQL_ATTR_CASE`&nbsp; &nbsp; &nbsp; &nbsp; &nbsp; &nbsp; &nbsp; &nbsp; &nbsp; &nbsp; &nbsp; &nbsp; &nbsp; &nbsp; &nbsp; &nbsp; &nbsp;: The case that column names will be returned in; `ibm_db.CASE_NATURAL` will cause column names to be returned in natural case, `ibm_db.CASE_LOWER` will cause them to be returned in lower case, and `ibm_db.CASE_UPPER` will cause them to be returned in upper case. *(This attribute can only be used with Db2 databases on OS/390 or z/OS servers.)*    \n",
    "    * `ibm_db.SQL_ATTR_CURRENT_SCHEMA`&nbsp; &nbsp; &nbsp; &nbsp; &nbsp; &nbsp; &nbsp;: The name of the schema to use, by default, when performing operations that require a schema name and one is not provided.\n",
    "    * `ibm_db.SQL_ATTR_USE_TRUSTED_CONTEXT`&nbsp; &nbsp;: Specifies whether the connection to a Db2 server or database is to be treated as a trusted connection;  `ibm_db.SQL_TRUE` indicates the connection can be trusted and `ibm_db.SQL_FALSE` indicates the connection should not to be treated as a trusted connection.<p>"
   ]
  },
  {
   "cell_type": "markdown",
   "metadata": {
    "deletable": false,
    "editable": false
   },
   "source": [
    "## Return values:"
   ]
  },
  {
   "cell_type": "markdown",
   "metadata": {
    "deletable": false,
    "editable": false
   },
   "source": [
    "* If __successful__, a valid `IBM_DBConnection` object.\n",
    "* If __unsuccessful__, the value `None`."
   ]
  },
  {
   "cell_type": "markdown",
   "metadata": {
    "deletable": false,
    "editable": false
   },
   "source": [
    "## Description:"
   ]
  },
  {
   "cell_type": "markdown",
   "metadata": {
    "deletable": false,
    "editable": false
   },
   "source": [
    "The __ibm_db.pconnect()__ API is used to establish a persistent connection to an IBM Db2 server or database.<p>\n",
    "    \n",
    "Unlike connections that are established using the __ibm_db.connect()__ API, persistent connections created with the __ibm_db.pconnect()__ API are not closed with the __ibm_db.close()__ API. Instead, they are returned to a process-wide connection pool (when the __ibm_db.close()__ API is executed.) Then, the next time the __ibm_db.pconnect()__ API is called, the connection pool is searched for a matching connection and if one is found, it is returned to the application &mdash; new connections are not created unless there is no connection in the pool that meets the application's needs.<p>\n",
    "    \n",
    "As with the __ibm_db.connect()__ API, if a connection to a remote Db2 server or database is desired, the information needed to connect to the server (i.e., the host name, port number, and communications protocol) must be provided before a connection to either resource can be established. If a connection to a local, cataloged Db2 database is needed instead, just the alias for the database, as defined in the system database directory, must be supplied; values for the __*userID*__ and __*userPassword*__ parameters are optional. (If this API is called and just a local database alias is provided &mdash; for example, __conn = ibm_db.connect( 'SAMPLE', ' ', ' ' )__, &mdash; an attempt to establish a connection to the database will be made using the authorization ID and password for the current logged in Db2 instance user.)"
   ]
  },
  {
   "cell_type": "markdown",
   "metadata": {
    "deletable": false,
    "editable": false
   },
   "source": [
    "## Examples:"
   ]
  },
  {
   "cell_type": "markdown",
   "metadata": {
    "deletable": false,
    "editable": false
   },
   "source": [
    "### &nbsp; Example 1: Create a pool of 10 local Db2 database connections"
   ]
  },
  {
   "cell_type": "code",
   "execution_count": 1,
   "metadata": {
    "deletable": false
   },
   "outputs": [
    {
     "name": "stdout",
     "output_type": "stream",
     "text": [
      "\n",
      "Establishing 10 connections to the 'SAMPLE' database ... \n",
      "\n",
      "  Connection  1 ready!\n",
      "  Connection  2 ready!\n",
      "  Connection  3 ready!\n",
      "  Connection  4 ready!\n",
      "  Connection  5 ready!\n",
      "  Connection  6 ready!\n",
      "  Connection  7 ready!\n",
      "  Connection  8 ready!\n",
      "  Connection  9 ready!\n",
      "  Connection 10 ready!\n",
      "\n",
      "Executing the SQL statement \"SELECT * FROM department\" from Connection 5 ... Done!\n",
      "\n",
      "Number of rows returned by the query: 14\n",
      "\n",
      "Closing database Connection 5 ... Done!\n",
      "(Connection 5 has been returned the pool of connections opened earlier.)\n",
      "\n",
      "Closing all remaining connections to the 'SAMPLE' database ... \n",
      "\n",
      "  Connection  1 closed!\n",
      "  Connection  2 closed!\n",
      "  Connection  3 closed!\n",
      "  Connection  4 closed!\n",
      "  Connection  5 closed!\n",
      "  Connection  6 closed!\n",
      "  Connection  7 closed!\n",
      "  Connection  8 closed!\n",
      "  Connection  9 closed!\n",
      "  Connection 10 closed!\n",
      "\n",
      "All database connections have been returned the pool of connections opened earlier.\n",
      "\n"
     ]
    }
   ],
   "source": [
    "#----------------------------------------------------------------------------------------------#\n",
    "#  NAME:     ibm_db-pconnect_DB.py                                                             #\n",
    "#                                                                                              #\n",
    "#  PURPOSE:  This program is designed to illustrate how to use the ibm_db.pconnect() API to    #\n",
    "#            create a pool of connections to a local Db2 database.                             #\n",
    "#                                                                                              #\n",
    "#            Additional APIs used:                                                             #\n",
    "#                 ibm_db.exec_immediate()                                                      #\n",
    "#                 ibm_db.num_rows()                                                            #\n",
    "#                 ibm_db.close()                                                               #\n",
    "#                                                                                              #\n",
    "#----------------------------------------------------------------------------------------------#\n",
    "#                     DISCLAIMER OF WARRANTIES AND LIMITATION OF LIABILITY                     #\n",
    "#                                                                                              #\n",
    "#  (C) COPYRIGHT International Business Machines Corp. 2018, 2019 All Rights Reserved          #\n",
    "#  Licensed Materials - Property of IBM                                                        #\n",
    "#                                                                                              #\n",
    "#  US Government Users Restricted Rights - Use, duplication or disclosure restricted by GSA    #\n",
    "#  ADP Schedule Contract with IBM Corp.                                                        #\n",
    "#                                                                                              #\n",
    "#  The following source code (\"Sample\") is owned by International Business Machines            #\n",
    "#  Corporation (\"IBM\") or one of its subsidiaries and is copyrighted and licensed, not sold.   #\n",
    "#  You may use, copy, modify, and distribute the Sample in any form without payment to IBM,    #\n",
    "#  for the purpose of assisting you in the creation of Python applications using the ibm_db    #\n",
    "#  library.                                                                                    #\n",
    "#                                                                                              #\n",
    "#  The Sample code is provided to you on an \"AS IS\" basis, without warranty of any kind. IBM   #\n",
    "#  HEREBY EXPRESSLY DISCLAIMS ALL WARRANTIES, EITHER EXPRESS OR IMPLIED, INCLUDING, BUT NOT    #\n",
    "#  LIMITED TO, THE IMPLIED WARRANTIES OF MERCHANTABILITY AND FITNESS FOR A PARTICULAR PURPOSE. #\n",
    "#  Some jurisdictions do not allow for the exclusion or limitation of implied warranties, so   #\n",
    "#  the above limitations or exclusions may not apply to you. IBM shall not be liable for any   #\n",
    "#  damages you suffer as a result of using, copying, modifying or distributing the Sample,     #\n",
    "#  even if IBM has been advised of the possibility of such damages.                            #\n",
    "#----------------------------------------------------------------------------------------------#\n",
    "\n",
    "# Load The Appropriate Python Modules\n",
    "import sys         # Provides Information About Python Interpreter Constants And Functions\n",
    "import ibm_db      # Contains The APIs Needed To Work With Db2 Databases\n",
    "\n",
    "#----------------------------------------------------------------------------------------------#\n",
    "# Import The ipynb_exit Class Definition, Attributes, And Methods That Have Been Defined In    #\n",
    "# The File Named \"ipynb_exit.py\"; This Class Contains The Programming Logic Needed To Allow    #\n",
    "# \"exit()\" Functionality To Work Without Raising An Error Or Stopping The Kernel If The        #\n",
    "# Application Is Invoked In A Jupyter Notebook                                                 #\n",
    "#----------------------------------------------------------------------------------------------#\n",
    "from ipynb_exit import exit\n",
    "\n",
    "# Define And Initialize The Appropriate Variables\n",
    "dbName = \"SAMPLE\"        # The Alias For The Cataloged, Local Database\n",
    "userID = \"db2inst1\"      # The Instance User ID At The Local Server\n",
    "passWord = \"db2inst1\"    # The Password For The Instance User ID At The Local Server\n",
    "dbConnection = list(range(10))\n",
    "resultSet = False\n",
    "returnCode = False\n",
    "\n",
    "# Construct The String That Will Be Used To Establish A Db2 Database Connection\n",
    "connString = \"ATTACH=FALSE\"              # Attach To A Database; Not A Server\n",
    "connString += \";DATABASE=\" + dbName      # Required To Connect To A Database     \n",
    "connString += \";PROTOCOL=TCPIP\"\n",
    "connString += \";UID=\" + userID\n",
    "connString += \";PWD=\" + passWord\n",
    "\n",
    "# Display A Status Message Indicating An Attempt To Establish Ten Connections To A Db2 \n",
    "# Database Is About To Be Made\n",
    "print(\"\\nEstablishing 10 connections to the \\'\" + dbName + \"\\' database ... \\n\")\n",
    "\n",
    "# Establish Ten Connections To The Local Db2 Database Specified\n",
    "for loopCounter in range(10):\n",
    "\n",
    "    # Attempt To Establish A Database Connection \n",
    "    try:\n",
    "        dbConnection[loopCounter] = ibm_db.pconnect(connString, '', '')\n",
    "    except Exception:\n",
    "        pass\n",
    "\n",
    "    # If A Connection Could Not Be Established, Display An Error Message And Continue\n",
    "    if dbConnection[loopCounter] is None:\n",
    "        print(\"\\nERROR: Unable to connect to the \\'\" + dbName + \"\\' database.\")\n",
    "        continue\n",
    "\n",
    "    # Otherwise, Display A \"Connection Ready\" Status Message\n",
    "    else:\n",
    "        print(\"  Connection {:>2} ready!\" .format(loopCounter + 1))\n",
    "\n",
    "# Add A Blank Line To The End Of The List Of Connections Created\n",
    "print()\n",
    "\n",
    "# Retrieve Data From The Database Using Connection Number Five\n",
    "if not dbConnection[5] is None:\n",
    "\n",
    "    # Define The SQL Statement That Is To Be Executed \n",
    "    sqlStatement = \"SELECT * FROM department\"\n",
    "\n",
    "    # Set The Statement Option That Is To be Used When the Statement Is Executed\n",
    "    stmtOption = {ibm_db.SQL_ATTR_ROWCOUNT_PREFETCH : ibm_db.SQL_ROWCOUNT_PREFETCH_ON}\n",
    "\n",
    "    # Execute The SQL Statement Just Defined (Using The Desired Option)\n",
    "    print(\"Executing the SQL statement \\\"\" + sqlStatement + \"\\\" from Connection 5 ... \", end=\"\")\n",
    "    currentConnection = dbConnection[5]\n",
    "    try:\n",
    "        resultSet = ibm_db.exec_immediate(currentConnection, sqlStatement, stmtOption)\n",
    "    except Exception:\n",
    "        pass\n",
    "\n",
    "    # If The SQL Statement Could Not Be Executed, Display An Error Message And Continue\n",
    "    if resultSet is False:\n",
    "        print(\"\\nERROR: Unable to execute the SQL statement specified.\\n\")\n",
    "\n",
    "    # Otherwise, Complete The Status Message\n",
    "    else:\n",
    "        print(\"Done!\\n\")\n",
    "\n",
    "    # Try To Find Out How Many Rows Are In Result Set That Was Produced By The Query Just\n",
    "    # Executed (There Should Be 14 Rows)\n",
    "    try:\n",
    "        numRows = ibm_db.num_rows(resultSet)\n",
    "    except Exception:\n",
    "        pass\n",
    " \n",
    "    # Display An Appropriate Message, Based On The Information Returned\n",
    "    if numRows <= 0:\n",
    "        print(\"Unable to obtain information about the number of rows returned.\\n\")\n",
    "    else:\n",
    "        print(\"Number of rows returned by the query: \" + str(numRows) + \"\\n\")\n",
    "\n",
    "    # Attempt To Close The Database Connection (Connection 5)\n",
    "    print(\"Closing database Connection 5 ... \", end=\"\")\n",
    "    try:\n",
    "        returnCode = ibm_db.close(currentConnection)\n",
    "    except Exception:\n",
    "        pass\n",
    "\n",
    "    # If The Connection Was Not Closed, Display An Error Message\n",
    "    if returnCode is False:\n",
    "        print(\"\\nERROR: Unable to disconnect from the \" + dbName + \" database.\")\n",
    "        \n",
    "    # Otherwise, Complete The Status Message\n",
    "    else:\n",
    "        print(\"Done!\")\n",
    "        print(\"(Connection 5 has been returned the pool of connections opened earlier.)\\n\")\n",
    "\n",
    "# Display A Status Message Indicating An Attempt To Close The Remaining Db2 Database \n",
    "# Connections Is About To Be Made\n",
    "print(\"Closing all remaining connections to the \\'\" + dbName + \"\\' database ... \\n\")\n",
    "\n",
    "# Attempt To Close All Of The Db2 Database Connections That Were Opened Earlier\n",
    "for loopCounter in range(10):\n",
    "    \n",
    "    # If The Specified Connection Is Open, Attempt To Close It\n",
    "    if not dbConnection[loopCounter] is None:\n",
    "        try:\n",
    "            returnCode = ibm_db.close(dbConnection[loopCounter])\n",
    "        except Exception:\n",
    "            pass\n",
    "\n",
    "        # If The Connection Could Not Be Closed, Display An Error Message And Continue\n",
    "        if returnCode is False:\n",
    "            print(\"\\nERROR: Unable to disconnect from the \" + dbName + \" database.\")\n",
    "            continue\n",
    "\n",
    "        # Otherwise, Display A \"Connection Closed\" Status Message\n",
    "        else:\n",
    "            print(\"  Connection {:>2} closed!\" .format(loopCounter + 1))\n",
    "\n",
    "# Display A Status Message Indicating All Database Connections Have Been Returned To The\n",
    "# Connection Pool\n",
    "print(\"\\nAll database connections have been returned the pool of connections opened earlier.\\n\")\n",
    "\n",
    "# Return Control To The Operating System\n",
    "exit()"
   ]
  },
  {
   "cell_type": "markdown",
   "metadata": {
    "deletable": false,
    "editable": false
   },
   "source": [
    "### &nbsp; Restart the Jupyter Notebook to clear the Db2 connection pool<b>\n",
    "    (This must be done before the second example can run)"
   ]
  },
  {
   "cell_type": "code",
   "execution_count": null,
   "metadata": {
    "deletable": false
   },
   "outputs": [],
   "source": [
    "import os\n",
    "os._exit(0)"
   ]
  },
  {
   "cell_type": "markdown",
   "metadata": {
    "deletable": false,
    "editable": false
   },
   "source": [
    "### &nbsp; Example 2: Create a pool of 10 remote Db2 server connections"
   ]
  },
  {
   "cell_type": "code",
   "execution_count": 1,
   "metadata": {
    "deletable": false
   },
   "outputs": [
    {
     "name": "stdout",
     "output_type": "stream",
     "text": [
      "\n",
      "Establishing 10 connections to the '172.18.0.2' server ... \n",
      "\n",
      "  Connection  1 ready!\n",
      "  Connection  2 ready!\n",
      "  Connection  3 ready!\n",
      "  Connection  4 ready!\n",
      "  Connection  5 ready!\n",
      "  Connection  6 ready!\n",
      "  Connection  7 ready!\n",
      "  Connection  8 ready!\n",
      "  Connection  9 ready!\n",
      "  Connection 10 ready!\n",
      "\n",
      "Creating a database named MY_DB using Connection 5.  Please wait.\n",
      "\n",
      "The database \"MY_DB\" has been created!\n",
      "\n",
      "Closing Db2 server Connection 5 ... Done!\n",
      "(Connection 5 has been returned the pool of connections opened earlier.)\n",
      "\n",
      "Closing all remaining connections to the '172.18.0.2' server ... \n",
      "\n",
      "  Connection  1 closed!\n",
      "  Connection  2 closed!\n",
      "  Connection  3 closed!\n",
      "  Connection  4 closed!\n",
      "  Connection  5 closed!\n",
      "  Connection  6 closed!\n",
      "  Connection  7 closed!\n",
      "  Connection  8 closed!\n",
      "  Connection  9 closed!\n",
      "  Connection 10 closed!\n",
      "\n",
      "All Db2 server connections have been returned the pool of connections opened earlier.\n",
      "\n"
     ]
    }
   ],
   "source": [
    "#----------------------------------------------------------------------------------------------#\n",
    "#  NAME:     ibm_db-pconnect_SERVER.py                                                         #\n",
    "#                                                                                              #\n",
    "#  PURPOSE:  This program is designed to illustrate how to use the ibm_db.pconnect() API to    #\n",
    "#            create a pool of connections to a remote Db2 server.                              #\n",
    "#                                                                                              #\n",
    "#            Additional APIs used:                                                             #\n",
    "#                 ibm_db.createdbNX()                                                          #\n",
    "#                 ibm_db.close()                                                               #\n",
    "#                                                                                              #\n",
    "#----------------------------------------------------------------------------------------------#\n",
    "#                     DISCLAIMER OF WARRANTIES AND LIMITATION OF LIABILITY                     #\n",
    "#                                                                                              #\n",
    "#  (C) COPYRIGHT International Business Machines Corp. 2018, 2019 All Rights Reserved          #\n",
    "#  Licensed Materials - Property of IBM                                                        #\n",
    "#                                                                                              #\n",
    "#  US Government Users Restricted Rights - Use, duplication or disclosure restricted by GSA    #\n",
    "#  ADP Schedule Contract with IBM Corp.                                                        #\n",
    "#                                                                                              #\n",
    "#  The following source code (\"Sample\") is owned by International Business Machines            #\n",
    "#  Corporation (\"IBM\") or one of its subsidiaries and is copyrighted and licensed, not sold.   #\n",
    "#  You may use, copy, modify, and distribute the Sample in any form without payment to IBM,    #\n",
    "#  for the purpose of assisting you in the creation of Python applications using the ibm_db    #\n",
    "#  library.                                                                                    #\n",
    "#                                                                                              #\n",
    "#  The Sample code is provided to you on an \"AS IS\" basis, without warranty of any kind. IBM   #\n",
    "#  HEREBY EXPRESSLY DISCLAIMS ALL WARRANTIES, EITHER EXPRESS OR IMPLIED, INCLUDING, BUT NOT    #\n",
    "#  LIMITED TO, THE IMPLIED WARRANTIES OF MERCHANTABILITY AND FITNESS FOR A PARTICULAR PURPOSE. #\n",
    "#  Some jurisdictions do not allow for the exclusion or limitation of implied warranties, so   #\n",
    "#  the above limitations or exclusions may not apply to you. IBM shall not be liable for any   #\n",
    "#  damages you suffer as a result of using, copying, modifying or distributing the Sample,     #\n",
    "#  even if IBM has been advised of the possibility of such damages.                            #\n",
    "#----------------------------------------------------------------------------------------------#\n",
    "\n",
    "# Load The Appropriate Python Modules\n",
    "import sys         # Provides Information About Python Interpreter Constants And Functions\n",
    "import ibm_db      # Contains The APIs Needed To Work With Db2 Databases\n",
    "\n",
    "#----------------------------------------------------------------------------------------------#\n",
    "# Import The ipynb_exit Class Definition, Attributes, And Methods That Have Been Defined In    #\n",
    "# The File Named \"ipynb_exit.py\"; This Class Contains The Programming Logic Needed To Allow    #\n",
    "# \"exit()\" Functionality To Work Without Raising An Error Or Stopping The Kernel If The        #\n",
    "# Application Is Invoked In A Jupyter Notebook                                                 #\n",
    "#----------------------------------------------------------------------------------------------#\n",
    "from ipynb_exit import exit\n",
    "\n",
    "# Define And Initialize The Appropriate Variables\n",
    "hostName = \"172.18.0.2\"    # IP Address Of Remote Server\n",
    "portNum = \"50000\"             # Port Number That Receives Db2 Connections On The Remote Server \n",
    "userID = \"db2inst1\"           # The Instance User ID At The Remote Server\n",
    "passWord = \"db2inst1\"           # The Password For The Instance User ID At The Remote Server\n",
    "svrConnection = list(range(10))\n",
    "dbName = \"MY_DB\"\n",
    "returnCode = None\n",
    "\n",
    "# Construct The String That Will Be Used To Establish A Db2 Server Connection\n",
    "connString = \"DRIVER={IBM DB2 ODBC DRIVER}\"\n",
    "connString += \";ATTACH=TRUE\"             # Attach To A Server; Not A Database\n",
    "connString += \";DATABASE=\"               # Ignored When Connecting To A Server\n",
    "connString += \";HOSTNAME=\" + hostName    # Required To Connect To A Server\n",
    "connString += \";PORT=\" + portNum         # Required To Connect To A Server\n",
    "connString += \";PROTOCOL=TCPIP\"          # Required To Connect To A Server\n",
    "connString += \";UID=\" + userID\n",
    "connString += \";PWD=\" + passWord\n",
    "\n",
    "# Display A Status Message Indicating An Attempt To Establish Ten Connections To A Remote \n",
    "# Db2 Server Is About To Be Made\n",
    "print(\"\\nEstablishing 10 connections to the \\'\" + hostName + \"\\' server ... \\n\")\n",
    "\n",
    "# Establish Ten Connections To The Db2 Server Specified\n",
    "for loopCounter in range(10):\n",
    "\n",
    "    # Attempt To Establish A Db2 Server Connection \n",
    "    try:\n",
    "        svrConnection[loopCounter] = ibm_db.pconnect(connString, '', '')\n",
    "    except Exception:\n",
    "        pass\n",
    "\n",
    "    # If A Connection Could Not Be Established, Display An Error Message And Continue\n",
    "    if svrConnection[loopCounter] is None:\n",
    "        print(\"\\nERROR: Unable to connect to the \\'\" + hostName + \"\\' server.\")\n",
    "        continue\n",
    "\n",
    "    # Otherwise, Display A \"Connection Ready\" Status Message\n",
    "    else:\n",
    "        print(\"  Connection {:>2} ready!\" .format(loopCounter + 1))\n",
    "\n",
    "# Add A Blank Line To The End Of The List Of Connections Created\n",
    "print()\n",
    "\n",
    "# Attempt To Create A New Database At The Remote Server Using Connection Number Five\n",
    "if not svrConnection[5] is None:\n",
    "    print(\"Creating a database named \" + dbName + \" using Connection 5.  Please wait.\")\n",
    "    try:\n",
    "        returnCode = ibm_db.createdbNX(svrConnection[5], dbName)\n",
    "    except Exception:\n",
    "        pass\n",
    "\n",
    "    # If The Database Could Not Be Created, Display An Error Message And Exit \n",
    "    if returnCode is None:\n",
    "        print(\"ERROR: Unable to create the \" + dbName + \" database.\\n\")\n",
    "        errorMsg = ibm_db.conn_errormsg(svrConnection[5])\n",
    "        print(errorMsg + \"\\n\")\n",
    "\n",
    "    # Otherwise, Display A Status Message Indicating The Database Was Created \n",
    "    else:\n",
    "        print(\"\\nThe database \\\"\" + dbName + \"\\\" has been created!\\n\")\n",
    "\n",
    "    # Attempt To Close The Db2 Server Connection (Connection 5)\n",
    "    print(\"Closing Db2 server Connection 5 ... \", end=\"\")\n",
    "    try:\n",
    "        returnCode = ibm_db.close(svrConnection[5])\n",
    "    except Exception:\n",
    "        pass\n",
    "\n",
    "    # If The Connection Was Not Closed, Display An Error Message\n",
    "    if returnCode is False:\n",
    "        print(\"\\nERROR: Unable to disconnect from the \" + hostName + \" server.\")\n",
    "        \n",
    "    # Otherwise, Complete The Status Message\n",
    "    else:\n",
    "        print(\"Done!\")\n",
    "        print(\"(Connection 5 has been returned the pool of connections opened earlier.)\\n\")\n",
    "\n",
    "# Display A Status Message Indicating An Attempt To Close The Remaining Db2 Server\n",
    "# Connections Is About To Be Made\n",
    "print(\"Closing all remaining connections to the \\'\" + hostName + \"\\' server ... \\n\")\n",
    "\n",
    "# Attempt To Close All Of The Remaining Db2 Server Connections That Were Opened Earlier\n",
    "for loopCounter in range(10):\n",
    "    \n",
    "    # If The Specified Connection Is Open, Attempt To Close It\n",
    "    if not svrConnection[loopCounter] is None:\n",
    "        try:\n",
    "            returnCode = ibm_db.close(svrConnection[loopCounter])\n",
    "        except Exception:\n",
    "            pass\n",
    "\n",
    "        # If The Connection Could Not Be Closed, Display An Error Message And Continue\n",
    "        if returnCode is False:\n",
    "            print(\"\\nERROR: Unable to disconnect from the \" + hostName + \" server.\")\n",
    "            continue\n",
    "\n",
    "        # Otherwise, Display A \"Connection Closed\" Status Message\n",
    "        else:\n",
    "            print(\"  Connection {:>2} closed!\" .format(loopCounter + 1))\n",
    "\n",
    "# Display A Status Message Indicating All Db2 Server Connections Have Been Returned To The\n",
    "# Connection Pool\n",
    "print(\"\\nAll Db2 server connections have been returned the pool of connections opened earlier.\\n\")\n",
    "\n",
    "# Return Control To The Operating System\n",
    "exit()"
   ]
  },
  {
   "cell_type": "code",
   "execution_count": null,
   "metadata": {},
   "outputs": [],
   "source": []
  }
 ],
 "metadata": {
  "kernelspec": {
   "display_name": "Python 3",
   "language": "python",
   "name": "python3"
  },
  "language_info": {
   "codemirror_mode": {
    "name": "ipython",
    "version": 3
   },
   "file_extension": ".py",
   "mimetype": "text/x-python",
   "name": "python",
   "nbconvert_exporter": "python",
   "pygments_lexer": "ipython3",
   "version": "3.7.1"
  }
 },
 "nbformat": 4,
 "nbformat_minor": 2
}
