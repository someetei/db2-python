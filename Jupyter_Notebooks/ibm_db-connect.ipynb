{
 "cells": [
  {
   "cell_type": "markdown",
   "metadata": {
    "deletable": false,
    "editable": false
   },
   "source": [
    "# ibm_db.connect()"
   ]
  },
  {
   "cell_type": "markdown",
   "metadata": {
    "deletable": false,
    "editable": false
   },
   "source": [
    "## Purpose:"
   ]
  },
  {
   "cell_type": "markdown",
   "metadata": {
    "deletable": false,
    "editable": false
   },
   "source": [
    "Establish a new connection to an IBM Db2 server or database."
   ]
  },
  {
   "cell_type": "markdown",
   "metadata": {
    "deletable": false,
    "editable": false
   },
   "source": [
    "## Syntax:"
   ]
  },
  {
   "cell_type": "markdown",
   "metadata": {
    "deletable": false,
    "editable": false
   },
   "source": [
    "`IBM_DBConnection ibm_db.connect( string `*`connectionInfo,`*` string `*`userID,`*` string `*`userPassword`*` [, dictionary `*`options`*` [, constant `*`replaceQuotedLiterals`*` ] ] )`"
   ]
  },
  {
   "cell_type": "markdown",
   "metadata": {
    "deletable": false,
    "editable": false
   },
   "source": [
    "## Parameters:"
   ]
  },
  {
   "cell_type": "markdown",
   "metadata": {
    "deletable": false,
    "editable": false
   },
   "source": [
    "* __*connectionInfo*__&nbsp; &nbsp; &nbsp; &nbsp; &nbsp; &nbsp; &nbsp; &nbsp; : A valid Db2 database alias (if the database has been cataloged in the system database directory) *<u>or</u>* a connection string with the format `DRIVER={IBM DB2 ODBC DRIVER};ATTACH=connType;DATABASE=dbName;HOSTNAME=hostName;PORT=port;PROTOCOL=TCPIP;UID=userName;PWD=password` where:<p>\n",
    "    \n",
    "    * `connType`&nbsp; &nbsp; &nbsp;: Specifies whether the connection is to be made to a Db2 server or database; `TRUE` indicates the connection is to be made to a Db2 server and `FALSE` indicates the connection is to be made to a database.\n",
    "    * `dbName`&nbsp; &nbsp; &nbsp; &nbsp; &nbsp;: The name of the Db2 server or database the connection is to be made to. *This option is only required when connecting to a Db2 database.*\n",
    "    * `hostName`&nbsp; &nbsp; &nbsp;: The host name or IP address of the Db2 server the connection is to be made to. (The hostname is the name of the Db2 server, as it is known to the TCP/IP network.) *This option is only required when connecting to a Db2 server.*\n",
    "    * `port`&nbsp; &nbsp; &nbsp; &nbsp; &nbsp; &nbsp; &nbsp;: The port number that receives Db2 connections on the server the connection is to be made to. (Port number __50000__ is used by default.) *This option is only required when connecting to a Db2 server.*\n",
    "    * `userName`&nbsp; &nbsp; &nbsp;: The user name/ID that is to be used for authentication when the connection is established.\n",
    "    * `password`&nbsp; &nbsp; &nbsp;: The password that corresponds to the user name/ID specified in the __*userName*__ parameter.<p>\n",
    "               \n",
    "* __*userID*__&nbsp; &nbsp; &nbsp; &nbsp; &nbsp; &nbsp; &nbsp; &nbsp; &nbsp; &nbsp; &nbsp; &nbsp; &nbsp; &nbsp; &nbsp; &nbsp;: The user ID that is to be used for authentication when a connection is established. *If a Db2 database alias is NOT provided in the __connectionInfo__ parameter, this parameter must contain an empty string.*\n",
    "* __*userPassword*__&nbsp; &nbsp; &nbsp; &nbsp; &nbsp; &nbsp; &nbsp; &nbsp; &nbsp; : The password that corresponds to the user ID specified in the __*userPassword*__ parameter. *If a Db2 database alias is NOT provided in the __connectionInfo__ parameter, this parameter must contain an empty string.* \n",
    "* __*options*__&nbsp; &nbsp; &nbsp; &nbsp; &nbsp; &nbsp; &nbsp; &nbsp; &nbsp; &nbsp; &nbsp; &nbsp; &nbsp; &nbsp; &nbsp;: A dictionary containing key-value pairs for the attributes that are to be set before a connection is established. Valid keys for `IBM_DBConnection` objects are:<p>\n",
    "    \n",
    "    * `ibm_db.SQL_ATTR_AUTOCOMMIT`&nbsp; &nbsp; &nbsp; &nbsp; &nbsp; &nbsp; &nbsp; &nbsp; &nbsp; &nbsp; &nbsp;: Specifies whether __AUTOCOMMIT__ mode is to be used or not;  `ibm_db.SQL_AUTOCOMMIT_ON` will turn __AUTOCOMMIT__ behavior __ON__ and `ibm_db.SQL_AUTOCOMMIT_OFF` will turn it __OFF__.\n",
    "    * `ibm_db.SQL_ATTR_CASE`&nbsp; &nbsp; &nbsp; &nbsp; &nbsp; &nbsp; &nbsp; &nbsp; &nbsp; &nbsp; &nbsp; &nbsp; &nbsp; &nbsp; &nbsp; &nbsp; &nbsp;: The case that column names will be returned in; `ibm_db.CASE_NATURAL` will cause column names to be returned in natural case, `ibm_db.CASE_LOWER` will cause them to be returned in lower case, and `ibm_db.CASE_UPPER` will cause them to be returned in upper case. *(This attribute can only be used with Db2 databases on OS/390 or z/OS servers.)*\n",
    "    * `ibm_db.SQL_ATTR_CURRENT_SCHEMA`&nbsp; &nbsp; &nbsp; &nbsp; &nbsp; &nbsp; &nbsp;: The name of the schema to use, by default, when performing operations that require a schema name and one is not provided.\n",
    "    * `ibm_db.SQL_ATTR_USE_TRUSTED_CONTEXT`&nbsp; &nbsp;: Specifies whether the connection to a Db2 server or database is to be treated as a trusted connection;  `ibm_db.SQL_TRUE` indicates the connection can be trusted and `ibm_db.SQL_FALSE` indicates the connection should not to be treated as a trusted connection.<p>\n",
    "    \n",
    "* __*replaceQuotedLiterals*__&nbsp; &nbsp; : Identifies whether quotes are allowed around literal values. Valid values for this parameter are:<p>\n",
    "    \n",
    "    * `ibm_db.QUOTED_LITERAL_REPLACEMENT_ON`&nbsp; &nbsp; &nbsp;: Quotes cannot be used with literal values. For example, if the SQL statement __SELECT deptname FROM org WHERE deptnumb = '50000'__ is executed and the __deptnumb__ column has a numeric data type, an error will occur. (This is the default behavior.)\n",
    "    * `ibm_db.QUOTED_LITERAL_REPLACEMENT_OFF`&nbsp; &nbsp;: Quotes can be used with literal values. For example, if the SQL statement __SELECT deptname FROM org WHERE deptnumb = '50000'__ is executed and the __deptnumb__ column has a numeric data type, the data requested will be returned."
   ]
  },
  {
   "cell_type": "markdown",
   "metadata": {
    "deletable": false,
    "editable": false
   },
   "source": [
    "## Return values:"
   ]
  },
  {
   "cell_type": "markdown",
   "metadata": {
    "deletable": false,
    "editable": false
   },
   "source": [
    "* If __successful__, a valid `IBM_DBConnection` object.\n",
    "* If __unsuccessful__, the value `None`."
   ]
  },
  {
   "cell_type": "markdown",
   "metadata": {
    "deletable": false,
    "editable": false
   },
   "source": [
    "## Description:"
   ]
  },
  {
   "cell_type": "markdown",
   "metadata": {
    "deletable": false,
    "editable": false
   },
   "source": [
    "The __ibm_db.connect()__ API is used to establish a new connection to an IBM Db2 server or database.<p>\n",
    "    \n",
    "If a connection to a remote Db2 server or database is desired, the information needed to connect to the server (i.e., the host name, port number, and communications protocol) must be provided before a connection to either resource can be established. If a connection to a local, cataloged Db2 database is needed instead, just the alias for the database, as defined in the system database directory, must be supplied; values for the __*userID*__ and __*userPassword*__ parameters are optional. (If this API is called and just a local database alias is provided &mdash; for example, __conn = ibm_db.connect( 'SAMPLE', ' ', ' ' )__, &mdash; an attempt to establish a connection to the database will be made using the authorization ID and password for the current logged in Db2 instance user.)"
   ]
  },
  {
   "cell_type": "markdown",
   "metadata": {
    "deletable": false,
    "editable": false
   },
   "source": [
    "## Examples:"
   ]
  },
  {
   "cell_type": "markdown",
   "metadata": {
    "deletable": false,
    "editable": false
   },
   "source": [
    "### &nbsp; Example 1: Connect to a local, cataloged Db2 database"
   ]
  },
  {
   "cell_type": "code",
   "execution_count": 1,
   "metadata": {
    "deletable": false
   },
   "outputs": [
    {
     "name": "stdout",
     "output_type": "stream",
     "text": [
      "\n",
      "Connecting to the 'SAMPLE' database ... Done!\n",
      "\n",
      "Executing the SQL statement \"SELECT deptname FROM org WHERE deptnumb = '50000'\" ... Done!\n",
      "\n",
      "Disconnecting from the 'SAMPLE' database ... Done!\n",
      "\n"
     ]
    }
   ],
   "source": [
    "#----------------------------------------------------------------------------------------------#\n",
    "#  NAME:     ibm_db-connect_DB.py                                                              #\n",
    "#                                                                                              #\n",
    "#  PURPOSE:  This program is designed to illustrate how to use the ibm_db.connect() API to     #\n",
    "#            establish a connection to a local Db2 database.                                   #\n",
    "#                                                                                              #\n",
    "#            Additional APIs used:                                                             #\n",
    "#                 ibm_db.exec_immediate()                                                      #\n",
    "#                 ibm_db.close()                                                               #\n",
    "#                                                                                              #\n",
    "#----------------------------------------------------------------------------------------------#\n",
    "#                     DISCLAIMER OF WARRANTIES AND LIMITATION OF LIABILITY                     #\n",
    "#                                                                                              #\n",
    "#  (C) COPYRIGHT International Business Machines Corp. 2018, 2019 All Rights Reserved          #\n",
    "#  Licensed Materials - Property of IBM                                                        #\n",
    "#                                                                                              #\n",
    "#  US Government Users Restricted Rights - Use, duplication or disclosure restricted by GSA    #\n",
    "#  ADP Schedule Contract with IBM Corp.                                                        #\n",
    "#                                                                                              #\n",
    "#  The following source code (\"Sample\") is owned by International Business Machines            #\n",
    "#  Corporation (\"IBM\") or one of its subsidiaries and is copyrighted and licensed, not sold.   #\n",
    "#  You may use, copy, modify, and distribute the Sample in any form without payment to IBM,    #\n",
    "#  for the purpose of assisting you in the creation of Python applications using the ibm_db    #\n",
    "#  library.                                                                                    #\n",
    "#                                                                                              #\n",
    "#  The Sample code is provided to you on an \"AS IS\" basis, without warranty of any kind. IBM   #\n",
    "#  HEREBY EXPRESSLY DISCLAIMS ALL WARRANTIES, EITHER EXPRESS OR IMPLIED, INCLUDING, BUT NOT    #\n",
    "#  LIMITED TO, THE IMPLIED WARRANTIES OF MERCHANTABILITY AND FITNESS FOR A PARTICULAR PURPOSE. #\n",
    "#  Some jurisdictions do not allow for the exclusion or limitation of implied warranties, so   #\n",
    "#  the above limitations or exclusions may not apply to you. IBM shall not be liable for any   #\n",
    "#  damages you suffer as a result of using, copying, modifying or distributing the Sample,     #\n",
    "#  even if IBM has been advised of the possibility of such damages.                            #\n",
    "#----------------------------------------------------------------------------------------------#\n",
    "\n",
    "# Load The Appropriate Python Modules\n",
    "import sys         # Provides Information About Python Interpreter Constants And Functions\n",
    "import ibm_db      # Contains The APIs Needed To Work With Db2 Databases\n",
    "\n",
    "#----------------------------------------------------------------------------------------------#\n",
    "# Import The ipynb_exit Class Definition, Attributes, And Methods That Have Been Defined In    #\n",
    "# The File Named \"ipynb_exit.py\"; This Class Contains The Programming Logic Needed To Allow    #\n",
    "# \"exit()\" Functionality To Work Without Raising An Error Or Stopping The Kernel If The        #\n",
    "# Application Is Invoked In A Jupyter Notebook                                                 #\n",
    "#----------------------------------------------------------------------------------------------#\n",
    "from ipynb_exit import exit\n",
    "\n",
    "# Define And Initialize The Appropriate Variables\n",
    "dbName = \"SAMPLE\"        # The Alias For The Cataloged, Local Database\n",
    "userID = \"db2inst1\"      # The Instance User ID At The Local Server\n",
    "passWord = \"db2inst1\"    # The Password For The Instance User ID At The Local Server\n",
    "connOption = {ibm_db.SQL_ATTR_AUTOCOMMIT: ibm_db.SQL_AUTOCOMMIT_ON}\n",
    "connectionID = None\n",
    "resultSet = False\n",
    "\n",
    "# Display A Status Message Indicating An Attempt To Establish A Connection To A Db2 Database\n",
    "# Is About To Be Made\n",
    "print(\"\\nConnecting to the \\'\" + dbName + \"\\' database ... \", end=\"\")\n",
    "\n",
    "# Construct The String That Will Be Used To Establish A Db2 Database Connection\n",
    "connString = \"ATTACH=FALSE\"              # Attach To A Database; Not A Server\n",
    "connString += \";DATABASE=\" + dbName      # Required To Connect To A Database     \n",
    "connString += \";PROTOCOL=TCPIP\"\n",
    "connString += \";UID=\" + userID\n",
    "connString += \";PWD=\" + passWord\n",
    "\n",
    "# Attempt To Establish A Connection To The Database Specified\n",
    "try:\n",
    "    connectionID = ibm_db.connect(connString, '', '', connOption, \n",
    "        ibm_db.QUOTED_LITERAL_REPLACEMENT_OFF)\n",
    "except Exception:\n",
    "    pass\n",
    "\n",
    "# If A Db2 Database Connection Could Not Be Established, Display An Error Message And Exit\n",
    "if connectionID is None:\n",
    "    print(\"\\nERROR: Unable to connect to the \\'\" + dbName + \"\\' database.\")\n",
    "    print(\"Connection string used: \" + connString + \"\\n\")\n",
    "    exit(-1)\n",
    "\n",
    "# Otherwise, Complete The Status Message\n",
    "else:\n",
    "    print(\"Done!\\n\")\n",
    "    \n",
    "# Define The SQL Statement That Is To Be Executed\n",
    "sqlStatement = \"SELECT deptname FROM org WHERE deptnumb = '50000'\"\n",
    "\n",
    "# Execute The SQL Statement Just Defined\n",
    "print(\"Executing the SQL statement \\\"\" + sqlStatement + \"\\\" ... \", end=\"\")\n",
    "try:\n",
    "    resultSet = ibm_db.exec_immediate(connectionID, sqlStatement)\n",
    "except Exception:\n",
    "    pass\n",
    "\n",
    "# If The SQL Statement Could Not Be Executed, Display An Error Message And Exit \n",
    "if resultSet is False:\n",
    "    print(\"\\nERROR: Unable to execute the SQL statement specified.\\n\")\n",
    "    if not connectionID is None:\n",
    "        ibm_db.close(connectionID)\n",
    "    exit(-1)\n",
    "\n",
    "# Otherwise, Complete The Status Message\n",
    "else:\n",
    "    print(\"Done!\\n\") \n",
    "    \n",
    "# Attempt To Close The Db2 Database Connection That Was Opened Earlier\n",
    "if not connectionID is None:\n",
    "    print(\"Disconnecting from the \\'\" + dbName + \"\\' database ... \", end=\"\")\n",
    "    try:\n",
    "        returnCode = ibm_db.close(connectionID)\n",
    "    except Exception:\n",
    "        pass\n",
    "\n",
    "    # If The Db2 Database Connection Was Not Closed, Display An Error Message And Exit\n",
    "    if returnCode is False:\n",
    "        print(\"\\nERROR: Unable to disconnect from the \" + dbName + \" database.\")\n",
    "        exit(-1)\n",
    "\n",
    "    # Otherwise, Complete The Status Message\n",
    "    else:\n",
    "        print(\"Done!\\n\")\n",
    "\n",
    "# Return Control To The Operating System\n",
    "exit()"
   ]
  },
  {
   "cell_type": "markdown",
   "metadata": {
    "deletable": false,
    "editable": false
   },
   "source": [
    "### &nbsp; Example 2: Connect to a remote Db2 server"
   ]
  },
  {
   "cell_type": "code",
   "execution_count": 2,
   "metadata": {
    "deletable": false
   },
   "outputs": [
    {
     "name": "stdout",
     "output_type": "stream",
     "text": [
      "\n",
      "Connecting to the '172.18.0.2' server ... Done!\n",
      "\n",
      "Disconnecting from the '172.18.0.2' server ... Done!\n",
      "\n"
     ]
    }
   ],
   "source": [
    "#----------------------------------------------------------------------------------------------#\n",
    "#  NAME:     ibm_db-connect_SERVER.py                                                          #\n",
    "#                                                                                              #\n",
    "#  PURPOSE:  This program is designed to illustrate how to use the ibm_db.connect() API to     #\n",
    "#            establish a connection to a remote Db2 server.                                    #\n",
    "#                                                                                              #\n",
    "#            Additional APIs used:                                                             #\n",
    "#                 ibm_db.close()                                                               #\n",
    "#                                                                                              #\n",
    "#----------------------------------------------------------------------------------------------#\n",
    "#                     DISCLAIMER OF WARRANTIES AND LIMITATION OF LIABILITY                     #\n",
    "#                                                                                              #\n",
    "#  (C) COPYRIGHT International Business Machines Corp. 2018, 2019 All Rights Reserved          #\n",
    "#  Licensed Materials - Property of IBM                                                        #\n",
    "#                                                                                              #\n",
    "#  US Government Users Restricted Rights - Use, duplication or disclosure restricted by GSA    #\n",
    "#  ADP Schedule Contract with IBM Corp.                                                        #\n",
    "#                                                                                              #\n",
    "#  The following source code (\"Sample\") is owned by International Business Machines            #\n",
    "#  Corporation (\"IBM\") or one of its subsidiaries and is copyrighted and licensed, not sold.   #\n",
    "#  You may use, copy, modify, and distribute the Sample in any form without payment to IBM,    #\n",
    "#  for the purpose of assisting you in the creation of Python applications using the ibm_db    #\n",
    "#  library.                                                                                    #\n",
    "#                                                                                              #\n",
    "#  The Sample code is provided to you on an \"AS IS\" basis, without warranty of any kind. IBM   #\n",
    "#  HEREBY EXPRESSLY DISCLAIMS ALL WARRANTIES, EITHER EXPRESS OR IMPLIED, INCLUDING, BUT NOT    #\n",
    "#  LIMITED TO, THE IMPLIED WARRANTIES OF MERCHANTABILITY AND FITNESS FOR A PARTICULAR PURPOSE. #\n",
    "#  Some jurisdictions do not allow for the exclusion or limitation of implied warranties, so   #\n",
    "#  the above limitations or exclusions may not apply to you. IBM shall not be liable for any   #\n",
    "#  damages you suffer as a result of using, copying, modifying or distributing the Sample,     #\n",
    "#  even if IBM has been advised of the possibility of such damages.                            #\n",
    "#----------------------------------------------------------------------------------------------#\n",
    "\n",
    "# Load The Appropriate Python Modules\n",
    "import sys         # Provides Information About Python Interpreter Constants And Functions\n",
    "import ibm_db      # Contains The APIs Needed To Work With Db2 Databases\n",
    "\n",
    "#----------------------------------------------------------------------------------------------#\n",
    "# Import The ipynb_exit Class Definition, Attributes, And Methods That Have Been Defined In    #\n",
    "# The File Named \"ipynb_exit.py\"; This Class Contains The Programming Logic Needed To Allow    #\n",
    "# \"exit()\" Functionality To Work Without Raising An Error Or Stopping The Kernel If The        #\n",
    "# Application Is Invoked In A Jupyter Notebook                                                 #\n",
    "#----------------------------------------------------------------------------------------------#\n",
    "from ipynb_exit import exit\n",
    "\n",
    "# Define And Initialize The Appropriate Variables\n",
    "hostName = \"172.18.0.2\"    # IP Address Of Remote Server\n",
    "portNum = \"50000\"             # Port Number That Receives Db2 Connections On The Remote Server \n",
    "userID = \"db2inst1\"           # The Instance User ID At The Remote Server\n",
    "passWord = \"db2inst1\"           # The Password For The Instance User ID At The Remote Server\n",
    "connectionID = None\n",
    "\n",
    "# Display A Status Message Indicating An Attempt To Establish A Connection To A Db2 Server\n",
    "# Is About To Be Made\n",
    "print(\"\\nConnecting to the \\'\" + hostName + \"\\' server ... \", end=\"\")\n",
    "            \n",
    "# Construct The String That Will Be Used To Establish A Db2 Server Connection\n",
    "connString = \"DRIVER={IBM DB2 ODBC DRIVER}\"\n",
    "connString += \";ATTACH=TRUE\"             # Attach To A Server; Not A Database\n",
    "connString += \";DATABASE=\"               # Ignored When Connecting To A Server\n",
    "connString += \";HOSTNAME=\" + hostName    # Required To Connect To A Server\n",
    "connString += \";PORT=\" + portNum         # Required To Connect To A Server\n",
    "connString += \";PROTOCOL=TCPIP\"          # Required To Connect To A Server\n",
    "connString += \";UID=\" + userID\n",
    "connString += \";PWD=\" + passWord\n",
    "\n",
    "# Attempt To Establish A Connection To The Server Specified\n",
    "try:\n",
    "    connectionID = ibm_db.connect(connString, '', '')\n",
    "except Exception:\n",
    "    pass\n",
    "\n",
    "# If A Db2 Server Connection Could Not Be Established, Display An Error Message And Exit\n",
    "if connectionID is None:\n",
    "    print(\"\\nERROR: Unable to connect to the \\'\" + hostName + \"\\' server.\")\n",
    "    print(\"Connection string used: \" + connString + \"\\n\")\n",
    "    exit(-1)\n",
    "\n",
    "# Otherwise, Complete The Status Message\n",
    "else:\n",
    "    print(\"Done!\\n\")\n",
    "\n",
    "\n",
    "# Add Additional Db2 Server-Related Processing Here ...\n",
    "# For Example, ibm_db.createdb(), ibm_db.createdbNX(), ibm_db.recreatedb(), ibm_db.dropdb()\n",
    "\n",
    "\n",
    "# Attempt To Close The Db2 Server Connection That Was Just Opened\n",
    "if not connectionID is None:\n",
    "    print(\"Disconnecting from the \\'\" + hostName + \"\\' server ... \", end=\"\")\n",
    "    try:\n",
    "        returnCode = ibm_db.close(connectionID)\n",
    "    except Exception:\n",
    "        pass\n",
    "\n",
    "    # If The Db2 Server Connection Was Not Closed, Display An Error Message And Exit\n",
    "    if returnCode is False:\n",
    "        print(\"\\nERROR: Unable to disconnect from the \" + hostName + \" server.\")\n",
    "        exit(-1)\n",
    "\n",
    "    # Otherwise, Complete The Status Message\n",
    "    else:\n",
    "        print(\"Done!\\n\")\n",
    "\n",
    "# Return Control To The Operating System\n",
    "exit()"
   ]
  },
  {
   "cell_type": "code",
   "execution_count": null,
   "metadata": {},
   "outputs": [],
   "source": []
  }
 ],
 "metadata": {
  "kernelspec": {
   "display_name": "Python 3",
   "language": "python",
   "name": "python3"
  },
  "language_info": {
   "codemirror_mode": {
    "name": "ipython",
    "version": 3
   },
   "file_extension": ".py",
   "mimetype": "text/x-python",
   "name": "python",
   "nbconvert_exporter": "python",
   "pygments_lexer": "ipython3",
   "version": "3.12.3"
  }
 },
 "nbformat": 4,
 "nbformat_minor": 2
}
