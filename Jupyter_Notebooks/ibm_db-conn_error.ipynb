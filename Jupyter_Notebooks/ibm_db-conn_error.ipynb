{
 "cells": [
  {
   "cell_type": "markdown",
   "metadata": {
    "deletable": false,
    "editable": false
   },
   "source": [
    "# ibm_db.conn_error()"
   ]
  },
  {
   "cell_type": "markdown",
   "metadata": {
    "deletable": false,
    "editable": false
   },
   "source": [
    "## Purpose:"
   ]
  },
  {
   "cell_type": "markdown",
   "metadata": {
    "deletable": false,
    "editable": false
   },
   "source": [
    "Return an SQLSTATE value associated with an `IBM_DBConnection` object."
   ]
  },
  {
   "cell_type": "markdown",
   "metadata": {
    "deletable": false,
    "editable": false
   },
   "source": [
    "## Syntax:"
   ]
  },
  {
   "cell_type": "markdown",
   "metadata": {
    "deletable": false,
    "editable": false
   },
   "source": [
    "`string ibm_db.conn_error( [ IBM_DBConnection `*`connection`*`] )`"
   ]
  },
  {
   "cell_type": "markdown",
   "metadata": {
    "deletable": false,
    "editable": false
   },
   "source": [
    "## Parameters:"
   ]
  },
  {
   "cell_type": "markdown",
   "metadata": {
    "deletable": false,
    "editable": false
   },
   "source": [
    "* __*connection*__&nbsp; &nbsp; : A valid Db2 server or database connection."
   ]
  },
  {
   "cell_type": "markdown",
   "metadata": {
    "deletable": false,
    "editable": false
   },
   "source": [
    "## Return values:"
   ]
  },
  {
   "cell_type": "markdown",
   "metadata": {
    "deletable": false,
    "editable": false
   },
   "source": [
    "When a __*connection*__ value <u>is</u> provided:   \n",
    "* If there is an __error__ associated with the Db2 server or database connection specified, a string containing an SQLSTATE value that explains why the last operation using the `IBM_DBConnection` object failed.\n",
    "* If there is __no error__ associated with the Db2 server or database connection specified, an empty string (`''`)."
   ]
  },
  {
   "cell_type": "markdown",
   "metadata": {
    "deletable": false,
    "editable": false
   },
   "source": [
    "When a __*connection*__ value <u>is not</u> provided:   \n",
    "* If there is an __error__ associated with the last attempt to return an `IBM_DBConnection` object from an __ibm_db.connect()__ or __ibm_db.pconnect__ API, a string containing an SQLSTATE value that explains why the API failed.\n",
    "* If there is __no error__ associated with the last attempt to return an `IBM_DBConnection` object, an empty string (`''`)."
   ]
  },
  {
   "cell_type": "markdown",
   "metadata": {
    "deletable": false,
    "editable": false
   },
   "source": [
    "## Description:"
   ]
  },
  {
   "cell_type": "markdown",
   "metadata": {
    "deletable": false,
    "editable": false
   },
   "source": [
    "The __ibm_db.conn_error()__ API can be used to return an SQLSTATE value that explains why an attempt to establish a Db2 server or database connection (using the __ibm_db.connect()__ or __ibm_db.pconnect()__ API) was not successful. It can also be used to return an SQLSTATE value that identifies why the last operation using a `IBM_DBConnection` object failed."
   ]
  },
  {
   "cell_type": "markdown",
   "metadata": {
    "deletable": false,
    "editable": false
   },
   "source": [
    "## Example:"
   ]
  },
  {
   "cell_type": "code",
   "execution_count": 1,
   "metadata": {
    "deletable": false
   },
   "outputs": [
    {
     "name": "stdout",
     "output_type": "stream",
     "text": [
      "\n",
      "Connecting to the 'SAMPLE' database ... \n",
      "ERROR: Unable to connect to the 'SAMPLE' database.\n",
      "\n",
      "SQLSTATE: 08001\n",
      "\n"
     ]
    },
    {
     "ename": "ipynb_Exit",
     "evalue": "",
     "output_type": "error",
     "traceback": [
      "An exception has occurred, use %tb to see the full traceback.\n",
      "\u001b[0;31mipynb_Exit\u001b[0m\n"
     ]
    }
   ],
   "source": [
    "#----------------------------------------------------------------------------------------------#\n",
    "#  NAME:     ibm_db-conn_error.py                                                              #\n",
    "#                                                                                              #\n",
    "#  PURPOSE:  This program is designed to illustrate how to use the ibm_db.conn_error() API.    #\n",
    "#                                                                                              #\n",
    "#            Additional APIs used:                                                             #\n",
    "#                 ibm_db.connect()                                                             #\n",
    "#                 ibm_db.close()                                                               #\n",
    "#                                                                                              #\n",
    "#----------------------------------------------------------------------------------------------#\n",
    "#                     DISCLAIMER OF WARRANTIES AND LIMITATION OF LIABILITY                     #\n",
    "#                                                                                              #\n",
    "#  (C) COPYRIGHT International Business Machines Corp. 2018, 2019 All Rights Reserved          #\n",
    "#  Licensed Materials - Property of IBM                                                        #\n",
    "#                                                                                              #\n",
    "#  US Government Users Restricted Rights - Use, duplication or disclosure restricted by GSA    #\n",
    "#  ADP Schedule Contract with IBM Corp.                                                        #\n",
    "#                                                                                              #\n",
    "#  The following source code (\"Sample\") is owned by International Business Machines            #\n",
    "#  Corporation (\"IBM\") or one of its subsidiaries and is copyrighted and licensed, not sold.   #\n",
    "#  You may use, copy, modify, and distribute the Sample in any form without payment to IBM,    #\n",
    "#  for the purpose of assisting you in the creation of Python applications using the ibm_db    #\n",
    "#  library.                                                                                    #\n",
    "#                                                                                              #\n",
    "#  The Sample code is provided to you on an \"AS IS\" basis, without warranty of any kind. IBM   #\n",
    "#  HEREBY EXPRESSLY DISCLAIMS ALL WARRANTIES, EITHER EXPRESS OR IMPLIED, INCLUDING, BUT NOT    #\n",
    "#  LIMITED TO, THE IMPLIED WARRANTIES OF MERCHANTABILITY AND FITNESS FOR A PARTICULAR PURPOSE. #\n",
    "#  Some jurisdictions do not allow for the exclusion or limitation of implied warranties, so   #\n",
    "#  the above limitations or exclusions may not apply to you. IBM shall not be liable for any   #\n",
    "#  damages you suffer as a result of using, copying, modifying or distributing the Sample,     #\n",
    "#  even if IBM has been advised of the possibility of such damages.                            #\n",
    "#----------------------------------------------------------------------------------------------#\n",
    "\n",
    "# Load The Appropriate Python Modules\n",
    "import sys         # Provides Information About Python Interpreter Constants And Functions\n",
    "import ibm_db      # Contains The APIs Needed To Work With Db2 Databases\n",
    "\n",
    "#----------------------------------------------------------------------------------------------#\n",
    "# Import The ipynb_exit Class Definition, Attributes, And Methods That Have Been Defined In    #\n",
    "# The File Named \"ipynb_exit.py\"; This Class Contains The Programming Logic Needed To Allow    #\n",
    "# \"exit()\" Functionality To Work Without Raising An Error Or Stopping The Kernel If The        #\n",
    "# Application Is Invoked In A Jupyter Notebook                                                 #\n",
    "#----------------------------------------------------------------------------------------------#\n",
    "from ipynb_exit import exit\n",
    "\n",
    "# Define And Initialize The Appropriate Variables\n",
    "dbName = \"SAMPLE\"\n",
    "userID = \"db2inst1\"\n",
    "passWord = \"db2inst1\"        # The Wrong Password Is Used To Force An Error To Occur\n",
    "dbConnection = None\n",
    "\n",
    "# Display A Status Message Indicating An Attempt To Establish A Connection To A Db2 Database\n",
    "# Is About To Be Made\n",
    "print(\"\\nConnecting to the \\'\" + dbName + \"\\' database ... \", end=\"\")\n",
    "\n",
    "# Construct The String That Will Be Used To Establish A Db2 Database Connection\n",
    "connString = \"ATTACH=FALSE\"              # Attach To A Database; Not A Server\n",
    "connString += \";DATABASE=\" + dbName      # Required To Connect To A Database     \n",
    "connString += \";PROTOCOL=TCPIP\"\n",
    "connString += \";UID=\" + userID\n",
    "connString += \";PWD=\" + passWord\n",
    "\n",
    "# Attempt To Establish A Connection To The Database Specified\n",
    "try:\n",
    "    dbConnection = ibm_db.connect(connString, '', '')\n",
    "except Exception:\n",
    "    pass\n",
    "\n",
    "# If A Db2 Database Connection Could Not Be Established, Display An Error Message And Exit\n",
    "if dbConnection is None:\n",
    "    print(\"\\nERROR: Unable to connect to the \\'\" + dbName + \"\\' database.\")\n",
    "    errorCode = ibm_db.conn_error()\n",
    "    print(\"\\nSQLSTATE: \"+ errorCode + \"\\n\")\n",
    "    exit(-1)\n",
    "\n",
    "# Otherwise, Complete The Status Message\n",
    "else:\n",
    "    print(\"Done!\\n\")\n",
    "\n",
    "\n",
    "# Add Additional Db2 Database-Related Processing Here ...\n",
    "\n",
    "\n",
    "# Attempt To Close The Db2 Database Connection That Was Just Opened\n",
    "if not dbConnection is None:\n",
    "    print(\"Disconnecting from the \\'\" + dbName + \"\\' database ... \", end=\"\")\n",
    "    try:\n",
    "        returnCode = ibm_db.close(dbConnection)\n",
    "    except Exception:\n",
    "        pass\n",
    "\n",
    "    # If The Db2 Server Connection Was Not Closed, Display An Error Message And Exit\n",
    "    if returnCode is False:\n",
    "        print(\"\\nERROR: Unable to disconnect from the \" + dbName + \" database.\")\n",
    "        errorCode = ibm_db.conn_error(dbConnection)\n",
    "        print(\"SQLSTATE: \"+ errorCode + \"\\n\")\n",
    "        exit(-1)\n",
    "\n",
    "    # Otherwise, Complete The Status Message\n",
    "    else:\n",
    "        print(\"Done!\\n\")\n",
    "\n",
    "# Return Control To The Operating System\n",
    "exit()"
   ]
  },
  {
   "cell_type": "code",
   "execution_count": null,
   "metadata": {},
   "outputs": [],
   "source": []
  }
 ],
 "metadata": {
  "kernelspec": {
   "display_name": "Python 3",
   "language": "python",
   "name": "python3"
  },
  "language_info": {
   "codemirror_mode": {
    "name": "ipython",
    "version": 3
   },
   "file_extension": ".py",
   "mimetype": "text/x-python",
   "name": "python",
   "nbconvert_exporter": "python",
   "pygments_lexer": "ipython3",
   "version": "3.7.1"
  }
 },
 "nbformat": 4,
 "nbformat_minor": 2
}
