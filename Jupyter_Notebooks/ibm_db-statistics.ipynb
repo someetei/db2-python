{
 "cells": [
  {
   "cell_type": "markdown",
   "metadata": {
    "deletable": false,
    "editable": false
   },
   "source": [
    "# ibm_db.statistics()"
   ]
  },
  {
   "cell_type": "markdown",
   "metadata": {
    "deletable": false,
    "editable": false
   },
   "source": [
    "## Purpose:"
   ]
  },
  {
   "cell_type": "markdown",
   "metadata": {
    "deletable": false,
    "editable": false
   },
   "source": [
    "Retrieve statistical information for a table and its associated indexes."
   ]
  },
  {
   "cell_type": "markdown",
   "metadata": {
    "deletable": false,
    "editable": false
   },
   "source": [
    "## Syntax:"
   ]
  },
  {
   "cell_type": "markdown",
   "metadata": {
    "deletable": false,
    "editable": false
   },
   "source": [
    "`IBM_DBStatement ibm_db.statistics( IBM_DBConnection `*`connection,`*` string `*`qualifierName,`*<br>` string `*`schemaName,`*` string `*`tableName,`*` bool `*`uniqueIndicator`*` )`"
   ]
  },
  {
   "cell_type": "markdown",
   "metadata": {
    "deletable": false,
    "editable": false
   },
   "source": [
    "## Parameters:"
   ]
  },
  {
   "cell_type": "markdown",
   "metadata": {
    "deletable": false,
    "editable": false
   },
   "source": [
    "* __*connection*__&nbsp; &nbsp; &nbsp; &nbsp; &nbsp; &nbsp; : A valid Db2 server or database connection. \n",
    "* __qualifierName__&nbsp; &nbsp; &nbsp; &nbsp; : A valid qualifier name for Db2 databases on OS/390 or z/OS servers; the value `None` or an empty string (`''`) for Db2 databases on other operating systems. \n",
    "* __schemaName__&nbsp; &nbsp; &nbsp;  &nbsp; &nbsp;: The name of the schema that contains the table that statistical information is to be obtained for. To isolate the search for information to the schema for the current user, provide the value `None` or an empty string.\n",
    "* __tableName__&nbsp; &nbsp; &nbsp; &nbsp; &nbsp; &nbsp; &nbsp; : The name of the table that statistical information is to be obtained for. \n",
    "* __uniqueIndicator__&nbsp; &nbsp;&nbsp; : A value that indicates whether statistical information should be retreived for all indexes that have been defined for the table specified&mdash;or just for unique indexes. Valid values for this parameter are:<p>\n",
    "    \n",
    "    * `True`&nbsp; &nbsp; &nbsp;: Only retrieve information for unique indexes.\n",
    "    * `False`&nbsp; &nbsp;: Retrieve information for all indexes."
   ]
  },
  {
   "cell_type": "markdown",
   "metadata": {
    "deletable": false,
    "editable": false
   },
   "source": [
    "## Return values:"
   ]
  },
  {
   "cell_type": "markdown",
   "metadata": {
    "deletable": false,
    "editable": false
   },
   "source": [
    "* If __successful__, an IBM_DBStatement with a result set that contains the following information:<p>\n",
    "\n",
    "    * `TYPE`&nbsp; &nbsp; &nbsp; &nbsp; &nbsp; &nbsp; &nbsp; &nbsp; &nbsp; &nbsp; &nbsp; &nbsp; &nbsp; : A value that identifies the type of information contained in the current row (record) in this result set. Valid values for this field are:<p>\n",
    "    \n",
    "        * `ibm_db.SQL_TABLE_STAT`&nbsp; &nbsp; &nbsp; &nbsp; &nbsp; &nbsp; &nbsp;: The current row contains statistical information about the table itself.\n",
    "        * `ibm_db.SQL_INDEX_CLUSTERED`&nbsp; &nbsp;: The current row contains statistical information for a clustered index.\n",
    "        * `ibm_db.SQL_INDEX_OTHER`&nbsp; &nbsp; &nbsp; &nbsp; &nbsp; &nbsp;: The current row contains statistical information for some other type of index.<p>\n",
    "    \n",
    "    * `TABLE_CAT` &nbsp; &nbsp; &nbsp; &nbsp; &nbsp; &nbsp; &nbsp; &nbsp;: The name of the catalog associated with the schema and table the statistical information is for; Db2 does not use catalogs so this field will always contain the value `None`. *(Db2 databases on OS/390 or z/OS servers can return information in this field.)*\n",
    "    * `TABLE_SCHEM` &nbsp; &nbsp; &nbsp; &nbsp; &nbsp; &nbsp;: The name of the schema for the table the statistical information is associated with.\n",
    "    * `TABLE_NAME` &nbsp; &nbsp; &nbsp; &nbsp; &nbsp; &nbsp; &nbsp;: The name of the table to which the statistical information applies.\n",
    "    * `INDEX_NAME`&nbsp; &nbsp; &nbsp; &nbsp; &nbsp; &nbsp; &nbsp; : The name of the index to which the statistical information applies.    \n",
    "    * `INDEX_QUALIFIER`&nbsp; &nbsp; : The character string that would have to be prepended to the index name (__INDEX_NAME__) to fully qualify the name in a `DROP INDEX` statement.     \n",
    "    * `NON_UNIQUE` &nbsp; &nbsp; &nbsp; &nbsp; &nbsp; &nbsp; &nbsp;: A value that indicates whether the index allows or prohibits duplicate values. Valid values for this field are:<p>\n",
    "    \n",
    "        * `ibm_db.SQL_TRUE`&nbsp; &nbsp; &nbsp;: The index allows duplicate values.    \n",
    "        * `ibm_db.SQL_FALSE`&nbsp; &nbsp;: The index values must be unique.\n",
    "        * `None`&nbsp; &nbsp; &nbsp; &nbsp; &nbsp; &nbsp; &nbsp; &nbsp; &nbsp; &nbsp; &nbsp; &nbsp; &nbsp; &nbsp;: The __TYPE__ field indicates the current row contains statistical information about the table - not an index.<p>\n",
    "    \n",
    "    * `ORDINAL_POSITION`&nbsp; : The column's ordinal position in the index, starting from 1. If the __TYPE__ field indicates the current row contains statistical information about the table, this field will contain the value `None`.\n",
    "    * `COLUMN_NAME`&nbsp; &nbsp; &nbsp; &nbsp; &nbsp; &nbsp; &nbsp;: The name of the column in the index. If the __TYPE__ field indicates the current row contains statistical information about the table, this field will contain the value `None`.   \n",
    "    * `ASC_OR_DESC`&nbsp; &nbsp; &nbsp; &nbsp; &nbsp; &nbsp; &nbsp;: A value that identifies the sort sequence that is used to order the column's data. Valid values for this field are:<p>\n",
    "    \n",
    "        * `'A'`&nbsp;  &nbsp; &nbsp;: The column's data is sorted in ascending order.\n",
    "        * `'D'`&nbsp; &nbsp; &nbsp;: The column's data is sorted in descending order.\n",
    "        * `None`&nbsp; &nbsp;: The __TYPE__ field indicates the current row contains statistical information about the table - not an index.<p>\n",
    "    \n",
    "    * `CARDINALITY`&nbsp; &nbsp; &nbsp; &nbsp; &nbsp; &nbsp; : If the __TYPE__ field indicates the current row contains statistical information about the table, this field will contain the number of rows found in the table. If the current row contains statistical information about an index, this field will contain the number of unique values found in the index.\n",
    "    * `PAGES`&nbsp; &nbsp; &nbsp; &nbsp; &nbsp; &nbsp; &nbsp; &nbsp; &nbsp; &nbsp; &nbsp; &nbsp; : The number of pages used to store the table or index.\n",
    "    * `FILTER_CONDITION`&nbsp; : Identifies the filter condition used if the index is a filtered index; Db2 does not support filtered indexes so this field will always contain the value `None`.\n",
    "    <p>\n",
    "    \n",
    "* If __unsuccessful__, the value `False`."
   ]
  },
  {
   "cell_type": "markdown",
   "metadata": {
    "deletable": false,
    "editable": false
   },
   "source": [
    "## Description:"
   ]
  },
  {
   "cell_type": "markdown",
   "metadata": {
    "deletable": false,
    "editable": false
   },
   "source": [
    "The __ibm_db.statistics()__ API is used to retrieve statistical information for a table and its associated indexes. When invoked, this API can return two types of information:<p>\n",
    "    \n",
    "* Statistical information about the table itself (*if that information is available*).\n",
    "* Statistical information about any indexes that have been defined for the table.<p>\n",
    "\n",
    "The information returned by this API is placed in a result data set, which can be processed using the same APIs that are used to process result data sets that are generated by SQL queries. That is, a single row can be retrieved and stored in a tuple or dictionary using the  __ibm_db.fetch_tuple()__ (tuple), __ibm_db.fetch_assoc()__ (dictionary), or __ibm_db.fetch_both()__ (tuple *and* dictionary) APIs. Alternately, the __ibm_db.fetch_row()__ API can be used to move the result set pointer to each row in the result set produced and the __ibm_db.result()__ API can be used to fetch a column from the current row."
   ]
  },
  {
   "cell_type": "markdown",
   "metadata": {
    "deletable": false,
    "editable": false
   },
   "source": [
    "## Example:"
   ]
  },
  {
   "cell_type": "code",
   "execution_count": 1,
   "metadata": {
    "deletable": false
   },
   "outputs": [
    {
     "name": "stdout",
     "output_type": "stream",
     "text": [
      "\n",
      "Connecting to the SAMPLE database ... Done!\n",
      "\n",
      "Obtaining statistics for the DB2INST1.EMPLOYEE table ... Done!\n",
      "\n",
      "Record number 1 details:\n",
      "______________________________________________\n",
      "Type of data                     : Index\n",
      "Table schema                     : DB2INST1\n",
      "Table name                       : EMPLOYEE\n",
      "Index qualifier                  : DB2INST1\n",
      "Index name                       : PK_EMPLOYEE\n",
      "Column name                      : EMPNO\n",
      "Column position in index         : 1\n",
      "Index used to enforce uniqueness : No\n",
      "Data order                       : Ascending\n",
      "Number of unique values          : 42\n",
      "Number of pages used             : 1\n",
      "\n",
      "Record number 2 details:\n",
      "______________________________________________\n",
      "Type of data                     : Index\n",
      "Table schema                     : DB2INST1\n",
      "Table name                       : EMPLOYEE\n",
      "Index qualifier                  : DB2INST1\n",
      "Index name                       : XEMP2\n",
      "Column name                      : WORKDEPT\n",
      "Column position in index         : 1\n",
      "Index used to enforce uniqueness : Yes\n",
      "Data order                       : Ascending\n",
      "Number of unique values          : 8\n",
      "Number of pages used             : 1\n",
      "\n",
      "Record number 3 details:\n",
      "______________________________________________\n",
      "Type of data                     : Table\n",
      "Table schema                     : DB2INST1\n",
      "Table name                       : EMPLOYEE\n",
      "Index qualifier                  : None\n",
      "Index name                       : None\n",
      "Column name                      : None\n",
      "Column position in index         : None\n",
      "Number of rows (records)         : 42\n",
      "Number of pages used             : 1\n",
      "\n",
      "Disconnecting from the SAMPLE database ... Done!\n",
      "\n"
     ]
    }
   ],
   "source": [
    "#----------------------------------------------------------------------------------------------#\n",
    "#  NAME:     ibm_db-statistics.py                                                              #\n",
    "#                                                                                              #\n",
    "#  PURPOSE:  This program is designed to illustrate how to use the ibm_db.statistics() API.    #\n",
    "#                                                                                              #\n",
    "#            Additional APIs used:                                                             #\n",
    "#                 ibm_db.fetch_assoc()                                                         #\n",
    "#                                                                                              #\n",
    "#----------------------------------------------------------------------------------------------#\n",
    "#                     DISCLAIMER OF WARRANTIES AND LIMITATION OF LIABILITY                     #\n",
    "#                                                                                              #\n",
    "#  (C) COPYRIGHT International Business Machines Corp. 2018, 2019 All Rights Reserved          #\n",
    "#  Licensed Materials - Property of IBM                                                        #\n",
    "#                                                                                              #\n",
    "#  US Government Users Restricted Rights - Use, duplication or disclosure restricted by GSA    #\n",
    "#  ADP Schedule Contract with IBM Corp.                                                        #\n",
    "#                                                                                              #\n",
    "#  The following source code (\"Sample\") is owned by International Business Machines            #\n",
    "#  Corporation (\"IBM\") or one of its subsidiaries and is copyrighted and licensed, not sold.   #\n",
    "#  You may use, copy, modify, and distribute the Sample in any form without payment to IBM,    #\n",
    "#  for the purpose of assisting you in the creation of Python applications using the ibm_db    #\n",
    "#  library.                                                                                    #\n",
    "#                                                                                              #\n",
    "#  The Sample code is provided to you on an \"AS IS\" basis, without warranty of any kind. IBM   #\n",
    "#  HEREBY EXPRESSLY DISCLAIMS ALL WARRANTIES, EITHER EXPRESS OR IMPLIED, INCLUDING, BUT NOT    #\n",
    "#  LIMITED TO, THE IMPLIED WARRANTIES OF MERCHANTABILITY AND FITNESS FOR A PARTICULAR PURPOSE. #\n",
    "#  Some jurisdictions do not allow for the exclusion or limitation of implied warranties, so   #\n",
    "#  the above limitations or exclusions may not apply to you. IBM shall not be liable for any   #\n",
    "#  damages you suffer as a result of using, copying, modifying or distributing the Sample,     #\n",
    "#  even if IBM has been advised of the possibility of such damages.                            #\n",
    "#----------------------------------------------------------------------------------------------#\n",
    "\n",
    "# Load The Appropriate Python Modules\n",
    "import sys         # Provides Information About Python Interpreter Constants And Functions\n",
    "import ibm_db      # Contains The APIs Needed To Work With Db2 Databases\n",
    "\n",
    "#----------------------------------------------------------------------------------------------#\n",
    "# Import The Db2ConnectionMgr Class Definition, Attributes, And Methods That Have Been Defined #\n",
    "# In The File Named \"ibm_db_tools.py\"; This Class Contains The Programming Logic Needed To     #\n",
    "# Establish And Terminate A Connection To A Db2 Server Or Database                             #\n",
    "#----------------------------------------------------------------------------------------------#\n",
    "from ibm_db_tools import Db2ConnectionMgr\n",
    "\n",
    "#----------------------------------------------------------------------------------------------#\n",
    "# Import The ipynb_exit Class Definition, Attributes, And Methods That Have Been Defined In    #\n",
    "# The File Named \"ipynb_exit.py\"; This Class Contains The Programming Logic Needed To Allow    #\n",
    "# \"exit()\" Functionality To Work Without Raising An Error Or Stopping The Kernel If The        #\n",
    "# Application Is Invoked In A Jupyter Notebook                                                 #\n",
    "#----------------------------------------------------------------------------------------------#\n",
    "from ipynb_exit import exit\n",
    "\n",
    "# Define And Initialize The Appropriate Variables\n",
    "dbName = \"SAMPLE\"\n",
    "userID = \"db2inst1\"\n",
    "passWord = \"db2inst1\"\n",
    "dbConnection = None\n",
    "schemaName = userID.upper()\n",
    "tableName = \"EMPLOYEE\"\n",
    "resultSet = False\n",
    "dataRecord = False\n",
    "\n",
    "# Create An Instance Of The Db2ConnectionMgr Class And Use It To Connect To A Db2 Database\n",
    "conn = Db2ConnectionMgr('DB', dbName, '', '', userID, passWord)\n",
    "conn.openConnection()\n",
    "if conn.returnCode is True:\n",
    "    dbConnection = conn.connectionID\n",
    "else:\n",
    "    conn.closeConnection()\n",
    "    exit(-1)\n",
    "\n",
    "# Attempt To Retrieve Information About The Indexes And Statistics That Exist For A \n",
    "# Specified Table\n",
    "print(\"Obtaining statistics for the \" + schemaName + \".\", end=\"\")\n",
    "print(tableName + \" table ... \", end=\"\")\n",
    "try:\n",
    "    resultSet = ibm_db.statistics(dbConnection, None, schemaName, tableName, True)\n",
    "except Exception:\n",
    "    pass\n",
    "\n",
    "# If The Information Desired Could Not Be Retrieved, Display An Error Message And Exit\n",
    "if resultSet is False:\n",
    "    print(\"\\nERROR: Unable to obtain the information desired\\n.\")\n",
    "    conn.closeConnection()\n",
    "    exit(-1)\n",
    "\n",
    "# Otherwise, Complete The Status Message\n",
    "else:\n",
    "    print(\"Done!\\n\")\n",
    "\n",
    "# As Long As There Are Records (That Were Produced By The ibm_db.statistics API), ...\n",
    "noData = False\n",
    "loopCounter = 1\n",
    "while noData is False:\n",
    "\n",
    "    # Retrieve A Record And Store It In A Python Dictionary\n",
    "    try:\n",
    "        dataRecord = ibm_db.fetch_assoc(resultSet)\n",
    "    except:\n",
    "        pass\n",
    "\n",
    "    # If The Data Could Not Be Retrieved Or If There Was No Data To Retrieve, Set The\n",
    "    # \"No Data\" Flag And Exit The Loop  \n",
    "    if dataRecord is False:\n",
    "        noData = True\n",
    "\n",
    "    # Otherwise, Display The Information Retrieved\n",
    "    else:\n",
    "\n",
    "        # Display Record Header Information\n",
    "        print(\"Record number \" + str(loopCounter) + \" details:\")\n",
    "        print(\"______________________________________________\")\n",
    "\n",
    "        # Display The Information Stored In The Data Record Retrieved\n",
    "        print(\"Type of data                     : \", end=\"\")\n",
    "        if dataRecord['TYPE'] == ibm_db.SQL_TABLE_STAT:\n",
    "            print(\"Table\")\n",
    "        elif dataRecord['TYPE'] == ibm_db.SQL_INDEX_CLUSTERED:\n",
    "            print(\"Clustered index\")\n",
    "        elif dataRecord['TYPE'] == ibm_db.SQL_INDEX_OTHER:\n",
    "            print(\"Index\")\n",
    "        print(\"Table schema                     : {}\" .format(dataRecord['TABLE_SCHEM']))\n",
    "        print(\"Table name                       : {}\" .format(dataRecord['TABLE_NAME']))\n",
    "        print(\"Index qualifier                  : {}\" .format(dataRecord['INDEX_QUALIFIER']))\n",
    "        print(\"Index name                       : {}\" .format(dataRecord['INDEX_NAME']))\n",
    "        print(\"Column name                      : {}\" .format(dataRecord['COLUMN_NAME']))\n",
    "        print(\"Column position in index         : {}\" .format(dataRecord['ORDINAL_POSITION']))\n",
    "        if not dataRecord['INDEX_NAME'] is None:\n",
    "            print(\"Index used to enforce uniqueness : \", end=\"\")\n",
    "            if dataRecord['NON_UNIQUE'] == ibm_db.SQL_FALSE:\n",
    "                print(\"No\")\n",
    "            elif dataRecord['NON_UNIQUE'] == ibm_db.SQL_TRUE:\n",
    "                print(\"Yes\")\n",
    "        if not dataRecord['INDEX_NAME'] is None:\n",
    "            print(\"Data order                       : \", end=\"\")\n",
    "            if dataRecord['ASC_OR_DESC'] == 'A':\n",
    "                print(\"Ascending\")\n",
    "            elif dataRecord['ASC_OR_DESC'] == 'D':\n",
    "                print(\"Descending\")\n",
    "        if not dataRecord['INDEX_NAME'] is None:\n",
    "            print(\"Number of unique values          : {}\" .format(dataRecord['CARDINALITY']))\n",
    "        else:\n",
    "            print(\"Number of rows (records)         : {}\" .format(dataRecord['CARDINALITY']))\n",
    "\n",
    "        print(\"Number of pages used             : {}\" .format(dataRecord['PAGES']))\n",
    "\n",
    "        # Increment The loopCounter Variable And Print A Blank Line To Separate The\n",
    "        # Records From Each Other\n",
    "        loopCounter += 1\n",
    "        print()\n",
    "\n",
    "# Close The Database Connection That Was Opened Earlier\n",
    "conn.closeConnection()\n",
    "\n",
    "# Return Control To The Operating System\n",
    "exit()"
   ]
  },
  {
   "cell_type": "code",
   "execution_count": null,
   "metadata": {},
   "outputs": [],
   "source": []
  }
 ],
 "metadata": {
  "kernelspec": {
   "display_name": "Python 3",
   "language": "python",
   "name": "python3"
  },
  "language_info": {
   "codemirror_mode": {
    "name": "ipython",
    "version": 3
   },
   "file_extension": ".py",
   "mimetype": "text/x-python",
   "name": "python",
   "nbconvert_exporter": "python",
   "pygments_lexer": "ipython3",
   "version": "3.7.1"
  }
 },
 "nbformat": 4,
 "nbformat_minor": 2
}
