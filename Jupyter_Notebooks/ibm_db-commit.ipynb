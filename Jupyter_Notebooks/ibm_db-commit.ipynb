{
 "cells": [
  {
   "cell_type": "markdown",
   "metadata": {
    "deletable": false,
    "editable": false
   },
   "source": [
    "# ibm_db.commit()"
   ]
  },
  {
   "cell_type": "markdown",
   "metadata": {
    "deletable": false,
    "editable": false
   },
   "source": [
    "## Purpose:"
   ]
  },
  {
   "cell_type": "markdown",
   "metadata": {
    "deletable": false,
    "editable": false
   },
   "source": [
    "Terminate an in-progress transaction and make the effects of all operations performed within the transaction permanent."
   ]
  },
  {
   "cell_type": "markdown",
   "metadata": {
    "deletable": false,
    "editable": false
   },
   "source": [
    "## Syntax:"
   ]
  },
  {
   "cell_type": "markdown",
   "metadata": {
    "deletable": false,
    "editable": false
   },
   "source": [
    "`bool ibm_db.commit( IBM_DBConnection `*`connection`*` )`"
   ]
  },
  {
   "cell_type": "markdown",
   "metadata": {
    "deletable": false,
    "editable": false
   },
   "source": [
    "## Parameters:"
   ]
  },
  {
   "cell_type": "markdown",
   "metadata": {
    "deletable": false,
    "editable": false
   },
   "source": [
    "* __*connection*__&nbsp; &nbsp; : A valid Db2 server or database connection."
   ]
  },
  {
   "cell_type": "markdown",
   "metadata": {
    "deletable": false,
    "editable": false
   },
   "source": [
    "## Return values:"
   ]
  },
  {
   "cell_type": "markdown",
   "metadata": {
    "deletable": false,
    "editable": false
   },
   "source": [
    "* `True` &nbsp; &nbsp; &nbsp;: Changes made by the current transaction were made permanent (committed).   \n",
    "* `False` &nbsp; &nbsp;: Changes made by the current transaction were not committed."
   ]
  },
  {
   "cell_type": "markdown",
   "metadata": {
    "deletable": false,
    "editable": false
   },
   "source": [
    "## Description:"
   ]
  },
  {
   "cell_type": "markdown",
   "metadata": {
    "deletable": false,
    "editable": false
   },
   "source": [
    "The __ibm_db.commit()__ API is used to terminate an in-progress transaction and apply all changes that were made by that transaction to the database. (A *transaction* is a sequence of one or more SQL operations that are grouped together as a single process; when a transaction is committed, the effects of all operations that were performed by the transaction are made permanent.) Normally, a transaction is initiated the first time an SQL statement is executed after a database connection is established or an in-progress transaction ends. But, with Python applications, each SQL operation is treated as a transaction that is implicitly committed as soon as it completes unless __AUTOCOMMIT__ behavior is turned __OFF__. Consequently, the __ibm_db.commit()__ API has no effect when __AUTOCOMMIT__ behavior is __ON__ (the default).<p>\n",
    "\n",
    "It is important to note that if the connection being used is a persistent connection (i.e., a connection that was established with the __ibm_db.pconnect()__ API), in-progress transactions for *<u>all applications using the connection will be rolled back when this API is called</u>*. For this reason, the use of persistent connections is not recommended for applications that need to control transaction boundaries."
   ]
  },
  {
   "cell_type": "markdown",
   "metadata": {
    "deletable": false,
    "editable": false
   },
   "source": [
    "## Example:"
   ]
  },
  {
   "cell_type": "code",
   "execution_count": 2,
   "metadata": {},
   "outputs": [
    {
     "name": "stdout",
     "output_type": "stream",
     "text": [
      "\n",
      "Connecting to the SAMPLE database ... Done!\n",
      "\n",
      "Turning AUTOCOMMIT behavior OFF ... Done!\n",
      "\n",
      "Number of records found in the DEPARTMENT table: 18\n",
      "\n",
      "Inserting a record into the DEPARTMENT table ... \n",
      "ERROR: Unable to execute the INSERT statement specified.\n",
      "\n",
      "[IBM][CLI Driver][DB2/LINUXX8664] SQL0803N  One or more values in the INSERT statement, UPDATE statement, or foreign key update caused by a DELETE statement are not valid because the primary key, unique constraint or unique index identified by \"1\" constrains table \"DB2INST1.DEPARTMENT\" from having duplicate values for the index key.  SQLSTATE=23505 SQLCODE=-803\n",
      "\n",
      "Disconnecting from the SAMPLE database ... Done!\n",
      "\n"
     ]
    },
    {
     "ename": "ipynb_Exit",
     "evalue": "",
     "output_type": "error",
     "traceback": [
      "An exception has occurred, use %tb to see the full traceback.\n",
      "\u001b[0;31mipynb_Exit\u001b[0m\n"
     ]
    }
   ],
   "source": [
    "#----------------------------------------------------------------------------------------------#\n",
    "#  NAME:     ibm_db-commit.py                                                                  #\n",
    "#                                                                                              #\n",
    "#  PURPOSE:  This program is designed to illustrate how to use the ibm_db.commit() API.        #\n",
    "#                                                                                              #\n",
    "#            Additional APIs used:                                                             #\n",
    "#                 ibm_db.autocommit()                                                          #\n",
    "#                 ibm_db.exec_immediate()                                                      #\n",
    "#                 ibm_db.stmt_errormsg()                                                       #\n",
    "#                                                                                              #\n",
    "#----------------------------------------------------------------------------------------------#\n",
    "#                     DISCLAIMER OF WARRANTIES AND LIMITATION OF LIABILITY                     #\n",
    "#                                                                                              #\n",
    "#  (C) COPYRIGHT International Business Machines Corp. 2018, 2019 All Rights Reserved          #\n",
    "#  Licensed Materials - Property of IBM                                                        #\n",
    "#                                                                                              #\n",
    "#  US Government Users Restricted Rights - Use, duplication or disclosure restricted by GSA    #\n",
    "#  ADP Schedule Contract with IBM Corp.                                                        #\n",
    "#                                                                                              #\n",
    "#  The following source code (\"Sample\") is owned by International Business Machines            #\n",
    "#  Corporation (\"IBM\") or one of its subsidiaries and is copyrighted and licensed, not sold.   #\n",
    "#  You may use, copy, modify, and distribute the Sample in any form without payment to IBM,    #\n",
    "#  for the purpose of assisting you in the creation of Python applications using the ibm_db    #\n",
    "#  library.                                                                                    #\n",
    "#                                                                                              #\n",
    "#  The Sample code is provided to you on an \"AS IS\" basis, without warranty of any kind. IBM   #\n",
    "#  HEREBY EXPRESSLY DISCLAIMS ALL WARRANTIES, EITHER EXPRESS OR IMPLIED, INCLUDING, BUT NOT    #\n",
    "#  LIMITED TO, THE IMPLIED WARRANTIES OF MERCHANTABILITY AND FITNESS FOR A PARTICULAR PURPOSE. #\n",
    "#  Some jurisdictions do not allow for the exclusion or limitation of implied warranties, so   #\n",
    "#  the above limitations or exclusions may not apply to you. IBM shall not be liable for any   #\n",
    "#  damages you suffer as a result of using, copying, modifying or distributing the Sample,     #\n",
    "#  even if IBM has been advised of the possibility of such damages.                            #\n",
    "#----------------------------------------------------------------------------------------------#\n",
    "\n",
    "# Load The Appropriate Python Modules\n",
    "import sys         # Provides Information About Python Interpreter Constants And Functions\n",
    "import ibm_db      # Contains The APIs Needed To Work With Db2 Databases\n",
    "\n",
    "#----------------------------------------------------------------------------------------------#\n",
    "# Import The Db2ConnectionMgr Class Definition, Attributes, And Methods That Have Been Defined #\n",
    "# In The File Named \"ibm_db_tools.py\"; This Class Contains The Programming Logic Needed To     #\n",
    "# Establish And Terminate A Connection To A Db2 Server Or Database                             #\n",
    "#----------------------------------------------------------------------------------------------#\n",
    "from ibm_db_tools import Db2ConnectionMgr\n",
    "\n",
    "#----------------------------------------------------------------------------------------------#\n",
    "# Import The get_row_count() Function That Has Been Defined In The File Named                  #\n",
    "# \"ibm_db_tools.py\";  This Function Contains The Programming Logic Needed To Obtain And        #\n",
    "# Display The Number Of Rows (Records) Found In A Db2 Database Table                           #\n",
    "#----------------------------------------------------------------------------------------------#\n",
    "from ibm_db_tools import get_row_count\n",
    "\n",
    "#----------------------------------------------------------------------------------------------#\n",
    "# Import The ipynb_exit Class Definition, Attributes, And Methods That Have Been Defined In    #\n",
    "# The File Named \"ipynb_exit.py\"; This Class Contains The Programming Logic Needed To Allow    #\n",
    "# \"exit()\" Functionality To Work Without Raising An Error Or Stopping The Kernel If The        #\n",
    "# Application Is Invoked In A Jupyter Notebook                                                 #\n",
    "#----------------------------------------------------------------------------------------------#\n",
    "from ipynb_exit import exit\n",
    "\n",
    "# Define And Initialize The Appropriate Variables\n",
    "dbName = \"SAMPLE\"\n",
    "userID = \"db2inst1\"\n",
    "passWord = \"db2inst1\"\n",
    "dbConnection = None\n",
    "returnCode = False\n",
    "resultSet = False\n",
    "\n",
    "# Create An Instance Of The Db2ConnectionMgr Class And Use It To Connect To A Db2 Database\n",
    "conn = Db2ConnectionMgr('DB', dbName, '', '', userID, passWord)\n",
    "conn.openConnection()\n",
    "if conn.returnCode is True:\n",
    "    dbConnection = conn.connectionID\n",
    "else:\n",
    "    conn.closeConnection()\n",
    "    exit(-1)\n",
    "\n",
    "# Turn Autocommit Behavior OFF\n",
    "print(\"Turning AUTOCOMMIT behavior OFF ... \", end=\"\")\n",
    "try:\n",
    "    returnCode = ibm_db.autocommit(dbConnection, ibm_db.SQL_AUTOCOMMIT_OFF)\n",
    "except Exception:\n",
    "    pass\n",
    "\n",
    "# If AUTOCOMMIT Behavior Could Not Be Turned OFF, Display An Error Message And Continue\n",
    "if returnCode is False:\n",
    "    print(\"\\nERROR: Unable to turn AUTOCOMMIT behavior OFF.\")\n",
    "\n",
    "# Otherwise, Complete The Status Message\n",
    "else:\n",
    "    print(\"Done!\\n\")\n",
    "\n",
    "# Display The Number Of Rows That Currently Exist In The DEPARTMENT Table\n",
    "returnCode = get_row_count(dbConnection, 'DEPARTMENT')\n",
    "if returnCode is False:\n",
    "    conn.closeConnection()\n",
    "    exit(-1)\n",
    "\n",
    "# Define The INSERT Statement That Is To Be Used To Add Data To The DEPARTMENT Table\n",
    "sqlStatement = \"INSERT INTO department VALUES('K01', 'SALES', '000130', 'K01', NULL)\"\n",
    "\n",
    "# Execute The SQL Statement Just Defined\n",
    "print(\"Inserting a record into the DEPARTMENT table ... \", end=\"\")\n",
    "try:\n",
    "    resultSet = ibm_db.exec_immediate(dbConnection, sqlStatement)\n",
    "except Exception:\n",
    "    pass\n",
    "\n",
    "# If The SQL Statement Could Not Be Executed, Display An Error Message And Exit \n",
    "if resultSet is False:\n",
    "    print(\"\\nERROR: Unable to execute the INSERT statement specified.\")\n",
    "    errorMsg = ibm_db.stmt_errormsg()\n",
    "    print(\"\\n\" + errorMsg + \"\\n\")\n",
    "    conn.closeConnection()\n",
    "    exit(-1)\n",
    "\n",
    "# Otherwise, Complete The Status Message\n",
    "else:\n",
    "    print(\"Done!\\n\")\n",
    "\n",
    "# Display The Number Of Rows That Exist In The DEPARTMENT Table Now\n",
    "# (The Number Returned Should Change)\n",
    "returnCode = get_row_count(dbConnection, 'DEPARTMENT')\n",
    "if returnCode is False:\n",
    "    conn.closeConnection()\n",
    "    exit(-1)\n",
    "\n",
    "# Commit The Changes Just Made (To Make Them Permanent)\n",
    "print(\"Commiting changes made to the database ... \", end=\"\")\n",
    "resultSet = False\n",
    "try:\n",
    "    resultSet = ibm_db.commit(dbConnection)\n",
    "except Exception:\n",
    "    pass\n",
    "\n",
    "# If The Commit Operation Could Not Be Performed, Display An Error Message And Exit \n",
    "if resultSet is False:\n",
    "    print(\"\\nERROR: Unable to commit the previous operation.\")\n",
    "    conn.closeConnection()\n",
    "    exit(-1)\n",
    "\n",
    "# Otherwise, Complete The Status Message\n",
    "else:\n",
    "    print(\"Done!\\n\")\n",
    "\n",
    "# Display The Number Of Rows That Exist In The DEPARTMENT Table Now\n",
    "# (The Number Should Not Change)\n",
    "returnCode = get_row_count(dbConnection, 'DEPARTMENT')\n",
    "if returnCode is False:\n",
    "    conn.closeConnection()\n",
    "    exit(-1)\n",
    "\n",
    "# Close The Database Connection That Was Opened Earlier\n",
    "conn.closeConnection()\n",
    "\n",
    "# Return Control To The Operating System\n",
    "exit()"
   ]
  },
  {
   "cell_type": "code",
   "execution_count": null,
   "metadata": {},
   "outputs": [],
   "source": []
  }
 ],
 "metadata": {
  "kernelspec": {
   "display_name": "Python 3",
   "language": "python",
   "name": "python3"
  },
  "language_info": {
   "codemirror_mode": {
    "name": "ipython",
    "version": 3
   },
   "file_extension": ".py",
   "mimetype": "text/x-python",
   "name": "python",
   "nbconvert_exporter": "python",
   "pygments_lexer": "ipython3",
   "version": "3.12.3"
  }
 },
 "nbformat": 4,
 "nbformat_minor": 2
}
