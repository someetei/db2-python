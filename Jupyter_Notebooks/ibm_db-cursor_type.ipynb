{
 "cells": [
  {
   "cell_type": "markdown",
   "metadata": {
    "deletable": false,
    "editable": false
   },
   "source": [
    "# ibm_db.cursor_type()"
   ]
  },
  {
   "cell_type": "markdown",
   "metadata": {
    "deletable": false,
    "editable": false
   },
   "source": [
    "## Purpose:"
   ]
  },
  {
   "cell_type": "markdown",
   "metadata": {
    "deletable": false,
    "editable": false
   },
   "source": [
    "Retrieve information about the type of cursor currently being used."
   ]
  },
  {
   "cell_type": "markdown",
   "metadata": {
    "deletable": false,
    "editable": false
   },
   "source": [
    "## Syntax:"
   ]
  },
  {
   "cell_type": "markdown",
   "metadata": {
    "deletable": false,
    "editable": false
   },
   "source": [
    "`int ibm_db.cursor_type( IBM_DBStatement `*`statement`*` )`"
   ]
  },
  {
   "cell_type": "markdown",
   "metadata": {
    "deletable": false,
    "editable": false
   },
   "source": [
    "## Parameters:"
   ]
  },
  {
   "cell_type": "markdown",
   "metadata": {
    "deletable": false,
    "editable": false
   },
   "source": [
    "* __*statement*__&nbsp; &nbsp; : A valid `IBM_DBStatement` object."
   ]
  },
  {
   "cell_type": "markdown",
   "metadata": {
    "deletable": false,
    "editable": false
   },
   "source": [
    "## Return Values:"
   ]
  },
  {
   "cell_type": "markdown",
   "metadata": {
    "deletable": false,
    "editable": false
   },
   "source": [
    "* If __successful__, one of the following values:<p>\n",
    "        \n",
    "    * `0` or `ibm_db.SQL_CURSOR_FORWARD_ONLY` &nbsp; &nbsp; &nbsp; &nbsp; &nbsp;: A forward only cursor is being used.\n",
    "    * `1` or `ibm_db. SQL_CURSOR_KEYSET_DRIVEN`&nbsp; &nbsp; &nbsp; : A keyset-driven cursor is being used.\n",
    "    * `2` or `ibm_db.SQL_CURSOR_DYNAMIC`&nbsp; &nbsp; &nbsp; &nbsp; &nbsp; &nbsp; &nbsp; &nbsp; &nbsp; &nbsp; : A dynamic, scrollable cursor is being used. Dynamic cursors are only supported by Db2 for z/OS servers.    \n",
    "    * `3` or `ibm_db.SQL_CURSOR_STATIC`&nbsp; &nbsp; &nbsp; &nbsp; &nbsp; &nbsp; &nbsp; &nbsp; &nbsp; &nbsp; &nbsp; : A static cursor is being used.\n",
    "\n",
    "  \n",
    "\n",
    "\n",
    "* If __unsuccessful__, a Python interpreter error."
   ]
  },
  {
   "cell_type": "markdown",
   "metadata": {
    "deletable": false,
    "editable": false
   },
   "source": [
    "## Description:"
   ]
  },
  {
   "cell_type": "markdown",
   "metadata": {
    "deletable": false,
    "editable": false
   },
   "source": [
    "The __ibm_db.cursor_type()__ API is used to retrieve information about the type of cursor currently being used. This API can be used in place of the __ibm_db.get_option()__ API to determine if you are working with a forward-only cursor or a scrollable cursor.\n",
    "\n",
    "It's important to note that if a cursor type that is not supported was specified with the __ibm_db.prepare()__, __ibm_db.exec_immediate()__, or __ibm_db.set_option()__ API, that cursor type is substituteed with a different cursor type; for a mixed or dynamic cursor, __ibm_db__ substitutes, in order, a keyset-driven cursor or a static cursor. "
   ]
  },
  {
   "cell_type": "markdown",
   "metadata": {
    "deletable": false
   },
   "source": [
    "## Example:"
   ]
  },
  {
   "cell_type": "code",
   "execution_count": 1,
   "metadata": {
    "deletable": false
   },
   "outputs": [
    {
     "name": "stdout",
     "output_type": "stream",
     "text": [
      "\n",
      "Connecting to the SAMPLE database ... Done!\n",
      "\n",
      "Setting cursor type to SQL_CURSOR_FORWARD_ONLY\n",
      "\n",
      "Executing the SQL statement \"SELECT * FROM department\" ... Done!\n",
      "\n",
      "Obtaining information about the type of cursor being used ... Done!\n",
      "\n",
      "Type of cursor being used: Forward only (SQL_CURSOR_FORWARD_ONLY)\n",
      "\n",
      "\n",
      "Setting cursor type to SQL_CURSOR_KEYSET_DRIVEN\n",
      "\n",
      "Executing the SQL statement \"SELECT * FROM department\" ... Done!\n",
      "\n",
      "Obtaining information about the type of cursor being used ... Done!\n",
      "\n",
      "Type of cursor being used: Keyset driven (SQL_CURSOR_KEYSET_DRIVEN)\n",
      "\n",
      "Disconnecting from the SAMPLE database ... Done!\n",
      "\n"
     ]
    }
   ],
   "source": [
    "#----------------------------------------------------------------------------------------------#\n",
    "#  NAME:     ibm_db-cursor_type.py                                                             #\n",
    "#                                                                                              #\n",
    "#  PURPOSE:  This program is designed to illustrate how to use the ibm_db.cursor_type() API    #\n",
    "#            to determine the type of cursor being used.                                       #\n",
    "#                                                                                              #\n",
    "#            Additional APIs used:                                                             #\n",
    "#                 ibm_db.set_option()                                                          #\n",
    "#                 ibm_db.exec_immediate()                                                      #\n",
    "#                                                                                              #\n",
    "#----------------------------------------------------------------------------------------------#\n",
    "#                     DISCLAIMER OF WARRANTIES AND LIMITATION OF LIABILITY                     #\n",
    "#                                                                                              #\n",
    "#  (C) COPYRIGHT International Business Machines Corp. 2018, 2019 All Rights Reserved          #\n",
    "#  Licensed Materials - Property of IBM                                                        #\n",
    "#                                                                                              #\n",
    "#  US Government Users Restricted Rights - Use, duplication or disclosure restricted by GSA    #\n",
    "#  ADP Schedule Contract with IBM Corp.                                                        #\n",
    "#                                                                                              #\n",
    "#  The following source code (\"Sample\") is owned by International Business Machines            #\n",
    "#  Corporation (\"IBM\") or one of its subsidiaries and is copyrighted and licensed, not sold.   #\n",
    "#  You may use, copy, modify, and distribute the Sample in any form without payment to IBM,    #\n",
    "#  for the purpose of assisting you in the creation of Python applications using the ibm_db    #\n",
    "#  library.                                                                                    #\n",
    "#                                                                                              #\n",
    "#  The Sample code is provided to you on an \"AS IS\" basis, without warranty of any kind. IBM   #\n",
    "#  HEREBY EXPRESSLY DISCLAIMS ALL WARRANTIES, EITHER EXPRESS OR IMPLIED, INCLUDING, BUT NOT    #\n",
    "#  LIMITED TO, THE IMPLIED WARRANTIES OF MERCHANTABILITY AND FITNESS FOR A PARTICULAR PURPOSE. #\n",
    "#  Some jurisdictions do not allow for the exclusion or limitation of implied warranties, so   #\n",
    "#  the above limitations or exclusions may not apply to you. IBM shall not be liable for any   #\n",
    "#  damages you suffer as a result of using, copying, modifying or distributing the Sample,     #\n",
    "#  even if IBM has been advised of the possibility of such damages.                            #\n",
    "#----------------------------------------------------------------------------------------------#\n",
    "\n",
    "# Load The Appropriate Python Modules\n",
    "import sys         # Provides Information About Python Interpreter Constants And Functions\n",
    "import ibm_db      # Contains The APIs Needed To Work With Db2 Databases\n",
    "\n",
    "#----------------------------------------------------------------------------------------------#\n",
    "# Import The Db2ConnectionMgr Class Definition, Attributes, And Methods That Have Been Defined #\n",
    "# In The File Named \"ibm_db_tools.py\"; This Class Contains The Programming Logic Needed To     #\n",
    "# Establish And Terminate A Connection To A Db2 Server Or Database                             #\n",
    "#----------------------------------------------------------------------------------------------#\n",
    "from ibm_db_tools import Db2ConnectionMgr\n",
    "\n",
    "#----------------------------------------------------------------------------------------------#\n",
    "# Import The ipynb_exit Class Definition, Attributes, And Methods That Have Been Defined In    #\n",
    "# The File Named \"ipynb_exit.py\"; This Class Contains The Programming Logic Needed To Allow    #\n",
    "# \"exit()\" Functionality To Work Without Raising An Error Or Stopping The Kernel If The        #\n",
    "# Application Is Invoked In A Jupyter Notebook                                                 #\n",
    "#----------------------------------------------------------------------------------------------#\n",
    "from ipynb_exit import exit\n",
    "\n",
    "# Define And Initialize The Appropriate Variables\n",
    "dbName = \"SAMPLE\"\n",
    "userID = \"db2inst1\"\n",
    "passWord = \"db2inst1\"\n",
    "dbConnection = None\n",
    "resultSet = False\n",
    "cursorType = False\n",
    "\n",
    "# Create An Instance Of The Db2ConnectionMgr Class And Use It To Connect To A Db2 Database\n",
    "conn = Db2ConnectionMgr('DB', dbName, '', '', userID, passWord)\n",
    "conn.openConnection()\n",
    "if conn.returnCode is True:\n",
    "    dbConnection = conn.connectionID\n",
    "else:\n",
    "    conn.closeConnection()\n",
    "    exit(-1)\n",
    "\n",
    "# Define The SQL Statement That Is To Be Executed\n",
    "sqlStatement = \"SELECT * FROM department\"\n",
    "\n",
    "# Create A Dictionary That Contains The Value Needed To Specify That A Forward Only Cursor\n",
    "# Should Be Used\n",
    "print(\"Setting cursor type to SQL_CURSOR_FORWARD_ONLY\\n\")\n",
    "stmtOption = {ibm_db.SQL_ATTR_CURSOR_TYPE: ibm_db.SQL_CURSOR_FORWARD_ONLY}\n",
    "\n",
    "# Execute The SQL Statement Just Defined\n",
    "print(\"Executing the SQL statement \\\"\" + sqlStatement + \"\\\" ... \", end=\"\")\n",
    "try:\n",
    "    resultSet = ibm_db.exec_immediate(dbConnection, sqlStatement, stmtOption)\n",
    "except Exception:\n",
    "    pass\n",
    "\n",
    "# If The SQL Statement Could Not Be Executed, Display An Error Message And Exit \n",
    "if resultSet is False:\n",
    "    print(\"\\nERROR: Unable to execute the SQL statement specified.\\n\")\n",
    "    conn.closeConnection()\n",
    "    exit(-1)\n",
    "\n",
    "# Otherwise, Complete The Status Message\n",
    "else:\n",
    "    print(\"Done!\\n\")\n",
    "\n",
    "# Verify That The Type Of Cursor Being Used Is Type Of Cursor That Was Specified\n",
    "print(\"Obtaining information about the type of cursor being used ... \", end=\"\")\n",
    "try:\n",
    "    cursorType = ibm_db.cursor_type(resultSet)\n",
    "except Exception:\n",
    "    pass\n",
    "\n",
    "# If Information About The Cursor Could Not Be Obtained, Display An Error Message And Exit \n",
    "if cursorType is False:\n",
    "    print(\"\\nERROR: Unable to obtain the information desired.\\n\")\n",
    "    conn.closeConnection()\n",
    "    exit(-1)\n",
    "\n",
    "# Otherwise, Complete The Status Message\n",
    "else:\n",
    "    print(\"Done!\\n\")\n",
    "\n",
    "# Verify That The Type Of Cursor Being Used Is Type Of Cursor That Was Specified\n",
    "print(\"Type of cursor being used: \", end=\"\")\n",
    "\n",
    "if cursorType == ibm_db.SQL_CURSOR_FORWARD_ONLY:\n",
    "    print(\"Forward only (SQL_CURSOR_FORWARD_ONLY)\\n\")\n",
    "elif cursorType == ibm_db.SQL_CURSOR_KEYSET_DRIVEN:\n",
    "    print(\"Keyset driven (SQL_CURSOR_KEYSET_DRIVEN)\\n\")\n",
    "elif cursorType == ibm_db.SQL_CURSOR_DYNAMIC:\n",
    "    print(\"Dynamic (SQL_CURSOR_DYNAMIC)\\n\")\n",
    "elif cursorType == ibm_db.SQL_CURSOR_STATIC:\n",
    "    print(\"Static (SQL_CURSOR_STATIC)\\n\")\n",
    "else:\n",
    "    print(\"Unknown\\n\")\n",
    "\n",
    "# Create A Dictionary That Contains The Value Needed To Specify That A Keyset-Driven Cursor\n",
    "# Should Be Used\n",
    "print(\"\\nSetting cursor type to SQL_CURSOR_KEYSET_DRIVEN\\n\")\n",
    "stmtOption = {ibm_db.SQL_ATTR_CURSOR_TYPE: ibm_db.SQL_CURSOR_KEYSET_DRIVEN}\n",
    "\n",
    "# Execute The SQL Statement Defined Earlier\n",
    "print(\"Executing the SQL statement \\\"\" + sqlStatement + \"\\\" ... \", end=\"\")\n",
    "try:\n",
    "    resultSet = ibm_db.exec_immediate(dbConnection, sqlStatement, stmtOption)\n",
    "except Exception:\n",
    "    pass\n",
    "\n",
    "# If The SQL Statement Could Not Be Executed, Display An Error Message And Exit \n",
    "if resultSet is False:\n",
    "    print(\"\\nERROR: Unable to execute the SQL statement specified.\\n\")\n",
    "    conn.closeConnection()\n",
    "    exit(-1)\n",
    "\n",
    "# Otherwise, Complete The Status Message\n",
    "else:\n",
    "    print(\"Done!\\n\")\n",
    "\n",
    "# Verify That The Type Of Cursor Being Used Is Type Of Cursor That Was Specified\n",
    "print(\"Obtaining information about the type of cursor being used ... \", end=\"\")\n",
    "try:\n",
    "    cursorType = ibm_db.cursor_type(resultSet)\n",
    "except Exception:\n",
    "    pass\n",
    "\n",
    "# If Information About The Cursor Could Not Be Obtained, Display An Error Message And Exit \n",
    "if cursorType is False:\n",
    "    print(\"\\nERROR: Unable to obtain the information desired.\\n\")\n",
    "    conn.closeConnection()\n",
    "    exit(-1)\n",
    "\n",
    "# Otherwise, Complete The Status Message\n",
    "else:\n",
    "    print(\"Done!\\n\")\n",
    "\n",
    "# Verify That The Type Of Cursor Being Used Is Type Of Cursor That Was Specified\n",
    "print(\"Type of cursor being used: \", end=\"\")\n",
    "\n",
    "if cursorType == ibm_db.SQL_CURSOR_FORWARD_ONLY:\n",
    "    print(\"Forward only (SQL_CURSOR_FORWARD_ONLY)\\n\")\n",
    "elif cursorType == ibm_db.SQL_CURSOR_KEYSET_DRIVEN:\n",
    "    print(\"Keyset driven (SQL_CURSOR_KEYSET_DRIVEN)\\n\")\n",
    "elif cursorType == ibm_db.SQL_CURSOR_DYNAMIC:\n",
    "    print(\"Dynamic (SQL_CURSOR_DYNAMIC)\\n\")\n",
    "elif cursorType == ibm_db.SQL_CURSOR_STATIC:\n",
    "    print(\"Static (SQL_CURSOR_STATIC)\\n\")\n",
    "else:\n",
    "    print(\"Unknown\\n\")\n",
    "\n",
    "# Close The Database Connection That Was Opened Earlier\n",
    "conn.closeConnection()\n",
    "\n",
    "# Return Control To The Operating System\n",
    "exit()"
   ]
  }
 ],
 "metadata": {
  "kernelspec": {
   "display_name": "Python 3",
   "language": "python",
   "name": "python3"
  },
  "language_info": {
   "codemirror_mode": {
    "name": "ipython",
    "version": 3
   },
   "file_extension": ".py",
   "mimetype": "text/x-python",
   "name": "python",
   "nbconvert_exporter": "python",
   "pygments_lexer": "ipython3",
   "version": "3.7.1"
  }
 },
 "nbformat": 4,
 "nbformat_minor": 2
}
