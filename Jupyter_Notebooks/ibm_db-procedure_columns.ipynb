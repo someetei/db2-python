{
 "cells": [
  {
   "cell_type": "markdown",
   "metadata": {
    "deletable": false,
    "editable": false
   },
   "source": [
    "# ibm_db.procedure_columns()"
   ]
  },
  {
   "cell_type": "markdown",
   "metadata": {
    "deletable": false,
    "editable": false
   },
   "source": [
    "## Pupose:"
   ]
  },
  {
   "cell_type": "markdown",
   "metadata": {},
   "source": [
    "Retrieve information about the parameters that have been defined for one or more procedures."
   ]
  },
  {
   "cell_type": "markdown",
   "metadata": {
    "deletable": false,
    "editable": false
   },
   "source": [
    "## Syntax:"
   ]
  },
  {
   "cell_type": "markdown",
   "metadata": {
    "deletable": false,
    "editable": false
   },
   "source": [
    "`IBM_DBStatement ibm_db.procedure_columns( IBM_DBConnection `*`connection,`*<br>` string `*`qualifierName,`*` string `*`schemaName,`*` string `*`procedureName,`*` string `*`parameterName`*` )`"
   ]
  },
  {
   "cell_type": "markdown",
   "metadata": {
    "deletable": false,
    "editable": false
   },
   "source": [
    "## Parameters:"
   ]
  },
  {
   "cell_type": "markdown",
   "metadata": {},
   "source": [
    "* __*connection*__&nbsp; &nbsp; &nbsp; &nbsp; &nbsp; : A valid Db2 server or database connection. \n",
    "* __qualifierName__&nbsp; &nbsp; &nbsp; : A valid qualifier name for Db2 databases on OS/390 or z/OS servers; the value `None` or an empty string (`''`) for Db2 databases on other operating systems. \n",
    "* __schemaName__&nbsp; &nbsp; &nbsp; &nbsp;: The name of the schema that contains the procedure(s) that parameter information is to be obtained for. To match all schemas, provide the value `None` or an empty string; to match select schemas, provide a search pattern that contains __`_`__ and/or __`%`__ wildcards.\n",
    "* __procedureName__&nbsp; &nbsp;: The name of the procedure(s) that parameter information is to be obtained for. To match all procedures, provide the value `None` or an empty string; to match select procedures, provide a search pattern that contains __`_`__ and/or __`%`__ wildcards.\n",
    "* __parameterName__&nbsp; &nbsp; : The name of the parameter(s) that information is to be obtained for. To match all parameters, provide the value `None` or an empty string; to match select parameters, provide a search pattern that contains __`_`__ and/or __`%`__ wildcards.  "
   ]
  },
  {
   "cell_type": "markdown",
   "metadata": {
    "deletable": false,
    "editable": false
   },
   "source": [
    "## Return values:"
   ]
  },
  {
   "cell_type": "markdown",
   "metadata": {
    "deletable": false,
    "editable": false
   },
   "source": [
    "* If __successful__, an IBM_DBStatement with a result set that contains the following information:<p>\n",
    "\n",
    "    * `PROCEDURE_CAT` &nbsp; &nbsp; &nbsp; &nbsp; &nbsp; &nbsp;: The name of the catalog associated with the schema that contains the procedure; Db2 does not use catalogs so this field will always contain the value `None`. *(Db2 databases on OS/390 or z/OS servers can return information in this field.)*\n",
    "    * `PROCEDURE_SCHEM` &nbsp; &nbsp; &nbsp; &nbsp;: The name of the schema that contains the procedure.\n",
    "    * `PROCEDURE_NAME` &nbsp; &nbsp; &nbsp; &nbsp; &nbsp;: The name of the procedure.\n",
    "    * `COLUMN_NAME`&nbsp; &nbsp; &nbsp; &nbsp; &nbsp; &nbsp; &nbsp; &nbsp; : The name of a parameter that has been defined for the procedure.\n",
    "    * `COLUMN_TYPE`&nbsp; &nbsp; &nbsp; &nbsp; &nbsp; &nbsp; &nbsp; &nbsp; : A value that indicates what type of parameter the parameter is. Valid values for this field are:<p>\n",
    "    \n",
    "        * `ibm_db.SQL_PARAM_INPUT`&nbsp; &nbsp; &nbsp; &nbsp; &nbsp; &nbsp; &nbsp; &nbsp; &nbsp;: The parameter is an input (IN) parameter.\n",
    "        * `ibm_db.SQL_PARAM_OUTPUT`&nbsp; &nbsp; &nbsp; &nbsp; &nbsp; &nbsp; &nbsp; &nbsp;: The parameter is an output (OUT) parameter.\n",
    "        * `ibm_db.SQL_PARAM_INPUT_OUTPUT`&nbsp; &nbsp;: The parameter is an input/output (INOUT) parameter.<p>\n",
    "            \n",
    "    * `DATA_TYPE`&nbsp; &nbsp; &nbsp; &nbsp; &nbsp; &nbsp; &nbsp; &nbsp; &nbsp; &nbsp; : An integer value that represents the SQL data type of the parameter. On Linux and UNIX systems, valid values for this field can be found in the file */opt/ibm/db2/V11.1/include/sqlcli.h*.\n",
    "    * `TYPE_NAME`&nbsp; &nbsp; &nbsp; &nbsp; &nbsp; &nbsp; &nbsp; &nbsp; &nbsp; &nbsp; : The data source-specific string representation of the SQL data type of the parameter.\n",
    "    * `COLUMN_SIZE`&nbsp; &nbsp; &nbsp; &nbsp; &nbsp; &nbsp; &nbsp; &nbsp; : The maximum number of bytes needed to display the parameter's data as a string.\n",
    "    * `BUFFER_LENGTH`&nbsp; &nbsp; &nbsp; &nbsp; &nbsp; &nbsp; : The maximum number of bytes needed to store the parameter's data in an application variable.\n",
    "    * `DECIMAL_DIGITS`&nbsp; &nbsp; &nbsp; &nbsp; &nbsp; : The scale (i.e., total number of significant digits to the right of the decimal point) of the parameter - provided the parameter has a numerical data type. If the parameter does not have a numerical data type, this field will contain the value `None`.\n",
    "    * `NUM_PREC_RADIX`&nbsp; &nbsp; &nbsp; &nbsp; &nbsp; : A numerical value that indicates whether the parameter's data type represents an exact numeric data type (`10`) or an approximate numeric data type (`2`). If the parameter does not have a numerical data type, this field will contain the value `None`.\n",
    "    * `NULLABLE`&nbsp; &nbsp; &nbsp; &nbsp; &nbsp; &nbsp; &nbsp; &nbsp; &nbsp; &nbsp; &nbsp; : Indication of whether the parameter accepts a __NULL__ value; `ibm_db.SQL_YES` will be returned if __NULL__ values are accepted and `ibm_db.SQL_NO` will be returned if they are not..\n",
    "    * `REMARKS`&nbsp; &nbsp; &nbsp; &nbsp; &nbsp; &nbsp; &nbsp; &nbsp; &nbsp; &nbsp; &nbsp; &nbsp; : A user-supplied description of the parameter (if one has been provided).\n",
    "    * `COLUMN_DEF`&nbsp; &nbsp; &nbsp; &nbsp; &nbsp; &nbsp; &nbsp; &nbsp; &nbsp; : The default value for the parameter (if one has been defined).\n",
    "    * `SQL_DATA_TYPE`&nbsp; &nbsp; &nbsp; &nbsp; &nbsp; &nbsp; : An integer value that represents the SQL data type of the parameter, <u>as it would appear in a row descriptor record</u>. On Linux and UNIX systems, valid values for this field can be found in the file */opt/ibm/db2/V11.1/include/sqlcli.h*. (In most cases, this will be the same as the value provided in the __DATA_TYPE__ field.)\n",
    "    * `SQL_DATETIME_SUB`&nbsp; &nbsp; &nbsp; : An integer value that represents the SQL date/time subtype code for the parameter - provided the parameter has a date, time, or timestamp data type. If the parameter does not have one of these data types, this field will contain the value `None`. (On Linux and UNIX systems, valid values for this field can be found in the file */opt/ibm/db2/V11.1/include/sqlcli.h*.)\n",
    "    * `CHAR_OCTET_LENGTH`&nbsp; &nbsp; : The maximum length, in octets (8-bit bytes), needed to display the parameter's data as a string. (This will be the same as the __COLUMN_SIZE__ value for single-byte character set data.) If the parameter does not have a character data type, this field will contain the value `None`.\n",
    "    * `ORDINAL_POSITION`&nbsp; &nbsp; &nbsp; : The parameter's ordinal position in the __CALL__ statement that would be used to invoke the procedure, starting from 1.\n",
    "    * `IS_NULLABLE`&nbsp; &nbsp; &nbsp; &nbsp; &nbsp; &nbsp; &nbsp; &nbsp; : Indication of whether the parameter can contain __NULL__ values, according to the rules in the ISO SQL92 standard. This field will contain the value `\"YES\"` if the column can contain __NULL__ values and the value `\"NO\"` if it cannot.<p>\n",
    "    \n",
    "* If __unsuccessful__, the value `False`."
   ]
  },
  {
   "cell_type": "markdown",
   "metadata": {
    "deletable": false,
    "editable": false
   },
   "source": [
    "## Description:"
   ]
  },
  {
   "cell_type": "markdown",
   "metadata": {
    "deletable": false,
    "editable": false
   },
   "source": [
    "The __ibm_db.procedure_columns()__ API is used to retrieve information about the parameters that have been defined for one or more stored procedures.\n",
    "\n",
    "The information returned by this API is placed in a result data set, which can be processed using the same APIs that are used to process result data sets that are generated by SQL queries. That is, a single row can be retrieved and stored in a tuple or dictionary using the  __ibm_db.fetch_tuple()__ (tuple), __ibm_db.fetch_assoc()__ (dictionary), or __ibm_db.fetch_both()__ (tuple *and* dictionary) APIs. Alternately, the __ibm_db.fetch_row()__ API can be used to move the result set pointer to each row in the result set produced and the __ibm_db.result()__ API can be used to fetch a column from the current row."
   ]
  },
  {
   "cell_type": "markdown",
   "metadata": {
    "deletable": false,
    "editable": false
   },
   "source": [
    "## Example:"
   ]
  },
  {
   "cell_type": "code",
   "execution_count": 1,
   "metadata": {
    "deletable": false
   },
   "outputs": [
    {
     "name": "stdout",
     "output_type": "stream",
     "text": [
      "\n",
      "Connecting to the SAMPLE database ... Done!\n",
      "\n",
      "Obtaining information about the parameters that have been defined for the VALIDATE_LENGTH\n",
      "procedure ... Done!\n",
      "\n",
      "Stored procedure parameter 1 details:\n",
      "____________________________________________________________\n",
      "Procedure schema                   : SYSIBMADM\n",
      "Procedure name                     : VALIDATE_LENGTH\n",
      "Parameter name                     : LENGTH1\n",
      "Parameter type                     : Input (IN)\n",
      "Data type                          : INTEGER\n",
      "Size                               : 10\n",
      "Buffer size                        : 4\n",
      "Scale (decimal digits)             : 0\n",
      "Precision radix                    : Exact numeric data type\n",
      "Can accept NULL values             : YES\n",
      "Remarks                            : None\n",
      "Default value                      : None\n",
      "SQL data type                      : SQL_INTEGER\n",
      "SQL data/time subtype              : None\n",
      "Length in octets                   : Not applicable\n",
      "Ordinal position                   : 1\n",
      "Can accept or return 'None' values : YES\n",
      "\n",
      "Stored procedure parameter 2 details:\n",
      "____________________________________________________________\n",
      "Procedure schema                   : SYSIBMADM\n",
      "Procedure name                     : VALIDATE_LENGTH\n",
      "Parameter name                     : LENGTH2\n",
      "Parameter type                     : Input (IN)\n",
      "Data type                          : INTEGER\n",
      "Size                               : 10\n",
      "Buffer size                        : 4\n",
      "Scale (decimal digits)             : 0\n",
      "Precision radix                    : Exact numeric data type\n",
      "Can accept NULL values             : YES\n",
      "Remarks                            : None\n",
      "Default value                      : None\n",
      "SQL data type                      : SQL_INTEGER\n",
      "SQL data/time subtype              : None\n",
      "Length in octets                   : Not applicable\n",
      "Ordinal position                   : 2\n",
      "Can accept or return 'None' values : YES\n",
      "\n",
      "Stored procedure parameter 3 details:\n",
      "____________________________________________________________\n",
      "Procedure schema                   : SYSIBMADM\n",
      "Procedure name                     : VALIDATE_LENGTH\n",
      "Parameter name                     : ERRORCODE\n",
      "Parameter type                     : Input (IN)\n",
      "Data type                          : VARCHAR\n",
      "Size                               : 10\n",
      "Buffer size                        : 10\n",
      "Scale (decimal digits)             : Not applicable\n",
      "Precision radix                    : Not applicable\n",
      "Can accept NULL values             : YES\n",
      "Remarks                            : None\n",
      "Default value                      : None\n",
      "SQL data type                      : SQL_VARCHAR\n",
      "SQL data/time subtype              : None\n",
      "Length in octets                   : 10\n",
      "Ordinal position                   : 3\n",
      "Can accept or return 'None' values : YES\n",
      "\n",
      "Disconnecting from the SAMPLE database ... Done!\n",
      "\n"
     ]
    }
   ],
   "source": [
    "#----------------------------------------------------------------------------------------------#\n",
    "#  NAME:     ibm_db-procedure_columns.py                                                       #\n",
    "#                                                                                              #\n",
    "#  PURPOSE:  This program is designed to illustrate how to use the ibm_db.procedure_columns()  #\n",
    "#            API.                                                                              #\n",
    "#                                                                                              #\n",
    "#            Additional APIs used:                                                             #\n",
    "#                 ibm_db.fetch_assoc()                                                         #\n",
    "#                                                                                              #\n",
    "#----------------------------------------------------------------------------------------------#\n",
    "#                     DISCLAIMER OF WARRANTIES AND LIMITATION OF LIABILITY                     #\n",
    "#                                                                                              #\n",
    "#  (C) COPYRIGHT International Business Machines Corp. 2018, 2019 All Rights Reserved          #\n",
    "#  Licensed Materials - Property of IBM                                                        #\n",
    "#                                                                                              #\n",
    "#  US Government Users Restricted Rights - Use, duplication or disclosure restricted by GSA    #\n",
    "#  ADP Schedule Contract with IBM Corp.                                                        #\n",
    "#                                                                                              #\n",
    "#  The following source code (\"Sample\") is owned by International Business Machines            #\n",
    "#  Corporation (\"IBM\") or one of its subsidiaries and is copyrighted and licensed, not sold.   #\n",
    "#  You may use, copy, modify, and distribute the Sample in any form without payment to IBM,    #\n",
    "#  for the purpose of assisting you in the creation of Python applications using the ibm_db    #\n",
    "#  library.                                                                                    #\n",
    "#                                                                                              #\n",
    "#  The Sample code is provided to you on an \"AS IS\" basis, without warranty of any kind. IBM   #\n",
    "#  HEREBY EXPRESSLY DISCLAIMS ALL WARRANTIES, EITHER EXPRESS OR IMPLIED, INCLUDING, BUT NOT    #\n",
    "#  LIMITED TO, THE IMPLIED WARRANTIES OF MERCHANTABILITY AND FITNESS FOR A PARTICULAR PURPOSE. #\n",
    "#  Some jurisdictions do not allow for the exclusion or limitation of implied warranties, so   #\n",
    "#  the above limitations or exclusions may not apply to you. IBM shall not be liable for any   #\n",
    "#  damages you suffer as a result of using, copying, modifying or distributing the Sample,     #\n",
    "#  even if IBM has been advised of the possibility of such damages.                            #\n",
    "#----------------------------------------------------------------------------------------------#\n",
    "\n",
    "# Load The Appropriate Python Modules\n",
    "import sys         # Provides Information About Python Interpreter Constants And Functions\n",
    "import ibm_db      # Contains The APIs Needed To Work With Db2 Databases\n",
    "\n",
    "#----------------------------------------------------------------------------------------------#\n",
    "# Import The Db2ConnectionMgr Class Definition, Attributes, And Methods That Have Been Defined #\n",
    "# In The File Named \"ibm_db_tools.py\"; This Class Contains The Programming Logic Needed To     #\n",
    "# Establish And Terminate A Connection To A Db2 Server Or Database                             #\n",
    "#----------------------------------------------------------------------------------------------#\n",
    "from ibm_db_tools import Db2ConnectionMgr\n",
    "\n",
    "#----------------------------------------------------------------------------------------------#\n",
    "# Import The ipynb_exit Class Definition, Attributes, And Methods That Have Been Defined In    #\n",
    "# The File Named \"ipynb_exit.py\"; This Class Contains The Programming Logic Needed To Allow    #\n",
    "# \"exit()\" Functionality To Work Without Raising An Error Or Stopping The Kernel If The        #\n",
    "# Application Is Invoked In A Jupyter Notebook                                                 #\n",
    "#----------------------------------------------------------------------------------------------#\n",
    "from ipynb_exit import exit\n",
    "\n",
    "# Define And Initialize The Appropriate Variables\n",
    "dbName = \"SAMPLE\"\n",
    "userID = \"db2inst1\"\n",
    "passWord = \"db2inst1\"\n",
    "dbConnection = None\n",
    "procedureName = 'VALIDATE_LENGTH'\n",
    "resultSet = False\n",
    "dataRecord = False\n",
    "sqlDataTypes = {0 : \"SQL_UNKNOWN_TYPE\", 1 : \"SQL_CHAR\", 2 : \"SQL_NUMERIC\", 3 : \"SQL_DECIMAL\",\n",
    "    4 : \"SQL_INTEGER\", 5 : \"SQL_SMALLINT\", 6 : \"SQL_FLOAT\", 7 : \"SQL_REAL\", 8 : \"SQL_DOUBLE\",\n",
    "    9 : \"SQL_DATETIME\", 12 : \"SQL_VARCHAR\", 16 : \"SQL_BOOLEAN\", 19 : \"SQL_ROW\", \n",
    "    91 : \"SQL_TYPE_DATE\", 92 : \"SQL_TYPE_TIME\", 93 : \"SQL_TYPE_TIMESTAMP\",\n",
    "    95 : \"SQL_TYPE_TIMESTAMP_WITH_TIMEZONE\", -8 : \"SQL_WCHAR\", -9 : \"SQL_WVARCHAR\",\n",
    "    -10 : \"SQL_WLONGVARCHAR\", -95 : \"SQL_GRAPHIC\", -96 : \"SQL_VARGRAPHIC\",\n",
    "    -97 : \"SQL_LONGVARGRAPHIC\", -98 : \"SQL_BLOB\", -99 : \"SQL_CLOB\", -350 : \"SQL_DBCLOB\",\n",
    "    -360 : \"SQL_DECFLOAT\", -370 : \"SQL_XML\", -380 : \"SQL_CURSORHANDLE\", -400 : \"SQL_DATALINK\",\n",
    "    -450 : \"SQL_USER_DEFINED_TYPE\"}\n",
    "sqlDateTimeSubtypes = {1 : \"SQL_CODE_DATE\", 2 : \"SQL_CODE_TIME\", 3 : \"SQL_CODE_TIMESTAMP\",\n",
    "    4 : \"SQL_CODE_TIMESTAMP_WITH_TIMEZONE\"}\n",
    "\n",
    "# Create An Instance Of The Db2ConnectionMgr Class And Use It To Connect To A Db2 Database\n",
    "conn = Db2ConnectionMgr('DB', dbName, '', '', userID, passWord)\n",
    "conn.openConnection()\n",
    "if conn.returnCode is True:\n",
    "    dbConnection = conn.connectionID\n",
    "else:\n",
    "    conn.closeConnection()\n",
    "    exit(-1)\n",
    "\n",
    "# Attempt To Retrieve Information About The Parameters That Have Been Defined For A Particular\n",
    "# Stored Procedure\n",
    "print(\"Obtaining information about the parameters that have been defined for the \", end=\"\")\n",
    "print(procedureName + \"\\nprocedure ... \", end=\"\")\n",
    "try:\n",
    "    resultSet = ibm_db.procedure_columns(dbConnection, None, '', procedureName, None)\n",
    "except Exception:\n",
    "    pass\n",
    "\n",
    "# If The Information Desired Could Not Be Retrieved, Display An Error Message And Exit\n",
    "if resultSet is False:\n",
    "    print(\"\\nERROR: Unable to obtain the information desired\\n.\")\n",
    "    conn.closeConnection()\n",
    "    exit(-1)\n",
    "\n",
    "# Otherwise, Complete The Status Message\n",
    "else:\n",
    "    print(\"Done!\\n\")\n",
    "\n",
    "# As Long As There Are Records (That Were Produced By The ibm_db.procedure_columns API), ...\n",
    "noData = False\n",
    "loopCounter = 1\n",
    "while noData is False:\n",
    "\n",
    "    # Retrieve A Record And Store It In A Python Dictionary\n",
    "    try:\n",
    "        dataRecord = ibm_db.fetch_assoc(resultSet)\n",
    "    except:\n",
    "        pass\n",
    "\n",
    "    # If The Data Could Not Be Retrieved Or If There Was No Data To Retrieve, Set The\n",
    "    # \"No Data\" Flag And Exit The Loop  \n",
    "    if dataRecord is False:\n",
    "        noData = True\n",
    "\n",
    "    # Otherwise, Display The Information Retrieved\n",
    "    else:\n",
    "\n",
    "        # Display Record Header Information\n",
    "        print(\"Stored procedure parameter \" + str(loopCounter) + \" details:\")\n",
    "        print(\"____________________________________________________________\")\n",
    "\n",
    "        # Display The Information Stored In The Data Record Retrieved\n",
    "        print(\"Procedure schema                   : {}\" .format(dataRecord['PROCEDURE_SCHEM']))\n",
    "        print(\"Procedure name                     : {}\" .format(dataRecord['PROCEDURE_NAME']))\n",
    "        print(\"Parameter name                     : {}\" .format(dataRecord['COLUMN_NAME']))\n",
    "        print(\"Parameter type                     : \", end=\"\")\n",
    "        if dataRecord['COLUMN_TYPE'] == ibm_db.SQL_PARAM_INPUT:\n",
    "            print(\"Input (IN)\")\n",
    "        elif dataRecord['COLUMN_TYPE'] == ibm_db.SQL_PARAM_INPUT_OUTPUT:\n",
    "            print(\"Input/output (INOUT)\")\n",
    "        elif dataRecord['COLUMN_TYPE'] == ibm_db.SQL_PARAM_OUTPUT:\n",
    "            print(\"Output (OUT)\")\n",
    "        else:\n",
    "            print(\"Unknown\")\n",
    "        print(\"Data type                          : {}\" .format(dataRecord['TYPE_NAME']))\n",
    "        print(\"Size                               : {}\" .format(dataRecord['COLUMN_SIZE']))\n",
    "        print(\"Buffer size                        : {}\" .format(dataRecord['BUFFER_LENGTH']))\n",
    "        print(\"Scale (decimal digits)             : \", end=\"\")\n",
    "        if dataRecord['DECIMAL_DIGITS'] == None:\n",
    "            print(\"Not applicable\")\n",
    "        else:\n",
    "            print(\"{}\" .format(dataRecord['DECIMAL_DIGITS']))\n",
    "        print(\"Precision radix                    : \", end=\"\")\n",
    "        if dataRecord['NUM_PREC_RADIX'] == 10:\n",
    "            print(\"Exact numeric data type\")\n",
    "        elif dataRecord['NUM_PREC_RADIX'] == 2:\n",
    "            print(\"Approximate numeric data type\")\n",
    "        elif dataRecord['NUM_PREC_RADIX'] == None:\n",
    "            print(\"Not applicable\")\n",
    "        print(\"Can accept NULL values             : \", end=\"\")\n",
    "        if dataRecord['NULLABLE'] == 1:\n",
    "            print(\"YES\")\n",
    "        else:\n",
    "            print(\"NO\")\n",
    "        print(\"Remarks                            : {}\" .format(dataRecord['REMARKS']))\n",
    "        print(\"Default value                      : {}\" .format(dataRecord['COLUMN_DEF']))\n",
    "        print(\"SQL data type                      : \", end=\"\")\n",
    "        print(sqlDataTypes.get(dataRecord['SQL_DATA_TYPE']))\n",
    "        print(\"SQL data/time subtype              : \", end=\"\")\n",
    "        print(sqlDateTimeSubtypes.get(dataRecord['SQL_DATETIME_SUB']))\n",
    "        print(\"Length in octets                   : \", end=\"\")\n",
    "        if dataRecord['CHAR_OCTET_LENGTH'] == None:\n",
    "            print(\"Not applicable\")\n",
    "        else:\n",
    "            print(\"{}\" .format(dataRecord['CHAR_OCTET_LENGTH']))\n",
    "        print(\"Ordinal position                   : {}\" .format(dataRecord['ORDINAL_POSITION']))\n",
    "        print(\"Can accept or return \\'None\\' values : {}\" .format(dataRecord['IS_NULLABLE']))\n",
    "\n",
    "        # Increment The loopCounter Variable And Print A Blank Line To Separate The\n",
    "        # Records From Each Other\n",
    "        loopCounter += 1\n",
    "        print()\n",
    "\n",
    "# Close The Database Connection That Was Opened Earlier\n",
    "conn.closeConnection()\n",
    "\n",
    "# Return Control To The Operating System\n",
    "exit()"
   ]
  },
  {
   "cell_type": "code",
   "execution_count": null,
   "metadata": {},
   "outputs": [],
   "source": []
  }
 ],
 "metadata": {
  "kernelspec": {
   "display_name": "Python 3",
   "language": "python",
   "name": "python3"
  },
  "language_info": {
   "codemirror_mode": {
    "name": "ipython",
    "version": 3
   },
   "file_extension": ".py",
   "mimetype": "text/x-python",
   "name": "python",
   "nbconvert_exporter": "python",
   "pygments_lexer": "ipython3",
   "version": "3.7.1"
  }
 },
 "nbformat": 4,
 "nbformat_minor": 2
}
