{
 "cells": [
  {
   "cell_type": "markdown",
   "metadata": {
    "deletable": false,
    "editable": false
   },
   "source": [
    "# ibm_db.get_option()"
   ]
  },
  {
   "cell_type": "markdown",
   "metadata": {
    "deletable": false,
    "editable": false
   },
   "source": [
    "## Purpose:"
   ]
  },
  {
   "cell_type": "markdown",
   "metadata": {
    "deletable": false,
    "editable": false
   },
   "source": [
    "Retrieve the current value of a connection or statement option (attribute)."
   ]
  },
  {
   "cell_type": "markdown",
   "metadata": {
    "deletable": false,
    "editable": false
   },
   "source": [
    "## Syntax:"
   ]
  },
  {
   "cell_type": "markdown",
   "metadata": {
    "deletable": false,
    "editable": false
   },
   "source": [
    "`mixed ibm_db.get_option( mixed `*`resource,`*` int `*`options,`*` int `*`resourceType`*` )`"
   ]
  },
  {
   "cell_type": "markdown",
   "metadata": {
    "deletable": false,
    "editable": false
   },
   "source": [
    "## Parameters:"
   ]
  },
  {
   "cell_type": "markdown",
   "metadata": {
    "deletable": false,
    "editable": false
   },
   "source": [
    "* __*resource*__&nbsp; &nbsp; &nbsp; &nbsp; &nbsp; &nbsp; : A valid `IBM_DBConnection` or `IBM_DBStatement` object. \n",
    "* __options__&nbsp; &nbsp; &nbsp; &nbsp; &nbsp; &nbsp; &nbsp; : A valid key for the attribute whose value is to be retrieved. Valid keys for `IBM_DBConnection` objects are:<p>\n",
    "    \n",
    "    * `ibm_db.SQL_ATTR_AUTOCOMMIT`&nbsp; &nbsp; &nbsp; &nbsp; &nbsp; &nbsp; &nbsp; &nbsp; &nbsp; &nbsp; &nbsp; &nbsp; &nbsp; &nbsp; &nbsp; &nbsp;: Indicates whether __AUTOCOMMIT__ mode is being used or not; `ibm_db.SQL_AUTOCOMMIT_ON` will be returned if __AUTOCOMMIT__ behavior is __ON__  and `ibm_db.SQL_AUTOCOMMIT_OFF` will be returned if it is __OFF__.\n",
    "    * `ibm_db.SQL_ATTR_CASE`&nbsp; &nbsp; &nbsp; &nbsp; &nbsp; &nbsp; &nbsp; &nbsp; &nbsp; &nbsp; &nbsp; &nbsp; &nbsp; &nbsp; &nbsp; &nbsp; &nbsp; &nbsp; &nbsp; &nbsp; &nbsp; &nbsp;: The case that column names will be returned in; `ibm_db.CASE_NATURAL` will cause column names to be returned in natural case, `ibm_db.CASE_LOWER` will cause them to be returned in lower case, and `ibm_db.CASE_UPPER` will cause them to be returned in upper case. *(This attribute can only be used with Db2 databases on OS/390 or z/OS servers.)*\n",
    "    * `ibm_db.SQL_ATTR_CURRENT_SCHEMA`&nbsp; &nbsp; &nbsp; &nbsp; &nbsp; &nbsp; &nbsp; &nbsp; &nbsp; &nbsp; &nbsp; &nbsp;: The name of the schema that is used, by default, when operations that require a schema name are performed and no schema name is provided.\n",
    "    * `ibm_db.SQL_ATTR_INFO_ACCTSTR`&nbsp; &nbsp; &nbsp; &nbsp; &nbsp; &nbsp; &nbsp; &nbsp; &nbsp; &nbsp; &nbsp; &nbsp; &nbsp; &nbsp;: The client accounting string (that may have been sent to the currently connected Db2 server or database).\n",
    "    * `ibm_db.SQL_ATTR_INFO_APPLNAME`&nbsp; &nbsp; &nbsp; &nbsp; &nbsp; &nbsp; &nbsp; &nbsp; &nbsp; &nbsp; &nbsp; &nbsp; &nbsp;: The client application name (that may have been sent to the currently connected Db2 server or database).\n",
    "    * `ibm_db.SQL_ATTR_INFO_PROGRAMNAME`&nbsp; &nbsp; &nbsp; &nbsp; &nbsp; &nbsp; &nbsp; &nbsp; &nbsp; &nbsp;: The name of the application being run (on the client).\n",
    "    * `ibm_db.SQL_ATTR_INFO_USERID`&nbsp; &nbsp; &nbsp; &nbsp; &nbsp; &nbsp; &nbsp; &nbsp; &nbsp; &nbsp; &nbsp; &nbsp; &nbsp; &nbsp; &nbsp;: The client user ID (accounting user ID) that may have been sent to the currently connected Db2 server or database. This information is used for identification purposes only&mdash;not for authentication.\n",
    "    * `ibm_db.SQL_ATTR_INFO_WRKSTNNAME`&nbsp; &nbsp; &nbsp; &nbsp; &nbsp; &nbsp; &nbsp; &nbsp; &nbsp; &nbsp; &nbsp;: The client workstation name (that may have been sent to the currently connected Db2 server or database).\n",
    "    * `ibm_db.SQL_ATTR_USE_TRUSTED_CONTEXT`&nbsp; &nbsp; &nbsp; &nbsp; &nbsp; &nbsp; &nbsp;: Indicates whether the connection to a Db2 server or database being used is treated as a trusted connection; `ibm_db.SQL_TRUE` indicates a trusted connection is being used and `ibm_db.SQL_FALSE` indicates a trusted connection is <u>not</u>. \n",
    "    * `ibm_db.SQL_ATTR_TRUSTED_CONTEXT_USERID`&nbsp; &nbsp; &nbsp; &nbsp;: The client user ID (accounting user ID) that the trusted connection being used has been switched to.   \n",
    "    * `ibm_db.SQL_ATTR_TRUSTED_CONTEXT_PASSWORD`&nbsp; &nbsp;: The password for the __ibm_db.SQL_ATTR_TRUSTED_CONTEXT_USERID__ user.<p>\n",
    "    \n",
    " Valid keys for `IBM_DBStatement` objects are:<p>\n",
    "        \n",
    "    * `ibm_db.SQL_ATTR_CURSOR_TYPE`&nbsp; &nbsp; &nbsp; &nbsp; &nbsp; &nbsp; &nbsp; &nbsp; &nbsp; &nbsp; &nbsp; &nbsp; &nbsp; &nbsp; &nbsp;: The type of cursor that is being used to process result sets. Valid values are:\n",
    "        * `ibm_db.SQL_CURSOR_FORWARD_ONLY`&nbsp; &nbsp; &nbsp; &nbsp; &nbsp; &nbsp; &nbsp; &nbsp; &nbsp;: A forward only cursor is being used.\n",
    "        * `ibm_db. SQL_CURSOR_KEYSET_DRIVEN`&nbsp; &nbsp; &nbsp; &nbsp; &nbsp; &nbsp; &nbsp;: A keyset-driven cursor is being used.\n",
    "        * `ibm_db.SQL_CURSOR_STATIC`&nbsp; &nbsp; &nbsp; &nbsp; &nbsp;  &nbsp; &nbsp; &nbsp; &nbsp; &nbsp; &nbsp; &nbsp; &nbsp; &nbsp; &nbsp;: A static cursor is being used.\n",
    "        * `ibm_db.SQL_CURSOR_DYNAMIC`&nbsp; &nbsp; &nbsp; &nbsp; &nbsp;  &nbsp; &nbsp; &nbsp; &nbsp; &nbsp; &nbsp; &nbsp; &nbsp; &nbsp;: A dynamic, scrollable cursor is being used. Dynamic cursors are only supported by Db2 for z/OS servers.\n",
    "    * `ibm_db.SQL_ATTR_ROWCOUNT_PREFETCH`&nbsp; &nbsp; &nbsp; &nbsp; &nbsp; &nbsp; &nbsp; &nbsp; &nbsp;: Identifies whether Db2 will try to determine the number of rows that will be returned by a query; `ibm_db.SQL_ROWCOUNT_PREFETCH_ON` will be returned if this behavior is turned __ON__ and `ibm_db.SQL_ROWCOUNT_PREFETCH_OFF` if it is turned __OFF__.\n",
    "    * `ibm_db.SQL_ATTR_QUERY_TIMEOUT`&nbsp; &nbsp; &nbsp; &nbsp; &nbsp; &nbsp; &nbsp; &nbsp; &nbsp; &nbsp; &nbsp; &nbsp; &nbsp;: The number of seconds Db2 will wait for an SQL statement to execute before aborting and returning to the application. A value of __0__ indicates applications will wait indefinitely for the server to complete execution.<p>   \n",
    "    \n",
    "* __resourceType__&nbsp; &nbsp; : Identifies whether the value provided in the __*resource*__ parameter is an `IBM_DBConnection` object or an `IBM_DBStatement` object. Valid values for this parameter are:<p>\n",
    "    \n",
    "    * `0`&nbsp; &nbsp;: The __*resource*__ parameter contains a valid `IBM_DBStatement` object.\n",
    "    * `1`&nbsp; &nbsp;: The __*resource*__ parameter contains a valid `IBM_DBConnection` object."
   ]
  },
  {
   "cell_type": "markdown",
   "metadata": {
    "deletable": false,
    "editable": false
   },
   "source": [
    "## Return Values:"
   ]
  },
  {
   "cell_type": "markdown",
   "metadata": {
    "deletable": false,
    "editable": false
   },
   "source": [
    "* If __successful__, the current setting of the option specified.\n",
    "* If __unsuccessful__, a Python interpreter error."
   ]
  },
  {
   "cell_type": "markdown",
   "metadata": {
    "deletable": false,
    "editable": false
   },
   "source": [
    "## Description:"
   ]
  },
  {
   "cell_type": "markdown",
   "metadata": {
    "deletable": false,
    "editable": false
   },
   "source": [
    "The __ibm_db.get_option__ API is used to retrieve the current setting of a specific connection or statement option (attribute)."
   ]
  },
  {
   "cell_type": "markdown",
   "metadata": {
    "deletable": false,
    "editable": false
   },
   "source": [
    "## Examples:"
   ]
  },
  {
   "cell_type": "markdown",
   "metadata": {
    "deletable": false,
    "editable": false
   },
   "source": [
    "### &nbsp; &nbsp; Example 1: Get connection options"
   ]
  },
  {
   "cell_type": "code",
   "execution_count": 1,
   "metadata": {
    "deletable": false
   },
   "outputs": [
    {
     "name": "stdout",
     "output_type": "stream",
     "text": [
      "\n",
      "Connecting to the 'SAMPLE' database ... Done!\n",
      "\n",
      "Connection option settings:\n",
      "\n",
      "OPTION                     SETTING\n",
      "_________________________  ____________________\n",
      "SQL_ATTR_AUTOCOMMIT        1\n",
      "SQL_ATTR_CURRENT_SCHEMA    db2inst1\n",
      "SQL_ATTR_INFO_PROGRAMNAME  ibm_db-get_option.py\n",
      "\n",
      "Disconnecting from the 'SAMPLE' database ... Done!\n",
      "\n"
     ]
    }
   ],
   "source": [
    "#----------------------------------------------------------------------------------------------#\n",
    "#  NAME:     ibm_db-get_option_CONNECTION.py                                                   #\n",
    "#                                                                                              #\n",
    "#  PURPOSE:  This program is designed to illustrate how to use the ibm_db.get_option() API to  #\n",
    "#            obtain the values that have been assigned to some of the connection options       #\n",
    "#            available.                                                                        #\n",
    "#                                                                                              #\n",
    "#            Additional APIs used:                                                             #\n",
    "#                 ibm_db.connect()                                                             #\n",
    "#                 ibm_db.close()                                                               #\n",
    "#                                                                                              #\n",
    "#----------------------------------------------------------------------------------------------#\n",
    "#                     DISCLAIMER OF WARRANTIES AND LIMITATION OF LIABILITY                     #\n",
    "#                                                                                              #\n",
    "#  (C) COPYRIGHT International Business Machines Corp. 2018, 2019 All Rights Reserved          #\n",
    "#  Licensed Materials - Property of IBM                                                        #\n",
    "#                                                                                              #\n",
    "#  US Government Users Restricted Rights - Use, duplication or disclosure restricted by GSA    #\n",
    "#  ADP Schedule Contract with IBM Corp.                                                        #\n",
    "#                                                                                              #\n",
    "#  The following source code (\"Sample\") is owned by International Business Machines            #\n",
    "#  Corporation (\"IBM\") or one of its subsidiaries and is copyrighted and licensed, not sold.   #\n",
    "#  You may use, copy, modify, and distribute the Sample in any form without payment to IBM,    #\n",
    "#  for the purpose of assisting you in the creation of Python applications using the ibm_db    #\n",
    "#  library.                                                                                    #\n",
    "#                                                                                              #\n",
    "#  The Sample code is provided to you on an \"AS IS\" basis, without warranty of any kind. IBM   #\n",
    "#  HEREBY EXPRESSLY DISCLAIMS ALL WARRANTIES, EITHER EXPRESS OR IMPLIED, INCLUDING, BUT NOT    #\n",
    "#  LIMITED TO, THE IMPLIED WARRANTIES OF MERCHANTABILITY AND FITNESS FOR A PARTICULAR PURPOSE. #\n",
    "#  Some jurisdictions do not allow for the exclusion or limitation of implied warranties, so   #\n",
    "#  the above limitations or exclusions may not apply to you. IBM shall not be liable for any   #\n",
    "#  damages you suffer as a result of using, copying, modifying or distributing the Sample,     #\n",
    "#  even if IBM has been advised of the possibility of such damages.                            #\n",
    "#----------------------------------------------------------------------------------------------#\n",
    "\n",
    "# Load The Appropriate Python Modules\n",
    "import sys         # Provides Information About Python Interpreter Constants And Functions\n",
    "import ibm_db      # Contains The APIs Needed To Work With Db2 Databases\n",
    "\n",
    "#----------------------------------------------------------------------------------------------#\n",
    "# Import The ipynb_exit Class Definition, Attributes, And Methods That Have Been Defined In    #\n",
    "# The File Named \"ipynb_exit.py\"; This Class Contains The Programming Logic Needed To Allow    #\n",
    "# \"exit()\" Functionality To Work Without Raising An Error Or Stopping The Kernel If The        #\n",
    "# Application Is Invoked In A Jupyter Notebook                                                 #\n",
    "#----------------------------------------------------------------------------------------------#\n",
    "from ipynb_exit import exit\n",
    "\n",
    "# Define And Initialize The Appropriate Variables\n",
    "dbName = \"SAMPLE\"\n",
    "userID = \"db2inst1\"\n",
    "passWord = \"db2inst1\"\n",
    "dbConnection = None\n",
    "\n",
    "# Create A Dictionary That Contains Connection Options That Can Be Set Before A Database\n",
    "# Connection Is Established\n",
    "connectOptions = {ibm_db.SQL_ATTR_AUTOCOMMIT : ibm_db.SQL_AUTOCOMMIT_ON,\n",
    "    ibm_db.SQL_ATTR_CURRENT_SCHEMA : 'db2inst1',\n",
    "    ibm_db.SQL_ATTR_INFO_PROGRAMNAME : 'ibm_db-get_option.py'}\n",
    "\n",
    "# Display A Status Message Indicating An Attempt To Establish A Connection To A Db2 Database\n",
    "# Is About To Be Made\n",
    "print(\"\\nConnecting to the \\'\" + dbName + \"\\' database ... \", end=\"\")\n",
    "\n",
    "# Construct The String That Will Be Used To Establish A Db2 Database Connection\n",
    "connString = \"ATTACH=FALSE\"              # Attach To A Database; Not A Server\n",
    "connString += \";DATABASE=\" + dbName      # Required To Connect To A Database     \n",
    "connString += \";PROTOCOL=TCPIP\"\n",
    "connString += \";UID=\" + userID\n",
    "connString += \";PWD=\" + passWord\n",
    "\n",
    "# Attempt To Establish A Connection To The Database Specified (And Set The Appropriate\n",
    "# Connection Options) \n",
    "try:\n",
    "    dbConnection = ibm_db.connect(connString, '', '', connectOptions)\n",
    "except Exception:\n",
    "    pass\n",
    "\n",
    "# If A Db2 Database Connection Could Not Be Established, Display An Error Message And Exit\n",
    "if dbConnection is None:\n",
    "    print(\"\\nERROR: Unable to connect to the \\'\" + dbName + \"\\' database.\")\n",
    "    print(\"Connection string used: \" + connString + \"\\n\")\n",
    "    exit(-1)\n",
    "\n",
    "# Otherwise, Complete The Status Message\n",
    "else:\n",
    "    print(\"Done!\\n\")\n",
    "\n",
    "# Display A Report Header\n",
    "print(\"Connection option settings:\\n\")\n",
    "print(\"OPTION                     SETTING\")\n",
    "print(\"_________________________  ____________________\")\n",
    "\n",
    "# Retrieve And Display The Ordinal Value For The Current AUTOCOMMIT Setting\n",
    "value = ibm_db.get_option(dbConnection, ibm_db.SQL_ATTR_AUTOCOMMIT, 1)\n",
    "print(\"SQL_ATTR_AUTOCOMMIT        \", end=\"\")\n",
    "print(ord(value))\n",
    "\n",
    "# Retrieve And Display The Schema Name That Was Set During The Connection\n",
    "value = ibm_db.get_option(dbConnection, ibm_db.SQL_ATTR_CURRENT_SCHEMA, 1)\n",
    "print(\"SQL_ATTR_CURRENT_SCHEMA    \" + value)\n",
    "\n",
    "# Retrieve And Display The Program Name That Was Set During The Connection\n",
    "value = ibm_db.get_option(dbConnection, ibm_db.SQL_ATTR_INFO_PROGRAMNAME, 1)\n",
    "print(\"SQL_ATTR_INFO_PROGRAMNAME  \" + value)\n",
    "\n",
    "# Add A Blank Line To The End Of The Report\n",
    "print()\n",
    "\n",
    "# Attempt To Close The Db2 Database Connection That Was Opened Earlier\n",
    "if not dbConnection is None:\n",
    "    print(\"Disconnecting from the \\'\" + dbName + \"\\' database ... \", end=\"\")\n",
    "    try:\n",
    "        returnCode = ibm_db.close(dbConnection)\n",
    "    except Exception:\n",
    "        pass\n",
    "\n",
    "    # If The Db2 Server Connection Was Not Closed, Display An Error Message And Exit\n",
    "    if returnCode is False:\n",
    "        print(\"\\nERROR: Unable to disconnect from the \" + dbName + \" database.\")\n",
    "        exit(-1)\n",
    "\n",
    "    # Otherwise, Complete The Status Message\n",
    "    else:\n",
    "        print(\"Done!\\n\")\n",
    "\n",
    "# Return Control To The Operating System\n",
    "exit()"
   ]
  },
  {
   "cell_type": "markdown",
   "metadata": {
    "deletable": false,
    "editable": false
   },
   "source": [
    "### &nbsp; &nbsp; Example 2: Get statement option"
   ]
  },
  {
   "cell_type": "code",
   "execution_count": 2,
   "metadata": {
    "deletable": false
   },
   "outputs": [
    {
     "name": "stdout",
     "output_type": "stream",
     "text": [
      "\n",
      "Connecting to the SAMPLE database ... Done!\n",
      "\n",
      "Executing the SQL statement \"SELECT * FROM employee WHERE edlevel > 17\" ... Done!\n",
      "\n",
      "Obtaining information about the type of cursor being used ... Done!\n",
      "\n",
      "Type of cursor specified : Static (SQL_CURSOR_STATIC)\n",
      "Type of cursor being used: Static (SQL_CURSOR_STATIC)\n",
      "\n",
      "Disconnecting from the SAMPLE database ... Done!\n",
      "\n"
     ]
    }
   ],
   "source": [
    "#----------------------------------------------------------------------------------------------#\n",
    "#  NAME:     ibm_db-get_option_STATEMENT.py                                                    #\n",
    "#                                                                                              #\n",
    "#  PURPOSE:  This program is designed to illustrate how to use the ibm_db.get_option() API to  #\n",
    "#            assign a value to one of the statement options available.                         #\n",
    "#                                                                                              #\n",
    "#            Additional APIs used:                                                             #\n",
    "#                 ibm_db.exec_immediate()                                                      #\n",
    "#                                                                                              #\n",
    "#----------------------------------------------------------------------------------------------#\n",
    "#                     DISCLAIMER OF WARRANTIES AND LIMITATION OF LIABILITY                     #\n",
    "#                                                                                              #\n",
    "#  (C) COPYRIGHT International Business Machines Corp. 2018, 2019 All Rights Reserved          #\n",
    "#  Licensed Materials - Property of IBM                                                        #\n",
    "#                                                                                              #\n",
    "#  US Government Users Restricted Rights - Use, duplication or disclosure restricted by GSA    #\n",
    "#  ADP Schedule Contract with IBM Corp.                                                        #\n",
    "#                                                                                              #\n",
    "#  The following source code (\"Sample\") is owned by International Business Machines            #\n",
    "#  Corporation (\"IBM\") or one of its subsidiaries and is copyrighted and licensed, not sold.   #\n",
    "#  You may use, copy, modify, and distribute the Sample in any form without payment to IBM,    #\n",
    "#  for the purpose of assisting you in the creation of Python applications using the ibm_db    #\n",
    "#  library.                                                                                    #\n",
    "#                                                                                              #\n",
    "#  The Sample code is provided to you on an \"AS IS\" basis, without warranty of any kind. IBM   #\n",
    "#  HEREBY EXPRESSLY DISCLAIMS ALL WARRANTIES, EITHER EXPRESS OR IMPLIED, INCLUDING, BUT NOT    #\n",
    "#  LIMITED TO, THE IMPLIED WARRANTIES OF MERCHANTABILITY AND FITNESS FOR A PARTICULAR PURPOSE. #\n",
    "#  Some jurisdictions do not allow for the exclusion or limitation of implied warranties, so   #\n",
    "#  the above limitations or exclusions may not apply to you. IBM shall not be liable for any   #\n",
    "#  damages you suffer as a result of using, copying, modifying or distributing the Sample,     #\n",
    "#  even if IBM has been advised of the possibility of such damages.                            #\n",
    "#----------------------------------------------------------------------------------------------#\n",
    "\n",
    "# Load The Appropriate Python Modules\n",
    "import sys         # Provides Information About Python Interpreter Constants And Functions\n",
    "import ibm_db      # Contains The APIs Needed To Work With Db2 Databases\n",
    "\n",
    "#----------------------------------------------------------------------------------------------#\n",
    "# Import The Db2ConnectionMgr Class Definition, Attributes, And Methods That Have Been Defined #\n",
    "# In The File Named \"ibm_db_tools.py\"; This Class Contains The Programming Logic Needed To     #\n",
    "# Establish And Terminate A Connection To A Db2 Server Or Database                             #\n",
    "#----------------------------------------------------------------------------------------------#\n",
    "from ibm_db_tools import Db2ConnectionMgr\n",
    "\n",
    "#----------------------------------------------------------------------------------------------#\n",
    "# Import The ipynb_exit Class Definition, Attributes, And Methods That Have Been Defined In    #\n",
    "# The File Named \"ipynb_exit.py\"; This Class Contains The Programming Logic Needed To Allow    #\n",
    "# \"exit()\" Functionality To Work Without Raising An Error Or Stopping The Kernel If The        #\n",
    "# Application Is Invoked In A Jupyter Notebook                                                 #\n",
    "#----------------------------------------------------------------------------------------------#\n",
    "from ipynb_exit import exit\n",
    "\n",
    "# Define And Initialize The Appropriate Variables\n",
    "dbName = \"SAMPLE\"\n",
    "userID = \"db2inst1\"\n",
    "passWord = \"db2inst1\"\n",
    "dbConnection = None\n",
    "resultSet = False\n",
    "cursorType = False\n",
    "\n",
    "# Create An Instance Of The Db2ConnectionMgr Class And Use It To Connect To A Db2 Database\n",
    "conn = Db2ConnectionMgr('DB', dbName, '', '', userID, passWord)\n",
    "conn.openConnection()\n",
    "if conn.returnCode is True:\n",
    "    dbConnection = conn.connectionID\n",
    "else:\n",
    "    conn.closeConnection()\n",
    "    exit(-1)\n",
    "\n",
    "# Create A Dictionary That Contains Values For All Of The Statement Options That Can Be Set \n",
    "stmtOptions = {ibm_db.SQL_ATTR_CURSOR_TYPE : ibm_db.SQL_CURSOR_STATIC,\n",
    "    ibm_db.SQL_ATTR_ROWCOUNT_PREFETCH : ibm_db.SQL_ROWCOUNT_PREFETCH_ON,\n",
    "    ibm_db.SQL_ATTR_QUERY_TIMEOUT : 10}\n",
    "\n",
    "# Define The SQL Statement That Is To Be Executed\n",
    "sqlStatement = \"SELECT * FROM employee WHERE edlevel > 17\"\n",
    "\n",
    "# Execute The SQL Statement Just Defined\n",
    "print(\"Executing the SQL statement \\\"\" + sqlStatement + \"\\\" ... \", end=\"\")\n",
    "try:\n",
    "    resultSet = ibm_db.exec_immediate(dbConnection, sqlStatement, stmtOptions)\n",
    "except Exception:\n",
    "    pass\n",
    "\n",
    "# If The SQL Statement Could Not Be Executed, Display An Error Message And Exit \n",
    "if resultSet is False:\n",
    "    print(\"\\nERROR: Unable to execute the SQL statement specified.\\n\")\n",
    "    conn.closeConnection()\n",
    "    exit(-1)\n",
    "\n",
    "# Otherwise, Complete The Status Message\n",
    "else:\n",
    "    print(\"Done!\\n\")\n",
    "\n",
    "# Verify That The Type Of Cursor Being Used Is Type Of Cursor That Was Specified\n",
    "print(\"Obtaining information about the type of cursor being used ... \", end=\"\")\n",
    "try:\n",
    "    cursorType = ibm_db.get_option(resultSet, ibm_db.SQL_ATTR_CURSOR_TYPE, 0)\n",
    "except Exception:\n",
    "    pass\n",
    "\n",
    "# If Information About The Cursor Could Not Be Obtained, Display An Error Message And Exit \n",
    "if cursorType is False:\n",
    "    print(\"\\nERROR: Unable to obtain the information desired.\\n\")\n",
    "    conn.closeConnection()\n",
    "    exit(-1)\n",
    "\n",
    "# Otherwise, Complete The Status Message\n",
    "else:\n",
    "    print(\"Done!\\n\")\n",
    "\n",
    "# Verify That The Type Of Cursor Being Used Is Type Of Cursor That Was Specified\n",
    "print(\"Type of cursor specified : Static (SQL_CURSOR_STATIC)\")\n",
    "print(\"Type of cursor being used: \", end=\"\")\n",
    "\n",
    "if cursorType == ibm_db.SQL_CURSOR_FORWARD_ONLY:\n",
    "    print(\"Forward only (SQL_CURSOR_FORWARD_ONLY)\\n\")\n",
    "elif cursorType == ibm_db.SQL_CURSOR_KEYSET_DRIVEN:\n",
    "    print(\"Keyset driven (SQL_CURSOR_KEYSET_DRIVEN)\\n\")\n",
    "elif cursorType == ibm_db.SQL_CURSOR_DYNAMIC:\n",
    "    print(\"Dynamic (SQL_CURSOR_DYNAMIC)\\n\")\n",
    "elif cursorType == ibm_db.SQL_CURSOR_STATIC:\n",
    "    print(\"Static (SQL_CURSOR_STATIC)\\n\")\n",
    "else:\n",
    "    print(\"Unknown\\n\")\n",
    "\n",
    "# Close The Database Connection That Was Opened Earlier\n",
    "conn.closeConnection()\n",
    "\n",
    "# Return Control To The Operating System\n",
    "exit()"
   ]
  },
  {
   "cell_type": "code",
   "execution_count": null,
   "metadata": {},
   "outputs": [],
   "source": []
  }
 ],
 "metadata": {
  "kernelspec": {
   "display_name": "Python 3",
   "language": "python",
   "name": "python3"
  },
  "language_info": {
   "codemirror_mode": {
    "name": "ipython",
    "version": 3
   },
   "file_extension": ".py",
   "mimetype": "text/x-python",
   "name": "python",
   "nbconvert_exporter": "python",
   "pygments_lexer": "ipython3",
   "version": "3.7.1"
  }
 },
 "nbformat": 4,
 "nbformat_minor": 2
}
