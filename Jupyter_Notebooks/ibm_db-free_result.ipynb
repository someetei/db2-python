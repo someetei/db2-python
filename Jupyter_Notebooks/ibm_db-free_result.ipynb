{
 "cells": [
  {
   "cell_type": "markdown",
   "metadata": {
    "deletable": false,
    "editable": false
   },
   "source": [
    "# ibm_db.free_result()"
   ]
  },
  {
   "cell_type": "markdown",
   "metadata": {
    "deletable": false,
    "editable": false
   },
   "source": [
    "## Purpose:"
   ]
  },
  {
   "cell_type": "markdown",
   "metadata": {
    "deletable": false,
    "editable": false
   },
   "source": [
    "Free all system resources associated with an `IBM_DBStatement` object."
   ]
  },
  {
   "cell_type": "markdown",
   "metadata": {
    "deletable": false,
    "editable": false
   },
   "source": [
    "## Syntax:"
   ]
  },
  {
   "cell_type": "markdown",
   "metadata": {
    "deletable": false,
    "editable": false
   },
   "source": [
    "`bool ibm_db.free_result( IBM_DBStatement `*`statement`*` )`"
   ]
  },
  {
   "cell_type": "markdown",
   "metadata": {
    "deletable": false,
    "editable": false
   },
   "source": [
    "## Parameters:"
   ]
  },
  {
   "cell_type": "markdown",
   "metadata": {
    "deletable": false,
    "editable": false
   },
   "source": [
    "* __*statement*__&nbsp; &nbsp; : A valid `IBM_DBStatement` object. "
   ]
  },
  {
   "cell_type": "markdown",
   "metadata": {
    "deletable": false,
    "editable": false
   },
   "source": [
    "## Return values:"
   ]
  },
  {
   "cell_type": "markdown",
   "metadata": {
    "deletable": false,
    "editable": false
   },
   "source": [
    "* `True` &nbsp; &nbsp; &nbsp;: System resources associated with the `IBM_DBStatement` object were freed.   \n",
    "* `False` &nbsp; &nbsp;: System resources associated with the `IBM_DBStatement` object could not be freed."
   ]
  },
  {
   "cell_type": "markdown",
   "metadata": {
    "deletable": false,
    "editable": false
   },
   "source": [
    "## Description:"
   ]
  },
  {
   "cell_type": "markdown",
   "metadata": {
    "deletable": false,
    "editable": false
   },
   "source": [
    "The __ibm_db.free_result()__ API is used to stop all processing, discard all pending results, close any open cursors, and free all memory associated with a specific `IBM_DBStatement` object. This work is done automatically when an application ends and control is returned to the operating system. However, the __ibm_db.free_result()__ API provides a way to explicitly perform these operations, when appropriate, while an application is running. "
   ]
  },
  {
   "cell_type": "markdown",
   "metadata": {
    "deletable": false,
    "editable": false
   },
   "source": [
    "## Example:"
   ]
  },
  {
   "cell_type": "code",
   "execution_count": 1,
   "metadata": {
    "deletable": false
   },
   "outputs": [
    {
     "name": "stdout",
     "output_type": "stream",
     "text": [
      "\n",
      "Connecting to the SAMPLE database ... Done!\n",
      "\n",
      "Preparing the SQL statement \"SELECT * FROM employee WHERE edlevel > 17\" ... Done!\n",
      "\n",
      "Executing the prepared SQL statement ... Done!\n",
      "\n",
      "Unable to obtain information about the number of rows returned.\n",
      "\n",
      "Freeing system resources associated with the prepared statement ... Done!\n",
      "\n",
      "Turning SQL_ATTR_ROWCOUNT_PREFETCH behavior ON ... Done!\n",
      "\n",
      "Executing the prepared SQL statement again ... Done!\n",
      "\n",
      "Number of rows returned by the query: 9\n",
      "\n",
      "Disconnecting from the SAMPLE database ... Done!\n",
      "\n"
     ]
    }
   ],
   "source": [
    "#----------------------------------------------------------------------------------------------#\n",
    "#  NAME:     ibm_db-free_result.py                                                             #\n",
    "#                                                                                              #\n",
    "#  PURPOSE:  This program is designed to illustrate how to use the ibm_db.free_result() API    #\n",
    "#            to free system resources associated with a prepared SQL statement.                #\n",
    "#                                                                                              #\n",
    "#            Additional APIs used:                                                             #\n",
    "#                 ibm_db.prepare()                                                             #\n",
    "#                 ibm_db.execute()                                                             #\n",
    "#                 ibm_db.num_rows()                                                            #\n",
    "#                 ibm_db.set_option()                                                          #\n",
    "#                                                                                              #\n",
    "#----------------------------------------------------------------------------------------------#\n",
    "#                     DISCLAIMER OF WARRANTIES AND LIMITATION OF LIABILITY                     #\n",
    "#                                                                                              #\n",
    "#  (C) COPYRIGHT International Business Machines Corp. 2018, 2019 All Rights Reserved          #\n",
    "#  Licensed Materials - Property of IBM                                                        #\n",
    "#                                                                                              #\n",
    "#  US Government Users Restricted Rights - Use, duplication or disclosure restricted by GSA    #\n",
    "#  ADP Schedule Contract with IBM Corp.                                                        #\n",
    "#                                                                                              #\n",
    "#  The following source code (\"Sample\") is owned by International Business Machines            #\n",
    "#  Corporation (\"IBM\") or one of its subsidiaries and is copyrighted and licensed, not sold.   #\n",
    "#  You may use, copy, modify, and distribute the Sample in any form without payment to IBM,    #\n",
    "#  for the purpose of assisting you in the creation of Python applications using the ibm_db    #\n",
    "#  library.                                                                                    #\n",
    "#                                                                                              #\n",
    "#  The Sample code is provided to you on an \"AS IS\" basis, without warranty of any kind. IBM   #\n",
    "#  HEREBY EXPRESSLY DISCLAIMS ALL WARRANTIES, EITHER EXPRESS OR IMPLIED, INCLUDING, BUT NOT    #\n",
    "#  LIMITED TO, THE IMPLIED WARRANTIES OF MERCHANTABILITY AND FITNESS FOR A PARTICULAR PURPOSE. #\n",
    "#  Some jurisdictions do not allow for the exclusion or limitation of implied warranties, so   #\n",
    "#  the above limitations or exclusions may not apply to you. IBM shall not be liable for any   #\n",
    "#  damages you suffer as a result of using, copying, modifying or distributing the Sample,     #\n",
    "#  even if IBM has been advised of the possibility of such damages.                            #\n",
    "#----------------------------------------------------------------------------------------------#\n",
    "\n",
    "# Load The Appropriate Python Modules\n",
    "import sys         # Provides Information About Python Interpreter Constants And Functions\n",
    "import ibm_db      # Contains The APIs Needed To Work With Db2 Databases\n",
    "\n",
    "#----------------------------------------------------------------------------------------------#\n",
    "# Import The Db2ConnectionMgr Class Definition, Attributes, And Methods That Have Been Defined #\n",
    "# In The File Named \"ibm_db_tools.py\"; This Class Contains The Programming Logic Needed To     #\n",
    "# Establish And Terminate A Connection To A Db2 Server Or Database                             #\n",
    "#----------------------------------------------------------------------------------------------#\n",
    "from ibm_db_tools import Db2ConnectionMgr\n",
    "\n",
    "#----------------------------------------------------------------------------------------------#\n",
    "# Import The ipynb_exit Class Definition, Attributes, And Methods That Have Been Defined In    #\n",
    "# The File Named \"ipynb_exit.py\"; This Class Contains The Programming Logic Needed To Allow    #\n",
    "# \"exit()\" Functionality To Work Without Raising An Error Or Stopping The Kernel If The        #\n",
    "# Application Is Invoked In A Jupyter Notebook                                                 #\n",
    "#----------------------------------------------------------------------------------------------#\n",
    "from ipynb_exit import exit\n",
    "\n",
    "# Define And Initialize The Appropriate Variables\n",
    "dbName = \"SAMPLE\"\n",
    "userID = \"db2inst1\"\n",
    "passWord = \"db2inst1\"\n",
    "dbConnection = None\n",
    "preparedStmt = False\n",
    "resultSet = False\n",
    "returnCode = False\n",
    "\n",
    "# Create An Instance Of The Db2ConnectionMgr Class And Use It To Connect To A Db2 Database\n",
    "conn = Db2ConnectionMgr('DB', dbName, '', '', userID, passWord)\n",
    "conn.openConnection()\n",
    "if conn.returnCode is True:\n",
    "    dbConnection = conn.connectionID\n",
    "else:\n",
    "    conn.closeConnection()\n",
    "    exit(-1)\n",
    "\n",
    "# Define The SQL Statement That Is To Be Executed\n",
    "sqlStatement = \"SELECT * FROM employee WHERE edlevel > 17\"\n",
    "\n",
    "# Prepare The SQL Statement Just Defined\n",
    "print(\"Preparing the SQL statement \\\"\" + sqlStatement + \"\\\" ... \", end=\"\")\n",
    "try:\n",
    "    preparedStmt = ibm_db.prepare(dbConnection, sqlStatement)\n",
    "except Exception:\n",
    "    pass\n",
    "\n",
    "# If The SQL Statement Could Not Be Prepared By Db2, Display An Error Message And Exit\n",
    "if preparedStmt is False:\n",
    "    print(\"\\nERROR: Unable to prepare the SQL statement specified.\")\n",
    "    conn.closeConnection()\n",
    "    exit(-1)\n",
    "\n",
    "# Otherwise, Complete The Status Message\n",
    "else:\n",
    "    print(\"Done!\\n\")\n",
    "\n",
    "# Execute The SQL Statement Just Prepared\n",
    "print(\"Executing the prepared SQL statement ... \", end=\"\")\n",
    "try:\n",
    "    resultSet = ibm_db.execute(preparedStmt)\n",
    "except Exception:\n",
    "    pass\n",
    "\n",
    "# If The SQL Statement Could Not Be Executed, Display An Error Message And Exit \n",
    "if resultSet is False:\n",
    "    print(\"\\nERROR: Unable to execute the SQL statement specified.\")\n",
    "    conn.closeConnection()\n",
    "    exit(-1)\n",
    "\n",
    "# Otherwise, Complete The Status Message\n",
    "else:\n",
    "    print(\"Done!\\n\")\n",
    "\n",
    "# Try To Find Out How Many Rows Are In Result Set That Was Produced By The Query Just Executed\n",
    "# (This Information Should Not Be Available)\n",
    "try:\n",
    "    numRows = ibm_db.num_rows(preparedStmt)\n",
    "except Exception:\n",
    "    pass\n",
    " \n",
    "# Display An Appropriate Message, Based On The Information Returned\n",
    "if numRows <= 0:\n",
    "    print(\"Unable to obtain information about the number of rows returned.\\n\")\n",
    "else:\n",
    "    print(\"Number of rows returned by the query: \" + str(numRows) + \"\\n\")\n",
    "\n",
    "# Free System Resources That Are Associated With The Prepared Statement And Result Set Produced\n",
    "print(\"Freeing system resources associated with the prepared statement ... \", end=\"\")\n",
    "try:\n",
    "    returnCode = ibm_db.free_result(preparedStmt)\n",
    "except Exception:\n",
    "    pass\n",
    "\n",
    "# If The Appropriate System Resources Could Not Be Freed, Display An Error Message And Exit \n",
    "if returnCode is False:\n",
    "    print(\"\\nERROR: Unable to free the appropriate system resources.\\n\")\n",
    "    conn.closeConnection()\n",
    "    exit(-1)\n",
    "\n",
    "# Otherwise, Complete The Status Message\n",
    "else:\n",
    "    print(\"Done!\\n\")\n",
    "\n",
    "# Create A Dictionary That Contains The Value Needed To Turn Row Prefetch Behavior On;\n",
    "# This Enables Db2 To Determine The Number Of Rows That Are Returned By A Query (So The\n",
    "# Entire Result Set Can Be Prefetched Into Memory, When Possible) \n",
    "stmtOption = {ibm_db.SQL_ATTR_ROWCOUNT_PREFETCH : ibm_db.SQL_ROWCOUNT_PREFETCH_ON}\n",
    "\n",
    "# Attempt To Set The Statement Option Specified\n",
    "print(\"Turning SQL_ATTR_ROWCOUNT_PREFETCH behavior ON ... \", end=\"\")\n",
    "try:\n",
    "    returnCode = ibm_db.set_option(preparedStmt, stmtOption, 0)\n",
    "except Exception:\n",
    "    pass\n",
    "\n",
    "# If The Statement Option Could Not Be Set, Display An Error Message And Exit \n",
    "if returnCode is False:\n",
    "    print(\"\\nERROR: Unable to set the statement option specified.\\n\")\n",
    "    conn.closeConnection()\n",
    "    exit(-1)\n",
    "\n",
    "# Otherwise, Complete The Status Message\n",
    "else:\n",
    "    print(\"Done!\\n\")\n",
    "\n",
    "# Execute The Prepared SQL Statement Again\n",
    "print(\"Executing the prepared SQL statement again ... \", end=\"\")\n",
    "try:\n",
    "    resultSet = ibm_db.execute(preparedStmt)\n",
    "except Exception:\n",
    "    pass\n",
    "\n",
    "# If The SQL Statement Could Not Be Executed, Display An Error Message And Exit \n",
    "if resultSet is False:\n",
    "    print(\"\\nERROR: Unable to execute the SQL statement specified.\")\n",
    "    conn.closeConnection()\n",
    "    exit(-1)\n",
    "\n",
    "# Otherwise, Complete The Status Message\n",
    "else:\n",
    "    print(\"Done!\\n\")\n",
    "\n",
    "# Try To Find Out How Many Rows Are In Result Set That Was Produced By The Query Again\n",
    "# (This Time, The Information Should Be Available)\n",
    "try:\n",
    "    numRows = ibm_db.num_rows(preparedStmt)\n",
    "except Exception:\n",
    "    pass\n",
    "\n",
    "# Display An Appropriate Message, Based On The New Information Returned\n",
    "if numRows <= 0:\n",
    "    print(\"Unable to obtain information about the number of rows returned.\\n\")\n",
    "else:\n",
    "    print(\"Number of rows returned by the query: \" + str(numRows) + \"\\n\")\n",
    "\n",
    "# Close The Database Connection That Was Opened Earlier\n",
    "conn.closeConnection()\n",
    "\n",
    "# Return Control To The Operating System\n",
    "exit()"
   ]
  },
  {
   "cell_type": "code",
   "execution_count": null,
   "metadata": {},
   "outputs": [],
   "source": []
  }
 ],
 "metadata": {
  "kernelspec": {
   "display_name": "Python 3",
   "language": "python",
   "name": "python3"
  },
  "language_info": {
   "codemirror_mode": {
    "name": "ipython",
    "version": 3
   },
   "file_extension": ".py",
   "mimetype": "text/x-python",
   "name": "python",
   "nbconvert_exporter": "python",
   "pygments_lexer": "ipython3",
   "version": "3.7.1"
  }
 },
 "nbformat": 4,
 "nbformat_minor": 2
}
