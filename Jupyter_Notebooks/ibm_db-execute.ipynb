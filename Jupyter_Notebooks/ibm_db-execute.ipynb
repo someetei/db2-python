{
 "cells": [
  {
   "cell_type": "markdown",
   "metadata": {
    "deletable": false,
    "editable": false
   },
   "source": [
    "# ibm_db.execute()"
   ]
  },
  {
   "cell_type": "markdown",
   "metadata": {
    "deletable": false,
    "editable": false
   },
   "source": [
    "## Purpose:"
   ]
  },
  {
   "cell_type": "markdown",
   "metadata": {
    "deletable": false,
    "editable": false
   },
   "source": [
    "Execute an SQL statement that has been prepared by the __ibm_db.prepare()__ API."
   ]
  },
  {
   "cell_type": "markdown",
   "metadata": {
    "deletable": false,
    "editable": false
   },
   "source": [
    "## Syntax:"
   ]
  },
  {
   "cell_type": "markdown",
   "metadata": {
    "deletable": false
   },
   "source": [
    "`bool ibm_db.execute( IBM_DBStatement `*`preparedStmt`*` [, tuple `*`paramValues`*`] )`"
   ]
  },
  {
   "cell_type": "markdown",
   "metadata": {
    "deletable": false,
    "editable": false
   },
   "source": [
    "## Parameters:"
   ]
  },
  {
   "cell_type": "markdown",
   "metadata": {
    "deletable": false,
    "editable": false
   },
   "source": [
    "* __*preparedStmt*__ &nbsp; &nbsp;: A prepared SQL statement returned from the __ibm_db.prepare()__ API.   \n",
    "* __*paramValues*__ &nbsp; &nbsp; : A tuple that contains values for each parameter marker used in the prepared SQL statement specified in the __*preparedStmt*__ parameter."
   ]
  },
  {
   "cell_type": "markdown",
   "metadata": {
    "deletable": false,
    "editable": false
   },
   "source": [
    "## Return values:"
   ]
  },
  {
   "cell_type": "markdown",
   "metadata": {
    "deletable": false,
    "editable": false
   },
   "source": [
    "* `True` &nbsp; &nbsp; &nbsp;: The prepared SQL statement specified in the __*preparedStmt*__ parameter executed successfully.   \n",
    "* `False` &nbsp; &nbsp;: The prepared SQL statement specified in the __*preparedStmt*__ parameter could not be executed."
   ]
  },
  {
   "cell_type": "markdown",
   "metadata": {
    "deletable": false,
    "editable": false
   },
   "source": [
    "## Description:"
   ]
  },
  {
   "cell_type": "markdown",
   "metadata": {
    "deletable": false,
    "editable": false
   },
   "source": [
    "The __ibm_db.execute()__ API is used to execute an SQL statement that has been prepared by the __ibm_db.prepare()__ API. If the SQL statement returns a result set, a single row can be retrieved and stored in a tuple or dictionary using the  __ibm_db.fetch_tuple()__ (tuple), __ibm_db.fetch_assoc()__ (dictionary), or __ibm_db.fetch_both()__ (tuple *and* dictionary) APIs. Alternately, the __ibm_db.fetch_row()__ API can be used to move the result set pointer to each row in the result set produced and the __ibm_db.result()__ API can be used to fetch a column from the current row. <p>\n",
    "    \n",
    "Refer to the notebook for __ibm_db.prepare()__ (i.e., the file *ibm_db-prepare.ipynb*) for a brief discussion of the advantages of using __ibm_db.prepare()__ and __ibm_db.execute()__, as opposed to __ibm_db.exec_immediate()__ to perform SQL operations against a Db2 database."
   ]
  },
  {
   "cell_type": "markdown",
   "metadata": {
    "deletable": false,
    "editable": false
   },
   "source": [
    "## Example:"
   ]
  },
  {
   "cell_type": "code",
   "execution_count": 1,
   "metadata": {
    "deletable": false
   },
   "outputs": [
    {
     "name": "stdout",
     "output_type": "stream",
     "text": [
      "\n",
      "Connecting to the SAMPLE database ... Done!\n",
      "\n",
      "Preparing the SQL statement \"SELECT projno, projname FROM project WHERE prstaff < 2\" ... Done!\n",
      "\n",
      "Executing the prepared SQL statement ... Done!\n",
      "\n",
      "Query results:\n",
      "\n",
      "PROJNO  PROJNAME\n",
      "______  _____________________\n",
      "AD3112  PERSONNEL PROGRAMMING   \n",
      "IF2000  USER EDUCATION          \n",
      "OP2011  SCP SYSTEMS SUPPORT     \n",
      "OP2012  APPLICATIONS SUPPORT    \n",
      "OP2013  DB/DC SUPPORT           \n",
      "PL2100  WELD LINE PLANNING      \n",
      "\n",
      "Disconnecting from the SAMPLE database ... Done!\n",
      "\n"
     ]
    }
   ],
   "source": [
    "#----------------------------------------------------------------------------------------------#\n",
    "#  NAME:     ibm_db-execute.py                                                                 #\n",
    "#                                                                                              #\n",
    "#  PURPOSE:  This program is designed to illustrate how to use the ibm_db.execute() API.       #\n",
    "#                                                                                              #\n",
    "#            Additional APIs used:                                                             #\n",
    "#                 ibm_db.prepare()                                                             #\n",
    "#                 ibm_db.fetch_tuple()                                                         #\n",
    "#                                                                                              #\n",
    "#----------------------------------------------------------------------------------------------#\n",
    "#                     DISCLAIMER OF WARRANTIES AND LIMITATION OF LIABILITY                     #\n",
    "#                                                                                              #\n",
    "#  (C) COPYRIGHT International Business Machines Corp. 2018, 2019 All Rights Reserved          #\n",
    "#  Licensed Materials - Property of IBM                                                        #\n",
    "#                                                                                              #\n",
    "#  US Government Users Restricted Rights - Use, duplication or disclosure restricted by GSA    #\n",
    "#  ADP Schedule Contract with IBM Corp.                                                        #\n",
    "#                                                                                              #\n",
    "#  The following source code (\"Sample\") is owned by International Business Machines            #\n",
    "#  Corporation (\"IBM\") or one of its subsidiaries and is copyrighted and licensed, not sold.   #\n",
    "#  You may use, copy, modify, and distribute the Sample in any form without payment to IBM,    #\n",
    "#  for the purpose of assisting you in the creation of Python applications using the ibm_db    #\n",
    "#  library.                                                                                    #\n",
    "#                                                                                              #\n",
    "#  The Sample code is provided to you on an \"AS IS\" basis, without warranty of any kind. IBM   #\n",
    "#  HEREBY EXPRESSLY DISCLAIMS ALL WARRANTIES, EITHER EXPRESS OR IMPLIED, INCLUDING, BUT NOT    #\n",
    "#  LIMITED TO, THE IMPLIED WARRANTIES OF MERCHANTABILITY AND FITNESS FOR A PARTICULAR PURPOSE. #\n",
    "#  Some jurisdictions do not allow for the exclusion or limitation of implied warranties, so   #\n",
    "#  the above limitations or exclusions may not apply to you. IBM shall not be liable for any   #\n",
    "#  damages you suffer as a result of using, copying, modifying or distributing the Sample,     #\n",
    "#  even if IBM has been advised of the possibility of such damages.                            #\n",
    "#----------------------------------------------------------------------------------------------#\n",
    "\n",
    "# Load The Appropriate Python Modules\n",
    "import sys         # Provides Information About Python Interpreter Constants And Functions\n",
    "import ibm_db      # Contains The APIs Needed To Work With Db2 Databases\n",
    "\n",
    "#----------------------------------------------------------------------------------------------#\n",
    "# Import The Db2ConnectionMgr Class Definition, Attributes, And Methods That Have Been Defined #\n",
    "# In The File Named \"ibm_db_tools.py\"; This Class Contains The Programming Logic Needed To     #\n",
    "# Establish And Terminate A Connection To A Db2 Server Or Database                             #\n",
    "#----------------------------------------------------------------------------------------------#\n",
    "from ibm_db_tools import Db2ConnectionMgr\n",
    "\n",
    "#----------------------------------------------------------------------------------------------#\n",
    "# Import The ipynb_exit Class Definition, Attributes, And Methods That Have Been Defined In    #\n",
    "# The File Named \"ipynb_exit.py\"; This Class Contains The Programming Logic Needed To Allow    #\n",
    "# \"exit()\" Functionality To Work Without Raising An Error Or Stopping The Kernel If The        #\n",
    "# Application Is Invoked In A Jupyter Notebook                                                 #\n",
    "#----------------------------------------------------------------------------------------------#\n",
    "from ipynb_exit import exit\n",
    "\n",
    "# Define And Initialize The Appropriate Variables\n",
    "dbName = \"SAMPLE\"\n",
    "userID = \"db2inst1\"\n",
    "passWord = \"db2inst1\"\n",
    "dbConnection = None\n",
    "preparedStmt = False\n",
    "returnCode = False\n",
    "dataRecord = False\n",
    "\n",
    "# Create An Instance Of The Db2ConnectionMgr Class And Use It To Connect To A Db2 Database\n",
    "conn = Db2ConnectionMgr('DB', dbName, '', '', userID, passWord)\n",
    "conn.openConnection()\n",
    "if conn.returnCode is True:\n",
    "    dbConnection = conn.connectionID\n",
    "else:\n",
    "    conn.closeConnection()\n",
    "    exit(-1)\n",
    "\n",
    "# Define The SQL Statement That Is To Be Executed\n",
    "sqlStatement = \"SELECT projno, projname FROM project WHERE prstaff < 2\"\n",
    "\n",
    "# Prepare The SQL Statement Just Defined\n",
    "print(\"Preparing the SQL statement \\\"\" + sqlStatement + \"\\\" ... \", end=\"\")\n",
    "try:\n",
    "    preparedStmt = ibm_db.prepare(dbConnection, sqlStatement)\n",
    "except Exception:\n",
    "    pass\n",
    "\n",
    "# If The SQL Statement Could Not Be Prepared By Db2, Display An Error Message And Exit\n",
    "if preparedStmt is False:\n",
    "    print(\"\\nERROR: Unable to prepare the SQL statement specified.\")\n",
    "    conn.closeConnection()\n",
    "    exit(-1)\n",
    "\n",
    "# Otherwise, Complete The Status Message\n",
    "else:\n",
    "    print(\"Done!\\n\")\n",
    "\n",
    "# Execute The SQL Statement Just Prepared\n",
    "print(\"Executing the prepared SQL statement ... \", end=\"\")\n",
    "try:\n",
    "    returnCode = ibm_db.execute(preparedStmt)\n",
    "except Exception:\n",
    "    pass\n",
    "\n",
    "# If The SQL Statement Could Not Be Executed, Display An Error Message And Exit \n",
    "if returnCode is False:\n",
    "    print(\"\\nERROR: Unable to execute the SQL statement specified.\")\n",
    "    conn.closeConnection()\n",
    "    exit(-1)\n",
    "\n",
    "# Otherwise, Complete The Status Message\n",
    "else:\n",
    "    print(\"Done!\\n\")\n",
    "\n",
    "# Display A Report Header\n",
    "print(\"Query results:\\n\")\n",
    "print(\"PROJNO  PROJNAME\")\n",
    "print(\"______  _____________________\")\n",
    "\n",
    "# As Long As There Are Records In The Result Set Produced, ...\n",
    "noData = False\n",
    "while noData is False:\n",
    "\n",
    "    # Retrieve A Record And Store It In A Python Tuple\n",
    "    try:\n",
    "        dataRecord = ibm_db.fetch_tuple(preparedStmt)\n",
    "    except:\n",
    "        pass\n",
    "\n",
    "    # If The Data Could Not Be Retrieved Or There Was No Data To Retrieve, Set The\n",
    "    # \"No Data\" Flag And Exit The Loop \n",
    "    if dataRecord is False:\n",
    "        noData = True\n",
    "\n",
    "    # Otherwise, Display The Data Retrieved\n",
    "    else:\n",
    "        print(\"{:<6}  {:24}\" .format(dataRecord[0], dataRecord[1])) \n",
    "\n",
    "# Add A Blank Line To The End Of The Report\n",
    "print()\n",
    "\n",
    "# Close The Database Connection That Was Opened Earlier\n",
    "conn.closeConnection()\n",
    "\n",
    "# Return Control To The Operating System\n",
    "exit()"
   ]
  },
  {
   "cell_type": "code",
   "execution_count": null,
   "metadata": {},
   "outputs": [],
   "source": []
  }
 ],
 "metadata": {
  "kernelspec": {
   "display_name": "Python 3",
   "language": "python",
   "name": "python3"
  },
  "language_info": {
   "codemirror_mode": {
    "name": "ipython",
    "version": 3
   },
   "file_extension": ".py",
   "mimetype": "text/x-python",
   "name": "python",
   "nbconvert_exporter": "python",
   "pygments_lexer": "ipython3",
   "version": "3.7.1"
  }
 },
 "nbformat": 4,
 "nbformat_minor": 2
}
