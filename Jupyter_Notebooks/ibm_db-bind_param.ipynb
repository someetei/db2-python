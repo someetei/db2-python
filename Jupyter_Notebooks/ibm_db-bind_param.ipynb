{
 "cells": [
  {
   "cell_type": "markdown",
   "metadata": {
    "deletable": false,
    "editable": false
   },
   "source": [
    "# ibm_db.bind_param()"
   ]
  },
  {
   "cell_type": "markdown",
   "metadata": {
    "deletable": false,
    "editable": false
   },
   "source": [
    "## Purpose:"
   ]
  },
  {
   "cell_type": "markdown",
   "metadata": {
    "deletable": false,
    "editable": false
   },
   "source": [
    "Associate (bind) parameter markers coded in a prepared SQL statement with application variables. "
   ]
  },
  {
   "cell_type": "markdown",
   "metadata": {
    "deletable": false,
    "editable": false
   },
   "source": [
    "## Syntax:"
   ]
  },
  {
   "cell_type": "markdown",
   "metadata": {
    "deletable": false,
    "editable": false
   },
   "source": [
    "`bool ibm_db.bind_param( IBM_DBStatement `*`preparedStmt,`*`int `*`paramNumber,`*` string `*`variable`* <br>`[, int `*`paramType`*` [, int `*`dataType`*` [, int `*`precision`*` [, int `*`scale`*` [, int `*`size`*`] ] ] ] ] )`"
   ]
  },
  {
   "cell_type": "markdown",
   "metadata": {
    "deletable": false,
    "editable": false
   },
   "source": [
    "## Parameters:"
   ]
  },
  {
   "cell_type": "markdown",
   "metadata": {
    "deletable": false
   },
   "source": [
    "* __*preparedStmt*__ &nbsp; &nbsp; : A prepared SQL statement (returned by the __ibm_db.prepare()__ API).\n",
    "* __*paramNumber*__ &nbsp; &nbsp;: The parameter marker's location in the SQL statement text. Parameter markers are numbered sequentially, from left to right as they appear in the statement, starting with 1.\n",
    "* __*variable*__ &nbsp; &nbsp; &nbsp; &nbsp; &nbsp; &nbsp; &nbsp;: The variable to be bound to the parameter marker specified in the __*paramNumber*__ parameter.\n",
    "* __*paramType*__ &nbsp; &nbsp; &nbsp; &nbsp; : The type of parameter marker being bound. Valid values are:<p>\n",
    "    \n",
    "    * `ibm_db.SQL_PARAM_INPUT` &nbsp; &nbsp; &nbsp; &nbsp; &nbsp; &nbsp; &nbsp; &nbsp; : The parameter marker is associated with an SQL statement other than a __CALL__ statement *<u>or</u>* the parameter marker is associated with an input parameter of a stored procedure being called.\n",
    "    * `ibm_db.SQL_PARAM_OUTPUT` &nbsp; &nbsp; &nbsp; &nbsp; &nbsp; &nbsp; &nbsp; : The parameter marker is associated with an output parameter *<u>or</u>* the return value of a stored procedure being called.\n",
    "    * `ibm_db.SQL_PARAM_INPUT_OUTPUT` &nbsp; : The parameter marker is associated with an input/output parameter of a stored procedure being called.\n",
    "    * `ibm_db.PARAM_FILE` &nbsp; &nbsp; &nbsp; &nbsp; &nbsp; &nbsp; &nbsp; &nbsp; &nbsp; &nbsp; &nbsp; &nbsp; &nbsp; : The parameter marker is associated with a file that contains the data that will be provided when the SQL statement is executed. (A file can be used to avoid having to store large object data in memory.)<p>\n",
    "    \n",
    "* __*dataType*__ &nbsp; &nbsp; &nbsp; &nbsp; &nbsp; &nbsp; : The SQL data type the application variable specified in the __*variable*__ parameter should be bound as. Valid values are:<p>\n",
    "\n",
    "    * `ibm_db.SQL_BINARY` &nbsp; : The variable should be bound as a binary large object.\n",
    "    * `ibm_db.SQL_CHAR` &nbsp; &nbsp; &nbsp; : The variable should be bound as fixed-length character string.\n",
    "    * `ibm_db.SQL_DOUBLE` &nbsp; : The variable should be bound as a double-precision floating-point number.\n",
    "    * `ibm_db.SQL_LONG`&nbsp; &nbsp; &nbsp; &nbsp;: The variable should be bound as a long varying-length character string.<p>\n",
    "\n",
    "* __*precision*__&nbsp; &nbsp; &nbsp; &nbsp; &nbsp; &nbsp;: The precision (i.e., total number of digits) of the application variable used.   \n",
    "* __*scale*__&nbsp; &nbsp; &nbsp; &nbsp; &nbsp; &nbsp; &nbsp; &nbsp; &nbsp; : The scale (i.e., number of decimal digits) of the application variable used.\n",
    "* __*size*__&nbsp; &nbsp; &nbsp; &nbsp; &nbsp; &nbsp; &nbsp; &nbsp; &nbsp; &nbsp; : The size of the memory buffer used to store the value associated with the parameter marker. "
   ]
  },
  {
   "cell_type": "markdown",
   "metadata": {
    "deletable": false,
    "editable": false
   },
   "source": [
    "## Return values:"
   ]
  },
  {
   "cell_type": "markdown",
   "metadata": {
    "deletable": false,
    "editable": false
   },
   "source": [
    "* `True` &nbsp; &nbsp; &nbsp;: The bind operation was successfull.  \n",
    "* `False` &nbsp; &nbsp;: The bind operation failed."
   ]
  },
  {
   "cell_type": "markdown",
   "metadata": {
    "deletable": false,
    "editable": false
   },
   "source": [
    "## Description:"
   ]
  },
  {
   "cell_type": "markdown",
   "metadata": {
    "deletable": false,
    "editable": false
   },
   "source": [
    "The __ibm_db.bind_param()__ API is used to associate (bind) parameter markers in an SQL statement to application variables - a parameter marker is represented by a question mark character (?) and is used to indicate the position in an SQL statement where an application-supplied value is to be substituted when the statement is executed.<p>\n",
    "    \n",
    "This API gives you more control over the parameter type (inout, output, or input/output), SQL data type, precision, and scale that is used for parameter marker values as opposed to passing values via an input tuple when the __ibm_db.execute()__ API is used."
   ]
  },
  {
   "cell_type": "markdown",
   "metadata": {
    "deletable": false,
    "editable": false
   },
   "source": [
    "## Example:"
   ]
  },
  {
   "cell_type": "code",
   "execution_count": 1,
   "metadata": {
    "deletable": false
   },
   "outputs": [
    {
     "name": "stdout",
     "output_type": "stream",
     "text": [
      "\n",
      "Connecting to the SAMPLE database ... Done!\n",
      "\n",
      "Preparing the SQL statement \"SELECT projname FROM project WHERE deptno = ?\" ... Done!\n",
      "\n",
      "Processing query 1:\n",
      "  Binding the appropriate variable to the parameter marker used ... Done!\n",
      "  Executing the prepared SQL statement (with the value 'B01') ... Done!\n",
      "Results:\n",
      "\n",
      "DEPTNO  PROJNAME\n",
      "______  _____________________\n",
      "B01     WELD LINE PLANNING\n",
      "\n",
      "Processing query 2:\n",
      "  Binding the appropriate variable to the parameter marker used ... Done!\n",
      "  Executing the prepared SQL statement (with the value 'C01') ... Done!\n",
      "Results:\n",
      "\n",
      "DEPTNO  PROJNAME\n",
      "______  _____________________\n",
      "C01     QUERY SERVICES\n",
      "C01     USER EDUCATION\n",
      "\n",
      "Processing query 3:\n",
      "  Binding the appropriate variable to the parameter marker used ... Done!\n",
      "  Executing the prepared SQL statement (with the value 'D01') ... Done!\n",
      "Results:\n",
      "\n",
      "DEPTNO  PROJNAME\n",
      "______  _____________________\n",
      "D01     ADMIN SERVICES\n",
      "D01     WELD LINE AUTOMATION\n",
      "\n",
      "Processing query 4:\n",
      "  Binding the appropriate variable to the parameter marker used ... Done!\n",
      "  Executing the prepared SQL statement (with the value 'E01') ... Done!\n",
      "Results:\n",
      "\n",
      "DEPTNO  PROJNAME\n",
      "______  _____________________\n",
      "E01     OPERATION SUPPORT\n",
      "E01     GEN SYSTEMS SERVICES\n",
      "\n",
      "Disconnecting from the SAMPLE database ... Done!\n",
      "\n"
     ]
    }
   ],
   "source": [
    "#----------------------------------------------------------------------------------------------#\n",
    "#  NAME:     ibm_db-bind_param.py                                                              #\n",
    "#                                                                                              #\n",
    "#  PURPOSE:  This program is designed to illustrate how to use the ibm_db.bind_param() API.    #\n",
    "#                                                                                              #\n",
    "#            Additional APIs used:                                                             #\n",
    "#                 ibm_db.prepare()                                                             #\n",
    "#                 ibm_db.execute()                                                             #\n",
    "#                 ibm_db.fetch_tuple()                                                         #\n",
    "#                                                                                              #\n",
    "#  PURPOSE:  This program is designed to illustrate how to use the ibm_db.active() API.        #\n",
    "#                                                                                              #\n",
    "#----------------------------------------------------------------------------------------------#\n",
    "#                     DISCLAIMER OF WARRANTIES AND LIMITATION OF LIABILITY                     #\n",
    "#                                                                                              #\n",
    "#  (C) COPYRIGHT International Business Machines Corp. 2018, 2019 All Rights Reserved          #\n",
    "#  Licensed Materials - Property of IBM                                                        #\n",
    "#                                                                                              #\n",
    "#  US Government Users Restricted Rights - Use, duplication or disclosure restricted by GSA    #\n",
    "#  ADP Schedule Contract with IBM Corp.                                                        #\n",
    "#                                                                                              #\n",
    "#  The following source code (\"Sample\") is owned by International Business Machines            #\n",
    "#  Corporation (\"IBM\") or one of its subsidiaries and is copyrighted and licensed, not sold.   #\n",
    "#  You may use, copy, modify, and distribute the Sample in any form without payment to IBM,    #\n",
    "#  for the purpose of assisting you in the creation of Python applications using the ibm_db    #\n",
    "#  library.                                                                                    #\n",
    "#                                                                                              #\n",
    "#  The Sample code is provided to you on an \"AS IS\" basis, without warranty of any kind. IBM   #\n",
    "#  HEREBY EXPRESSLY DISCLAIMS ALL WARRANTIES, EITHER EXPRESS OR IMPLIED, INCLUDING, BUT NOT    #\n",
    "#  LIMITED TO, THE IMPLIED WARRANTIES OF MERCHANTABILITY AND FITNESS FOR A PARTICULAR PURPOSE. #\n",
    "#  Some jurisdictions do not allow for the exclusion or limitation of implied warranties, so   #\n",
    "#  the above limitations or exclusions may not apply to you. IBM shall not be liable for any   #\n",
    "#  damages you suffer as a result of using, copying, modifying or distributing the Sample,     #\n",
    "#  even if IBM has been advised of the possibility of such damages.                            #\n",
    "#----------------------------------------------------------------------------------------------#\n",
    "\n",
    "# Load The Appropriate Python Modules\n",
    "import sys         # Provides Information About Python Interpreter Constants And Functions\n",
    "import ibm_db      # Contains The APIs Needed To Work With Db2 Databases\n",
    "\n",
    "#----------------------------------------------------------------------------------------------#\n",
    "# Import The Db2ConnectionMgr Class Definition, Attributes, And Methods That Have Been Defined #\n",
    "# In The File Named \"ibm_db_tools.py\"; This Class Contains The Programming Logic Needed To     #\n",
    "# Establish And Terminate A Connection To A Db2 Server Or Database                             #\n",
    "#----------------------------------------------------------------------------------------------#\n",
    "from ibm_db_tools import Db2ConnectionMgr\n",
    "\n",
    "#----------------------------------------------------------------------------------------------#\n",
    "# Import The ipynb_exit Class Definition, Attributes, And Methods That Have Been Defined In    #\n",
    "# The File Named \"ipynb_exit.py\"; This Class Contains The Programming Logic Needed To Allow    #\n",
    "# \"exit()\" Functionality To Work Without Raising An Error Or Stopping The Kernel If The        #\n",
    "# Application Is Invoked In A Jupyter Notebook                                                 #\n",
    "#----------------------------------------------------------------------------------------------#\n",
    "from ipynb_exit import exit\n",
    "\n",
    "# Define And Initialize The Appropriate Variables\n",
    "dbName = \"SAMPLE\"\n",
    "userID = \"db2inst1\"\n",
    "passWord = \"db2inst1\"\n",
    "dbConnection = None\n",
    "preparedStmt = None\n",
    "deptID = ['B01', 'C01', 'D01', 'E01']\n",
    "returnCode = False\n",
    "dataRecord = False\n",
    "\n",
    "# Create An Instance Of The Db2ConnectionMgr Class And Use It To Connect To A Db2 Database\n",
    "conn = Db2ConnectionMgr('DB', dbName, '', '', userID, passWord)\n",
    "conn.openConnection()\n",
    "if conn.returnCode is True:\n",
    "    dbConnection = conn.connectionID\n",
    "else:\n",
    "    conn.closeConnection()\n",
    "    exit(-1)\n",
    "\n",
    "# Define The SQL Statement That Is To Be Executed - Include A Parameter Marker\n",
    "sqlStatement = \"SELECT projname FROM project WHERE deptno = ?\"\n",
    "\n",
    "# Prepare The SQL Statement Just Defined\n",
    "print(\"Preparing the SQL statement \\\"\" + sqlStatement + \"\\\" ... \", end=\"\")\n",
    "try:\n",
    "    preparedStmt = ibm_db.prepare(dbConnection, sqlStatement)\n",
    "except Exception:\n",
    "    pass\n",
    "\n",
    "# If The SQL Statement Could Not Be Prepared By Db2, Display An Error Message And Exit\n",
    "if preparedStmt is False:\n",
    "    print(\"\\nERROR: Unable to prepare the SQL statement specified.\")\n",
    "    conn.closeConnection()\n",
    "    exit(-1)\n",
    "\n",
    "# Otherwise, Complete The Status Message\n",
    "else:\n",
    "    print(\"Done!\\n\")\n",
    "\n",
    "# For Every Value Specified In The deptID List, ...\n",
    "for loopCounter in range(0, 4):\n",
    "\n",
    "    # Display A Message That Identifies The Query Being Executed\n",
    "    print(\"Processing query \" + str(loopCounter + 1) + \":\")\n",
    "\n",
    "    # Assign A Value To The Application Variable That Is To Be Bound To The SQL Statement\n",
    "    paramValue = deptID[loopCounter]\n",
    "\n",
    "    # Bind The Application Variable To The Parameter Marker Used In The SQL Statement \n",
    "    print(\"  Binding the appropriate variable to the parameter marker used ... \", end=\"\")\n",
    "    try:\n",
    "        returnCode = ibm_db.bind_param(preparedStmt, 1, paramValue, ibm_db.SQL_PARAM_INPUT,\n",
    "                         ibm_db.SQL_CHAR)\n",
    "    except Exception:\n",
    "        pass\n",
    "    \n",
    "    # If The Application Variable Was Not Bound Successfully, Display An Error Message And Exit\n",
    "    if returnCode is False:\n",
    "        print(\"\\nERROR: Unable to bind the variable to the parameter marker specified.\")\n",
    "        conn.closeConnection()\n",
    "        exit(-1)\n",
    "\n",
    "    # Otherwise, Complete The Status Message\n",
    "    else:\n",
    "        print(\"Done!\")\n",
    "\n",
    "    # Execute The Prepared SQL Statement (Using The New Parameter Marker Value)\n",
    "    print(\"  Executing the prepared SQL statement \", end=\"\")\n",
    "    print(\"(with the value \\'\" + paramValue + \"\\') ... \", end=\"\")\n",
    "    try:\n",
    "        returnCode = ibm_db.execute(preparedStmt)\n",
    "    except Exception:\n",
    "        pass\n",
    "   \n",
    "    # If The SQL Statement Could Not Be Executed, Display An Error Message And Exit \n",
    "    if returnCode is False:\n",
    "        print(\"\\nERROR: Unable to execute the SQL statement.\")\n",
    "        conn.closeConnection()\n",
    "        exit(-1)\n",
    "\n",
    "    # Otherwise, Complete The Status Message\n",
    "    else:\n",
    "        print(\"Done!\")\n",
    "\n",
    "    # Display A Report Header\n",
    "    print(\"Results:\\n\")\n",
    "    print(\"DEPTNO  PROJNAME\")\n",
    "    print(\"______  _____________________\")\n",
    "\n",
    "    # As Long As There Are Records, ...\n",
    "    noData = False\n",
    "    while noData is False:\n",
    "\n",
    "        # Retrieve A Record And Store It In A Python Tuple\n",
    "        try:\n",
    "            dataRecord = ibm_db.fetch_tuple(preparedStmt)\n",
    "        except:\n",
    "            pass\n",
    "\n",
    "        # If The Data Could Not Be Retrieved Or There Was No Data To Retrieve, Set The\n",
    "        # \"No Data\" Flag And Continue \n",
    "        if dataRecord is False:\n",
    "            noData = True\n",
    "\n",
    "        # Otherwise, Format And Display The Data Retrieved\n",
    "        else:\n",
    "            print(\"{:<6}  {}\" .format(paramValue, dataRecord[0])) \n",
    "\n",
    "    # Add A Blank Line To The End Of The Report\n",
    "    print()\n",
    "\n",
    "# Close The Database Connection That Was Opened Earlier\n",
    "conn.closeConnection()\n",
    "\n",
    "# Return Control To The Operating System\n",
    "exit()"
   ]
  },
  {
   "cell_type": "code",
   "execution_count": null,
   "metadata": {},
   "outputs": [],
   "source": []
  }
 ],
 "metadata": {
  "kernelspec": {
   "display_name": "Python 3",
   "language": "python",
   "name": "python3"
  },
  "language_info": {
   "codemirror_mode": {
    "name": "ipython",
    "version": 3
   },
   "file_extension": ".py",
   "mimetype": "text/x-python",
   "name": "python",
   "nbconvert_exporter": "python",
   "pygments_lexer": "ipython3",
   "version": "3.12.3"
  }
 },
 "nbformat": 4,
 "nbformat_minor": 2
}
