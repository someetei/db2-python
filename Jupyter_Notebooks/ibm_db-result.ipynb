{
 "cells": [
  {
   "cell_type": "markdown",
   "metadata": {
    "deletable": false,
    "editable": false
   },
   "source": [
    "# ibm_db.result()"
   ]
  },
  {
   "cell_type": "markdown",
   "metadata": {
    "deletable": false,
    "editable": false
   },
   "source": [
    "## Purpose: "
   ]
  },
  {
   "cell_type": "markdown",
   "metadata": {
    "deletable": false,
    "editable": false
   },
   "source": [
    "Retrieve a value from a column in the current row of a result set."
   ]
  },
  {
   "cell_type": "markdown",
   "metadata": {
    "deletable": false,
    "editable": false
   },
   "source": [
    "## Syntax:"
   ]
  },
  {
   "cell_type": "markdown",
   "metadata": {
    "deletable": false,
    "editable": false
   },
   "source": [
    "`mixed ibm_db.result( IBM_DBStatement `*`statement,`*` mixed `*`column`*` )`"
   ]
  },
  {
   "cell_type": "markdown",
   "metadata": {
    "deletable": false,
    "editable": false
   },
   "source": [
    "## Parameters:"
   ]
  },
  {
   "cell_type": "markdown",
   "metadata": {
    "deletable": false,
    "editable": false
   },
   "source": [
    "* __*statement*__&nbsp; &nbsp; : A valid `IBM_DBStatement` object that contains a result set. \n",
    "* __column__&nbsp; &nbsp; &nbsp; &nbsp; : The zero-indexed position of the column *<u>or</u>* the name of the column in the result set that data is to be retrieved from. "
   ]
  },
  {
   "cell_type": "markdown",
   "metadata": {
    "deletable": false,
    "editable": false
   },
   "source": [
    "## Return values:"
   ]
  },
  {
   "cell_type": "markdown",
   "metadata": {
    "deletable": false,
    "editable": false
   },
   "source": [
    "* If __successful__, the value for the column specified, *in the current row* of the result set.\n",
    "* If __unsuccessful__ or if the column specified doesn't exist, the value `None`."
   ]
  },
  {
   "cell_type": "markdown",
   "metadata": {
    "deletable": false,
    "editable": false
   },
   "source": [
    "## Description:"
   ]
  },
  {
   "cell_type": "markdown",
   "metadata": {
    "deletable": false
   },
   "source": [
    "The __ibm_db.result()__ API is used to retrieve a value from a column in the current row of a result set. This function is used in conjunction with the __ibm_db.fetch_row()__ API, which is used to advance a cursor to the next row *<u>or</u>* move a cursor to a specific row in a result set. Once the cursor has been moved, this API is then called to retrieve data for individual columns in the row.<p>\n",
    "    \n",
    "As an alternative to using the __ibm_db.fetch_row()__ and __ibm_db.result()__ APIs to iterate through a result set and retrieve data values for individual columns, applications can use the __ibm_db.fetch_tuple()__, __ibm_db.fetch_assoc()__, or __ibm_db.fetch_both()__ API to position the cursor in a result set and retrieve the data for a complete row, in a single operation."
   ]
  },
  {
   "cell_type": "markdown",
   "metadata": {
    "deletable": false,
    "editable": false
   },
   "source": [
    "## Example:"
   ]
  },
  {
   "cell_type": "code",
   "execution_count": 1,
   "metadata": {
    "deletable": false
   },
   "outputs": [
    {
     "name": "stdout",
     "output_type": "stream",
     "text": [
      "\n",
      "Connecting to the SAMPLE database ... Done!\n",
      "\n",
      "Executing the SQL statement \"SELECT deptname FROM department WHERE admrdept = 'A00'\" ... Done!\n",
      "\n",
      "Query results:\n",
      "\n",
      "DEPTNAME\n",
      "____________________________\n",
      "SPIFFY COMPUTER SERVICE DIV.\n",
      "PLANNING\n",
      "INFORMATION CENTER\n",
      "DEVELOPMENT CENTER\n",
      "SUPPORT SERVICES\n",
      "\n",
      "Disconnecting from the SAMPLE database ... Done!\n",
      "\n"
     ]
    }
   ],
   "source": [
    "#----------------------------------------------------------------------------------------------#\n",
    "#  NAME:     ibm_db-result.py                                                                  #\n",
    "#                                                                                              #\n",
    "#  PURPOSE:  This program is designed to illustrate how to use the ibm_db.fetch_row() API.     #\n",
    "#                                                                                              #\n",
    "#            Additional APIs used:                                                             #\n",
    "#                 ibm_db.exec_immediate()                                                      #\n",
    "#                 ibm_db.fetch_row()                                                           #\n",
    "#                                                                                              #\n",
    "#----------------------------------------------------------------------------------------------#\n",
    "#                     DISCLAIMER OF WARRANTIES AND LIMITATION OF LIABILITY                     #\n",
    "#                                                                                              #\n",
    "#  (C) COPYRIGHT International Business Machines Corp. 2018, 2019 All Rights Reserved          #\n",
    "#  Licensed Materials - Property of IBM                                                        #\n",
    "#                                                                                              #\n",
    "#  US Government Users Restricted Rights - Use, duplication or disclosure restricted by GSA    #\n",
    "#  ADP Schedule Contract with IBM Corp.                                                        #\n",
    "#                                                                                              #\n",
    "#  The following source code (\"Sample\") is owned by International Business Machines            #\n",
    "#  Corporation (\"IBM\") or one of its subsidiaries and is copyrighted and licensed, not sold.   #\n",
    "#  You may use, copy, modify, and distribute the Sample in any form without payment to IBM,    #\n",
    "#  for the purpose of assisting you in the creation of Python applications using the ibm_db    #\n",
    "#  library.                                                                                    #\n",
    "#                                                                                              #\n",
    "#  The Sample code is provided to you on an \"AS IS\" basis, without warranty of any kind. IBM   #\n",
    "#  HEREBY EXPRESSLY DISCLAIMS ALL WARRANTIES, EITHER EXPRESS OR IMPLIED, INCLUDING, BUT NOT    #\n",
    "#  LIMITED TO, THE IMPLIED WARRANTIES OF MERCHANTABILITY AND FITNESS FOR A PARTICULAR PURPOSE. #\n",
    "#  Some jurisdictions do not allow for the exclusion or limitation of implied warranties, so   #\n",
    "#  the above limitations or exclusions may not apply to you. IBM shall not be liable for any   #\n",
    "#  damages you suffer as a result of using, copying, modifying or distributing the Sample,     #\n",
    "#  even if IBM has been advised of the possibility of such damages.                            #\n",
    "#----------------------------------------------------------------------------------------------#\n",
    "\n",
    "# Load The Appropriate Python Modules\n",
    "import sys         # Provides Information About Python Interpreter Constants And Functions\n",
    "import ibm_db      # Contains The APIs Needed To Work With Db2 Databases\n",
    "\n",
    "#----------------------------------------------------------------------------------------------#\n",
    "# Import The Db2ConnectionMgr Class Definition, Attributes, And Methods That Have Been Defined #\n",
    "# In The File Named \"ibm_db_tools.py\"; This Class Contains The Programming Logic Needed To     #\n",
    "# Establish And Terminate A Connection To A Db2 Server Or Database                             #\n",
    "#----------------------------------------------------------------------------------------------#\n",
    "from ibm_db_tools import Db2ConnectionMgr\n",
    "\n",
    "#----------------------------------------------------------------------------------------------#\n",
    "# Import The ipynb_exit Class Definition, Attributes, And Methods That Have Been Defined In    #\n",
    "# The File Named \"ipynb_exit.py\"; This Class Contains The Programming Logic Needed To Allow    #\n",
    "# \"exit()\" Functionality To Work Without Raising An Error Or Stopping The Kernel If The        #\n",
    "# Application Is Invoked In A Jupyter Notebook                                                 #\n",
    "#----------------------------------------------------------------------------------------------#\n",
    "from ipynb_exit import exit\n",
    "\n",
    "# Define And Initialize The Appropriate Variables\n",
    "dbName = \"SAMPLE\"\n",
    "userID = \"db2inst1\"\n",
    "passWord = \"db2inst1\"\n",
    "dbConnection = None\n",
    "resultSet = False\n",
    "\n",
    "# Create An Instance Of The Db2ConnectionMgr Class And Use It To Connect To A Db2 Database\n",
    "conn = Db2ConnectionMgr('DB', dbName, '', '', userID, passWord)\n",
    "conn.openConnection()\n",
    "if conn.returnCode is True:\n",
    "    dbConnection = conn.connectionID\n",
    "else:\n",
    "    conn.closeConnection()\n",
    "    exit(-1)\n",
    "\n",
    "# Define The SQL Statement That Is To Be Executed\n",
    "sqlStatement = \"SELECT deptname FROM department WHERE admrdept = 'A00'\"\n",
    "\n",
    "# Execute The SQL Statement Just Defined\n",
    "print(\"Executing the SQL statement \\\"\" + sqlStatement + \"\\\" ... \", end=\"\")\n",
    "try:\n",
    "    resultSet = ibm_db.exec_immediate(dbConnection, sqlStatement)\n",
    "except Exception:\n",
    "    pass\n",
    "\n",
    "# If The SQL Statement Could Not Be Executed, Display An Error Message And Exit \n",
    "if resultSet is False:\n",
    "    print(\"\\nERROR: Unable to execute the SQL statement specified.\\n\")\n",
    "    conn.closeConnection()\n",
    "    exit(-1)\n",
    "\n",
    "# Otherwise, Complete The Status Message\n",
    "else:\n",
    "    print(\"Done!\\n\")\n",
    "\n",
    "# Display A Report Header\n",
    "print(\"Query results:\\n\")\n",
    "print(\"DEPTNAME\")\n",
    "print(\"____________________________\")\n",
    "\n",
    "# As Long As There Are Records In The Result Set Produced, ...\n",
    "while (ibm_db.fetch_row(resultSet) is True):\n",
    "\n",
    "    # Display The Data Retrieved\n",
    "    print(ibm_db.result(resultSet, 0)) \n",
    "\n",
    "# Add A Blank Line To The End Of The Report\n",
    "print()\n",
    "\n",
    "# Close The Database Connection That Was Opened Earlier\n",
    "conn.closeConnection()\n",
    "\n",
    "# Return Control To The Operating System\n",
    "exit()"
   ]
  },
  {
   "cell_type": "code",
   "execution_count": null,
   "metadata": {},
   "outputs": [],
   "source": []
  }
 ],
 "metadata": {
  "kernelspec": {
   "display_name": "Python 3",
   "language": "python",
   "name": "python3"
  },
  "language_info": {
   "codemirror_mode": {
    "name": "ipython",
    "version": 3
   },
   "file_extension": ".py",
   "mimetype": "text/x-python",
   "name": "python",
   "nbconvert_exporter": "python",
   "pygments_lexer": "ipython3",
   "version": "3.7.1"
  }
 },
 "nbformat": 4,
 "nbformat_minor": 2
}
