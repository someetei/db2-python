{
 "cells": [
  {
   "cell_type": "markdown",
   "metadata": {
    "deletable": false,
    "editable": false
   },
   "source": [
    "# ibm_db.exec_immediate()"
   ]
  },
  {
   "cell_type": "markdown",
   "metadata": {
    "deletable": false,
    "editable": false
   },
   "source": [
    "## Purpose:"
   ]
  },
  {
   "cell_type": "markdown",
   "metadata": {
    "deletable": false,
    "editable": false
   },
   "source": [
    "Prepare and execute an SQL statement, using values supplied for parameter markers that were coded in the statement<br>(if any)."
   ]
  },
  {
   "cell_type": "markdown",
   "metadata": {
    "deletable": false,
    "editable": false
   },
   "source": [
    "## Syntax:"
   ]
  },
  {
   "cell_type": "markdown",
   "metadata": {},
   "source": [
    "`IBM_DBStatement ibm_db.exec_immediate( IBM_DBConnection `*`connection,`*` string `*`statement`*` [, dictionary `*`options`*`] )`"
   ]
  },
  {
   "cell_type": "markdown",
   "metadata": {
    "deletable": false,
    "editable": false
   },
   "source": [
    "## Parameters:"
   ]
  },
  {
   "cell_type": "markdown",
   "metadata": {
    "deletable": false,
    "editable": false
   },
   "source": [
    "* __*connection*__&nbsp; &nbsp; &nbsp; &nbsp; : A valid Db2 server or database connection.\n",
    "* __*SQLstatement*__&nbsp; &nbsp;: A valid, executable SQL statement (that may or may not contain one or more parameter markers).\n",
    "* __options__&nbsp; &nbsp; &nbsp; &nbsp; &nbsp; &nbsp; &nbsp; : A dictionary containing key-value pairs for the statement attributes that are to be set when the statement provided in the __*SQLstatement*__ parameter is prepared. Valid keys and values are:<p>\n",
    "        \n",
    "    * `ibm_db.SQL_ATTR_CURSOR_TYPE`&nbsp; &nbsp; &nbsp; &nbsp; &nbsp; &nbsp; &nbsp; &nbsp; &nbsp; &nbsp; &nbsp; &nbsp; &nbsp; &nbsp; &nbsp;: Specifies the type of cursor that is to be used for processing result sets. Valid values are:\n",
    "        * `ibm_db.SQL_CURSOR_FORWARD_ONLY`&nbsp; &nbsp; &nbsp; &nbsp; &nbsp; &nbsp; &nbsp; &nbsp; &nbsp;: A forward only cursor should be used (i.e., a cursor that only scrolls forward).\n",
    "        * `ibm_db. SQL_CURSOR_KEYSET_DRIVEN`&nbsp; &nbsp; &nbsp; &nbsp; &nbsp; &nbsp; &nbsp;: A keyset-driven cursor should be used.\n",
    "        * `ibm_db.SQL_CURSOR_STATIC`&nbsp; &nbsp; &nbsp; &nbsp; &nbsp;  &nbsp; &nbsp; &nbsp; &nbsp; &nbsp; &nbsp; &nbsp; &nbsp; &nbsp; &nbsp;: A static cursor should be used.\n",
    "        * `ibm_db.SQL_CURSOR_DYNAMIC`&nbsp; &nbsp; &nbsp; &nbsp; &nbsp;  &nbsp; &nbsp; &nbsp; &nbsp; &nbsp; &nbsp; &nbsp; &nbsp; &nbsp;: A dynamic, scrollable cursor that detects all changes to the result set, should be used. Dynamic cursors are only supported by Db2 for z/OS servers.\n",
    "    * `ibm_db.SQL_ATTR_ROWCOUNT_PREFETCH`&nbsp; &nbsp; &nbsp; &nbsp; &nbsp; &nbsp; &nbsp; &nbsp; &nbsp;: Enables Db2 to determine the number of rows that are returned by a query (so the entire result set can be prefetched into memory, when possible); `ibm_db.SQL_ROWCOUNT_PREFETCH_ON` will turn this behavior __ON__ and `ibm_db.SQL_ROWCOUNT_PREFETCH_OFF` will turn it __OFF__.\n",
    "    * `ibm_db.SQL_ATTR_QUERY_TIMEOUT`&nbsp; &nbsp; &nbsp; &nbsp; &nbsp; &nbsp; &nbsp; &nbsp; &nbsp; &nbsp; &nbsp; &nbsp; &nbsp;: The number of seconds to wait for an SQL statement to execute before aborting and returning to the application. This option can be used to terminate long running queries &mdash; the default value of __0__ means an application will wait indefinitely for the server to complete execution."
   ]
  },
  {
   "cell_type": "markdown",
   "metadata": {
    "deletable": false,
    "editable": false
   },
   "source": [
    "## Return values:"
   ]
  },
  {
   "cell_type": "markdown",
   "metadata": {
    "deletable": false,
    "editable": false
   },
   "source": [
    "* If __successful__, a valid `IBM_DBStatement` object (that contains a result set if the SQL statement specified in the __*SQLstatement*__ parameter was a __SELECT__ statement).\n",
    "* If __unsuccessful__, the value `False`."
   ]
  },
  {
   "cell_type": "markdown",
   "metadata": {
    "deletable": false,
    "editable": false
   },
   "source": [
    "## Description:"
   ]
  },
  {
   "cell_type": "markdown",
   "metadata": {
    "deletable": false,
    "editable": false
   },
   "source": [
    "The __ibm_db.exec_immediate()__ API is used to prepare and execute an SQL statement, using values supplied for parameter markers that were coded in the statement (if there are any).<p>\n",
    "    \n",
    "If you plan to execute the same SQL statement repeatedly (with or without parameter marker values), consider using the __ibm_db.prepare()__ and __ibm_db.execute()__ APIs instead. Refer to the notebook for __ibm_db.prepare()__ (i.e., the file *ibm_db-prepare.ipynb*) for a brief discussion of the advantages of using __ibm_db.prepare()__ and __ibm_db.execute()__, as opposed to __ibm_db.exec_immediate()__ to perform SQL operations against a Db2 database.<p>\n",
    "    \n",
    "If the SQL statement executed returns a result set, a single row can be retrieved and stored in a tuple or dictionary using the  __ibm_db.fetch_tuple()__ (tuple), __ibm_db.fetch_assoc()__ (dictionary), or __ibm_db.fetch_both()__ (tuple *and* dictionary) APIs. Alternately, the __ibm_db.fetch_row()__ API can be used to move the result set pointer to each row in the result set produced and the __ibm_db.result()__ API can be used to fetch a column from the current row.<p> \n",
    "\n",
    "It is important to note that if you interject Python variables into the SQL statement used with this API, you run the risk of creating an application that is vunerable to SQL injection attacks . Consequently, if you want to execute SQL statements that contain parameter markers, it is recommended that you use the __ibm_db.prepare()__ and __ibm_db.execute()__ APIs to avoid creating a potential security exposure.<p>"
   ]
  },
  {
   "cell_type": "markdown",
   "metadata": {
    "deletable": false,
    "editable": false
   },
   "source": [
    "## Example:"
   ]
  },
  {
   "cell_type": "code",
   "execution_count": 1,
   "metadata": {
    "deletable": false
   },
   "outputs": [
    {
     "name": "stdout",
     "output_type": "stream",
     "text": [
      "\n",
      "Connecting to the SAMPLE database ... Done!\n",
      "\n",
      "Executing the SQL statement \"SELECT projno, projname FROM project WHERE prstaff < 2\" ... Done!\n",
      "\n",
      "Query results:\n",
      "\n",
      "PROJNO  PROJNAME\n",
      "______  _____________________\n",
      "AD3112  PERSONNEL PROGRAMMING   \n",
      "IF2000  USER EDUCATION          \n",
      "OP2011  SCP SYSTEMS SUPPORT     \n",
      "OP2012  APPLICATIONS SUPPORT    \n",
      "OP2013  DB/DC SUPPORT           \n",
      "PL2100  WELD LINE PLANNING      \n",
      "\n",
      "Disconnecting from the SAMPLE database ... Done!\n",
      "\n"
     ]
    }
   ],
   "source": [
    "#----------------------------------------------------------------------------------------------#\n",
    "#  NAME:     ibm_db-exec_immediate.py                                                          #\n",
    "#                                                                                              #\n",
    "#  PURPOSE:  This program is designed to illustrate how to use the ibm_db.exec_immediate()     #\n",
    "#            API.                                                                              #\n",
    "#                                                                                              #\n",
    "#            Additional APIs used:                                                             #\n",
    "#                 ibm_db.fetch_row()                                                           #\n",
    "#                 ibm_db.result()                                                              #\n",
    "#                                                                                              #\n",
    "#----------------------------------------------------------------------------------------------#\n",
    "#                     DISCLAIMER OF WARRANTIES AND LIMITATION OF LIABILITY                     #\n",
    "#                                                                                              #\n",
    "#  (C) COPYRIGHT International Business Machines Corp. 2018, 2019 All Rights Reserved          #\n",
    "#  Licensed Materials - Property of IBM                                                        #\n",
    "#                                                                                              #\n",
    "#  US Government Users Restricted Rights - Use, duplication or disclosure restricted by GSA    #\n",
    "#  ADP Schedule Contract with IBM Corp.                                                        #\n",
    "#                                                                                              #\n",
    "#  The following source code (\"Sample\") is owned by International Business Machines            #\n",
    "#  Corporation (\"IBM\") or one of its subsidiaries and is copyrighted and licensed, not sold.   #\n",
    "#  You may use, copy, modify, and distribute the Sample in any form without payment to IBM,    #\n",
    "#  for the purpose of assisting you in the creation of Python applications using the ibm_db    #\n",
    "#  library.                                                                                    #\n",
    "#                                                                                              #\n",
    "#  The Sample code is provided to you on an \"AS IS\" basis, without warranty of any kind. IBM   #\n",
    "#  HEREBY EXPRESSLY DISCLAIMS ALL WARRANTIES, EITHER EXPRESS OR IMPLIED, INCLUDING, BUT NOT    #\n",
    "#  LIMITED TO, THE IMPLIED WARRANTIES OF MERCHANTABILITY AND FITNESS FOR A PARTICULAR PURPOSE. #\n",
    "#  Some jurisdictions do not allow for the exclusion or limitation of implied warranties, so   #\n",
    "#  the above limitations or exclusions may not apply to you. IBM shall not be liable for any   #\n",
    "#  damages you suffer as a result of using, copying, modifying or distributing the Sample,     #\n",
    "#  even if IBM has been advised of the possibility of such damages.                            #\n",
    "#----------------------------------------------------------------------------------------------#\n",
    "\n",
    "# Load The Appropriate Python Modules\n",
    "import sys         # Provides Information About Python Interpreter Constants And Functions\n",
    "import ibm_db      # Contains The APIs Needed To Work With Db2 Databases\n",
    "\n",
    "#----------------------------------------------------------------------------------------------#\n",
    "# Import The Db2ConnectionMgr Class Definition, Attributes, And Methods That Have Been Defined #\n",
    "# In The File Named \"ibm_db_tools.py\"; This Class Contains The Programming Logic Needed To     #\n",
    "# Establish And Terminate A Connection To A Db2 Server Or Database                             #\n",
    "#----------------------------------------------------------------------------------------------#\n",
    "from ibm_db_tools import Db2ConnectionMgr\n",
    "\n",
    "#----------------------------------------------------------------------------------------------#\n",
    "# Import The ipynb_exit Class Definition, Attributes, And Methods That Have Been Defined In    #\n",
    "# The File Named \"ipynb_exit.py\"; This Class Contains The Programming Logic Needed To Allow    #\n",
    "# \"exit()\" Functionality To Work Without Raising An Error Or Stopping The Kernel If The        #\n",
    "# Application Is Invoked In A Jupyter Notebook                                                 #\n",
    "#----------------------------------------------------------------------------------------------#\n",
    "from ipynb_exit import exit\n",
    "\n",
    "# Define And Initialize The Appropriate Variables\n",
    "dbName = \"SAMPLE\"\n",
    "userID = \"db2inst1\"\n",
    "passWord = \"db2inst1\"\n",
    "dbConnection = None\n",
    "resultSet = False\n",
    "\n",
    "# Create An Instance Of The Db2ConnectionMgr Class And Use It To Connect To A Db2 Database\n",
    "conn = Db2ConnectionMgr('DB', dbName, '', '', userID, passWord)\n",
    "conn.openConnection()\n",
    "if conn.returnCode is True:\n",
    "    dbConnection = conn.connectionID\n",
    "else:\n",
    "    conn.closeConnection()\n",
    "    exit(-1)\n",
    "\n",
    "# Define The SQL Statement That Is To Be Executed\n",
    "sqlStatement = \"SELECT projno, projname FROM project WHERE prstaff < 2\"\n",
    "\n",
    "# Execute The SQL Statement Just Defined\n",
    "print(\"Executing the SQL statement \\\"\" + sqlStatement + \"\\\" ... \", end=\"\")\n",
    "try:\n",
    "    resultSet = ibm_db.exec_immediate(dbConnection, sqlStatement)\n",
    "except Exception:\n",
    "    pass\n",
    "\n",
    "# If The SQL Statement Could Not Be Executed, Display An Error Message And Exit \n",
    "if resultSet is False:\n",
    "    print(\"\\nERROR: Unable to execute the SQL statement specified.\\n\")\n",
    "    conn.closeConnection()\n",
    "    exit(-1)\n",
    "\n",
    "# Otherwise, Complete The Status Message\n",
    "else:\n",
    "    print(\"Done!\\n\")\n",
    "\n",
    "# Display A Report Header\n",
    "print(\"Query results:\\n\")\n",
    "print(\"PROJNO  PROJNAME\")\n",
    "print(\"______  _____________________\")\n",
    "\n",
    "# As Long As There Are Records In The Result Set Produced, ...\n",
    "while (ibm_db.fetch_row(resultSet) is True):\n",
    "\n",
    "    # Extract The Data Value For Each Column From The Current Record\n",
    "    projectNum = ibm_db.result(resultSet, 0)\n",
    "    projectName = ibm_db.result(resultSet, 1)\n",
    "\n",
    "    # Format And Display The Data Retrieved\n",
    "    print(\"{:6}  {:24}\" .format(projectNum, projectName))\n",
    "\n",
    "# Add A Blank Line To The End Of The Report\n",
    "print()\n",
    "\n",
    "# Close The Database Connection That Was Opened Earlier\n",
    "conn.closeConnection()\n",
    "\n",
    "# Return Control To The Operating System\n",
    "exit()"
   ]
  },
  {
   "cell_type": "code",
   "execution_count": null,
   "metadata": {},
   "outputs": [],
   "source": []
  }
 ],
 "metadata": {
  "kernelspec": {
   "display_name": "Python 3",
   "language": "python",
   "name": "python3"
  },
  "language_info": {
   "codemirror_mode": {
    "name": "ipython",
    "version": 3
   },
   "file_extension": ".py",
   "mimetype": "text/x-python",
   "name": "python",
   "nbconvert_exporter": "python",
   "pygments_lexer": "ipython3",
   "version": "3.12.3"
  }
 },
 "nbformat": 4,
 "nbformat_minor": 2
}
