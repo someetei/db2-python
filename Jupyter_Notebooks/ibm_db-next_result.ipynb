{
 "cells": [
  {
   "cell_type": "markdown",
   "metadata": {
    "deletable": false,
    "editable": false
   },
   "source": [
    "# ibm_db.next_result()"
   ]
  },
  {
   "cell_type": "markdown",
   "metadata": {
    "deletable": false,
    "editable": false
   },
   "source": [
    "## Purpose:"
   ]
  },
  {
   "cell_type": "markdown",
   "metadata": {
    "deletable": false,
    "editable": false
   },
   "source": [
    "Retrieve the next result set returned by a stored procedure."
   ]
  },
  {
   "cell_type": "markdown",
   "metadata": {
    "deletable": false,
    "editable": false
   },
   "source": [
    "## Syntax:"
   ]
  },
  {
   "cell_type": "markdown",
   "metadata": {
    "deletable": false,
    "editable": false
   },
   "source": [
    "`IBM_DBStatement ibm_db.next_result( IBM_DBStatement `*`statement`*` )`"
   ]
  },
  {
   "cell_type": "markdown",
   "metadata": {
    "deletable": false,
    "editable": false
   },
   "source": [
    "## Parameters:"
   ]
  },
  {
   "cell_type": "markdown",
   "metadata": {
    "deletable": false,
    "editable": false
   },
   "source": [
    "* __*statement*__&nbsp; &nbsp; : A valid `IBM_DBStatement` object that contains multiple result sets."
   ]
  },
  {
   "cell_type": "markdown",
   "metadata": {
    "deletable": false,
    "editable": false
   },
   "source": [
    "## Return values:"
   ]
  },
  {
   "cell_type": "markdown",
   "metadata": {
    "deletable": false,
    "editable": false
   },
   "source": [
    "* If __successful__, a new `IBM_DBStatement` object that contains the next result set returned by a stored procedure &mdash; provided another result set was available.\n",
    "* If __unsuccessful__, the value `False`."
   ]
  },
  {
   "cell_type": "markdown",
   "metadata": {
    "deletable": false,
    "editable": false
   },
   "source": [
    "## Description:"
   ]
  },
  {
   "cell_type": "markdown",
   "metadata": {
    "deletable": false,
    "editable": false
   },
   "source": [
    "The __ibm_db.next_result()__ API is used to retrieve the next result set that is returned by a stored procedure &mdash; provided the stored procedure returns more than one result set. (A stored procedure can return zero or more result sets.)<p>\n",
    "    \n",
    "While data in the first result set returned by a stored procedure can be retrieved the same way data in a result set produced by a simple __SELECT__ statement can be retrieved, data in subsequent result sets returned cannot be accessed until the __ibm_db.next_result()__ API is used to copy the next result set to a uniquely named Python variable."
   ]
  },
  {
   "cell_type": "markdown",
   "metadata": {
    "deletable": false,
    "editable": false
   },
   "source": [
    "## Example:"
   ]
  },
  {
   "cell_type": "code",
   "execution_count": 1,
   "metadata": {
    "deletable": false
   },
   "outputs": [
    {
     "name": "stdout",
     "output_type": "stream",
     "text": [
      "\n",
      "Connecting to the SAMPLE database ... Done!\n",
      "\n",
      "Creating an SQL stored procedure named \"HIGH_EARNERS\" ... Done!\n",
      "\n",
      "Executing the HIGH_EARNERS procedure & retrieving the first result set produced ... Done!\n",
      "\n",
      "Retrieving the second result set produced by the HIGH_EARNERS procedure ... Done!\n",
      "\n",
      "Retrieving the third result set produced by the HIGH_EARNERS procedure ... Done!\n",
      "\n",
      "Information retrieved:\n",
      "\n",
      "  Result set 1 details:\n",
      "\n",
      "  FIRSTNME        LASTNAME            SALARY      JOB\n",
      "  ______________  __________________  __________  ________\n",
      "  REBA            JOHN                $ 69840.00  DESIGNER  \n",
      "  WILLIAM         JONES               $ 68270.00  DESIGNER  \n",
      "  KIYOSHI         YAMAMOTO            $ 64680.00  DESIGNER  \n",
      "  ELIZABETH       PIANKA              $ 62250.00  DESIGNER  \n",
      "\n",
      "  Result set 2 details:\n",
      "\n",
      "  FIRSTNME        LASTNAME            SALARY      JOB\n",
      "  ______________  __________________  __________  ________\n",
      "  DELORES         QUINTANA            $ 73800.00  ANALYST   \n",
      "  HEATHER         NICHOLLS            $ 68420.00  ANALYST   \n",
      "  KIM             NATZ                $ 68420.00  ANALYST   \n",
      "\n",
      "  Result set 3 details:\n",
      "\n",
      "  FIRSTNME        LASTNAME            SALARY      JOB\n",
      "  ______________  __________________  __________  ________\n",
      "  VINCENZO        LUCCHESSI           $ 66500.00  SALESREP  \n",
      "\n",
      "Disconnecting from the SAMPLE database ... Done!\n",
      "\n"
     ]
    }
   ],
   "source": [
    "#----------------------------------------------------------------------------------------------#\n",
    "#  NAME:     ibm_db-next_result.py                                                             #\n",
    "#                                                                                              #\n",
    "#  PURPOSE:  This program is designed to illustrate how to use the ibm_db.next_result() API.   #\n",
    "#                                                                                              #\n",
    "#            Additional APIs used:                                                             #\n",
    "#                 ibm_db.exec_immediate()                                                      #\n",
    "#                 ibm_db.callproc()                                                            #\n",
    "#                 ibm_db.fetch_tuple()                                                         #\n",
    "#                                                                                              #\n",
    "#----------------------------------------------------------------------------------------------#\n",
    "#                     DISCLAIMER OF WARRANTIES AND LIMITATION OF LIABILITY                     #\n",
    "#                                                                                              #\n",
    "#  (C) COPYRIGHT International Business Machines Corp. 2018, 2019 All Rights Reserved          #\n",
    "#  Licensed Materials - Property of IBM                                                        #\n",
    "#                                                                                              #\n",
    "#  US Government Users Restricted Rights - Use, duplication or disclosure restricted by GSA    #\n",
    "#  ADP Schedule Contract with IBM Corp.                                                        #\n",
    "#                                                                                              #\n",
    "#  The following source code (\"Sample\") is owned by International Business Machines            #\n",
    "#  Corporation (\"IBM\") or one of its subsidiaries and is copyrighted and licensed, not sold.   #\n",
    "#  You may use, copy, modify, and distribute the Sample in any form without payment to IBM,    #\n",
    "#  for the purpose of assisting you in the creation of Python applications using the ibm_db    #\n",
    "#  library.                                                                                    #\n",
    "#                                                                                              #\n",
    "#  The Sample code is provided to you on an \"AS IS\" basis, without warranty of any kind. IBM   #\n",
    "#  HEREBY EXPRESSLY DISCLAIMS ALL WARRANTIES, EITHER EXPRESS OR IMPLIED, INCLUDING, BUT NOT    #\n",
    "#  LIMITED TO, THE IMPLIED WARRANTIES OF MERCHANTABILITY AND FITNESS FOR A PARTICULAR PURPOSE. #\n",
    "#  Some jurisdictions do not allow for the exclusion or limitation of implied warranties, so   #\n",
    "#  the above limitations or exclusions may not apply to you. IBM shall not be liable for any   #\n",
    "#  damages you suffer as a result of using, copying, modifying or distributing the Sample,     #\n",
    "#  even if IBM has been advised of the possibility of such damages.                            #\n",
    "#----------------------------------------------------------------------------------------------#\n",
    "\n",
    "# Load The Appropriate Python Modules\n",
    "import sys         # Provides Information About Python Interpreter Constants And Functions\n",
    "import ibm_db      # Contains The APIs Needed To Work With Db2 Databases\n",
    "\n",
    "#----------------------------------------------------------------------------------------------#\n",
    "# Import The Db2ConnectionMgr Class Definition, Attributes, And Methods That Have Been Defined #\n",
    "# In The File Named \"ibm_db_tools.py\"; This Class Contains The Programming Logic Needed To     #\n",
    "# Establish And Terminate A Connection To A Db2 Server Or Database                             #\n",
    "#----------------------------------------------------------------------------------------------#\n",
    "from ibm_db_tools import Db2ConnectionMgr\n",
    "\n",
    "#----------------------------------------------------------------------------------------------#\n",
    "# Import The ipynb_exit Class Definition, Attributes, And Methods That Have Been Defined In    #\n",
    "# The File Named \"ipynb_exit.py\"; This Class Contains The Programming Logic Needed To Allow    #\n",
    "# \"exit()\" Functionality To Work Without Raising An Error Or Stopping The Kernel If The        #\n",
    "# Application Is Invoked In A Jupyter Notebook                                                 #\n",
    "#----------------------------------------------------------------------------------------------#\n",
    "from ipynb_exit import exit\n",
    "\n",
    "# Define And Initialize The Appropriate Variables\n",
    "dbName = \"SAMPLE\"\n",
    "userID = \"db2inst1\"\n",
    "passWord = \"db2inst1\"\n",
    "dbConnection = None\n",
    "spName = \"HIGH_EARNERS\"\n",
    "returnCode = False\n",
    "dataRecord = False\n",
    "\n",
    "# Create An Instance Of The Db2ConnectionMgr Class And Use It To Connect To A Db2 Database\n",
    "conn = Db2ConnectionMgr('DB', dbName, '', '', userID, passWord)\n",
    "conn.openConnection()\n",
    "if conn.returnCode is True:\n",
    "    dbConnection = conn.connectionID\n",
    "else:\n",
    "    conn.closeConnection()\n",
    "    exit(-1)\n",
    "\n",
    "# Define The SQL Statement That Is To Be Used To Create A New Stored Procedure That\n",
    "# Returns Three Result Sets\n",
    "sqlStatement = \"CREATE OR REPLACE PROCEDURE \" + spName + \" \"\n",
    "sqlStatement += \"LANGUAGE SQL \"\n",
    "sqlStatement += \"DYNAMIC RESULT SETS 3 \"\n",
    "sqlStatement += \"READS SQL DATA \"\n",
    "sqlStatement += \"NO EXTERNAL ACTION \"\n",
    "sqlStatement += \"BEGIN \"\n",
    "sqlStatement += \"  DECLARE avgSalary INT DEFAULT 0; \"\n",
    "sqlStatement += \"  DECLARE c1 CURSOR WITH RETURN FOR \"\n",
    "sqlStatement += \"    SELECT firstnme, lastname, salary, job FROM employee \"\n",
    "sqlStatement += \"    WHERE job = 'DESIGNER' AND \"\n",
    "sqlStatement += \"    salary > avgSalary \"\n",
    "sqlStatement += \"    ORDER BY salary DESC; \"\n",
    "sqlStatement += \"  DECLARE c2 CURSOR WITH RETURN FOR \"\n",
    "sqlStatement += \"    SELECT firstnme, lastname, salary, job FROM employee \"\n",
    "sqlStatement += \"    WHERE job = 'ANALYST' AND \"\n",
    "sqlStatement += \"    salary > avgSalary \"\n",
    "sqlStatement += \"    ORDER BY salary DESC; \"\n",
    "sqlStatement += \"  DECLARE c3 CURSOR WITH RETURN FOR \"\n",
    "sqlStatement += \"    SELECT firstnme, lastname, salary, job FROM employee \"\n",
    "sqlStatement += \"    WHERE job = 'SALESREP' AND \"\n",
    "sqlStatement += \"    salary > avgSalary \"\n",
    "sqlStatement += \"    ORDER BY salary DESC; \"\n",
    "sqlStatement += \"  SELECT INT(AVG(salary)) INTO avgSalary FROM employee; \"\n",
    "sqlStatement += \"  OPEN c1; \"\n",
    "sqlStatement += \"  OPEN c2; \"\n",
    "sqlStatement += \"  OPEN c3; \"\n",
    "sqlStatement += \"END\"\n",
    "\n",
    "# Execute The SQL Statement Just Defined\n",
    "print(\"Creating an SQL stored procedure named \\\"\" + spName + \"\\\" ... \", end=\"\")\n",
    "try:\n",
    "    returnCode = ibm_db.exec_immediate(dbConnection, sqlStatement)\n",
    "except Exception:\n",
    "    pass\n",
    "\n",
    "# If The SQL Statement Could Not Be Executed, Display An Error Message And Exit \n",
    "if returnCode is False:\n",
    "    print(\"\\nERROR: Unable to execute the SQL statement specified.\")\n",
    "    conn.closeConnection()\n",
    "    exit(-1)\n",
    "\n",
    "# Otherwise, Complete The Status Message\n",
    "else:\n",
    "    print(\"Done!\\n\")\n",
    "\n",
    "# Execute The Stored Procedure Just Created\n",
    "resultSet_1 = None\n",
    "print(\"Executing the \" + spName + \" procedure & retrieving the first \", end=\"\")\n",
    "print(\"result set produced ... \", end=\"\")\n",
    "try:\n",
    "    resultSet_1 = ibm_db.callproc(dbConnection, spName)\n",
    "except Exception:\n",
    "    pass\n",
    "\n",
    "# If The Stored Procedure Specified Could Not Be Executed, Display An Error Message And Exit \n",
    "if resultSet_1 is None:\n",
    "    print(\"\\nERROR: Unable to execute the stored procedure specified.\")\n",
    "    conn.closeConnection()\n",
    "    exit(-1)\n",
    "\n",
    "# Otherwise, Complete The Status Message; Then Format And Display The Data Values Returned\n",
    "else:\n",
    "    print(\"Done!\\n\")\n",
    "\n",
    "# Retrieve The Second Result Set From The Stored Procedure Just Executed\n",
    "print(\"Retrieving the second result set produced by the \" + spName, end=\"\")\n",
    "print(\" procedure ... \", end=\"\")\n",
    "resultSet_2 = False\n",
    "try:\n",
    "    resultSet_2 = ibm_db.next_result(resultSet_1)\n",
    "except Exception:\n",
    "    pass\n",
    "\n",
    "# If The Second Result Set Could Not Be Retrieved, Display An Error Message And Exit \n",
    "if resultSet_2 is False:\n",
    "    print(\"\\nERROR: Unable to retrieve the second result set returned by the stored procedure.\")\n",
    "    conn.closeConnection()\n",
    "    exit(-1)\n",
    "\n",
    "# Otherwise, Complete The Status Message\n",
    "else:\n",
    "    print(\"Done!\\n\")  \n",
    "\n",
    "# Retrieve The Third Result Set From The Stored Procedure Just Executed\n",
    "print(\"Retrieving the third result set produced by the \" + spName, end=\"\")\n",
    "print(\" procedure ... \", end=\"\")\n",
    "resultSet_3 = False\n",
    "try:\n",
    "    resultSet_3 = ibm_db.next_result(resultSet_1)\n",
    "except Exception:\n",
    "    pass\n",
    "\n",
    "# If The Third Result Set Could Not Be Retrieved, Display An Error Message And Exit \n",
    "if resultSet_3 is False:\n",
    "    print(\"\\nERROR: Unable to retrieve the third result set returned by the stored procedure.\")\n",
    "    conn.closeConnection()\n",
    "    exit(-1)\n",
    "\n",
    "# Otherwise, Complete The Status Message\n",
    "else:\n",
    "    print(\"Done!\\n\")\n",
    "\n",
    "# Display A Report Header\n",
    "print(\"Information retrieved:\")\n",
    "\n",
    "# As Long As There Are Records To Retrieve, ... \n",
    "noData = False\n",
    "loopCounter = 1\n",
    "printHeader = True\n",
    "dataRecord = True\n",
    "while noData is False:\n",
    "\n",
    "    # Display Record Header Information\n",
    "    if printHeader is True:\n",
    "        print(\"\\n  Result set \" + str(loopCounter) + \" details:\\n\")\n",
    "        print(\"  FIRSTNME        LASTNAME            SALARY      JOB\")\n",
    "        print(\"  ______________  __________________  __________  ________\")\n",
    "        printHeader = False\n",
    "\n",
    "    # Retrieve A Record From The Appropriate Result Set And Store It In A Python Tuple\n",
    "    if loopCounter is 1:\n",
    "        try:\n",
    "            dataRecord = ibm_db.fetch_tuple(resultSet_1)\n",
    "        except:\n",
    "            pass\n",
    "    elif loopCounter is 2:\n",
    "        try:\n",
    "            dataRecord = ibm_db.fetch_tuple(resultSet_2)\n",
    "        except:\n",
    "            pass\n",
    "    elif loopCounter is 3:\n",
    "        try:\n",
    "            dataRecord = ibm_db.fetch_tuple(resultSet_3)\n",
    "        except:\n",
    "            pass\n",
    "\n",
    "    # If The Record Could Not Be Retrieved Or If There Was No Data To Retrieve, Increment The\n",
    "    # Loop Counter Variable And Set The Appropriate Variables To True \n",
    "    if dataRecord is False:\n",
    "        loopCounter += 1\n",
    "        printHeader = True\n",
    "        dataRecord = True\n",
    "        \n",
    "        # If There Is No More Data To Retrieve, Set The \"No Data\" Flag And Exit The Loop  \n",
    "        if loopCounter is 4:\n",
    "            noData = True\n",
    "        else:\n",
    "            continue\n",
    "        \n",
    "    # Otherwise, Extract And Display The Information Stored In The Data Record Retrieved\n",
    "    else:\n",
    "        print(\"  {:<14}\" .format(dataRecord[0]), end=\"\")\n",
    "        print(\"  {:<18}\" .format(dataRecord[1]), end=\"\")\n",
    "        print(\"  ${:>9}\" .format(dataRecord[2]), end=\"\")\n",
    "        print(\"  {:<10}\" .format(dataRecord[3]))\n",
    "\n",
    "# Add A Blank Line To The End Of The Report\n",
    "print()\n",
    "\n",
    "# Close The Database Connection That Was Opened Earlier\n",
    "conn.closeConnection()\n",
    "\n",
    "# Return Control To The Operating System\n",
    "exit()"
   ]
  },
  {
   "cell_type": "code",
   "execution_count": null,
   "metadata": {},
   "outputs": [],
   "source": []
  }
 ],
 "metadata": {
  "kernelspec": {
   "display_name": "Python 3",
   "language": "python",
   "name": "python3"
  },
  "language_info": {
   "codemirror_mode": {
    "name": "ipython",
    "version": 3
   },
   "file_extension": ".py",
   "mimetype": "text/x-python",
   "name": "python",
   "nbconvert_exporter": "python",
   "pygments_lexer": "ipython3",
   "version": "3.7.1"
  }
 },
 "nbformat": 4,
 "nbformat_minor": 2
}
