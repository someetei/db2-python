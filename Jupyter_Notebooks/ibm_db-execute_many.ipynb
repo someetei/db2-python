{
 "cells": [
  {
   "cell_type": "markdown",
   "metadata": {
    "deletable": false,
    "editable": false
   },
   "source": [
    "# ibm_db.execute_many()"
   ]
  },
  {
   "cell_type": "markdown",
   "metadata": {
    "deletable": false,
    "editable": false
   },
   "source": [
    "## Purpose:"
   ]
  },
  {
   "cell_type": "markdown",
   "metadata": {
    "deletable": false,
    "editable": false
   },
   "source": [
    "Execute an SQL statement that has been prepared by the __ibm_db.prepare()__ API, using the parameter sequences or mappings specified."
   ]
  },
  {
   "cell_type": "markdown",
   "metadata": {
    "deletable": false,
    "editable": false
   },
   "source": [
    "## Syntax:"
   ]
  },
  {
   "cell_type": "markdown",
   "metadata": {
    "deletable": false,
    "editable": false
   },
   "source": [
    "`mixed ibm_db.execute_many( IBM_DBStatement `*`preparedStmt,`*` tuple `*`seqOfParamValues`*` )`"
   ]
  },
  {
   "cell_type": "markdown",
   "metadata": {
    "deletable": false,
    "editable": false
   },
   "source": [
    "## Parameters:"
   ]
  },
  {
   "cell_type": "markdown",
   "metadata": {
    "deletable": false,
    "editable": false
   },
   "source": [
    "* __*preparedStmt*__ &nbsp; &nbsp;  &nbsp; &nbsp; &nbsp; &nbsp; : A prepared SQL statement returned from the __ibm_db.prepare()__ API.\n",
    "* __*seqOfParamValues*__&nbsp; &nbsp; : A tuple of tuples that contain values for each parameter marker used in the prepared SQL statement (that was speficied in the __*preparedStmt*__ parameter). "
   ]
  },
  {
   "cell_type": "markdown",
   "metadata": {
    "deletable": false,
    "editable": false
   },
   "source": [
    "## Return values:"
   ]
  },
  {
   "cell_type": "markdown",
   "metadata": {
    "deletable": false,
    "editable": false
   },
   "source": [
    "* If __successful__, an integer representing the number of rows that were inserted, updated, or deleted by the SQL statement specified in the __*preparedStmt*__ parameter.\n",
    "* If __unsuccessful__, the value `False`."
   ]
  },
  {
   "cell_type": "markdown",
   "metadata": {
    "deletable": false,
    "editable": false
   },
   "source": [
    "## Description:"
   ]
  },
  {
   "cell_type": "markdown",
   "metadata": {
    "deletable": false,
    "editable": false
   },
   "source": [
    "The __ibm_db.execute_many()__ API is used to execute an SQL statement that has been prepared by the __ibm_db.prepare()__ API, using a set of parameter sequences or mappings. Essentially, this API is used to perform bulk __INSERT__, __UPDATE__, and __DELETE__ operations. (To achieve optimum performance, this API utilizes *array input chaining* to minimize the number of round trips that have to be made between the client and the server.)"
   ]
  },
  {
   "cell_type": "markdown",
   "metadata": {
    "deletable": false,
    "editable": false
   },
   "source": [
    "## Example:"
   ]
  },
  {
   "cell_type": "code",
   "execution_count": 1,
   "metadata": {
    "deletable": false
   },
   "outputs": [
    {
     "name": "stdout",
     "output_type": "stream",
     "text": [
      "\n",
      "Connecting to the SAMPLE database ... "
     ]
    },
    {
     "name": "stderr",
     "output_type": "stream",
     "text": [
      "/tmp/db2-python/Jupyter_Notebooks/ibm_db_tools.py:85: SyntaxWarning: \"is\" with 'str' literal. Did you mean \"==\"?\n",
      "  if self.dsType is '':\n",
      "/tmp/db2-python/Jupyter_Notebooks/ibm_db_tools.py:199: SyntaxWarning: \"is\" with 'str' literal. Did you mean \"==\"?\n",
      "  if self.dsType is 'LOCAL_SVR':\n",
      "/tmp/db2-python/Jupyter_Notebooks/ibm_db_tools.py:201: SyntaxWarning: \"is\" with 'str' literal. Did you mean \"==\"?\n",
      "  elif self.dsType is 'SERVER':\n",
      "/tmp/db2-python/Jupyter_Notebooks/ibm_db_tools.py:216: SyntaxWarning: \"is\" with 'str' literal. Did you mean \"==\"?\n",
      "  if self.dsType is 'LOCAL_SVR':\n",
      "/tmp/db2-python/Jupyter_Notebooks/ibm_db_tools.py:218: SyntaxWarning: \"is\" with 'str' literal. Did you mean \"==\"?\n",
      "  elif self.dsType is 'SERVER':\n",
      "/tmp/db2-python/Jupyter_Notebooks/ibm_db_tools.py:351: SyntaxWarning: \"is not\" with 'str' literal. Did you mean \"!=\"?\n",
      "  while not tempStr[endingPos] is '\\n':\n",
      "/tmp/db2-python/Jupyter_Notebooks/ibm_db_tools.py:351: SyntaxWarning: \"is not\" with 'str' literal. Did you mean \"!=\"?\n",
      "  while not tempStr[endingPos] is '\\n':\n"
     ]
    },
    {
     "name": "stdout",
     "output_type": "stream",
     "text": [
      "Done!\n",
      "\n",
      "Number of records found in the DEPARTMENT table: 18\n",
      "\n",
      "Preparing the SQL statement \"INSERT INTO department VALUES(?, ?, ?, 'E01', NULL)\" ... Done!\n",
      "\n",
      "Executing the prepared SQL statement ... \n",
      "ERROR: Unable to execute the SQL statement specified.\n",
      "\n",
      "Disconnecting from the SAMPLE database ... Done!\n",
      "\n"
     ]
    },
    {
     "ename": "ipynb_Exit",
     "evalue": "",
     "output_type": "error",
     "traceback": [
      "An exception has occurred, use %tb to see the full traceback.\n",
      "\u001b[0;31mipynb_Exit\u001b[0m\n"
     ]
    }
   ],
   "source": [
    "#----------------------------------------------------------------------------------------------#\n",
    "#  NAME:     ibm_db-execute_many.py                                                            #\n",
    "#                                                                                              #\n",
    "#  PURPOSE:  This program is designed to illustrate how to use the ibm_db.execute_many() API.  #\n",
    "#                                                                                              #\n",
    "#            Additional APIs used:                                                             #\n",
    "#                 ibm_db.prepare()                                                             #\n",
    "#                 ibm_db.fetch_tuple()                                                         #\n",
    "#                                                                                              #\n",
    "#----------------------------------------------------------------------------------------------#\n",
    "#                     DISCLAIMER OF WARRANTIES AND LIMITATION OF LIABILITY                     #\n",
    "#                                                                                              #\n",
    "#  (C) COPYRIGHT International Business Machines Corp. 2018, 2019 All Rights Reserved          #\n",
    "#  Licensed Materials - Property of IBM                                                        #\n",
    "#                                                                                              #\n",
    "#  US Government Users Restricted Rights - Use, duplication or disclosure restricted by GSA    #\n",
    "#  ADP Schedule Contract with IBM Corp.                                                        #\n",
    "#                                                                                              #\n",
    "#  The following source code (\"Sample\") is owned by International Business Machines            #\n",
    "#  Corporation (\"IBM\") or one of its subsidiaries and is copyrighted and licensed, not sold.   #\n",
    "#  You may use, copy, modify, and distribute the Sample in any form without payment to IBM,    #\n",
    "#  for the purpose of assisting you in the creation of Python applications using the ibm_db    #\n",
    "#  library.                                                                                    #\n",
    "#                                                                                              #\n",
    "#  The Sample code is provided to you on an \"AS IS\" basis, without warranty of any kind. IBM   #\n",
    "#  HEREBY EXPRESSLY DISCLAIMS ALL WARRANTIES, EITHER EXPRESS OR IMPLIED, INCLUDING, BUT NOT    #\n",
    "#  LIMITED TO, THE IMPLIED WARRANTIES OF MERCHANTABILITY AND FITNESS FOR A PARTICULAR PURPOSE. #\n",
    "#  Some jurisdictions do not allow for the exclusion or limitation of implied warranties, so   #\n",
    "#  the above limitations or exclusions may not apply to you. IBM shall not be liable for any   #\n",
    "#  damages you suffer as a result of using, copying, modifying or distributing the Sample,     #\n",
    "#  even if IBM has been advised of the possibility of such damages.                            #\n",
    "#----------------------------------------------------------------------------------------------#\n",
    "\n",
    "# Load The Appropriate Python Modules\n",
    "import sys         # Provides Information About Python Interpreter Constants And Functions\n",
    "import ibm_db      # Contains The APIs Needed To Work With Db2 Databases\n",
    "\n",
    "#----------------------------------------------------------------------------------------------#\n",
    "# Import The Db2ConnectionMgr Class Definition, Attributes, And Methods That Have Been Defined #\n",
    "# In The File Named \"ibm_db_tools.py\"; This Class Contains The Programming Logic Needed To     #\n",
    "# Establish And Terminate A Connection To A Db2 Server Or Database                             #\n",
    "#----------------------------------------------------------------------------------------------#\n",
    "from ibm_db_tools import Db2ConnectionMgr\n",
    "\n",
    "#----------------------------------------------------------------------------------------------#\n",
    "# Import The get_row_count() Function That Has Been Defined In The File Named                  #\n",
    "# \"ibm_db_tools.py\"; This Function Contains The Programming Logic Needed To Obtain And         #\n",
    "# Display The Number Of Rows (Records) Found In A Db2 Database Table.                          #\n",
    "#----------------------------------------------------------------------------------------------#\n",
    "from ibm_db_tools import get_row_count\n",
    "\n",
    "#----------------------------------------------------------------------------------------------#\n",
    "# Import The ipynb_exit Class Definition, Attributes, And Methods That Have Been Defined In    #\n",
    "# The File Named \"ipynb_exit.py\"; This Class Contains The Programming Logic Needed To Allow    #\n",
    "# \"exit()\" Functionality To Work Without Raising An Error Or Stopping The Kernel If The        #\n",
    "# Application Is Invoked In A Jupyter Notebook                                                 #\n",
    "#----------------------------------------------------------------------------------------------#\n",
    "from ipynb_exit import exit\n",
    "\n",
    "# Define And Initialize The Appropriate Variables\n",
    "dbName = \"SAMPLE\"\n",
    "userID = \"db2inst1\"\n",
    "passWord = \"db2inst1\"\n",
    "dbConnection = None\n",
    "returnCode = None\n",
    "preparedStmt = False\n",
    "\n",
    "# Create An Instance Of The Db2ConnectionMgr Class And Use It To Connect To A Db2 Database\n",
    "conn = Db2ConnectionMgr('DB', dbName, '', '', userID, passWord)\n",
    "conn.openConnection()\n",
    "if conn.returnCode is True:\n",
    "    dbConnection = conn.connectionID\n",
    "else:\n",
    "    conn.closeConnection()\n",
    "    exit(-1)\n",
    "\n",
    "# Display The Number Of Rows That Currently Exist In The DEPARTMENT Table\n",
    "returnCode = get_row_count(dbConnection, 'DEPARTMENT')\n",
    "if returnCode is False:\n",
    "    conn.closeConnection()\n",
    "    exit(-1)\n",
    "\n",
    "# Define The INSERT Statement (With Parameter Markers) That Is To Be Used To Add Data\n",
    "# To The DEPARTMENT Table\n",
    "sqlStatement = \"INSERT INTO department VALUES(?, ?, ?, 'E01', NULL)\"\n",
    "\n",
    "# Prepare The SQL Statement Just Defined\n",
    "print(\"Preparing the SQL statement \\\"\" + sqlStatement + \"\\\" ... \", end=\"\")\n",
    "try:\n",
    "    preparedStmt = ibm_db.prepare(dbConnection, sqlStatement)\n",
    "except Exception:\n",
    "    pass\n",
    "\n",
    "# If The SQL Statement Could Not Be Prepared By Db2, Display An Error Message And Exit\n",
    "if preparedStmt is False:\n",
    "    print(\"\\nERROR: Unable to prepare the SQL statement specified.\\n\")\n",
    "    conn.closeConnection()\n",
    "    exit(-1)\n",
    "\n",
    "# Otherwise, Complete The Status Message\n",
    "else:\n",
    "    print(\"Done!\\n\")\n",
    "\n",
    "# Create A List Of Data Values That Are To Be Supplied For The Parameter Markers Coded\n",
    "# In The INSERT Statement Specified\n",
    "pmValues = (('K22', 'SALES', '000110'), \n",
    "            ('L22', 'FINANCE', '000120'), \n",
    "            ('M22', 'HUMAN RESOURCES', '000130'))\n",
    "\n",
    "# Execute The SQL Statement Just Prepared\n",
    "print(\"Executing the prepared SQL statement ... \", end=\"\")\n",
    "try:\n",
    "    returnCode = ibm_db.execute_many(preparedStmt, pmValues)\n",
    "except Exception:\n",
    "    pass\n",
    "\n",
    "# If The SQL Statement Could Not Be Executed, Display An Error Message And Exit \n",
    "if returnCode is True:\n",
    "    print(\"\\nERROR: Unable to execute the SQL statement specified.\\n\")\n",
    "    conn.closeConnection()\n",
    "    exit(-1)\n",
    "\n",
    "# Otherwise, Complete The Status Message And Display The Number Of Records Added\n",
    "else:\n",
    "    print(\"Done!\\n\")\n",
    "    print(\"Number of records added : {}\\n\" .format(returnCode))\n",
    "\n",
    "    # Display The Number Of Rows That Exist In The DEPARTMENT Table Now\n",
    "    # (The Number Returned Should Reflect That Three Rows Were Added)\n",
    "    returnCode = get_row_count(dbConnection, 'DEPARTMENT')\n",
    "\n",
    "    # Close The Database Connection That Was Opened Earlier\n",
    "    conn.closeConnection()\n",
    "\n",
    "# Return Control To The Operating System\n",
    "exit()"
   ]
  },
  {
   "cell_type": "code",
   "execution_count": null,
   "metadata": {},
   "outputs": [],
   "source": []
  }
 ],
 "metadata": {
  "kernelspec": {
   "display_name": "Python 3",
   "language": "python",
   "name": "python3"
  },
  "language_info": {
   "codemirror_mode": {
    "name": "ipython",
    "version": 3
   },
   "file_extension": ".py",
   "mimetype": "text/x-python",
   "name": "python",
   "nbconvert_exporter": "python",
   "pygments_lexer": "ipython3",
   "version": "3.12.3"
  }
 },
 "nbformat": 4,
 "nbformat_minor": 2
}
