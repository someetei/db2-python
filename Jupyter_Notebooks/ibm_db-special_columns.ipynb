{
 "cells": [
  {
   "cell_type": "markdown",
   "metadata": {
    "deletable": false,
    "editable": false
   },
   "source": [
    "# ibm_db.special_columns()"
   ]
  },
  {
   "cell_type": "markdown",
   "metadata": {
    "deletable": false,
    "editable": false
   },
   "source": [
    "## Purpose:"
   ]
  },
  {
   "cell_type": "markdown",
   "metadata": {
    "deletable": false,
    "editable": false
   },
   "source": [
    "Retrieve a list of unique row identifier columns and their associated metadata, for a table."
   ]
  },
  {
   "cell_type": "markdown",
   "metadata": {
    "deletable": false,
    "editable": false
   },
   "source": [
    "## Syntax:"
   ]
  },
  {
   "cell_type": "markdown",
   "metadata": {
    "deletable": false,
    "editable": false
   },
   "source": [
    "`IBM_DBStatement ibm_db.special_columns( IBM_DBConnection `*`connection,`*` string `*`qualifierName,`*<br>` string `*`schemaName,`*` string `*`tableName,`*` int `*`scope`*` )`"
   ]
  },
  {
   "cell_type": "markdown",
   "metadata": {
    "deletable": false,
    "editable": false
   },
   "source": [
    "## Parameters:"
   ]
  },
  {
   "cell_type": "markdown",
   "metadata": {
    "deletable": false,
    "editable": false
   },
   "source": [
    "* __*connection*__&nbsp; &nbsp; &nbsp; &nbsp; : A valid Db2 server or database connection. \n",
    "* __qualifierName__&nbsp; &nbsp; : A valid qualifier name for Db2 databases on OS/390 or z/OS servers; the value `None` or an empty string (`''`) for Db2 databases on other operating systems. \n",
    "* __schemaName__&nbsp; &nbsp; &nbsp;: The name of the schema that contains the table(s) that unique row identifier column information is to be obtained for.\n",
    "* __tableName__&nbsp; &nbsp; &nbsp; &nbsp; &nbsp; : The name of the table that unique identifier column information is to be obtained for. \n",
    "* __scope__&nbsp; &nbsp; &nbsp; &nbsp; &nbsp; &nbsp; &nbsp; &nbsp; &nbsp; : The minimum duration for which the unique row identifier column is guaranteed to point to the same row. Valid values for this parameter are:<p>\n",
    "    \n",
    "    * `0`&nbsp; &nbsp;: The row identifier is guaranteed to be valid only while the cursor is positioned on the current row.\n",
    "    * `1`&nbsp; &nbsp;: The row identifier is guaranteed to be valid for the duration of the transaction.\n",
    "    * `2`&nbsp; &nbsp;: The row identifier is guaranteed to be valid for the duration of the connection."
   ]
  },
  {
   "cell_type": "markdown",
   "metadata": {
    "deletable": false,
    "editable": false
   },
   "source": [
    "## Return values:"
   ]
  },
  {
   "cell_type": "markdown",
   "metadata": {
    "deletable": false,
    "editable": false
   },
   "source": [
    "* If __successful__, an IBM_DBStatement with a result set that contains the following information:<p>\n",
    "\n",
    "    * `SCOPE` &nbsp; &nbsp; &nbsp; &nbsp; &nbsp; &nbsp; &nbsp; &nbsp; &nbsp; &nbsp; &nbsp;: A value that indicates the minimum duration for which the unique row identifier is guaranteed to point to the same row. Valid values for this field are:<p>\n",
    "    \n",
    "        * `0`&nbsp; &nbsp;: The row identifier is guaranteed to be valid only while the cursor is positioned on the current row.\n",
    "        * `1`&nbsp; &nbsp;: The row identifier is guaranteed to be valid for the duration of the transaction.\n",
    "        * `2`&nbsp; &nbsp;: The row identifier is guaranteed to be valid for the duration of the connection.<p>\n",
    "    \n",
    "    * `COLUMN_NAME`&nbsp; &nbsp; &nbsp; &nbsp; &nbsp;: The name of the column that is the primary key *or* part of the primary key of the table.\n",
    "    * `DATA_TYPE` &nbsp; &nbsp; &nbsp; &nbsp; &nbsp; &nbsp; &nbsp;: An integer value that represents the SQL data type of the column. On Linux and UNIX systems, valid values for this field can be found in the file */opt/ibm/db2/V11.1/include/sqlcli.h*.\n",
    "    * `TYPE_NAME`&nbsp; &nbsp; &nbsp; &nbsp; &nbsp; &nbsp; &nbsp; : The data source-specific string representation of the SQL data type of the column.\n",
    "    * `COLUMN_SIZE`&nbsp; &nbsp; &nbsp; &nbsp; &nbsp; : The maximum number of bytes needed to display the column's data as a string.\n",
    "    * `BUFFER_LENGTH`&nbsp; &nbsp; &nbsp; : The maximum number of bytes needed to store the column's data in an application variable.\n",
    "    * `DECIMAL_DIGITS`&nbsp; &nbsp; : The scale (i.e., total number of significant digits to the right of the decimal point) of the column - provided the column has a numerical data type. If the column does not have a numerical data type, this field will contain the value `None`.\n",
    "    * `NUM_PREC_RADIX`&nbsp;  &nbsp; : A numerical value that indicates whether the column's data type represents an exact numeric data type (`10`) or an approximate numeric data type (`2`). If the column does not have a numerical data type, this field will contain the value `None`.\n",
    "    * `PSEUDO_COLUMN`&nbsp; &nbsp; &nbsp; : Indication of whether the column is a pseudo-column (a \"column\" that returns a value when selected, but is not an actual column of the table) or not. This field will always contain the value `1`, which means the column is NOT a pseudo-column.<p>\n",
    "    \n",
    "* If __unsuccessful__, the value `False`."
   ]
  },
  {
   "cell_type": "markdown",
   "metadata": {
    "deletable": false,
    "editable": false
   },
   "source": [
    "## Description:"
   ]
  },
  {
   "cell_type": "markdown",
   "metadata": {
    "deletable": false,
    "editable": false
   },
   "source": [
    "The __ibm_db.special_columns()__ API is used to retrieve information about unique row identifier columns that have been created for a table. (Columns used to create a primary key or unique index are referred to as *unique row identifier columns*.)\n",
    "\n",
    "The information returned by this API is placed in a result data set, which can be processed using the same APIs that are used to process result data sets that are generated by SQL queries. That is, a single row can be retrieved and stored in a tuple or dictionary using the  __ibm_db.fetch_tuple()__ (tuple), __ibm_db.fetch_assoc()__ (dictionary), or __ibm_db.fetch_both()__ (tuple *and* dictionary) APIs. Alternately, the __ibm_db.fetch_row()__ API can be used to move the result set pointer to each row in the result set produced and the __ibm_db.result()__ API can be used to fetch a column from the current row."
   ]
  },
  {
   "cell_type": "markdown",
   "metadata": {
    "deletable": false,
    "editable": false
   },
   "source": [
    "## Example:"
   ]
  },
  {
   "cell_type": "code",
   "execution_count": 1,
   "metadata": {
    "deletable": false
   },
   "outputs": [
    {
     "name": "stdout",
     "output_type": "stream",
     "text": [
      "\n",
      "Connecting to the SAMPLE database ... Done!\n",
      "\n",
      "Obtaining information about unique row identifier columns that have been\n",
      "defined for the DB2INST1.EMPLOYEE table ... Done!\n",
      "\n",
      "Primary key/unique index 1 details:\n",
      "___________________________________\n",
      "Column name            : EMPNO\n",
      "Data type              : CHAR\n",
      "SQL data type          : SQL_CHAR\n",
      "Column size            : 6\n",
      "Buffer size            : 6\n",
      "Scale (decimal digits) : None\n",
      "Scope                  : Row ID is valid only while the\n",
      "                         cursor is positioned on the row\n",
      "\n",
      "Disconnecting from the SAMPLE database ... Done!\n",
      "\n"
     ]
    }
   ],
   "source": [
    "#----------------------------------------------------------------------------------------------#\n",
    "#  NAME:     ibm_db-special_columns.py                                                         #\n",
    "#                                                                                              #\n",
    "#  PURPOSE:  This program is designed to illustrate how to use the ibm_db.special_columns()    #\n",
    "#            API.                                                                              #\n",
    "#                                                                                              #\n",
    "#            Additional APIs used:                                                             #\n",
    "#                 ibm_db.fetch_assoc()                                                         #\n",
    "#                                                                                              #\n",
    "#----------------------------------------------------------------------------------------------#\n",
    "#                     DISCLAIMER OF WARRANTIES AND LIMITATION OF LIABILITY                     #\n",
    "#                                                                                              #\n",
    "#  (C) COPYRIGHT International Business Machines Corp. 2018, 2019 All Rights Reserved          #\n",
    "#  Licensed Materials - Property of IBM                                                        #\n",
    "#                                                                                              #\n",
    "#  US Government Users Restricted Rights - Use, duplication or disclosure restricted by GSA    #\n",
    "#  ADP Schedule Contract with IBM Corp.                                                        #\n",
    "#                                                                                              #\n",
    "#  The following source code (\"Sample\") is owned by International Business Machines            #\n",
    "#  Corporation (\"IBM\") or one of its subsidiaries and is copyrighted and licensed, not sold.   #\n",
    "#  You may use, copy, modify, and distribute the Sample in any form without payment to IBM,    #\n",
    "#  for the purpose of assisting you in the creation of Python applications using the ibm_db    #\n",
    "#  library.                                                                                    #\n",
    "#                                                                                              #\n",
    "#  The Sample code is provided to you on an \"AS IS\" basis, without warranty of any kind. IBM   #\n",
    "#  HEREBY EXPRESSLY DISCLAIMS ALL WARRANTIES, EITHER EXPRESS OR IMPLIED, INCLUDING, BUT NOT    #\n",
    "#  LIMITED TO, THE IMPLIED WARRANTIES OF MERCHANTABILITY AND FITNESS FOR A PARTICULAR PURPOSE. #\n",
    "#  Some jurisdictions do not allow for the exclusion or limitation of implied warranties, so   #\n",
    "#  the above limitations or exclusions may not apply to you. IBM shall not be liable for any   #\n",
    "#  damages you suffer as a result of using, copying, modifying or distributing the Sample,     #\n",
    "#  even if IBM has been advised of the possibility of such damages.                            #\n",
    "#----------------------------------------------------------------------------------------------#\n",
    "\n",
    "# Load The Appropriate Python Modules\n",
    "import sys         # Provides Information About Python Interpreter Constants And Functions\n",
    "import ibm_db      # Contains The APIs Needed To Work With Db2 Databases\n",
    "\n",
    "#----------------------------------------------------------------------------------------------#\n",
    "# Import The Db2ConnectionMgr Class Definition, Attributes, And Methods That Have Been Defined #\n",
    "# In The File Named \"ibm_db_tools.py\"; This Class Contains The Programming Logic Needed To     #\n",
    "# Establish And Terminate A Connection To A Db2 Server Or Database                             #\n",
    "#----------------------------------------------------------------------------------------------#\n",
    "from ibm_db_tools import Db2ConnectionMgr\n",
    "\n",
    "#----------------------------------------------------------------------------------------------#\n",
    "# Import The ipynb_exit Class Definition, Attributes, And Methods That Have Been Defined In    #\n",
    "# The File Named \"ipynb_exit.py\"; This Class Contains The Programming Logic Needed To Allow    #\n",
    "# \"exit()\" Functionality To Work Without Raising An Error Or Stopping The Kernel If The        #\n",
    "# Application Is Invoked In A Jupyter Notebook                                                 #\n",
    "#----------------------------------------------------------------------------------------------#\n",
    "from ipynb_exit import exit\n",
    "\n",
    "# Define And Initialize The Appropriate Variables\n",
    "dbName = \"SAMPLE\"\n",
    "userID = \"db2inst1\"\n",
    "passWord = \"db2inst1\"\n",
    "dbConnection = None\n",
    "schemaName = userID.upper()\n",
    "tableName = \"EMPLOYEE\"\n",
    "resultSet = False\n",
    "dataRecord = False\n",
    "sqlDataTypes = {0 : \"SQL_UNKNOWN_TYPE\", 1 : \"SQL_CHAR\", 2 : \"SQL_NUMERIC\", 3 : \"SQL_DECIMAL\",\n",
    "    4 : \"SQL_INTEGER\", 5 : \"SQL_SMALLINT\", 6 : \"SQL_FLOAT\", 7 : \"SQL_REAL\", 8 : \"SQL_DOUBLE\",\n",
    "    9 : \"SQL_DATETIME\", 12 : \"SQL_VARCHAR\", 16 : \"SQL_BOOLEAN\", 19 : \"SQL_ROW\", \n",
    "    91 : \"SQL_TYPE_DATE\", 92 : \"SQL_TYPE_TIME\", 93 : \"SQL_TYPE_TIMESTAMP\",\n",
    "    95 : \"SQL_TYPE_TIMESTAMP_WITH_TIMEZONE\", -8 : \"SQL_WCHAR\", -9 : \"SQL_WVARCHAR\",\n",
    "    -10 : \"SQL_WLONGVARCHAR\", -95 : \"SQL_GRAPHIC\", -96 : \"SQL_VARGRAPHIC\",\n",
    "    -97 : \"SQL_LONGVARGRAPHIC\", -98 : \"SQL_BLOB\", -99 : \"SQL_CLOB\", -350 : \"SQL_DBCLOB\",\n",
    "    -360 : \"SQL_DECFLOAT\", -370 : \"SQL_XML\", -380 : \"SQL_CURSORHANDLE\", -400 : \"SQL_DATALINK\",\n",
    "    -450 : \"SQL_USER_DEFINED_TYPE\"}\n",
    "\n",
    "# Create An Instance Of The Db2ConnectionMgr Class And Use It To Connect To A Db2 Database\n",
    "conn = Db2ConnectionMgr('DB', dbName, '', '', userID, passWord)\n",
    "conn.openConnection()\n",
    "if conn.returnCode is True:\n",
    "    dbConnection = conn.connectionID\n",
    "else:\n",
    "    conn.closeConnection()\n",
    "    exit(-1)\n",
    "\n",
    "# Attempt To Retrieve Information About Unique Row Identifier Columns That Have Been \n",
    "# Defined For The Table Specified\n",
    "print(\"Obtaining information about unique row identifier columns that have been\")\n",
    "print(\"defined for the \" + schemaName + \".\" + tableName + \" table ... \", end=\"\")\n",
    "try:\n",
    "    resultSet = ibm_db.special_columns(dbConnection, None, schemaName, tableName, 0)\n",
    "\n",
    "except Exception:\n",
    "    pass\n",
    "\n",
    "# If The Information Desired Could Not Be Retrieved, Display An Error Message And Exit\n",
    "if resultSet is False:\n",
    "    print(\"\\nERROR: Unable to obtain the information desired\\n.\")\n",
    "    conn.closeConnection()\n",
    "    exit(-1)\n",
    "\n",
    "# Otherwise, Complete The Status Message\n",
    "else:\n",
    "    print(\"Done!\\n\")\n",
    "\n",
    "# As Long As There Are Records (That Were Produced By The ibm_db.special_columns API), ...\n",
    "noData = False\n",
    "loopCounter = 1\n",
    "while noData is False:\n",
    "\n",
    "    # Retrieve A Record And Store It In A Python Dictionary\n",
    "    try:\n",
    "        dataRecord = ibm_db.fetch_assoc(resultSet)\n",
    "    except:\n",
    "        pass\n",
    "\n",
    "    # If The Data Could Not Be Retrieved Or If There Was No Data To Retrieve, Set The\n",
    "    # \"No Data\" Flag And Exit The Loop  \n",
    "    if dataRecord is False:\n",
    "        noData = True\n",
    "\n",
    "    # Otherwise, Display The Information Retrieved\n",
    "    else:\n",
    "\n",
    "        # Display Record Header Information\n",
    "        print(\"Primary key/unique index \" + str(loopCounter) + \" details:\")\n",
    "        print(\"___________________________________\")\n",
    "\n",
    "        # Display The Information Stored In The Data Record Retrieved\n",
    "        print(\"Column name            : {}\" .format(dataRecord['COLUMN_NAME']))\n",
    "        print(\"Data type              : {}\" .format(dataRecord['TYPE_NAME']))\n",
    "        print(\"SQL data type          : \", end=\"\")\n",
    "        print(sqlDataTypes.get(dataRecord['DATA_TYPE']))\n",
    "        print(\"Column size            : {}\" .format(dataRecord['COLUMN_SIZE']))\n",
    "        print(\"Buffer size            : {}\" .format(dataRecord['BUFFER_LENGTH']))\n",
    "        print(\"Scale (decimal digits) : {}\" .format(dataRecord['DECIMAL_DIGITS']))\n",
    "\n",
    "        print(\"Scope                  : \", end=\"\")\n",
    "        if dataRecord['SCOPE'] == 0:\n",
    "            print(\"Row ID is valid only while the\\n\" + \" \" * 25, end=\"\")\n",
    "            print(\"cursor is positioned on the row\")\n",
    "        elif dataRecord['SCOPE'] == 1:\n",
    "            print(\"Row ID is valid for the\\n\" + \" \" * 25, end=\"\")\n",
    "            print(\"duration of the transaction\")\n",
    "        elif dataRecord['SCOPE'] == 2:\n",
    "            print(\"Row ID is valid for the\\n\" + \" \" * 25, end=\"\")\n",
    "            print(\"duration of the connection\")\n",
    "\n",
    "        # Increment The loopCounter Variable And Print A Blank Line To Separate The\n",
    "        # Records From Each Other\n",
    "        loopCounter += 1\n",
    "        print()\n",
    "\n",
    "# Close The Database Connection That Was Opened Earlier\n",
    "conn.closeConnection()\n",
    "\n",
    "# Return Control To The Operating System\n",
    "exit()"
   ]
  },
  {
   "cell_type": "code",
   "execution_count": null,
   "metadata": {},
   "outputs": [],
   "source": []
  }
 ],
 "metadata": {
  "kernelspec": {
   "display_name": "Python 3",
   "language": "python",
   "name": "python3"
  },
  "language_info": {
   "codemirror_mode": {
    "name": "ipython",
    "version": 3
   },
   "file_extension": ".py",
   "mimetype": "text/x-python",
   "name": "python",
   "nbconvert_exporter": "python",
   "pygments_lexer": "ipython3",
   "version": "3.7.1"
  }
 },
 "nbformat": 4,
 "nbformat_minor": 2
}
