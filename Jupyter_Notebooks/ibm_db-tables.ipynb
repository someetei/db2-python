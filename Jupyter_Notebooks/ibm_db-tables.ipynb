{
 "cells": [
  {
   "cell_type": "markdown",
   "metadata": {
    "deletable": false,
    "editable": false
   },
   "source": [
    "# ibm_db.tables()"
   ]
  },
  {
   "cell_type": "markdown",
   "metadata": {
    "deletable": false,
    "editable": false
   },
   "source": [
    "## Purpose:"
   ]
  },
  {
   "cell_type": "markdown",
   "metadata": {},
   "source": [
    "Retrieve a list of tables and their associated metadata. "
   ]
  },
  {
   "cell_type": "markdown",
   "metadata": {
    "deletable": false,
    "editable": false
   },
   "source": [
    "## Syntax:"
   ]
  },
  {
   "cell_type": "markdown",
   "metadata": {
    "deletable": false,
    "editable": false
   },
   "source": [
    "`IBM_DBStatement ibm_db.tables( IBM_DBConnection `*`connection`*` [, string `*`qualifierName`*` [, string `*`schemaName`*` [, string `*`tableName`*` [, string `*`tableType`*`] ] ] ] )`"
   ]
  },
  {
   "cell_type": "markdown",
   "metadata": {
    "deletable": false,
    "editable": false
   },
   "source": [
    "## Parameters:"
   ]
  },
  {
   "cell_type": "markdown",
   "metadata": {
    "deletable": false,
    "editable": false
   },
   "source": [
    "* __*connection*__&nbsp; &nbsp; &nbsp; &nbsp; : A valid Db2 server or database connection. \n",
    "* __qualifierName__&nbsp; &nbsp; : A valid qualifier name for Db2 databases on OS/390 or z/OS servers; the value `None` or an empty string (`''`) for Db2 databases on other operating systems. \n",
    "* __schemaName__&nbsp; &nbsp; &nbsp;: The name of the schema that contains the table(s) that information is to be obtained for. To match all schemas, provide the value `None` or an empty string; to match select schemas, provide a search pattern that contains __`_`__ and/or __`%`__ wildcards.\n",
    "* __tableName__&nbsp; &nbsp; &nbsp; &nbsp; &nbsp; : The name of the table(s) that information is to be obtained for. To match all tables, provide the value `None` or an empty string; to match select tables, provide a search pattern that contains __`_`__ and/or __`%`__ wildcards. \n",
    "* __tableType__&nbsp; &nbsp; &nbsp; &nbsp; &nbsp; &nbsp;: The type(s) of table(s) that information is to be obtained for. To match all table types, provide the value `None` or an empty string; to match specific table type(s), provide one or more of the following values (use a comma delimiter to separate values):<p>\n",
    "    \n",
    "    * `'ALIAS'` &nbsp; &nbsp; &nbsp; &nbsp; &nbsp; &nbsp; &nbsp; &nbsp; &nbsp; &nbsp; &nbsp; &nbsp; &nbsp; &nbsp; &nbsp; &nbsp; &nbsp; &nbsp; &nbsp; &nbsp; &nbsp; : Obtain information for aliases.\n",
    "    * `'TABLE'` &nbsp; &nbsp; &nbsp; &nbsp; &nbsp; &nbsp; &nbsp; &nbsp; &nbsp; &nbsp; &nbsp; &nbsp; &nbsp; &nbsp; &nbsp; &nbsp; &nbsp; &nbsp; &nbsp; &nbsp; &nbsp; : Obtain information for tables.    \n",
    "    * `'TYPED TABLE'` &nbsp; &nbsp; &nbsp; &nbsp; &nbsp; &nbsp; &nbsp; &nbsp; &nbsp; &nbsp; &nbsp; &nbsp; &nbsp; &nbsp; &nbsp; : Obtain information for typed tables.\n",
    "    * `'SYSTEM TABLE'` &nbsp; &nbsp;  &nbsp; &nbsp; &nbsp; &nbsp; &nbsp; &nbsp; &nbsp; &nbsp; &nbsp; &nbsp; &nbsp; &nbsp; : Obtain information for system catalog tables.\n",
    "    * `'HIERARCHY TABLE'` &nbsp; &nbsp; &nbsp; &nbsp; &nbsp; &nbsp; &nbsp; &nbsp; &nbsp; &nbsp; &nbsp; : Obtain information for hierarchy tables.\n",
    "    * `'MATERIALIZED QUERY TABLE'` &nbsp; &nbsp; : Obtain information for materialized query tables (MQTs) tables.\n",
    "    * `'VIEW'` &nbsp; &nbsp; &nbsp; &nbsp; &nbsp; &nbsp; &nbsp; &nbsp; &nbsp; &nbsp; &nbsp; &nbsp; &nbsp; &nbsp; &nbsp; &nbsp; &nbsp; &nbsp; &nbsp; &nbsp; &nbsp; &nbsp; : Obtain information for views.\n",
    "    * `'TYPED VIEW'` &nbsp; &nbsp; &nbsp; &nbsp; &nbsp; &nbsp; &nbsp; &nbsp; &nbsp; &nbsp; &nbsp; &nbsp; &nbsp; &nbsp; &nbsp; &nbsp; : Obtain information for typed views.\n",
    "    * `'INOPERATIVE VIEW'` &nbsp; &nbsp; &nbsp; &nbsp; &nbsp; &nbsp; &nbsp; &nbsp; &nbsp; &nbsp; : Obtain information for inoperative views.\n",
    "    * `'NICKNAME'` &nbsp; &nbsp; &nbsp; &nbsp; &nbsp; &nbsp; &nbsp; &nbsp; &nbsp; &nbsp; &nbsp; &nbsp; &nbsp; &nbsp; &nbsp; &nbsp; &nbsp; &nbsp; : Obtain information for nicknames."
   ]
  },
  {
   "cell_type": "markdown",
   "metadata": {
    "deletable": false,
    "editable": false
   },
   "source": [
    "## Return values:"
   ]
  },
  {
   "cell_type": "markdown",
   "metadata": {
    "deletable": false,
    "editable": false
   },
   "source": [
    "* If __successful__, an IBM_DBStatement with a result set that contains the following information:<p>\n",
    "\n",
    "    * `TABLE_CAT` &nbsp; &nbsp; &nbsp; &nbsp;: The name of the catalog associated with the schema and table; Db2 does not use catalogs so this field will always contain the value `None`. *(Db2 databases on OS/390 or z/OS servers can return information in this field.)*\n",
    "    * `TABLE_SCHEM` &nbsp; &nbsp;: The name of the schema that contains the table.\n",
    "    * `TABLE_NAME` &nbsp; &nbsp; &nbsp;: The name of the table.\n",
    "    * `TABLE_TYPE`&nbsp; &nbsp; &nbsp; : The type identifier for the table. (Refer to the __*tableType*__ parameter for a list of the table type identifiers available.)\n",
    "    * `REMARKS`&nbsp; &nbsp; &nbsp; &nbsp; &nbsp; &nbsp; : A user-supplied description of the table (if one has been provided).<p>\n",
    "    \n",
    "* If __unsuccessful__, the value `False`."
   ]
  },
  {
   "cell_type": "markdown",
   "metadata": {
    "deletable": false,
    "editable": false
   },
   "source": [
    "## Description:"
   ]
  },
  {
   "cell_type": "markdown",
   "metadata": {
    "deletable": false,
    "editable": false
   },
   "source": [
    "The __ibm_db.tables()__ API is used to retrieve a list of tables and all associated metadata, for one or more table types.<p>\n",
    "\n",
    "The information returned by this API is placed in a result data set, which can be processed using the same APIs that are used to process result data sets that are generated by SQL queries. That is, a single row can be retrieved and stored in a tuple or dictionary using the  __ibm_db.fetch_tuple()__ (tuple), __ibm_db.fetch_assoc()__ (dictionary), or __ibm_db.fetch_both()__ (tuple *and* dictionary) APIs. Alternately, the __ibm_db.fetch_row()__ API can be used to move the result set pointer to each row in the result set produced and the __ibm_db.result()__ API can be used to fetch a column from the current row."
   ]
  },
  {
   "cell_type": "markdown",
   "metadata": {
    "deletable": false,
    "editable": false
   },
   "source": [
    "## Example:"
   ]
  },
  {
   "cell_type": "code",
   "execution_count": 1,
   "metadata": {
    "deletable": false
   },
   "outputs": [
    {
     "name": "stdout",
     "output_type": "stream",
     "text": [
      "\n",
      "Connecting to the SAMPLE database ... Done!\n",
      "\n",
      "Obtaining information about select tables in the DB2INST1 schema ... Done!\n",
      "\n",
      "Table 1 details:\n",
      "________________________\n",
      "Table schema  : DB2INST1\n",
      "Table name    : PRODUCT\n",
      "Table type    : TABLE\n",
      "Description   : None\n",
      "\n",
      "Table 2 details:\n",
      "________________________\n",
      "Table schema  : DB2INST1\n",
      "Table name    : PRODUCTSUPPLIER\n",
      "Table type    : TABLE\n",
      "Description   : None\n",
      "\n",
      "Table 3 details:\n",
      "________________________\n",
      "Table schema  : DB2INST1\n",
      "Table name    : PROJACT\n",
      "Table type    : TABLE\n",
      "Description   : None\n",
      "\n",
      "Table 4 details:\n",
      "________________________\n",
      "Table schema  : DB2INST1\n",
      "Table name    : PROJECT\n",
      "Table type    : TABLE\n",
      "Description   : None\n",
      "\n",
      "Table 5 details:\n",
      "________________________\n",
      "Table schema  : DB2INST1\n",
      "Table name    : PURCHASEORDER\n",
      "Table type    : TABLE\n",
      "Description   : None\n",
      "\n",
      "Disconnecting from the SAMPLE database ... Done!\n",
      "\n"
     ]
    }
   ],
   "source": [
    "#----------------------------------------------------------------------------------------------#\n",
    "#  NAME:     ibm_db-tables.py                                                                  #\n",
    "#                                                                                              #\n",
    "#  PURPOSE:  This program is designed to illustrate how to use the ibm_db.tables() API.        #\n",
    "#                                                                                              #\n",
    "#            Additional APIs used:                                                             #\n",
    "#                 ibm_db.fetch_assoc()                                                         #\n",
    "#                                                                                              #\n",
    "#----------------------------------------------------------------------------------------------#\n",
    "#                     DISCLAIMER OF WARRANTIES AND LIMITATION OF LIABILITY                     #\n",
    "#                                                                                              #\n",
    "#  (C) COPYRIGHT International Business Machines Corp. 2018, 2019 All Rights Reserved          #\n",
    "#  Licensed Materials - Property of IBM                                                        #\n",
    "#                                                                                              #\n",
    "#  US Government Users Restricted Rights - Use, duplication or disclosure restricted by GSA    #\n",
    "#  ADP Schedule Contract with IBM Corp.                                                        #\n",
    "#                                                                                              #\n",
    "#  The following source code (\"Sample\") is owned by International Business Machines            #\n",
    "#  Corporation (\"IBM\") or one of its subsidiaries and is copyrighted and licensed, not sold.   #\n",
    "#  You may use, copy, modify, and distribute the Sample in any form without payment to IBM,    #\n",
    "#  for the purpose of assisting you in the creation of Python applications using the ibm_db    #\n",
    "#  library.                                                                                    #\n",
    "#                                                                                              #\n",
    "#  The Sample code is provided to you on an \"AS IS\" basis, without warranty of any kind. IBM   #\n",
    "#  HEREBY EXPRESSLY DISCLAIMS ALL WARRANTIES, EITHER EXPRESS OR IMPLIED, INCLUDING, BUT NOT    #\n",
    "#  LIMITED TO, THE IMPLIED WARRANTIES OF MERCHANTABILITY AND FITNESS FOR A PARTICULAR PURPOSE. #\n",
    "#  Some jurisdictions do not allow for the exclusion or limitation of implied warranties, so   #\n",
    "#  the above limitations or exclusions may not apply to you. IBM shall not be liable for any   #\n",
    "#  damages you suffer as a result of using, copying, modifying or distributing the Sample,     #\n",
    "#  even if IBM has been advised of the possibility of such damages.                            #\n",
    "#----------------------------------------------------------------------------------------------#\n",
    "\n",
    "# Load The Appropriate Python Modules\n",
    "import sys         # Provides Information About Python Interpreter Constants And Functions\n",
    "import ibm_db      # Contains The APIs Needed To Work With Db2 Databases\n",
    "\n",
    "#----------------------------------------------------------------------------------------------#\n",
    "# Import The Db2ConnectionMgr Class Definition, Attributes, And Methods That Have Been Defined #\n",
    "# In The File Named \"ibm_db_tools.py\"; This Class Contains The Programming Logic Needed To     #\n",
    "# Establish And Terminate A Connection To A Db2 Server Or Database                             #\n",
    "#----------------------------------------------------------------------------------------------#\n",
    "from ibm_db_tools import Db2ConnectionMgr\n",
    "\n",
    "#----------------------------------------------------------------------------------------------#\n",
    "# Import The ipynb_exit Class Definition, Attributes, And Methods That Have Been Defined In    #\n",
    "# The File Named \"ipynb_exit.py\"; This Class Contains The Programming Logic Needed To Allow    #\n",
    "# \"exit()\" Functionality To Work Without Raising An Error Or Stopping The Kernel If The        #\n",
    "# Application Is Invoked In A Jupyter Notebook                                                 #\n",
    "#----------------------------------------------------------------------------------------------#\n",
    "from ipynb_exit import exit\n",
    "\n",
    "# Define And Initialize The Appropriate Variables\n",
    "dbName = \"SAMPLE\"\n",
    "userID = \"db2inst1\"\n",
    "passWord = \"db2inst1\"\n",
    "dbConnection = None\n",
    "schemaName = userID.upper()\n",
    "resultSet = False\n",
    "dataRecord = False\n",
    "\n",
    "# Create An Instance Of The Db2ConnectionMgr Class And Use It To Connect To A Db2 Database\n",
    "conn = Db2ConnectionMgr('DB', dbName, '', '', userID, passWord)\n",
    "conn.openConnection()\n",
    "if conn.returnCode is True:\n",
    "    dbConnection = conn.connectionID\n",
    "else:\n",
    "    conn.closeConnection()\n",
    "    exit(-1)\n",
    "\n",
    "# Attempt To Retrieve Information About The Tables In The Current User's Schema Whose Name\n",
    "# Begins With The Letter \"P\"\n",
    "print(\"Obtaining information about select tables in the \", end=\"\")\n",
    "print(schemaName + \" schema ... \", end=\"\")\n",
    "try:\n",
    "    resultSet = ibm_db.tables(dbConnection, None, schemaName, 'P%', 'TABLE')\n",
    "except Exception:\n",
    "    pass\n",
    "\n",
    "# If The Information Desired Could Not Be Retrieved, Display An Error Message And Exit\n",
    "if resultSet is False:\n",
    "    print(\"\\nERROR: Unable to obtain the information desired\\n.\")\n",
    "    conn.closeConnection()\n",
    "    exit(-1)\n",
    "\n",
    "# Otherwise, Complete The Status Message\n",
    "else:\n",
    "    print(\"Done!\\n\")\n",
    "\n",
    "# As Long As There Are Records (That Were Produced By The ibm_db.tables API), ...\n",
    "noData = False\n",
    "loopCounter = 1\n",
    "while noData is False:\n",
    "\n",
    "    # Retrieve A Record And Store It In A Python Dictionary\n",
    "    try:\n",
    "        dataRecord = ibm_db.fetch_assoc(resultSet)\n",
    "    except:\n",
    "        pass\n",
    "\n",
    "    # If The Data Could Not Be Retrieved Or If There Was No Data To Retrieve, Set The\n",
    "    # \"No Data\" Flag And Exit The Loop  \n",
    "    if dataRecord is False:\n",
    "        noData = True\n",
    "\n",
    "    # Otherwise, Display The Information Retrieved\n",
    "    else:\n",
    "\n",
    "        # Display Record Header Information\n",
    "        print(\"Table \" + str(loopCounter) + \" details:\")\n",
    "        print(\"________________________\")\n",
    "\n",
    "        # Display The Information Stored In The Data Record Retrieved\n",
    "        print(\"Table schema  : {}\" .format(dataRecord['TABLE_SCHEM']))\n",
    "        print(\"Table name    : {}\" .format(dataRecord['TABLE_NAME']))\n",
    "        print(\"Table type    : {}\" .format(dataRecord['TABLE_TYPE']))\n",
    "        print(\"Description   : {}\" .format(dataRecord['REMARKS']))\n",
    "\n",
    "        # Increment The loopCounter Variable And Print A Blank Line To Separate The\n",
    "        # Records From Each Other\n",
    "        loopCounter += 1\n",
    "        print()\n",
    "\n",
    "# Close The Database Connection That Was Opened Earlier\n",
    "conn.closeConnection()\n",
    "\n",
    "# Return Control To The Operating System\n",
    "exit()"
   ]
  },
  {
   "cell_type": "code",
   "execution_count": null,
   "metadata": {},
   "outputs": [],
   "source": []
  }
 ],
 "metadata": {
  "kernelspec": {
   "display_name": "Python 3",
   "language": "python",
   "name": "python3"
  },
  "language_info": {
   "codemirror_mode": {
    "name": "ipython",
    "version": 3
   },
   "file_extension": ".py",
   "mimetype": "text/x-python",
   "name": "python",
   "nbconvert_exporter": "python",
   "pygments_lexer": "ipython3",
   "version": "3.12.3"
  }
 },
 "nbformat": 4,
 "nbformat_minor": 2
}
